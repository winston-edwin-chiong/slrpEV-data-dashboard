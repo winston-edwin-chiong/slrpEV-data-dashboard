{
 "cells": [
  {
   "cell_type": "code",
   "execution_count": 1,
   "id": "092882a5-2bf2-4b69-ac42-0b7e845850c5",
   "metadata": {},
   "outputs": [],
   "source": [
    "import pandas as pd \n",
    "from sklearn.pipeline import Pipeline\n",
    "import plotly.express as px\n",
    "from sklearn.base import BaseEstimator, TransformerMixin\n",
    "import numpy as np\n",
    "from datetime import datetime\n",
    "\n",
    "pd.set_option(\"display.max_columns\", 100)"
   ]
  },
  {
   "cell_type": "code",
   "execution_count": 3,
   "id": "dea0d6be",
   "metadata": {},
   "outputs": [],
   "source": [
    "import numpy as np\n",
    "import pandas as pd\n",
    "from sklearn.pipeline import Pipeline\n",
    "from sklearn.neighbors import KNeighborsRegressor\n",
    "from sklearn.model_selection import GridSearchCV, train_test_split\n",
    "from sklearn.base import BaseEstimator, TransformerMixin\n",
    "\n",
    "\n",
    "## Main Class\n",
    "class HourlyCrossValidator:\n",
    "\n",
    "    columns = [\"energy_demand_kWh\", \"peak_power_W\"]\n",
    "\n",
    "    def __init__(self, max_neighbors, max_depth):\n",
    "        self.max_neighbors = max_neighbors\n",
    "        self.max_depth = max_depth\n",
    "\n",
    "    def cross_validate(self, df):\n",
    "\n",
    "        best_params = {}\n",
    "\n",
    "        for column in self.columns:\n",
    "            # initalize cross validator, cross validate  \n",
    "            params = kNNCrossValidator(self.max_neighbors, self.max_depth, column).cross_validate_one(df)\n",
    "            best_params[column] = params\n",
    "\n",
    "        best_params[\"avg_power_demand_W\"] = best_params[\"energy_demand_kWh\"] # same data, different units, so same parameters\n",
    "\n",
    "        return best_params\n",
    "    \n",
    "\n",
    "## Helper Class\n",
    "class kNNCrossValidator:\n",
    "\n",
    "    test_size = 0.2\n",
    "\n",
    "    def __init__(self, max_neighbors, max_depth, col_name):\n",
    "        super().__init__()\n",
    "        self.max_neighbors = max_neighbors\n",
    "        self.max_depth = max_depth\n",
    "        self.col_name = col_name\n",
    "\n",
    "\n",
    "    def cross_validate_one(self, df) -> dict:\n",
    "        # create features\n",
    "        df = self.__create_all_lag_features(df)\n",
    "\n",
    "        # create validation pipeline\n",
    "        validation_pipeline = Pipeline([\n",
    "            (\"subset_features\", SubsetLags()),\n",
    "            (\"estimator\", KNeighborsRegressor())\n",
    "        ])\n",
    "\n",
    "        # create parameter grid\n",
    "        params = {\n",
    "            \"estimator__n_neighbors\": np.arange(10, self.max_neighbors+1), # start searching at 10 neighbors\n",
    "            \"subset_features__num_lags\": np.arange(40, self.max_depth+1) # start searching at 40 lags as features\n",
    "        }\n",
    "\n",
    "        # split data into train, validation, and test\n",
    "        X_train_validation, X_train, X_validation, X_test, y_train_validation, y_train, y_validation, y_test = self.__train_test_split(df)\n",
    "\n",
    "        # create grid and iteratively search\n",
    "        grid = GridSearchCV(\n",
    "            estimator=validation_pipeline,\n",
    "            param_grid=params,\n",
    "            scoring=\"neg_mean_squared_error\",\n",
    "            n_jobs=8,\n",
    "            verbose=4,\n",
    "            cv=[(np.arange(0, len(X_train)), np.arange(len(X_train), len(X_train_validation)))]\n",
    "        )\n",
    "        grid.fit(X_train_validation, y_train_validation)\n",
    "\n",
    "        best_params = {\n",
    "            \"best_depth\": grid.best_params_[\"subset_features__num_lags\"],\n",
    "            \"best_n_neighbors\": grid.best_params_[\"estimator__n_neighbors\"]\n",
    "        }\n",
    "\n",
    "        return best_params\n",
    "\n",
    "\n",
    "    def __create_all_lag_features(self, df) -> pd.DataFrame:\n",
    "        # create pipeline, pass data, create features\n",
    "        pipeline = Pipeline([\n",
    "            (\"create_features\", CreateLagFeatures(\n",
    "                self.max_depth, self.col_name))\n",
    "        ])\n",
    "        df_with_features = pipeline.fit_transform(df)\n",
    "\n",
    "        return df_with_features\n",
    "\n",
    "\n",
    "    def __train_test_split(self, df):\n",
    "\n",
    "        # split into train+validation and test\n",
    "        X_train_validation, X_test, y_train_validation, y_test = train_test_split(\n",
    "            df.filter(regex=\"lag\"),  # select only \"lag-\" features\n",
    "            df[[self.col_name]],\n",
    "            test_size=self.test_size,\n",
    "            shuffle=False  # time series split\n",
    "        )\n",
    "\n",
    "        # split into train and validation\n",
    "        X_train, X_validation, y_train, y_validation = train_test_split(\n",
    "            X_train_validation,\n",
    "            y_train_validation,\n",
    "            test_size=0.2,\n",
    "            shuffle=False\n",
    "        )\n",
    "\n",
    "        return X_train_validation, X_train, X_validation, X_test, y_train_validation, y_train, y_validation, y_test\n",
    "\n",
    "\n",
    "\n",
    "## Pipeline Classes\n",
    "class CreateLagFeatures(BaseEstimator, TransformerMixin):\n",
    "\n",
    "    def __init__(self, num_lag_depths, col_name):\n",
    "        super().__init__()\n",
    "        self.num_lags_depths = num_lag_depths\n",
    "        self.col_name = col_name\n",
    "\n",
    "    def fit(self, X, y=None):\n",
    "        return self \n",
    "    \n",
    "    def transform(self, X):\n",
    "        return self.__create_lag_features(X, self.num_lags_depths, self.col_name)\n",
    "    \n",
    "    @staticmethod\n",
    "    def __create_lag_features(df, num_lag_depths, col_name):\n",
    "        df_with_lags = df.copy(deep=True)\n",
    "        for lag_depth in np.arange(1,num_lag_depths+1):\n",
    "            column = df_with_lags[col_name].shift(24*lag_depth)\n",
    "            df_with_lags = pd.concat([df_with_lags, column.rename(\"lag\" + f\"{lag_depth}\")], axis=1)\n",
    "        return df_with_lags.dropna()\n",
    "\n",
    "\n",
    "class SubsetLags(BaseEstimator, TransformerMixin):\n",
    "    \n",
    "    def __init__(self, num_lags=1):\n",
    "        super().__init__()\n",
    "        self.num_lags = num_lags\n",
    "        \n",
    "    def fit(self, X, y=None):\n",
    "        return self\n",
    "    \n",
    "    def transform(self, X):\n",
    "        return self.__select_subset_lags(X, self.num_lags)\n",
    "    \n",
    "    @staticmethod\n",
    "    def __select_subset_lags(df, num_lags):\n",
    "        return df[[f\"lag{depth}\" for depth in np.arange(1, num_lags+1)]]\n",
    "\n",
    "\n",
    "import pandas as pd\n",
    "from sklearn.model_selection import train_test_split\n",
    "import pmdarima as pm\n",
    "\n",
    "\n",
    "# Main Class\n",
    "class DailyCrossValidator:\n",
    "\n",
    "    columns = [\"energy_demand_kWh\", \"peak_power_W\"]\n",
    "\n",
    "    @classmethod\n",
    "    def cross_validate(cls, df):\n",
    "\n",
    "        best_params = {}\n",
    "\n",
    "        for column in cls.columns:\n",
    "            # initalize cross validator, cross validate\n",
    "            params = SARIMACrossValidator(column).cross_validate_one(df)\n",
    "            best_params[column] = params\n",
    "\n",
    "        # same data, different units, so same parameters\n",
    "        best_params[\"avg_power_demand_W\"] = best_params[\"energy_demand_kWh\"]\n",
    "\n",
    "        return best_params\n",
    "\n",
    "\n",
    "# Helper Class\n",
    "class SARIMACrossValidator:\n",
    "\n",
    "    test_size = 0.2\n",
    "\n",
    "    def __init__(self, col_name):\n",
    "        super().__init__()\n",
    "        self.col_name = col_name\n",
    "\n",
    "    def cross_validate_one(self, df: pd.DataFrame):\n",
    "\n",
    "        X_train, X_test, y_train, y_test = self.__train_test_split(df)\n",
    "\n",
    "        stepwise_fit = pm.auto_arima(y_train,\n",
    "                                     start_p=0, start_q=0,\n",
    "                                     max_p=3, max_q=3, max_Q=3, max_P=3,\n",
    "                                     d=0, D=1, m=7,\n",
    "                                     X=None,\n",
    "                                     seasonal=True, trace=True, stepwise=True)\n",
    "\n",
    "        return stepwise_fit\n",
    "\n",
    "    def __train_test_split(self, df: pd.DataFrame):\n",
    "        # take only needed column \n",
    "        df = df[[self.col_name]]\n",
    "        \n",
    "        X_train, X_test, y_train, y_test = train_test_split(\n",
    "            df.drop(columns=[self.col_name]),\n",
    "            df[[self.col_name]],\n",
    "            test_size=self.test_size,\n",
    "            shuffle=False\n",
    "        )\n",
    "\n",
    "        return X_train, X_test, y_train, y_test\n",
    "\n",
    "\n",
    "import pandas as pd\n",
    "import statsmodels.api as sm \n",
    "\n",
    "class CreateDailyForecasts:\n",
    "\n",
    "    columns = [\"avg_power_demand_W\", \"energy_demand_kWh\", \"peak_power_W\"]\n",
    "\n",
    "    def __init__():\n",
    "        pass \n",
    "    \n",
    "    @classmethod\n",
    "    def run_daily_forecast(cls, df, best_params: dict):\n",
    "\n",
    "        existing_forecasts = pd.read_csv(\"forecastdata/dailyforecasts.csv\", index_col=\"time\", parse_dates=True)\n",
    "        new_forecasts = pd.DataFrame()\n",
    "\n",
    "        for column in cls.columns:\n",
    "            \n",
    "            # train on ALL available data\n",
    "            train = df[[column]].copy() \n",
    "            # create ARIMA model \n",
    "            best_model_arima = sm.tsa.arima.ARIMA(train, order=(1,0,0), seasonal_order=(1,1,1,7)).fit()\n",
    "            # forecast on day ahead, convert to a dataframe\n",
    "            one_column_forecast = best_model_arima.forecast()\n",
    "            one_column_forecast = pd.DataFrame(one_column_forecast, columns=[column+'_predictions']) \n",
    "            new_forecasts = pd.concat([new_forecasts, one_column_forecast], axis=1)\n",
    "\n",
    "        # append new forecasts existing set of forecasts\n",
    "        forecasts = pd.concat([existing_forecasts, new_forecasts], axis=0)\n",
    "\n",
    "        return forecasts\n",
    "\n",
    "    \n",
    "    @staticmethod\n",
    "    def save_empty_prediction_df():\n",
    "        empty_df = pd.DataFrame(columns=[\"avg_power_demand_W_predictions\", \"energy_demand_kWh_predictions\", \"peak_power_W_predictions\"], index=pd.Index([], name=\"time\"))\n",
    "        empty_df.to_csv(\"forecastdata/dailyforecasts.csv\")\n",
    "        return empty_df\n"
   ]
  },
  {
   "cell_type": "code",
   "execution_count": 1,
   "id": "c20f62e8",
   "metadata": {},
   "outputs": [
    {
     "data": {
      "text/html": [
       "<div>\n",
       "<style scoped>\n",
       "    .dataframe tbody tr th:only-of-type {\n",
       "        vertical-align: middle;\n",
       "    }\n",
       "\n",
       "    .dataframe tbody tr th {\n",
       "        vertical-align: top;\n",
       "    }\n",
       "\n",
       "    .dataframe thead th {\n",
       "        text-align: right;\n",
       "    }\n",
       "</style>\n",
       "<table border=\"1\" class=\"dataframe\">\n",
       "  <thead>\n",
       "    <tr style=\"text-align: right;\">\n",
       "      <th></th>\n",
       "      <th>avg_power_demand_W_predictions</th>\n",
       "      <th>energy_demand_kWh_predictions</th>\n",
       "      <th>peak_power_W_predictions</th>\n",
       "    </tr>\n",
       "    <tr>\n",
       "      <th>time</th>\n",
       "      <th></th>\n",
       "      <th></th>\n",
       "      <th></th>\n",
       "    </tr>\n",
       "  </thead>\n",
       "  <tbody>\n",
       "    <tr>\n",
       "      <th>2023-05-11</th>\n",
       "      <td>5192.02441</td>\n",
       "      <td>119.769066</td>\n",
       "      <td>16937.413808</td>\n",
       "    </tr>\n",
       "  </tbody>\n",
       "</table>\n",
       "</div>"
      ],
      "text/plain": [
       "            avg_power_demand_W_predictions  energy_demand_kWh_predictions  \\\n",
       "time                                                                        \n",
       "2023-05-11                      5192.02441                     119.769066   \n",
       "\n",
       "            peak_power_W_predictions  \n",
       "time                                  \n",
       "2023-05-11              16937.413808  "
      ]
     },
     "execution_count": 1,
     "metadata": {},
     "output_type": "execute_result"
    }
   ],
   "source": [
    "import redis \n",
    "import pickle\n",
    "redis_client = redis.Redis(host='localhost', port=6360)\n",
    "df = pickle.loads(redis_client.get(\"daily_forecasts\"))\n",
    "df"
   ]
  },
  {
   "cell_type": "code",
   "execution_count": 27,
   "id": "96697563",
   "metadata": {},
   "outputs": [
    {
     "data": {
      "text/html": [
       "<div>\n",
       "<style scoped>\n",
       "    .dataframe tbody tr th:only-of-type {\n",
       "        vertical-align: middle;\n",
       "    }\n",
       "\n",
       "    .dataframe tbody tr th {\n",
       "        vertical-align: top;\n",
       "    }\n",
       "\n",
       "    .dataframe thead th {\n",
       "        text-align: right;\n",
       "    }\n",
       "</style>\n",
       "<table border=\"1\" class=\"dataframe\">\n",
       "  <thead>\n",
       "    <tr style=\"text-align: right;\">\n",
       "      <th></th>\n",
       "      <th>avg_power_demand_W</th>\n",
       "      <th>energy_demand_kWh</th>\n",
       "      <th>peak_power_W</th>\n",
       "      <th>day</th>\n",
       "      <th>month</th>\n",
       "    </tr>\n",
       "    <tr>\n",
       "      <th>time</th>\n",
       "      <th></th>\n",
       "      <th></th>\n",
       "      <th></th>\n",
       "      <th></th>\n",
       "      <th></th>\n",
       "    </tr>\n",
       "  </thead>\n",
       "  <tbody>\n",
       "    <tr>\n",
       "      <th>2020-11-05</th>\n",
       "      <td>249.592593</td>\n",
       "      <td>3.369500</td>\n",
       "      <td>879.0</td>\n",
       "      <td>Thursday</td>\n",
       "      <td>November</td>\n",
       "    </tr>\n",
       "    <tr>\n",
       "      <th>2020-11-06</th>\n",
       "      <td>0.000000</td>\n",
       "      <td>0.000000</td>\n",
       "      <td>0.0</td>\n",
       "      <td>Friday</td>\n",
       "      <td>November</td>\n",
       "    </tr>\n",
       "    <tr>\n",
       "      <th>2020-11-07</th>\n",
       "      <td>0.000000</td>\n",
       "      <td>0.000000</td>\n",
       "      <td>0.0</td>\n",
       "      <td>Saturday</td>\n",
       "      <td>November</td>\n",
       "    </tr>\n",
       "    <tr>\n",
       "      <th>2020-11-08</th>\n",
       "      <td>0.000000</td>\n",
       "      <td>0.000000</td>\n",
       "      <td>0.0</td>\n",
       "      <td>Sunday</td>\n",
       "      <td>November</td>\n",
       "    </tr>\n",
       "    <tr>\n",
       "      <th>2020-11-09</th>\n",
       "      <td>0.000000</td>\n",
       "      <td>0.000000</td>\n",
       "      <td>0.0</td>\n",
       "      <td>Monday</td>\n",
       "      <td>November</td>\n",
       "    </tr>\n",
       "    <tr>\n",
       "      <th>...</th>\n",
       "      <td>...</td>\n",
       "      <td>...</td>\n",
       "      <td>...</td>\n",
       "      <td>...</td>\n",
       "      <td>...</td>\n",
       "    </tr>\n",
       "    <tr>\n",
       "      <th>2023-05-07</th>\n",
       "      <td>0.000000</td>\n",
       "      <td>0.000000</td>\n",
       "      <td>0.0</td>\n",
       "      <td>Sunday</td>\n",
       "      <td>May</td>\n",
       "    </tr>\n",
       "    <tr>\n",
       "      <th>2023-05-08</th>\n",
       "      <td>4128.437500</td>\n",
       "      <td>99.082500</td>\n",
       "      <td>12934.0</td>\n",
       "      <td>Monday</td>\n",
       "      <td>May</td>\n",
       "    </tr>\n",
       "    <tr>\n",
       "      <th>2023-05-09</th>\n",
       "      <td>6369.315972</td>\n",
       "      <td>152.863583</td>\n",
       "      <td>18923.0</td>\n",
       "      <td>Tuesday</td>\n",
       "      <td>May</td>\n",
       "    </tr>\n",
       "    <tr>\n",
       "      <th>2023-05-10</th>\n",
       "      <td>3080.510417</td>\n",
       "      <td>73.932250</td>\n",
       "      <td>15203.0</td>\n",
       "      <td>Wednesday</td>\n",
       "      <td>May</td>\n",
       "    </tr>\n",
       "    <tr>\n",
       "      <th>2023-05-11</th>\n",
       "      <td>0.000000</td>\n",
       "      <td>0.000000</td>\n",
       "      <td>0.0</td>\n",
       "      <td>Thursday</td>\n",
       "      <td>May</td>\n",
       "    </tr>\n",
       "  </tbody>\n",
       "</table>\n",
       "<p>918 rows × 5 columns</p>\n",
       "</div>"
      ],
      "text/plain": [
       "            avg_power_demand_W  energy_demand_kWh  peak_power_W        day  \\\n",
       "time                                                                         \n",
       "2020-11-05          249.592593           3.369500         879.0   Thursday   \n",
       "2020-11-06            0.000000           0.000000           0.0     Friday   \n",
       "2020-11-07            0.000000           0.000000           0.0   Saturday   \n",
       "2020-11-08            0.000000           0.000000           0.0     Sunday   \n",
       "2020-11-09            0.000000           0.000000           0.0     Monday   \n",
       "...                        ...                ...           ...        ...   \n",
       "2023-05-07            0.000000           0.000000           0.0     Sunday   \n",
       "2023-05-08         4128.437500          99.082500       12934.0     Monday   \n",
       "2023-05-09         6369.315972         152.863583       18923.0    Tuesday   \n",
       "2023-05-10         3080.510417          73.932250       15203.0  Wednesday   \n",
       "2023-05-11            0.000000           0.000000           0.0   Thursday   \n",
       "\n",
       "               month  \n",
       "time                  \n",
       "2020-11-05  November  \n",
       "2020-11-06  November  \n",
       "2020-11-07  November  \n",
       "2020-11-08  November  \n",
       "2020-11-09  November  \n",
       "...              ...  \n",
       "2023-05-07       May  \n",
       "2023-05-08       May  \n",
       "2023-05-09       May  \n",
       "2023-05-10       May  \n",
       "2023-05-11       May  \n",
       "\n",
       "[918 rows x 5 columns]"
      ]
     },
     "execution_count": 27,
     "metadata": {},
     "output_type": "execute_result"
    }
   ],
   "source": [
    "import pandas as pd\n",
    "import statsmodels.api as sm \n",
    "\n",
    "df = pickle.loads(redis_client.get(\"dailydemand\"))\n",
    "df "
   ]
  },
  {
   "cell_type": "code",
   "execution_count": 24,
   "id": "d3964452",
   "metadata": {},
   "outputs": [
    {
     "data": {
      "text/html": [
       "<div>\n",
       "<style scoped>\n",
       "    .dataframe tbody tr th:only-of-type {\n",
       "        vertical-align: middle;\n",
       "    }\n",
       "\n",
       "    .dataframe tbody tr th {\n",
       "        vertical-align: top;\n",
       "    }\n",
       "\n",
       "    .dataframe thead th {\n",
       "        text-align: right;\n",
       "    }\n",
       "</style>\n",
       "<table border=\"1\" class=\"dataframe\">\n",
       "  <thead>\n",
       "    <tr style=\"text-align: right;\">\n",
       "      <th></th>\n",
       "      <th>avg_power_demand_W_predictions</th>\n",
       "      <th>energy_demand_kWh_predictions</th>\n",
       "      <th>peak_power_W_predictions</th>\n",
       "    </tr>\n",
       "    <tr>\n",
       "      <th>time</th>\n",
       "      <th></th>\n",
       "      <th></th>\n",
       "      <th></th>\n",
       "    </tr>\n",
       "  </thead>\n",
       "  <tbody>\n",
       "    <tr>\n",
       "      <th>2023-05-11</th>\n",
       "      <td>5192.02441</td>\n",
       "      <td>119.769066</td>\n",
       "      <td>16937.413808</td>\n",
       "    </tr>\n",
       "  </tbody>\n",
       "</table>\n",
       "</div>"
      ],
      "text/plain": [
       "            avg_power_demand_W_predictions  energy_demand_kWh_predictions  \\\n",
       "time                                                                        \n",
       "2023-05-11                      5192.02441                     119.769066   \n",
       "\n",
       "            peak_power_W_predictions  \n",
       "time                                  \n",
       "2023-05-11              16937.413808  "
      ]
     },
     "execution_count": 24,
     "metadata": {},
     "output_type": "execute_result"
    }
   ],
   "source": [
    "pickle.loads(redis_client.get(\"daily_forecasts\"))"
   ]
  },
  {
   "cell_type": "code",
   "execution_count": 41,
   "id": "105df1ff",
   "metadata": {},
   "outputs": [
    {
     "name": "stderr",
     "output_type": "stream",
     "text": [
      "c:\\Users\\Winston\\anaconda3\\lib\\site-packages\\statsmodels\\base\\model.py:604: ConvergenceWarning: Maximum Likelihood optimization failed to converge. Check mle_retvals\n",
      "  warnings.warn(\"Maximum Likelihood optimization failed to \"\n"
     ]
    }
   ],
   "source": [
    "#existing_forecasts = pd.read_csv(\"forecastdata/dailyforecasts.csv\", index_col=\"time\", parse_dates=True)\n",
    "existing_forecasts = pickle.loads(redis_client.get(\"daily_forecasts\"))\n",
    "new_forecasts = pd.DataFrame()\n",
    "\n",
    "for column in [\"avg_power_demand_W\", \"energy_demand_kWh\", \"peak_power_W\"]:\n",
    "    \n",
    "    # train on ALL available data\n",
    "    train = df[[column]].copy() \n",
    "\n",
    "    # create ARIMA model \n",
    "    best_model_arima = sm.tsa.arima.ARIMA(train, order=(1,0,1), seasonal_order=(1,1,1,7)).fit()\n",
    "    \n",
    "    # forecast on day ahead, convert to a dataframe\n",
    "    one_column_forecast = best_model_arima.forecast(7)\n",
    "    one_column_forecast = pd.DataFrame(one_column_forecast)\n",
    "    one_column_forecast.rename(columns={one_column_forecast.columns[0]: column+'_predictions'}, inplace=True)  \n",
    "    new_forecasts = pd.concat([new_forecasts, one_column_forecast], axis=1)\n",
    "    new_forecasts.index.name = \"time\""
   ]
  },
  {
   "cell_type": "code",
   "execution_count": 63,
   "id": "b5cddf9a",
   "metadata": {},
   "outputs": [
    {
     "data": {
      "text/html": [
       "<div>\n",
       "<style scoped>\n",
       "    .dataframe tbody tr th:only-of-type {\n",
       "        vertical-align: middle;\n",
       "    }\n",
       "\n",
       "    .dataframe tbody tr th {\n",
       "        vertical-align: top;\n",
       "    }\n",
       "\n",
       "    .dataframe thead th {\n",
       "        text-align: right;\n",
       "    }\n",
       "</style>\n",
       "<table border=\"1\" class=\"dataframe\">\n",
       "  <thead>\n",
       "    <tr style=\"text-align: right;\">\n",
       "      <th></th>\n",
       "      <th>avg_power_demand_W</th>\n",
       "      <th>energy_demand_kWh</th>\n",
       "      <th>peak_power_W</th>\n",
       "      <th>day</th>\n",
       "      <th>month</th>\n",
       "    </tr>\n",
       "    <tr>\n",
       "      <th>time</th>\n",
       "      <th></th>\n",
       "      <th></th>\n",
       "      <th></th>\n",
       "      <th></th>\n",
       "      <th></th>\n",
       "    </tr>\n",
       "  </thead>\n",
       "  <tbody>\n",
       "    <tr>\n",
       "      <th>2020-11-30</th>\n",
       "      <td>313.452594</td>\n",
       "      <td>192.303167</td>\n",
       "      <td>11612.0</td>\n",
       "      <td>Thursday</td>\n",
       "      <td>November</td>\n",
       "    </tr>\n",
       "    <tr>\n",
       "      <th>2020-12-31</th>\n",
       "      <td>399.305444</td>\n",
       "      <td>297.083250</td>\n",
       "      <td>12908.0</td>\n",
       "      <td>Tuesday</td>\n",
       "      <td>December</td>\n",
       "    </tr>\n",
       "    <tr>\n",
       "      <th>2021-01-31</th>\n",
       "      <td>549.877128</td>\n",
       "      <td>409.108583</td>\n",
       "      <td>12021.0</td>\n",
       "      <td>Friday</td>\n",
       "      <td>January</td>\n",
       "    </tr>\n",
       "    <tr>\n",
       "      <th>2021-02-28</th>\n",
       "      <td>564.586186</td>\n",
       "      <td>379.401917</td>\n",
       "      <td>10105.0</td>\n",
       "      <td>Monday</td>\n",
       "      <td>February</td>\n",
       "    </tr>\n",
       "    <tr>\n",
       "      <th>2021-03-31</th>\n",
       "      <td>1143.156810</td>\n",
       "      <td>850.508667</td>\n",
       "      <td>16055.0</td>\n",
       "      <td>Monday</td>\n",
       "      <td>March</td>\n",
       "    </tr>\n",
       "    <tr>\n",
       "      <th>2021-04-30</th>\n",
       "      <td>2047.836690</td>\n",
       "      <td>1474.442417</td>\n",
       "      <td>19787.0</td>\n",
       "      <td>Thursday</td>\n",
       "      <td>April</td>\n",
       "    </tr>\n",
       "    <tr>\n",
       "      <th>2021-05-31</th>\n",
       "      <td>1568.521169</td>\n",
       "      <td>1166.979750</td>\n",
       "      <td>17241.0</td>\n",
       "      <td>Saturday</td>\n",
       "      <td>May</td>\n",
       "    </tr>\n",
       "    <tr>\n",
       "      <th>2021-06-30</th>\n",
       "      <td>2258.041551</td>\n",
       "      <td>1625.789917</td>\n",
       "      <td>27095.0</td>\n",
       "      <td>Tuesday</td>\n",
       "      <td>June</td>\n",
       "    </tr>\n",
       "    <tr>\n",
       "      <th>2021-07-31</th>\n",
       "      <td>2209.987343</td>\n",
       "      <td>1644.230583</td>\n",
       "      <td>23971.0</td>\n",
       "      <td>Thursday</td>\n",
       "      <td>July</td>\n",
       "    </tr>\n",
       "    <tr>\n",
       "      <th>2021-08-31</th>\n",
       "      <td>2644.372200</td>\n",
       "      <td>1967.412917</td>\n",
       "      <td>24607.0</td>\n",
       "      <td>Sunday</td>\n",
       "      <td>August</td>\n",
       "    </tr>\n",
       "    <tr>\n",
       "      <th>2021-09-30</th>\n",
       "      <td>3777.850694</td>\n",
       "      <td>2720.052500</td>\n",
       "      <td>37207.0</td>\n",
       "      <td>Wednesday</td>\n",
       "      <td>September</td>\n",
       "    </tr>\n",
       "    <tr>\n",
       "      <th>2021-10-31</th>\n",
       "      <td>3244.556004</td>\n",
       "      <td>2413.949667</td>\n",
       "      <td>34775.0</td>\n",
       "      <td>Friday</td>\n",
       "      <td>October</td>\n",
       "    </tr>\n",
       "    <tr>\n",
       "      <th>2021-11-30</th>\n",
       "      <td>3529.937384</td>\n",
       "      <td>2541.554917</td>\n",
       "      <td>29478.0</td>\n",
       "      <td>Monday</td>\n",
       "      <td>November</td>\n",
       "    </tr>\n",
       "    <tr>\n",
       "      <th>2021-12-31</th>\n",
       "      <td>3245.508177</td>\n",
       "      <td>2414.658083</td>\n",
       "      <td>30171.0</td>\n",
       "      <td>Wednesday</td>\n",
       "      <td>December</td>\n",
       "    </tr>\n",
       "    <tr>\n",
       "      <th>2022-01-31</th>\n",
       "      <td>2342.137993</td>\n",
       "      <td>1742.550667</td>\n",
       "      <td>25070.0</td>\n",
       "      <td>Saturday</td>\n",
       "      <td>January</td>\n",
       "    </tr>\n",
       "    <tr>\n",
       "      <th>2022-02-28</th>\n",
       "      <td>2877.099454</td>\n",
       "      <td>1933.410833</td>\n",
       "      <td>21574.0</td>\n",
       "      <td>Tuesday</td>\n",
       "      <td>February</td>\n",
       "    </tr>\n",
       "    <tr>\n",
       "      <th>2022-03-31</th>\n",
       "      <td>2953.907034</td>\n",
       "      <td>2197.706833</td>\n",
       "      <td>29689.0</td>\n",
       "      <td>Tuesday</td>\n",
       "      <td>March</td>\n",
       "    </tr>\n",
       "    <tr>\n",
       "      <th>2022-04-30</th>\n",
       "      <td>1927.550694</td>\n",
       "      <td>1387.836500</td>\n",
       "      <td>22594.0</td>\n",
       "      <td>Friday</td>\n",
       "      <td>April</td>\n",
       "    </tr>\n",
       "    <tr>\n",
       "      <th>2022-05-31</th>\n",
       "      <td>2863.396729</td>\n",
       "      <td>2130.367167</td>\n",
       "      <td>29220.0</td>\n",
       "      <td>Sunday</td>\n",
       "      <td>May</td>\n",
       "    </tr>\n",
       "    <tr>\n",
       "      <th>2022-06-30</th>\n",
       "      <td>3216.986574</td>\n",
       "      <td>2316.230333</td>\n",
       "      <td>26909.0</td>\n",
       "      <td>Wednesday</td>\n",
       "      <td>June</td>\n",
       "    </tr>\n",
       "    <tr>\n",
       "      <th>2022-07-31</th>\n",
       "      <td>3166.619848</td>\n",
       "      <td>2355.965167</td>\n",
       "      <td>25522.0</td>\n",
       "      <td>Friday</td>\n",
       "      <td>July</td>\n",
       "    </tr>\n",
       "    <tr>\n",
       "      <th>2022-08-31</th>\n",
       "      <td>3467.326053</td>\n",
       "      <td>2579.690583</td>\n",
       "      <td>40136.0</td>\n",
       "      <td>Monday</td>\n",
       "      <td>August</td>\n",
       "    </tr>\n",
       "    <tr>\n",
       "      <th>2022-09-30</th>\n",
       "      <td>2687.436227</td>\n",
       "      <td>1934.954083</td>\n",
       "      <td>28403.0</td>\n",
       "      <td>Thursday</td>\n",
       "      <td>September</td>\n",
       "    </tr>\n",
       "    <tr>\n",
       "      <th>2022-10-31</th>\n",
       "      <td>3220.163642</td>\n",
       "      <td>2395.801750</td>\n",
       "      <td>32583.0</td>\n",
       "      <td>Saturday</td>\n",
       "      <td>October</td>\n",
       "    </tr>\n",
       "    <tr>\n",
       "      <th>2022-11-30</th>\n",
       "      <td>2911.068171</td>\n",
       "      <td>2095.969083</td>\n",
       "      <td>24877.0</td>\n",
       "      <td>Tuesday</td>\n",
       "      <td>November</td>\n",
       "    </tr>\n",
       "    <tr>\n",
       "      <th>2022-12-31</th>\n",
       "      <td>2445.798163</td>\n",
       "      <td>1819.673833</td>\n",
       "      <td>30375.0</td>\n",
       "      <td>Thursday</td>\n",
       "      <td>December</td>\n",
       "    </tr>\n",
       "    <tr>\n",
       "      <th>2023-01-31</th>\n",
       "      <td>4379.109655</td>\n",
       "      <td>3258.057583</td>\n",
       "      <td>36330.0</td>\n",
       "      <td>Sunday</td>\n",
       "      <td>January</td>\n",
       "    </tr>\n",
       "    <tr>\n",
       "      <th>2023-02-28</th>\n",
       "      <td>5433.168279</td>\n",
       "      <td>3651.089083</td>\n",
       "      <td>35685.0</td>\n",
       "      <td>Wednesday</td>\n",
       "      <td>February</td>\n",
       "    </tr>\n",
       "    <tr>\n",
       "      <th>2023-03-31</th>\n",
       "      <td>4321.587926</td>\n",
       "      <td>3215.261417</td>\n",
       "      <td>36628.0</td>\n",
       "      <td>Wednesday</td>\n",
       "      <td>March</td>\n",
       "    </tr>\n",
       "    <tr>\n",
       "      <th>2023-04-30</th>\n",
       "      <td>3885.104977</td>\n",
       "      <td>2797.275583</td>\n",
       "      <td>32933.0</td>\n",
       "      <td>Saturday</td>\n",
       "      <td>April</td>\n",
       "    </tr>\n",
       "    <tr>\n",
       "      <th>2023-05-31</th>\n",
       "      <td>3701.912232</td>\n",
       "      <td>892.777833</td>\n",
       "      <td>29825.0</td>\n",
       "      <td>Monday</td>\n",
       "      <td>May</td>\n",
       "    </tr>\n",
       "  </tbody>\n",
       "</table>\n",
       "</div>"
      ],
      "text/plain": [
       "            avg_power_demand_W  energy_demand_kWh  peak_power_W        day  \\\n",
       "time                                                                         \n",
       "2020-11-30          313.452594         192.303167       11612.0   Thursday   \n",
       "2020-12-31          399.305444         297.083250       12908.0    Tuesday   \n",
       "2021-01-31          549.877128         409.108583       12021.0     Friday   \n",
       "2021-02-28          564.586186         379.401917       10105.0     Monday   \n",
       "2021-03-31         1143.156810         850.508667       16055.0     Monday   \n",
       "2021-04-30         2047.836690        1474.442417       19787.0   Thursday   \n",
       "2021-05-31         1568.521169        1166.979750       17241.0   Saturday   \n",
       "2021-06-30         2258.041551        1625.789917       27095.0    Tuesday   \n",
       "2021-07-31         2209.987343        1644.230583       23971.0   Thursday   \n",
       "2021-08-31         2644.372200        1967.412917       24607.0     Sunday   \n",
       "2021-09-30         3777.850694        2720.052500       37207.0  Wednesday   \n",
       "2021-10-31         3244.556004        2413.949667       34775.0     Friday   \n",
       "2021-11-30         3529.937384        2541.554917       29478.0     Monday   \n",
       "2021-12-31         3245.508177        2414.658083       30171.0  Wednesday   \n",
       "2022-01-31         2342.137993        1742.550667       25070.0   Saturday   \n",
       "2022-02-28         2877.099454        1933.410833       21574.0    Tuesday   \n",
       "2022-03-31         2953.907034        2197.706833       29689.0    Tuesday   \n",
       "2022-04-30         1927.550694        1387.836500       22594.0     Friday   \n",
       "2022-05-31         2863.396729        2130.367167       29220.0     Sunday   \n",
       "2022-06-30         3216.986574        2316.230333       26909.0  Wednesday   \n",
       "2022-07-31         3166.619848        2355.965167       25522.0     Friday   \n",
       "2022-08-31         3467.326053        2579.690583       40136.0     Monday   \n",
       "2022-09-30         2687.436227        1934.954083       28403.0   Thursday   \n",
       "2022-10-31         3220.163642        2395.801750       32583.0   Saturday   \n",
       "2022-11-30         2911.068171        2095.969083       24877.0    Tuesday   \n",
       "2022-12-31         2445.798163        1819.673833       30375.0   Thursday   \n",
       "2023-01-31         4379.109655        3258.057583       36330.0     Sunday   \n",
       "2023-02-28         5433.168279        3651.089083       35685.0  Wednesday   \n",
       "2023-03-31         4321.587926        3215.261417       36628.0  Wednesday   \n",
       "2023-04-30         3885.104977        2797.275583       32933.0   Saturday   \n",
       "2023-05-31         3701.912232         892.777833       29825.0     Monday   \n",
       "\n",
       "                month  \n",
       "time                   \n",
       "2020-11-30   November  \n",
       "2020-12-31   December  \n",
       "2021-01-31    January  \n",
       "2021-02-28   February  \n",
       "2021-03-31      March  \n",
       "2021-04-30      April  \n",
       "2021-05-31        May  \n",
       "2021-06-30       June  \n",
       "2021-07-31       July  \n",
       "2021-08-31     August  \n",
       "2021-09-30  September  \n",
       "2021-10-31    October  \n",
       "2021-11-30   November  \n",
       "2021-12-31   December  \n",
       "2022-01-31    January  \n",
       "2022-02-28   February  \n",
       "2022-03-31      March  \n",
       "2022-04-30      April  \n",
       "2022-05-31        May  \n",
       "2022-06-30       June  \n",
       "2022-07-31       July  \n",
       "2022-08-31     August  \n",
       "2022-09-30  September  \n",
       "2022-10-31    October  \n",
       "2022-11-30   November  \n",
       "2022-12-31   December  \n",
       "2023-01-31    January  \n",
       "2023-02-28   February  \n",
       "2023-03-31      March  \n",
       "2023-04-30      April  \n",
       "2023-05-31        May  "
      ]
     },
     "execution_count": 63,
     "metadata": {},
     "output_type": "execute_result"
    }
   ],
   "source": [
    "df = pickle.loads(redis_client.get(\"monthlydemand\"))\n",
    "df"
   ]
  },
  {
   "cell_type": "code",
   "execution_count": 66,
   "id": "9e7d36e1",
   "metadata": {},
   "outputs": [
    {
     "data": {
      "text/plain": [
       "29825.0"
      ]
     },
     "execution_count": 66,
     "metadata": {},
     "output_type": "execute_result"
    }
   ],
   "source": [
    "df[\"peak_power_W\"][0]"
   ]
  },
  {
   "cell_type": "code",
   "execution_count": 48,
   "id": "a3168212",
   "metadata": {},
   "outputs": [
    {
     "data": {
      "text/plain": [
       "Index(['November', 'December', 'January', 'February', 'March', 'April', 'May',\n",
       "       'June', 'July', 'August', 'September', 'October', 'November',\n",
       "       'December', 'January', 'February', 'March', 'April', 'May', 'June',\n",
       "       'July', 'August', 'September', 'October', 'November', 'December',\n",
       "       'January', 'February', 'March', 'April', 'May'],\n",
       "      dtype='object', name='time')"
      ]
     },
     "execution_count": 48,
     "metadata": {},
     "output_type": "execute_result"
    }
   ],
   "source": [
    "df.index.month_name()"
   ]
  },
  {
   "cell_type": "code",
   "execution_count": 42,
   "id": "8daad89b",
   "metadata": {},
   "outputs": [
    {
     "data": {
      "text/html": [
       "<div>\n",
       "<style scoped>\n",
       "    .dataframe tbody tr th:only-of-type {\n",
       "        vertical-align: middle;\n",
       "    }\n",
       "\n",
       "    .dataframe tbody tr th {\n",
       "        vertical-align: top;\n",
       "    }\n",
       "\n",
       "    .dataframe thead th {\n",
       "        text-align: right;\n",
       "    }\n",
       "</style>\n",
       "<table border=\"1\" class=\"dataframe\">\n",
       "  <thead>\n",
       "    <tr style=\"text-align: right;\">\n",
       "      <th></th>\n",
       "      <th>avg_power_demand_W_predictions</th>\n",
       "      <th>energy_demand_kWh_predictions</th>\n",
       "      <th>peak_power_W_predictions</th>\n",
       "    </tr>\n",
       "    <tr>\n",
       "      <th>time</th>\n",
       "      <th></th>\n",
       "      <th></th>\n",
       "      <th></th>\n",
       "    </tr>\n",
       "  </thead>\n",
       "  <tbody>\n",
       "    <tr>\n",
       "      <th>2023-05-12</th>\n",
       "      <td>3752.679779</td>\n",
       "      <td>90.826229</td>\n",
       "      <td>18765.565238</td>\n",
       "    </tr>\n",
       "    <tr>\n",
       "      <th>2023-05-13</th>\n",
       "      <td>25.375707</td>\n",
       "      <td>0.717514</td>\n",
       "      <td>6235.976188</td>\n",
       "    </tr>\n",
       "    <tr>\n",
       "      <th>2023-05-14</th>\n",
       "      <td>36.178211</td>\n",
       "      <td>0.954205</td>\n",
       "      <td>5999.842836</td>\n",
       "    </tr>\n",
       "    <tr>\n",
       "      <th>2023-05-15</th>\n",
       "      <td>5397.506081</td>\n",
       "      <td>129.426661</td>\n",
       "      <td>20769.412666</td>\n",
       "    </tr>\n",
       "    <tr>\n",
       "      <th>2023-05-16</th>\n",
       "      <td>4503.515468</td>\n",
       "      <td>108.444700</td>\n",
       "      <td>18757.902182</td>\n",
       "    </tr>\n",
       "    <tr>\n",
       "      <th>2023-05-17</th>\n",
       "      <td>4158.186519</td>\n",
       "      <td>99.682433</td>\n",
       "      <td>18724.066881</td>\n",
       "    </tr>\n",
       "    <tr>\n",
       "      <th>2023-05-18</th>\n",
       "      <td>4386.069212</td>\n",
       "      <td>104.607192</td>\n",
       "      <td>16440.908117</td>\n",
       "    </tr>\n",
       "  </tbody>\n",
       "</table>\n",
       "</div>"
      ],
      "text/plain": [
       "            avg_power_demand_W_predictions  energy_demand_kWh_predictions  \\\n",
       "time                                                                        \n",
       "2023-05-12                     3752.679779                      90.826229   \n",
       "2023-05-13                       25.375707                       0.717514   \n",
       "2023-05-14                       36.178211                       0.954205   \n",
       "2023-05-15                     5397.506081                     129.426661   \n",
       "2023-05-16                     4503.515468                     108.444700   \n",
       "2023-05-17                     4158.186519                      99.682433   \n",
       "2023-05-18                     4386.069212                     104.607192   \n",
       "\n",
       "            peak_power_W_predictions  \n",
       "time                                  \n",
       "2023-05-12              18765.565238  \n",
       "2023-05-13               6235.976188  \n",
       "2023-05-14               5999.842836  \n",
       "2023-05-15              20769.412666  \n",
       "2023-05-16              18757.902182  \n",
       "2023-05-17              18724.066881  \n",
       "2023-05-18              16440.908117  "
      ]
     },
     "execution_count": 42,
     "metadata": {},
     "output_type": "execute_result"
    }
   ],
   "source": [
    "new_forecasts"
   ]
  },
  {
   "cell_type": "code",
   "execution_count": 22,
   "id": "95ad1f0d",
   "metadata": {},
   "outputs": [
    {
     "data": {
      "text/html": [
       "<div>\n",
       "<style scoped>\n",
       "    .dataframe tbody tr th:only-of-type {\n",
       "        vertical-align: middle;\n",
       "    }\n",
       "\n",
       "    .dataframe tbody tr th {\n",
       "        vertical-align: top;\n",
       "    }\n",
       "\n",
       "    .dataframe thead th {\n",
       "        text-align: right;\n",
       "    }\n",
       "</style>\n",
       "<table border=\"1\" class=\"dataframe\">\n",
       "  <thead>\n",
       "    <tr style=\"text-align: right;\">\n",
       "      <th></th>\n",
       "      <th>0</th>\n",
       "    </tr>\n",
       "  </thead>\n",
       "  <tbody>\n",
       "    <tr>\n",
       "      <th>2023-05-12</th>\n",
       "      <td>18765.565238</td>\n",
       "    </tr>\n",
       "  </tbody>\n",
       "</table>\n",
       "</div>"
      ],
      "text/plain": [
       "                       0\n",
       "2023-05-12  18765.565238"
      ]
     },
     "execution_count": 22,
     "metadata": {},
     "output_type": "execute_result"
    }
   ],
   "source": [
    "pd.DataFrame(best_model_arima.forecast(1))"
   ]
  },
  {
   "cell_type": "code",
   "execution_count": 19,
   "id": "10beeba5",
   "metadata": {},
   "outputs": [
    {
     "data": {
      "text/html": [
       "<div>\n",
       "<style scoped>\n",
       "    .dataframe tbody tr th:only-of-type {\n",
       "        vertical-align: middle;\n",
       "    }\n",
       "\n",
       "    .dataframe tbody tr th {\n",
       "        vertical-align: top;\n",
       "    }\n",
       "\n",
       "    .dataframe thead th {\n",
       "        text-align: right;\n",
       "    }\n",
       "</style>\n",
       "<table border=\"1\" class=\"dataframe\">\n",
       "  <thead>\n",
       "    <tr style=\"text-align: right;\">\n",
       "      <th></th>\n",
       "      <th>predicted_mean</th>\n",
       "    </tr>\n",
       "  </thead>\n",
       "  <tbody>\n",
       "    <tr>\n",
       "      <th>2023-05-12</th>\n",
       "      <td>18765.565238</td>\n",
       "    </tr>\n",
       "    <tr>\n",
       "      <th>2023-05-13</th>\n",
       "      <td>6235.976188</td>\n",
       "    </tr>\n",
       "    <tr>\n",
       "      <th>2023-05-14</th>\n",
       "      <td>5999.842836</td>\n",
       "    </tr>\n",
       "    <tr>\n",
       "      <th>2023-05-15</th>\n",
       "      <td>20769.412666</td>\n",
       "    </tr>\n",
       "    <tr>\n",
       "      <th>2023-05-16</th>\n",
       "      <td>18757.902182</td>\n",
       "    </tr>\n",
       "    <tr>\n",
       "      <th>2023-05-17</th>\n",
       "      <td>18724.066881</td>\n",
       "    </tr>\n",
       "    <tr>\n",
       "      <th>2023-05-18</th>\n",
       "      <td>16440.908117</td>\n",
       "    </tr>\n",
       "  </tbody>\n",
       "</table>\n",
       "</div>"
      ],
      "text/plain": [
       "            predicted_mean\n",
       "2023-05-12    18765.565238\n",
       "2023-05-13     6235.976188\n",
       "2023-05-14     5999.842836\n",
       "2023-05-15    20769.412666\n",
       "2023-05-16    18757.902182\n",
       "2023-05-17    18724.066881\n",
       "2023-05-18    16440.908117"
      ]
     },
     "execution_count": 19,
     "metadata": {},
     "output_type": "execute_result"
    }
   ],
   "source": [
    "pd.DataFrame(best_model_arima.forecast(7)).rename({\"predicted_mean\":\"avg\"})"
   ]
  },
  {
   "cell_type": "code",
   "execution_count": 14,
   "id": "1d099aab",
   "metadata": {},
   "outputs": [
    {
     "data": {
      "text/html": [
       "<div>\n",
       "<style scoped>\n",
       "    .dataframe tbody tr th:only-of-type {\n",
       "        vertical-align: middle;\n",
       "    }\n",
       "\n",
       "    .dataframe tbody tr th {\n",
       "        vertical-align: top;\n",
       "    }\n",
       "\n",
       "    .dataframe thead th {\n",
       "        text-align: right;\n",
       "    }\n",
       "</style>\n",
       "<table border=\"1\" class=\"dataframe\">\n",
       "  <thead>\n",
       "    <tr style=\"text-align: right;\">\n",
       "      <th></th>\n",
       "      <th>avg_power_demand_W_predictions</th>\n",
       "      <th>energy_demand_kWh_predictions</th>\n",
       "      <th>peak_power_W_predictions</th>\n",
       "    </tr>\n",
       "    <tr>\n",
       "      <th>time</th>\n",
       "      <th></th>\n",
       "      <th></th>\n",
       "      <th></th>\n",
       "    </tr>\n",
       "  </thead>\n",
       "  <tbody>\n",
       "  </tbody>\n",
       "</table>\n",
       "</div>"
      ],
      "text/plain": [
       "Empty DataFrame\n",
       "Columns: [avg_power_demand_W_predictions, energy_demand_kWh_predictions, peak_power_W_predictions]\n",
       "Index: []"
      ]
     },
     "execution_count": 14,
     "metadata": {},
     "output_type": "execute_result"
    }
   ],
   "source": [
    "new_forecasts"
   ]
  },
  {
   "cell_type": "code",
   "execution_count": 5,
   "id": "30b17346",
   "metadata": {},
   "outputs": [
    {
     "data": {
      "text/plain": [
       "2023-05-12    18765.565238\n",
       "2023-05-13     6235.976188\n",
       "2023-05-14     5999.842836\n",
       "2023-05-15    20769.412666\n",
       "2023-05-16    18757.902182\n",
       "2023-05-17    18724.066881\n",
       "2023-05-18    16440.908117\n",
       "Freq: D, Name: predicted_mean, dtype: float64"
      ]
     },
     "execution_count": 5,
     "metadata": {},
     "output_type": "execute_result"
    }
   ],
   "source": [
    "best_model_arima.forecast(7)"
   ]
  },
  {
   "cell_type": "code",
   "execution_count": 14,
   "id": "4079501a",
   "metadata": {},
   "outputs": [
    {
     "data": {
      "text/plain": [
       "{'energy_demand_kWh': ARIMA(order=(2, 0, 1), scoring_args={}, seasonal_order=(0, 1, 2, 7),\n",
       "       suppress_warnings=True),\n",
       " 'peak_power_W': ARIMA(order=(1, 0, 0), scoring_args={}, seasonal_order=(1, 1, 1, 7),\n",
       "       suppress_warnings=True),\n",
       " 'avg_power_demand_W': ARIMA(order=(2, 0, 1), scoring_args={}, seasonal_order=(0, 1, 2, 7),\n",
       "       suppress_warnings=True)}"
      ]
     },
     "execution_count": 14,
     "metadata": {},
     "output_type": "execute_result"
    }
   ],
   "source": [
    "pickle.loads(redis_client.get(\"daily_params\"))"
   ]
  },
  {
   "cell_type": "code",
   "execution_count": 82,
   "id": "766c81e4",
   "metadata": {},
   "outputs": [
    {
     "data": {
      "text/plain": [
       "'19:20:17'"
      ]
     },
     "execution_count": 82,
     "metadata": {},
     "output_type": "execute_result"
    }
   ],
   "source": [
    "from datetime import datetime\n",
    "datetime.now().strftime('%H:%M:%S')"
   ]
  },
  {
   "cell_type": "code",
   "execution_count": null,
   "id": "9296a3a2",
   "metadata": {},
   "outputs": [],
   "source": []
  },
  {
   "cell_type": "code",
   "execution_count": 20,
   "id": "a09731b1",
   "metadata": {},
   "outputs": [
    {
     "data": {
      "text/plain": [
       "0           3.281\n",
       "1          36.739\n",
       "2          51.955\n",
       "3          66.333\n",
       "4          78.817\n",
       "          ...    \n",
       "2915    56575.227\n",
       "2916    56585.206\n",
       "2912    56613.743\n",
       "2914    56624.438\n",
       "2917    56629.084\n",
       "Name: cumEnergy_Wh, Length: 2918, dtype: float64"
      ]
     },
     "execution_count": 20,
     "metadata": {},
     "output_type": "execute_result"
    }
   ],
   "source": [
    "df[\"finishChargeTime\"] = pd.to_datetime(df[\"finishChargeTime\"])\n",
    "df = df.sort_values(by=\"finishChargeTime\")\n",
    "df[\"cumEnergy_Wh\"].cumsum(axis=0) / 1000"
   ]
  },
  {
   "cell_type": "code",
   "execution_count": 19,
   "id": "3c08b048",
   "metadata": {},
   "outputs": [],
   "source": [
    "hourlydemand = pd.read_csv(\"data/hourlydemand.csv\", index_col=\"time\", parse_dates=True)\n",
    "dailydemand = pd.read_csv(\"data/dailydemand.csv\", index_col=\"time\", parse_dates=True)\n",
    "monthlydemand = pd.read_csv(\"data/monthlydemand.csv\", index_col=\"time\", parse_dates=True)"
   ]
  },
  {
   "cell_type": "code",
   "execution_count": 16,
   "id": "978ae2e1",
   "metadata": {},
   "outputs": [
    {
     "data": {
      "text/plain": [
       "Int64Index([0, 0, 0, 0, 0, 0, 0, 0, 0, 0,\n",
       "            ...\n",
       "            0, 0, 0, 0, 0, 0, 0, 0, 0, 0],\n",
       "           dtype='int64', name='time', length=905)"
      ]
     },
     "execution_count": 16,
     "metadata": {},
     "output_type": "execute_result"
    }
   ],
   "source": [
    "dailydemand.index.hour"
   ]
  },
  {
   "cell_type": "code",
   "execution_count": 13,
   "id": "a8f9d01b",
   "metadata": {},
   "outputs": [
    {
     "data": {
      "text/html": [
       "<div>\n",
       "<style scoped>\n",
       "    .dataframe tbody tr th:only-of-type {\n",
       "        vertical-align: middle;\n",
       "    }\n",
       "\n",
       "    .dataframe tbody tr th {\n",
       "        vertical-align: top;\n",
       "    }\n",
       "\n",
       "    .dataframe thead th {\n",
       "        text-align: right;\n",
       "    }\n",
       "</style>\n",
       "<table border=\"1\" class=\"dataframe\">\n",
       "  <thead>\n",
       "    <tr style=\"text-align: right;\">\n",
       "      <th></th>\n",
       "      <th>avg_power_demand_W</th>\n",
       "      <th>energy_demand_kWh</th>\n",
       "      <th>peak_power_W</th>\n",
       "      <th>day</th>\n",
       "      <th>month</th>\n",
       "    </tr>\n",
       "    <tr>\n",
       "      <th>time</th>\n",
       "      <th></th>\n",
       "      <th></th>\n",
       "      <th></th>\n",
       "      <th></th>\n",
       "      <th></th>\n",
       "    </tr>\n",
       "  </thead>\n",
       "  <tbody>\n",
       "    <tr>\n",
       "      <th>2020-11-06 07:00:00</th>\n",
       "      <td>0.000000</td>\n",
       "      <td>0.000000</td>\n",
       "      <td>0.0</td>\n",
       "      <td>Friday</td>\n",
       "      <td>November</td>\n",
       "    </tr>\n",
       "    <tr>\n",
       "      <th>2020-11-07 07:00:00</th>\n",
       "      <td>0.000000</td>\n",
       "      <td>0.000000</td>\n",
       "      <td>0.0</td>\n",
       "      <td>Saturday</td>\n",
       "      <td>November</td>\n",
       "    </tr>\n",
       "    <tr>\n",
       "      <th>2020-11-08 07:00:00</th>\n",
       "      <td>0.000000</td>\n",
       "      <td>0.000000</td>\n",
       "      <td>0.0</td>\n",
       "      <td>Sunday</td>\n",
       "      <td>November</td>\n",
       "    </tr>\n",
       "    <tr>\n",
       "      <th>2020-11-09 07:00:00</th>\n",
       "      <td>0.000000</td>\n",
       "      <td>0.000000</td>\n",
       "      <td>0.0</td>\n",
       "      <td>Monday</td>\n",
       "      <td>November</td>\n",
       "    </tr>\n",
       "    <tr>\n",
       "      <th>2020-11-10 07:00:00</th>\n",
       "      <td>0.000000</td>\n",
       "      <td>0.000000</td>\n",
       "      <td>0.0</td>\n",
       "      <td>Tuesday</td>\n",
       "      <td>November</td>\n",
       "    </tr>\n",
       "    <tr>\n",
       "      <th>...</th>\n",
       "      <td>...</td>\n",
       "      <td>...</td>\n",
       "      <td>...</td>\n",
       "      <td>...</td>\n",
       "      <td>...</td>\n",
       "    </tr>\n",
       "    <tr>\n",
       "      <th>2023-04-23 07:00:00</th>\n",
       "      <td>0.000000</td>\n",
       "      <td>0.000000</td>\n",
       "      <td>0.0</td>\n",
       "      <td>Sunday</td>\n",
       "      <td>April</td>\n",
       "    </tr>\n",
       "    <tr>\n",
       "      <th>2023-04-24 07:00:00</th>\n",
       "      <td>0.000000</td>\n",
       "      <td>0.000000</td>\n",
       "      <td>0.0</td>\n",
       "      <td>Monday</td>\n",
       "      <td>April</td>\n",
       "    </tr>\n",
       "    <tr>\n",
       "      <th>2023-04-25 07:00:00</th>\n",
       "      <td>6445.000000</td>\n",
       "      <td>6.445000</td>\n",
       "      <td>6445.0</td>\n",
       "      <td>Tuesday</td>\n",
       "      <td>April</td>\n",
       "    </tr>\n",
       "    <tr>\n",
       "      <th>2023-04-26 07:00:00</th>\n",
       "      <td>4581.666667</td>\n",
       "      <td>4.581667</td>\n",
       "      <td>5498.0</td>\n",
       "      <td>Wednesday</td>\n",
       "      <td>April</td>\n",
       "    </tr>\n",
       "    <tr>\n",
       "      <th>2023-04-27 07:00:00</th>\n",
       "      <td>0.000000</td>\n",
       "      <td>0.000000</td>\n",
       "      <td>0.0</td>\n",
       "      <td>Thursday</td>\n",
       "      <td>April</td>\n",
       "    </tr>\n",
       "  </tbody>\n",
       "</table>\n",
       "<p>903 rows × 5 columns</p>\n",
       "</div>"
      ],
      "text/plain": [
       "                     avg_power_demand_W  energy_demand_kWh  peak_power_W  \\\n",
       "time                                                                       \n",
       "2020-11-06 07:00:00            0.000000           0.000000           0.0   \n",
       "2020-11-07 07:00:00            0.000000           0.000000           0.0   \n",
       "2020-11-08 07:00:00            0.000000           0.000000           0.0   \n",
       "2020-11-09 07:00:00            0.000000           0.000000           0.0   \n",
       "2020-11-10 07:00:00            0.000000           0.000000           0.0   \n",
       "...                                 ...                ...           ...   \n",
       "2023-04-23 07:00:00            0.000000           0.000000           0.0   \n",
       "2023-04-24 07:00:00            0.000000           0.000000           0.0   \n",
       "2023-04-25 07:00:00         6445.000000           6.445000        6445.0   \n",
       "2023-04-26 07:00:00         4581.666667           4.581667        5498.0   \n",
       "2023-04-27 07:00:00            0.000000           0.000000           0.0   \n",
       "\n",
       "                           day     month  \n",
       "time                                      \n",
       "2020-11-06 07:00:00     Friday  November  \n",
       "2020-11-07 07:00:00   Saturday  November  \n",
       "2020-11-08 07:00:00     Sunday  November  \n",
       "2020-11-09 07:00:00     Monday  November  \n",
       "2020-11-10 07:00:00    Tuesday  November  \n",
       "...                        ...       ...  \n",
       "2023-04-23 07:00:00     Sunday     April  \n",
       "2023-04-24 07:00:00     Monday     April  \n",
       "2023-04-25 07:00:00    Tuesday     April  \n",
       "2023-04-26 07:00:00  Wednesday     April  \n",
       "2023-04-27 07:00:00   Thursday     April  \n",
       "\n",
       "[903 rows x 5 columns]"
      ]
     },
     "execution_count": 13,
     "metadata": {},
     "output_type": "execute_result"
    }
   ],
   "source": [
    "hourlydemand[hourlydemand.index.hour == 7]"
   ]
  },
  {
   "cell_type": "code",
   "execution_count": 26,
   "id": "8f90027d",
   "metadata": {},
   "outputs": [
    {
     "data": {
      "application/vnd.plotly.v1+json": {
       "config": {
        "plotlyServerURL": "https://plot.ly"
       },
       "data": [
        {
         "hovertemplate": "time=%{x}<br>peak_power_W=%{y}<extra></extra>",
         "legendgroup": "",
         "line": {
          "color": "#636efa",
          "dash": "solid"
         },
         "marker": {
          "symbol": "circle"
         },
         "mode": "lines",
         "name": "",
         "orientation": "v",
         "showlegend": false,
         "type": "scatter",
         "x": [
          "2020-11-01T00:00:00",
          "2020-12-01T00:00:00",
          "2021-01-01T00:00:00",
          "2021-02-01T00:00:00",
          "2021-03-01T00:00:00",
          "2021-04-01T00:00:00",
          "2021-05-01T00:00:00",
          "2021-06-01T00:00:00",
          "2021-07-01T00:00:00",
          "2021-08-01T00:00:00",
          "2021-09-01T00:00:00",
          "2021-10-01T00:00:00",
          "2021-11-01T00:00:00",
          "2021-12-01T00:00:00",
          "2022-01-01T00:00:00",
          "2022-02-01T00:00:00",
          "2022-03-01T00:00:00",
          "2022-04-01T00:00:00",
          "2022-05-01T00:00:00",
          "2022-06-01T00:00:00",
          "2022-07-01T00:00:00",
          "2022-08-01T00:00:00",
          "2022-09-01T00:00:00",
          "2022-10-01T00:00:00",
          "2022-11-01T00:00:00",
          "2022-12-01T00:00:00",
          "2023-01-01T00:00:00",
          "2023-02-01T00:00:00",
          "2023-03-01T00:00:00",
          "2023-04-01T00:00:00"
         ],
         "xaxis": "x",
         "y": [
          11612,
          12908,
          12021,
          10105,
          16055,
          19787,
          17241,
          27095,
          23971,
          24607,
          37207,
          34775,
          29478,
          30171,
          25070,
          21574,
          29689,
          22594,
          29220,
          26909,
          25522,
          40136,
          28403,
          32583,
          24877,
          30375,
          36330,
          35685,
          36628,
          32933
         ],
         "yaxis": "y"
        }
       ],
       "layout": {
        "legend": {
         "tracegroupgap": 0
        },
        "margin": {
         "t": 60
        },
        "template": {
         "data": {
          "bar": [
           {
            "error_x": {
             "color": "#2a3f5f"
            },
            "error_y": {
             "color": "#2a3f5f"
            },
            "marker": {
             "line": {
              "color": "#E5ECF6",
              "width": 0.5
             },
             "pattern": {
              "fillmode": "overlay",
              "size": 10,
              "solidity": 0.2
             }
            },
            "type": "bar"
           }
          ],
          "barpolar": [
           {
            "marker": {
             "line": {
              "color": "#E5ECF6",
              "width": 0.5
             },
             "pattern": {
              "fillmode": "overlay",
              "size": 10,
              "solidity": 0.2
             }
            },
            "type": "barpolar"
           }
          ],
          "carpet": [
           {
            "aaxis": {
             "endlinecolor": "#2a3f5f",
             "gridcolor": "white",
             "linecolor": "white",
             "minorgridcolor": "white",
             "startlinecolor": "#2a3f5f"
            },
            "baxis": {
             "endlinecolor": "#2a3f5f",
             "gridcolor": "white",
             "linecolor": "white",
             "minorgridcolor": "white",
             "startlinecolor": "#2a3f5f"
            },
            "type": "carpet"
           }
          ],
          "choropleth": [
           {
            "colorbar": {
             "outlinewidth": 0,
             "ticks": ""
            },
            "type": "choropleth"
           }
          ],
          "contour": [
           {
            "colorbar": {
             "outlinewidth": 0,
             "ticks": ""
            },
            "colorscale": [
             [
              0,
              "#0d0887"
             ],
             [
              0.1111111111111111,
              "#46039f"
             ],
             [
              0.2222222222222222,
              "#7201a8"
             ],
             [
              0.3333333333333333,
              "#9c179e"
             ],
             [
              0.4444444444444444,
              "#bd3786"
             ],
             [
              0.5555555555555556,
              "#d8576b"
             ],
             [
              0.6666666666666666,
              "#ed7953"
             ],
             [
              0.7777777777777778,
              "#fb9f3a"
             ],
             [
              0.8888888888888888,
              "#fdca26"
             ],
             [
              1,
              "#f0f921"
             ]
            ],
            "type": "contour"
           }
          ],
          "contourcarpet": [
           {
            "colorbar": {
             "outlinewidth": 0,
             "ticks": ""
            },
            "type": "contourcarpet"
           }
          ],
          "heatmap": [
           {
            "colorbar": {
             "outlinewidth": 0,
             "ticks": ""
            },
            "colorscale": [
             [
              0,
              "#0d0887"
             ],
             [
              0.1111111111111111,
              "#46039f"
             ],
             [
              0.2222222222222222,
              "#7201a8"
             ],
             [
              0.3333333333333333,
              "#9c179e"
             ],
             [
              0.4444444444444444,
              "#bd3786"
             ],
             [
              0.5555555555555556,
              "#d8576b"
             ],
             [
              0.6666666666666666,
              "#ed7953"
             ],
             [
              0.7777777777777778,
              "#fb9f3a"
             ],
             [
              0.8888888888888888,
              "#fdca26"
             ],
             [
              1,
              "#f0f921"
             ]
            ],
            "type": "heatmap"
           }
          ],
          "heatmapgl": [
           {
            "colorbar": {
             "outlinewidth": 0,
             "ticks": ""
            },
            "colorscale": [
             [
              0,
              "#0d0887"
             ],
             [
              0.1111111111111111,
              "#46039f"
             ],
             [
              0.2222222222222222,
              "#7201a8"
             ],
             [
              0.3333333333333333,
              "#9c179e"
             ],
             [
              0.4444444444444444,
              "#bd3786"
             ],
             [
              0.5555555555555556,
              "#d8576b"
             ],
             [
              0.6666666666666666,
              "#ed7953"
             ],
             [
              0.7777777777777778,
              "#fb9f3a"
             ],
             [
              0.8888888888888888,
              "#fdca26"
             ],
             [
              1,
              "#f0f921"
             ]
            ],
            "type": "heatmapgl"
           }
          ],
          "histogram": [
           {
            "marker": {
             "pattern": {
              "fillmode": "overlay",
              "size": 10,
              "solidity": 0.2
             }
            },
            "type": "histogram"
           }
          ],
          "histogram2d": [
           {
            "colorbar": {
             "outlinewidth": 0,
             "ticks": ""
            },
            "colorscale": [
             [
              0,
              "#0d0887"
             ],
             [
              0.1111111111111111,
              "#46039f"
             ],
             [
              0.2222222222222222,
              "#7201a8"
             ],
             [
              0.3333333333333333,
              "#9c179e"
             ],
             [
              0.4444444444444444,
              "#bd3786"
             ],
             [
              0.5555555555555556,
              "#d8576b"
             ],
             [
              0.6666666666666666,
              "#ed7953"
             ],
             [
              0.7777777777777778,
              "#fb9f3a"
             ],
             [
              0.8888888888888888,
              "#fdca26"
             ],
             [
              1,
              "#f0f921"
             ]
            ],
            "type": "histogram2d"
           }
          ],
          "histogram2dcontour": [
           {
            "colorbar": {
             "outlinewidth": 0,
             "ticks": ""
            },
            "colorscale": [
             [
              0,
              "#0d0887"
             ],
             [
              0.1111111111111111,
              "#46039f"
             ],
             [
              0.2222222222222222,
              "#7201a8"
             ],
             [
              0.3333333333333333,
              "#9c179e"
             ],
             [
              0.4444444444444444,
              "#bd3786"
             ],
             [
              0.5555555555555556,
              "#d8576b"
             ],
             [
              0.6666666666666666,
              "#ed7953"
             ],
             [
              0.7777777777777778,
              "#fb9f3a"
             ],
             [
              0.8888888888888888,
              "#fdca26"
             ],
             [
              1,
              "#f0f921"
             ]
            ],
            "type": "histogram2dcontour"
           }
          ],
          "mesh3d": [
           {
            "colorbar": {
             "outlinewidth": 0,
             "ticks": ""
            },
            "type": "mesh3d"
           }
          ],
          "parcoords": [
           {
            "line": {
             "colorbar": {
              "outlinewidth": 0,
              "ticks": ""
             }
            },
            "type": "parcoords"
           }
          ],
          "pie": [
           {
            "automargin": true,
            "type": "pie"
           }
          ],
          "scatter": [
           {
            "fillpattern": {
             "fillmode": "overlay",
             "size": 10,
             "solidity": 0.2
            },
            "type": "scatter"
           }
          ],
          "scatter3d": [
           {
            "line": {
             "colorbar": {
              "outlinewidth": 0,
              "ticks": ""
             }
            },
            "marker": {
             "colorbar": {
              "outlinewidth": 0,
              "ticks": ""
             }
            },
            "type": "scatter3d"
           }
          ],
          "scattercarpet": [
           {
            "marker": {
             "colorbar": {
              "outlinewidth": 0,
              "ticks": ""
             }
            },
            "type": "scattercarpet"
           }
          ],
          "scattergeo": [
           {
            "marker": {
             "colorbar": {
              "outlinewidth": 0,
              "ticks": ""
             }
            },
            "type": "scattergeo"
           }
          ],
          "scattergl": [
           {
            "marker": {
             "colorbar": {
              "outlinewidth": 0,
              "ticks": ""
             }
            },
            "type": "scattergl"
           }
          ],
          "scattermapbox": [
           {
            "marker": {
             "colorbar": {
              "outlinewidth": 0,
              "ticks": ""
             }
            },
            "type": "scattermapbox"
           }
          ],
          "scatterpolar": [
           {
            "marker": {
             "colorbar": {
              "outlinewidth": 0,
              "ticks": ""
             }
            },
            "type": "scatterpolar"
           }
          ],
          "scatterpolargl": [
           {
            "marker": {
             "colorbar": {
              "outlinewidth": 0,
              "ticks": ""
             }
            },
            "type": "scatterpolargl"
           }
          ],
          "scatterternary": [
           {
            "marker": {
             "colorbar": {
              "outlinewidth": 0,
              "ticks": ""
             }
            },
            "type": "scatterternary"
           }
          ],
          "surface": [
           {
            "colorbar": {
             "outlinewidth": 0,
             "ticks": ""
            },
            "colorscale": [
             [
              0,
              "#0d0887"
             ],
             [
              0.1111111111111111,
              "#46039f"
             ],
             [
              0.2222222222222222,
              "#7201a8"
             ],
             [
              0.3333333333333333,
              "#9c179e"
             ],
             [
              0.4444444444444444,
              "#bd3786"
             ],
             [
              0.5555555555555556,
              "#d8576b"
             ],
             [
              0.6666666666666666,
              "#ed7953"
             ],
             [
              0.7777777777777778,
              "#fb9f3a"
             ],
             [
              0.8888888888888888,
              "#fdca26"
             ],
             [
              1,
              "#f0f921"
             ]
            ],
            "type": "surface"
           }
          ],
          "table": [
           {
            "cells": {
             "fill": {
              "color": "#EBF0F8"
             },
             "line": {
              "color": "white"
             }
            },
            "header": {
             "fill": {
              "color": "#C8D4E3"
             },
             "line": {
              "color": "white"
             }
            },
            "type": "table"
           }
          ]
         },
         "layout": {
          "annotationdefaults": {
           "arrowcolor": "#2a3f5f",
           "arrowhead": 0,
           "arrowwidth": 1
          },
          "autotypenumbers": "strict",
          "coloraxis": {
           "colorbar": {
            "outlinewidth": 0,
            "ticks": ""
           }
          },
          "colorscale": {
           "diverging": [
            [
             0,
             "#8e0152"
            ],
            [
             0.1,
             "#c51b7d"
            ],
            [
             0.2,
             "#de77ae"
            ],
            [
             0.3,
             "#f1b6da"
            ],
            [
             0.4,
             "#fde0ef"
            ],
            [
             0.5,
             "#f7f7f7"
            ],
            [
             0.6,
             "#e6f5d0"
            ],
            [
             0.7,
             "#b8e186"
            ],
            [
             0.8,
             "#7fbc41"
            ],
            [
             0.9,
             "#4d9221"
            ],
            [
             1,
             "#276419"
            ]
           ],
           "sequential": [
            [
             0,
             "#0d0887"
            ],
            [
             0.1111111111111111,
             "#46039f"
            ],
            [
             0.2222222222222222,
             "#7201a8"
            ],
            [
             0.3333333333333333,
             "#9c179e"
            ],
            [
             0.4444444444444444,
             "#bd3786"
            ],
            [
             0.5555555555555556,
             "#d8576b"
            ],
            [
             0.6666666666666666,
             "#ed7953"
            ],
            [
             0.7777777777777778,
             "#fb9f3a"
            ],
            [
             0.8888888888888888,
             "#fdca26"
            ],
            [
             1,
             "#f0f921"
            ]
           ],
           "sequentialminus": [
            [
             0,
             "#0d0887"
            ],
            [
             0.1111111111111111,
             "#46039f"
            ],
            [
             0.2222222222222222,
             "#7201a8"
            ],
            [
             0.3333333333333333,
             "#9c179e"
            ],
            [
             0.4444444444444444,
             "#bd3786"
            ],
            [
             0.5555555555555556,
             "#d8576b"
            ],
            [
             0.6666666666666666,
             "#ed7953"
            ],
            [
             0.7777777777777778,
             "#fb9f3a"
            ],
            [
             0.8888888888888888,
             "#fdca26"
            ],
            [
             1,
             "#f0f921"
            ]
           ]
          },
          "colorway": [
           "#636efa",
           "#EF553B",
           "#00cc96",
           "#ab63fa",
           "#FFA15A",
           "#19d3f3",
           "#FF6692",
           "#B6E880",
           "#FF97FF",
           "#FECB52"
          ],
          "font": {
           "color": "#2a3f5f"
          },
          "geo": {
           "bgcolor": "white",
           "lakecolor": "white",
           "landcolor": "#E5ECF6",
           "showlakes": true,
           "showland": true,
           "subunitcolor": "white"
          },
          "hoverlabel": {
           "align": "left"
          },
          "hovermode": "closest",
          "mapbox": {
           "style": "light"
          },
          "paper_bgcolor": "white",
          "plot_bgcolor": "#E5ECF6",
          "polar": {
           "angularaxis": {
            "gridcolor": "white",
            "linecolor": "white",
            "ticks": ""
           },
           "bgcolor": "#E5ECF6",
           "radialaxis": {
            "gridcolor": "white",
            "linecolor": "white",
            "ticks": ""
           }
          },
          "scene": {
           "xaxis": {
            "backgroundcolor": "#E5ECF6",
            "gridcolor": "white",
            "gridwidth": 2,
            "linecolor": "white",
            "showbackground": true,
            "ticks": "",
            "zerolinecolor": "white"
           },
           "yaxis": {
            "backgroundcolor": "#E5ECF6",
            "gridcolor": "white",
            "gridwidth": 2,
            "linecolor": "white",
            "showbackground": true,
            "ticks": "",
            "zerolinecolor": "white"
           },
           "zaxis": {
            "backgroundcolor": "#E5ECF6",
            "gridcolor": "white",
            "gridwidth": 2,
            "linecolor": "white",
            "showbackground": true,
            "ticks": "",
            "zerolinecolor": "white"
           }
          },
          "shapedefaults": {
           "line": {
            "color": "#2a3f5f"
           }
          },
          "ternary": {
           "aaxis": {
            "gridcolor": "white",
            "linecolor": "white",
            "ticks": ""
           },
           "baxis": {
            "gridcolor": "white",
            "linecolor": "white",
            "ticks": ""
           },
           "bgcolor": "#E5ECF6",
           "caxis": {
            "gridcolor": "white",
            "linecolor": "white",
            "ticks": ""
           }
          },
          "title": {
           "x": 0.05
          },
          "xaxis": {
           "automargin": true,
           "gridcolor": "white",
           "linecolor": "white",
           "ticks": "",
           "title": {
            "standoff": 15
           },
           "zerolinecolor": "white",
           "zerolinewidth": 2
          },
          "yaxis": {
           "automargin": true,
           "gridcolor": "white",
           "linecolor": "white",
           "ticks": "",
           "title": {
            "standoff": 15
           },
           "zerolinecolor": "white",
           "zerolinewidth": 2
          }
         }
        },
        "xaxis": {
         "anchor": "y",
         "domain": [
          0,
          1
         ],
         "title": {
          "text": "time"
         }
        },
        "yaxis": {
         "anchor": "x",
         "domain": [
          0,
          1
         ],
         "title": {
          "text": "peak_power_W"
         }
        }
       }
      }
     },
     "metadata": {},
     "output_type": "display_data"
    }
   ],
   "source": [
    "px.line(monthlydemand, y=\"peak_power_W\")"
   ]
  },
  {
   "cell_type": "code",
   "execution_count": 13,
   "id": "fd103bc4",
   "metadata": {},
   "outputs": [
    {
     "data": {
      "text/html": [
       "<div>\n",
       "<style scoped>\n",
       "    .dataframe tbody tr th:only-of-type {\n",
       "        vertical-align: middle;\n",
       "    }\n",
       "\n",
       "    .dataframe tbody tr th {\n",
       "        vertical-align: top;\n",
       "    }\n",
       "\n",
       "    .dataframe thead th {\n",
       "        text-align: right;\n",
       "    }\n",
       "</style>\n",
       "<table border=\"1\" class=\"dataframe\">\n",
       "  <thead>\n",
       "    <tr style=\"text-align: right;\">\n",
       "      <th></th>\n",
       "      <th>avg_power_demand_W</th>\n",
       "      <th>energy_demand_kWh</th>\n",
       "      <th>peak_power_W</th>\n",
       "      <th>day</th>\n",
       "      <th>month</th>\n",
       "    </tr>\n",
       "    <tr>\n",
       "      <th>time</th>\n",
       "      <th></th>\n",
       "      <th></th>\n",
       "      <th></th>\n",
       "      <th></th>\n",
       "      <th></th>\n",
       "    </tr>\n",
       "  </thead>\n",
       "  <tbody>\n",
       "    <tr>\n",
       "      <th>2020-11-05 10:00:00</th>\n",
       "      <td>879.000000</td>\n",
       "      <td>0.439500</td>\n",
       "      <td>879.0</td>\n",
       "      <td>Thursday</td>\n",
       "      <td>November</td>\n",
       "    </tr>\n",
       "    <tr>\n",
       "      <th>2020-11-05 11:00:00</th>\n",
       "      <td>879.000000</td>\n",
       "      <td>0.879000</td>\n",
       "      <td>879.0</td>\n",
       "      <td>Thursday</td>\n",
       "      <td>November</td>\n",
       "    </tr>\n",
       "    <tr>\n",
       "      <th>2020-11-05 12:00:00</th>\n",
       "      <td>879.000000</td>\n",
       "      <td>0.879000</td>\n",
       "      <td>879.0</td>\n",
       "      <td>Thursday</td>\n",
       "      <td>November</td>\n",
       "    </tr>\n",
       "    <tr>\n",
       "      <th>2020-11-05 13:00:00</th>\n",
       "      <td>879.000000</td>\n",
       "      <td>0.879000</td>\n",
       "      <td>879.0</td>\n",
       "      <td>Thursday</td>\n",
       "      <td>November</td>\n",
       "    </tr>\n",
       "    <tr>\n",
       "      <th>2020-11-05 14:00:00</th>\n",
       "      <td>293.000000</td>\n",
       "      <td>0.293000</td>\n",
       "      <td>879.0</td>\n",
       "      <td>Thursday</td>\n",
       "      <td>November</td>\n",
       "    </tr>\n",
       "    <tr>\n",
       "      <th>...</th>\n",
       "      <td>...</td>\n",
       "      <td>...</td>\n",
       "      <td>...</td>\n",
       "      <td>...</td>\n",
       "      <td>...</td>\n",
       "    </tr>\n",
       "    <tr>\n",
       "      <th>2023-04-27 08:00:00</th>\n",
       "      <td>0.000000</td>\n",
       "      <td>0.000000</td>\n",
       "      <td>0.0</td>\n",
       "      <td>Thursday</td>\n",
       "      <td>April</td>\n",
       "    </tr>\n",
       "    <tr>\n",
       "      <th>2023-04-27 09:00:00</th>\n",
       "      <td>0.000000</td>\n",
       "      <td>0.000000</td>\n",
       "      <td>0.0</td>\n",
       "      <td>Thursday</td>\n",
       "      <td>April</td>\n",
       "    </tr>\n",
       "    <tr>\n",
       "      <th>2023-04-27 10:00:00</th>\n",
       "      <td>2401.500000</td>\n",
       "      <td>2.401500</td>\n",
       "      <td>3202.0</td>\n",
       "      <td>Thursday</td>\n",
       "      <td>April</td>\n",
       "    </tr>\n",
       "    <tr>\n",
       "      <th>2023-04-27 11:00:00</th>\n",
       "      <td>5282.833333</td>\n",
       "      <td>5.282833</td>\n",
       "      <td>12602.0</td>\n",
       "      <td>Thursday</td>\n",
       "      <td>April</td>\n",
       "    </tr>\n",
       "    <tr>\n",
       "      <th>2023-04-27 12:00:00</th>\n",
       "      <td>20391.900000</td>\n",
       "      <td>16.993250</td>\n",
       "      <td>27203.0</td>\n",
       "      <td>Thursday</td>\n",
       "      <td>April</td>\n",
       "    </tr>\n",
       "  </tbody>\n",
       "</table>\n",
       "<p>21675 rows × 5 columns</p>\n",
       "</div>"
      ],
      "text/plain": [
       "                     avg_power_demand_W  energy_demand_kWh  peak_power_W  \\\n",
       "time                                                                       \n",
       "2020-11-05 10:00:00          879.000000           0.439500         879.0   \n",
       "2020-11-05 11:00:00          879.000000           0.879000         879.0   \n",
       "2020-11-05 12:00:00          879.000000           0.879000         879.0   \n",
       "2020-11-05 13:00:00          879.000000           0.879000         879.0   \n",
       "2020-11-05 14:00:00          293.000000           0.293000         879.0   \n",
       "...                                 ...                ...           ...   \n",
       "2023-04-27 08:00:00            0.000000           0.000000           0.0   \n",
       "2023-04-27 09:00:00            0.000000           0.000000           0.0   \n",
       "2023-04-27 10:00:00         2401.500000           2.401500        3202.0   \n",
       "2023-04-27 11:00:00         5282.833333           5.282833       12602.0   \n",
       "2023-04-27 12:00:00        20391.900000          16.993250       27203.0   \n",
       "\n",
       "                          day     month  \n",
       "time                                     \n",
       "2020-11-05 10:00:00  Thursday  November  \n",
       "2020-11-05 11:00:00  Thursday  November  \n",
       "2020-11-05 12:00:00  Thursday  November  \n",
       "2020-11-05 13:00:00  Thursday  November  \n",
       "2020-11-05 14:00:00  Thursday  November  \n",
       "...                       ...       ...  \n",
       "2023-04-27 08:00:00  Thursday     April  \n",
       "2023-04-27 09:00:00  Thursday     April  \n",
       "2023-04-27 10:00:00  Thursday     April  \n",
       "2023-04-27 11:00:00  Thursday     April  \n",
       "2023-04-27 12:00:00  Thursday     April  \n",
       "\n",
       "[21675 rows x 5 columns]"
      ]
     },
     "execution_count": 13,
     "metadata": {},
     "output_type": "execute_result"
    }
   ],
   "source": [
    "j = hourlydemand.to_json(date_format=\"iso\", orient=\"table\")\n",
    "j = pd.read_json(j, orient=\"table\")\n",
    "j"
   ]
  },
  {
   "cell_type": "code",
   "execution_count": 9,
   "id": "9ca4a98b",
   "metadata": {},
   "outputs": [
    {
     "data": {
      "text/plain": [
       "{'energy_demand_kWh': {'order': (2, 0, 1), 'seasonal_order': (0, 1, 2, 7)},\n",
       " 'peak_power_W': {'order': (1, 0, 0), 'seasonal_order': (0, 1, 2, 7)},\n",
       " 'avg_power_demand_W': {'order': (2, 0, 1), 'seasonal_order': (0, 1, 2, 7)}}"
      ]
     },
     "execution_count": 9,
     "metadata": {},
     "output_type": "execute_result"
    }
   ],
   "source": [
    "{'energy_demand_kWh': {\"order\":(2, 0, 1), \"seasonal_order\":(0, 1, 2, 7)},\n",
    " 'peak_power_W': {\"order\":(1, 0, 0), \"seasonal_order\":(0, 1, 2, 7)},\n",
    " 'avg_power_demand_W': {\"order\":(2, 0, 1), \"seasonal_order\":(0, 1, 2, 7)}\n",
    "}"
   ]
  },
  {
   "cell_type": "code",
   "execution_count": 10,
   "id": "e719b537",
   "metadata": {},
   "outputs": [
    {
     "data": {
      "text/plain": [
       "{'energy_demand_kWh': {'best_depth': 57, 'best_n_neighbors': 25},\n",
       " 'peak_power_W': {'best_depth': 57, 'best_n_neighbors': 23},\n",
       " 'avg_power_demand_W': {'best_depth': 57, 'best_n_neighbors': 25}}"
      ]
     },
     "execution_count": 10,
     "metadata": {},
     "output_type": "execute_result"
    }
   ],
   "source": [
    "{'energy_demand_kWh': {'best_depth': 57, 'best_n_neighbors': 25},\n",
    " 'peak_power_W': {'best_depth': 57, 'best_n_neighbors': 23},\n",
    " 'avg_power_demand_W': {'best_depth': 57, 'best_n_neighbors': 25}}"
   ]
  },
  {
   "cell_type": "code",
   "execution_count": 11,
   "id": "cd703b4f",
   "metadata": {},
   "outputs": [
    {
     "data": {
      "text/html": [
       "<div>\n",
       "<style scoped>\n",
       "    .dataframe tbody tr th:only-of-type {\n",
       "        vertical-align: middle;\n",
       "    }\n",
       "\n",
       "    .dataframe tbody tr th {\n",
       "        vertical-align: top;\n",
       "    }\n",
       "\n",
       "    .dataframe thead th {\n",
       "        text-align: right;\n",
       "    }\n",
       "</style>\n",
       "<table border=\"1\" class=\"dataframe\">\n",
       "  <thead>\n",
       "    <tr style=\"text-align: right;\">\n",
       "      <th></th>\n",
       "      <th>avg_power_demand_W</th>\n",
       "      <th>energy_demand_kWh</th>\n",
       "      <th>peak_power_W</th>\n",
       "      <th>day</th>\n",
       "      <th>month</th>\n",
       "    </tr>\n",
       "    <tr>\n",
       "      <th>time</th>\n",
       "      <th></th>\n",
       "      <th></th>\n",
       "      <th></th>\n",
       "      <th></th>\n",
       "      <th></th>\n",
       "    </tr>\n",
       "  </thead>\n",
       "  <tbody>\n",
       "    <tr>\n",
       "      <th>2020-11-06</th>\n",
       "      <td>0.000000</td>\n",
       "      <td>0.000000</td>\n",
       "      <td>0.0</td>\n",
       "      <td>Friday</td>\n",
       "      <td>November</td>\n",
       "    </tr>\n",
       "    <tr>\n",
       "      <th>2020-11-13</th>\n",
       "      <td>407.930556</td>\n",
       "      <td>9.790333</td>\n",
       "      <td>1277.0</td>\n",
       "      <td>Friday</td>\n",
       "      <td>November</td>\n",
       "    </tr>\n",
       "    <tr>\n",
       "      <th>2020-11-20</th>\n",
       "      <td>0.000000</td>\n",
       "      <td>0.000000</td>\n",
       "      <td>0.0</td>\n",
       "      <td>Friday</td>\n",
       "      <td>November</td>\n",
       "    </tr>\n",
       "    <tr>\n",
       "      <th>2020-11-27</th>\n",
       "      <td>0.000000</td>\n",
       "      <td>0.000000</td>\n",
       "      <td>0.0</td>\n",
       "      <td>Friday</td>\n",
       "      <td>November</td>\n",
       "    </tr>\n",
       "    <tr>\n",
       "      <th>2020-12-04</th>\n",
       "      <td>586.625000</td>\n",
       "      <td>14.079000</td>\n",
       "      <td>1482.0</td>\n",
       "      <td>Friday</td>\n",
       "      <td>December</td>\n",
       "    </tr>\n",
       "    <tr>\n",
       "      <th>...</th>\n",
       "      <td>...</td>\n",
       "      <td>...</td>\n",
       "      <td>...</td>\n",
       "      <td>...</td>\n",
       "      <td>...</td>\n",
       "    </tr>\n",
       "    <tr>\n",
       "      <th>2023-03-24</th>\n",
       "      <td>8251.256944</td>\n",
       "      <td>198.030167</td>\n",
       "      <td>36628.0</td>\n",
       "      <td>Friday</td>\n",
       "      <td>March</td>\n",
       "    </tr>\n",
       "    <tr>\n",
       "      <th>2023-03-31</th>\n",
       "      <td>751.975694</td>\n",
       "      <td>18.047417</td>\n",
       "      <td>12388.0</td>\n",
       "      <td>Friday</td>\n",
       "      <td>March</td>\n",
       "    </tr>\n",
       "    <tr>\n",
       "      <th>2023-04-07</th>\n",
       "      <td>6193.690972</td>\n",
       "      <td>148.648583</td>\n",
       "      <td>19607.0</td>\n",
       "      <td>Friday</td>\n",
       "      <td>April</td>\n",
       "    </tr>\n",
       "    <tr>\n",
       "      <th>2023-04-14</th>\n",
       "      <td>5319.187500</td>\n",
       "      <td>127.660500</td>\n",
       "      <td>12860.0</td>\n",
       "      <td>Friday</td>\n",
       "      <td>April</td>\n",
       "    </tr>\n",
       "    <tr>\n",
       "      <th>2023-04-21</th>\n",
       "      <td>2080.291667</td>\n",
       "      <td>49.927000</td>\n",
       "      <td>6302.0</td>\n",
       "      <td>Friday</td>\n",
       "      <td>April</td>\n",
       "    </tr>\n",
       "  </tbody>\n",
       "</table>\n",
       "<p>129 rows × 5 columns</p>\n",
       "</div>"
      ],
      "text/plain": [
       "            avg_power_demand_W  energy_demand_kWh  peak_power_W     day  \\\n",
       "time                                                                      \n",
       "2020-11-06            0.000000           0.000000           0.0  Friday   \n",
       "2020-11-13          407.930556           9.790333        1277.0  Friday   \n",
       "2020-11-20            0.000000           0.000000           0.0  Friday   \n",
       "2020-11-27            0.000000           0.000000           0.0  Friday   \n",
       "2020-12-04          586.625000          14.079000        1482.0  Friday   \n",
       "...                        ...                ...           ...     ...   \n",
       "2023-03-24         8251.256944         198.030167       36628.0  Friday   \n",
       "2023-03-31          751.975694          18.047417       12388.0  Friday   \n",
       "2023-04-07         6193.690972         148.648583       19607.0  Friday   \n",
       "2023-04-14         5319.187500         127.660500       12860.0  Friday   \n",
       "2023-04-21         2080.291667          49.927000        6302.0  Friday   \n",
       "\n",
       "               month  \n",
       "time                  \n",
       "2020-11-06  November  \n",
       "2020-11-13  November  \n",
       "2020-11-20  November  \n",
       "2020-11-27  November  \n",
       "2020-12-04  December  \n",
       "...              ...  \n",
       "2023-03-24     March  \n",
       "2023-03-31     March  \n",
       "2023-04-07     April  \n",
       "2023-04-14     April  \n",
       "2023-04-21     April  \n",
       "\n",
       "[129 rows x 5 columns]"
      ]
     },
     "execution_count": 11,
     "metadata": {},
     "output_type": "execute_result"
    }
   ],
   "source": [
    "df = dailydemand.loc[dailydemand[\"day\"] == \"Friday\"]\n",
    "df"
   ]
  },
  {
   "cell_type": "code",
   "execution_count": 12,
   "id": "f01fccdf",
   "metadata": {},
   "outputs": [
    {
     "data": {
      "application/vnd.plotly.v1+json": {
       "config": {
        "plotlyServerURL": "https://plot.ly"
       },
       "data": [
        {
         "alignmentgroup": "True",
         "bingroup": "x",
         "hovertemplate": "peak_power_W=%{x}<br>count=%{y}<extra></extra>",
         "legendgroup": "",
         "marker": {
          "color": "#636efa",
          "pattern": {
           "shape": ""
          }
         },
         "name": "",
         "offsetgroup": "",
         "orientation": "v",
         "showlegend": false,
         "type": "histogram",
         "x": [
          0,
          1277,
          0,
          0,
          1482,
          0,
          5561,
          0,
          0,
          6432,
          0,
          6406,
          3767,
          0,
          8403,
          6470,
          6458,
          14221,
          6007,
          6394,
          12551,
          6155,
          9501,
          8846,
          9829,
          6867,
          9194,
          5498,
          6468,
          5620,
          6446,
          9666,
          6422,
          27095,
          12596,
          13096,
          9763,
          12825,
          21006,
          7649,
          16391,
          14427,
          24607,
          23745,
          19697,
          16496,
          37207,
          13201,
          17213,
          30995,
          10785,
          29514,
          20810,
          19991,
          28216,
          6421,
          24965,
          30171,
          22652,
          0,
          6221,
          9922,
          7385,
          14664,
          12807,
          13342,
          14686,
          12173,
          12442,
          12681,
          5817,
          22061,
          10702,
          17747,
          18017,
          4217,
          0,
          3811,
          27265,
          12228,
          12253,
          12136,
          25662,
          13023,
          17301,
          10960,
          18470,
          5273,
          10482,
          8446,
          16748,
          12007,
          12157,
          8947,
          16523,
          11282,
          7108,
          6356,
          0,
          7082,
          12020,
          11472,
          16422,
          6382,
          6345,
          0,
          24546,
          0,
          0,
          14582,
          18505,
          3165,
          0,
          22717,
          19949,
          6107,
          24577,
          12083,
          25092,
          35685,
          18211,
          28177,
          17061,
          22434,
          36628,
          12388,
          19607,
          12860,
          6302
         ],
         "xaxis": "x",
         "yaxis": "y"
        }
       ],
       "layout": {
        "barmode": "relative",
        "legend": {
         "tracegroupgap": 0
        },
        "margin": {
         "t": 60
        },
        "template": {
         "data": {
          "bar": [
           {
            "error_x": {
             "color": "#2a3f5f"
            },
            "error_y": {
             "color": "#2a3f5f"
            },
            "marker": {
             "line": {
              "color": "#E5ECF6",
              "width": 0.5
             },
             "pattern": {
              "fillmode": "overlay",
              "size": 10,
              "solidity": 0.2
             }
            },
            "type": "bar"
           }
          ],
          "barpolar": [
           {
            "marker": {
             "line": {
              "color": "#E5ECF6",
              "width": 0.5
             },
             "pattern": {
              "fillmode": "overlay",
              "size": 10,
              "solidity": 0.2
             }
            },
            "type": "barpolar"
           }
          ],
          "carpet": [
           {
            "aaxis": {
             "endlinecolor": "#2a3f5f",
             "gridcolor": "white",
             "linecolor": "white",
             "minorgridcolor": "white",
             "startlinecolor": "#2a3f5f"
            },
            "baxis": {
             "endlinecolor": "#2a3f5f",
             "gridcolor": "white",
             "linecolor": "white",
             "minorgridcolor": "white",
             "startlinecolor": "#2a3f5f"
            },
            "type": "carpet"
           }
          ],
          "choropleth": [
           {
            "colorbar": {
             "outlinewidth": 0,
             "ticks": ""
            },
            "type": "choropleth"
           }
          ],
          "contour": [
           {
            "colorbar": {
             "outlinewidth": 0,
             "ticks": ""
            },
            "colorscale": [
             [
              0,
              "#0d0887"
             ],
             [
              0.1111111111111111,
              "#46039f"
             ],
             [
              0.2222222222222222,
              "#7201a8"
             ],
             [
              0.3333333333333333,
              "#9c179e"
             ],
             [
              0.4444444444444444,
              "#bd3786"
             ],
             [
              0.5555555555555556,
              "#d8576b"
             ],
             [
              0.6666666666666666,
              "#ed7953"
             ],
             [
              0.7777777777777778,
              "#fb9f3a"
             ],
             [
              0.8888888888888888,
              "#fdca26"
             ],
             [
              1,
              "#f0f921"
             ]
            ],
            "type": "contour"
           }
          ],
          "contourcarpet": [
           {
            "colorbar": {
             "outlinewidth": 0,
             "ticks": ""
            },
            "type": "contourcarpet"
           }
          ],
          "heatmap": [
           {
            "colorbar": {
             "outlinewidth": 0,
             "ticks": ""
            },
            "colorscale": [
             [
              0,
              "#0d0887"
             ],
             [
              0.1111111111111111,
              "#46039f"
             ],
             [
              0.2222222222222222,
              "#7201a8"
             ],
             [
              0.3333333333333333,
              "#9c179e"
             ],
             [
              0.4444444444444444,
              "#bd3786"
             ],
             [
              0.5555555555555556,
              "#d8576b"
             ],
             [
              0.6666666666666666,
              "#ed7953"
             ],
             [
              0.7777777777777778,
              "#fb9f3a"
             ],
             [
              0.8888888888888888,
              "#fdca26"
             ],
             [
              1,
              "#f0f921"
             ]
            ],
            "type": "heatmap"
           }
          ],
          "heatmapgl": [
           {
            "colorbar": {
             "outlinewidth": 0,
             "ticks": ""
            },
            "colorscale": [
             [
              0,
              "#0d0887"
             ],
             [
              0.1111111111111111,
              "#46039f"
             ],
             [
              0.2222222222222222,
              "#7201a8"
             ],
             [
              0.3333333333333333,
              "#9c179e"
             ],
             [
              0.4444444444444444,
              "#bd3786"
             ],
             [
              0.5555555555555556,
              "#d8576b"
             ],
             [
              0.6666666666666666,
              "#ed7953"
             ],
             [
              0.7777777777777778,
              "#fb9f3a"
             ],
             [
              0.8888888888888888,
              "#fdca26"
             ],
             [
              1,
              "#f0f921"
             ]
            ],
            "type": "heatmapgl"
           }
          ],
          "histogram": [
           {
            "marker": {
             "pattern": {
              "fillmode": "overlay",
              "size": 10,
              "solidity": 0.2
             }
            },
            "type": "histogram"
           }
          ],
          "histogram2d": [
           {
            "colorbar": {
             "outlinewidth": 0,
             "ticks": ""
            },
            "colorscale": [
             [
              0,
              "#0d0887"
             ],
             [
              0.1111111111111111,
              "#46039f"
             ],
             [
              0.2222222222222222,
              "#7201a8"
             ],
             [
              0.3333333333333333,
              "#9c179e"
             ],
             [
              0.4444444444444444,
              "#bd3786"
             ],
             [
              0.5555555555555556,
              "#d8576b"
             ],
             [
              0.6666666666666666,
              "#ed7953"
             ],
             [
              0.7777777777777778,
              "#fb9f3a"
             ],
             [
              0.8888888888888888,
              "#fdca26"
             ],
             [
              1,
              "#f0f921"
             ]
            ],
            "type": "histogram2d"
           }
          ],
          "histogram2dcontour": [
           {
            "colorbar": {
             "outlinewidth": 0,
             "ticks": ""
            },
            "colorscale": [
             [
              0,
              "#0d0887"
             ],
             [
              0.1111111111111111,
              "#46039f"
             ],
             [
              0.2222222222222222,
              "#7201a8"
             ],
             [
              0.3333333333333333,
              "#9c179e"
             ],
             [
              0.4444444444444444,
              "#bd3786"
             ],
             [
              0.5555555555555556,
              "#d8576b"
             ],
             [
              0.6666666666666666,
              "#ed7953"
             ],
             [
              0.7777777777777778,
              "#fb9f3a"
             ],
             [
              0.8888888888888888,
              "#fdca26"
             ],
             [
              1,
              "#f0f921"
             ]
            ],
            "type": "histogram2dcontour"
           }
          ],
          "mesh3d": [
           {
            "colorbar": {
             "outlinewidth": 0,
             "ticks": ""
            },
            "type": "mesh3d"
           }
          ],
          "parcoords": [
           {
            "line": {
             "colorbar": {
              "outlinewidth": 0,
              "ticks": ""
             }
            },
            "type": "parcoords"
           }
          ],
          "pie": [
           {
            "automargin": true,
            "type": "pie"
           }
          ],
          "scatter": [
           {
            "fillpattern": {
             "fillmode": "overlay",
             "size": 10,
             "solidity": 0.2
            },
            "type": "scatter"
           }
          ],
          "scatter3d": [
           {
            "line": {
             "colorbar": {
              "outlinewidth": 0,
              "ticks": ""
             }
            },
            "marker": {
             "colorbar": {
              "outlinewidth": 0,
              "ticks": ""
             }
            },
            "type": "scatter3d"
           }
          ],
          "scattercarpet": [
           {
            "marker": {
             "colorbar": {
              "outlinewidth": 0,
              "ticks": ""
             }
            },
            "type": "scattercarpet"
           }
          ],
          "scattergeo": [
           {
            "marker": {
             "colorbar": {
              "outlinewidth": 0,
              "ticks": ""
             }
            },
            "type": "scattergeo"
           }
          ],
          "scattergl": [
           {
            "marker": {
             "colorbar": {
              "outlinewidth": 0,
              "ticks": ""
             }
            },
            "type": "scattergl"
           }
          ],
          "scattermapbox": [
           {
            "marker": {
             "colorbar": {
              "outlinewidth": 0,
              "ticks": ""
             }
            },
            "type": "scattermapbox"
           }
          ],
          "scatterpolar": [
           {
            "marker": {
             "colorbar": {
              "outlinewidth": 0,
              "ticks": ""
             }
            },
            "type": "scatterpolar"
           }
          ],
          "scatterpolargl": [
           {
            "marker": {
             "colorbar": {
              "outlinewidth": 0,
              "ticks": ""
             }
            },
            "type": "scatterpolargl"
           }
          ],
          "scatterternary": [
           {
            "marker": {
             "colorbar": {
              "outlinewidth": 0,
              "ticks": ""
             }
            },
            "type": "scatterternary"
           }
          ],
          "surface": [
           {
            "colorbar": {
             "outlinewidth": 0,
             "ticks": ""
            },
            "colorscale": [
             [
              0,
              "#0d0887"
             ],
             [
              0.1111111111111111,
              "#46039f"
             ],
             [
              0.2222222222222222,
              "#7201a8"
             ],
             [
              0.3333333333333333,
              "#9c179e"
             ],
             [
              0.4444444444444444,
              "#bd3786"
             ],
             [
              0.5555555555555556,
              "#d8576b"
             ],
             [
              0.6666666666666666,
              "#ed7953"
             ],
             [
              0.7777777777777778,
              "#fb9f3a"
             ],
             [
              0.8888888888888888,
              "#fdca26"
             ],
             [
              1,
              "#f0f921"
             ]
            ],
            "type": "surface"
           }
          ],
          "table": [
           {
            "cells": {
             "fill": {
              "color": "#EBF0F8"
             },
             "line": {
              "color": "white"
             }
            },
            "header": {
             "fill": {
              "color": "#C8D4E3"
             },
             "line": {
              "color": "white"
             }
            },
            "type": "table"
           }
          ]
         },
         "layout": {
          "annotationdefaults": {
           "arrowcolor": "#2a3f5f",
           "arrowhead": 0,
           "arrowwidth": 1
          },
          "autotypenumbers": "strict",
          "coloraxis": {
           "colorbar": {
            "outlinewidth": 0,
            "ticks": ""
           }
          },
          "colorscale": {
           "diverging": [
            [
             0,
             "#8e0152"
            ],
            [
             0.1,
             "#c51b7d"
            ],
            [
             0.2,
             "#de77ae"
            ],
            [
             0.3,
             "#f1b6da"
            ],
            [
             0.4,
             "#fde0ef"
            ],
            [
             0.5,
             "#f7f7f7"
            ],
            [
             0.6,
             "#e6f5d0"
            ],
            [
             0.7,
             "#b8e186"
            ],
            [
             0.8,
             "#7fbc41"
            ],
            [
             0.9,
             "#4d9221"
            ],
            [
             1,
             "#276419"
            ]
           ],
           "sequential": [
            [
             0,
             "#0d0887"
            ],
            [
             0.1111111111111111,
             "#46039f"
            ],
            [
             0.2222222222222222,
             "#7201a8"
            ],
            [
             0.3333333333333333,
             "#9c179e"
            ],
            [
             0.4444444444444444,
             "#bd3786"
            ],
            [
             0.5555555555555556,
             "#d8576b"
            ],
            [
             0.6666666666666666,
             "#ed7953"
            ],
            [
             0.7777777777777778,
             "#fb9f3a"
            ],
            [
             0.8888888888888888,
             "#fdca26"
            ],
            [
             1,
             "#f0f921"
            ]
           ],
           "sequentialminus": [
            [
             0,
             "#0d0887"
            ],
            [
             0.1111111111111111,
             "#46039f"
            ],
            [
             0.2222222222222222,
             "#7201a8"
            ],
            [
             0.3333333333333333,
             "#9c179e"
            ],
            [
             0.4444444444444444,
             "#bd3786"
            ],
            [
             0.5555555555555556,
             "#d8576b"
            ],
            [
             0.6666666666666666,
             "#ed7953"
            ],
            [
             0.7777777777777778,
             "#fb9f3a"
            ],
            [
             0.8888888888888888,
             "#fdca26"
            ],
            [
             1,
             "#f0f921"
            ]
           ]
          },
          "colorway": [
           "#636efa",
           "#EF553B",
           "#00cc96",
           "#ab63fa",
           "#FFA15A",
           "#19d3f3",
           "#FF6692",
           "#B6E880",
           "#FF97FF",
           "#FECB52"
          ],
          "font": {
           "color": "#2a3f5f"
          },
          "geo": {
           "bgcolor": "white",
           "lakecolor": "white",
           "landcolor": "#E5ECF6",
           "showlakes": true,
           "showland": true,
           "subunitcolor": "white"
          },
          "hoverlabel": {
           "align": "left"
          },
          "hovermode": "closest",
          "mapbox": {
           "style": "light"
          },
          "paper_bgcolor": "white",
          "plot_bgcolor": "#E5ECF6",
          "polar": {
           "angularaxis": {
            "gridcolor": "white",
            "linecolor": "white",
            "ticks": ""
           },
           "bgcolor": "#E5ECF6",
           "radialaxis": {
            "gridcolor": "white",
            "linecolor": "white",
            "ticks": ""
           }
          },
          "scene": {
           "xaxis": {
            "backgroundcolor": "#E5ECF6",
            "gridcolor": "white",
            "gridwidth": 2,
            "linecolor": "white",
            "showbackground": true,
            "ticks": "",
            "zerolinecolor": "white"
           },
           "yaxis": {
            "backgroundcolor": "#E5ECF6",
            "gridcolor": "white",
            "gridwidth": 2,
            "linecolor": "white",
            "showbackground": true,
            "ticks": "",
            "zerolinecolor": "white"
           },
           "zaxis": {
            "backgroundcolor": "#E5ECF6",
            "gridcolor": "white",
            "gridwidth": 2,
            "linecolor": "white",
            "showbackground": true,
            "ticks": "",
            "zerolinecolor": "white"
           }
          },
          "shapedefaults": {
           "line": {
            "color": "#2a3f5f"
           }
          },
          "ternary": {
           "aaxis": {
            "gridcolor": "white",
            "linecolor": "white",
            "ticks": ""
           },
           "baxis": {
            "gridcolor": "white",
            "linecolor": "white",
            "ticks": ""
           },
           "bgcolor": "#E5ECF6",
           "caxis": {
            "gridcolor": "white",
            "linecolor": "white",
            "ticks": ""
           }
          },
          "title": {
           "x": 0.05
          },
          "xaxis": {
           "automargin": true,
           "gridcolor": "white",
           "linecolor": "white",
           "ticks": "",
           "title": {
            "standoff": 15
           },
           "zerolinecolor": "white",
           "zerolinewidth": 2
          },
          "yaxis": {
           "automargin": true,
           "gridcolor": "white",
           "linecolor": "white",
           "ticks": "",
           "title": {
            "standoff": 15
           },
           "zerolinecolor": "white",
           "zerolinewidth": 2
          }
         }
        },
        "xaxis": {
         "anchor": "y",
         "domain": [
          0,
          1
         ],
         "title": {
          "text": "peak_power_W"
         }
        },
        "yaxis": {
         "anchor": "x",
         "domain": [
          0,
          1
         ],
         "title": {
          "text": "count"
         }
        }
       }
      }
     },
     "metadata": {},
     "output_type": "display_data"
    }
   ],
   "source": [
    "px.histogram(df, x=\"peak_power_W\")"
   ]
  },
  {
   "cell_type": "code",
   "execution_count": null,
   "id": "bacd57bc",
   "metadata": {},
   "outputs": [],
   "source": []
  }
 ],
 "metadata": {
  "kernelspec": {
   "display_name": "base",
   "language": "python",
   "name": "python3"
  },
  "language_info": {
   "codemirror_mode": {
    "name": "ipython",
    "version": 3
   },
   "file_extension": ".py",
   "mimetype": "text/x-python",
   "name": "python",
   "nbconvert_exporter": "python",
   "pygments_lexer": "ipython3",
   "version": "3.10.9"
  },
  "vscode": {
   "interpreter": {
    "hash": "475dd3d8de922d6629668699edf7da91807dd0e731d2ca4abf0ed1b52cb8d54e"
   }
  }
 },
 "nbformat": 4,
 "nbformat_minor": 5
}
