{
 "cells": [
  {
   "cell_type": "code",
   "execution_count": 2,
   "id": "092882a5-2bf2-4b69-ac42-0b7e845850c5",
   "metadata": {},
   "outputs": [],
   "source": [
    "import pandas as pd \n",
    "from sklearn.pipeline import Pipeline\n",
    "from datacleaning.FetchData import FetchData\n",
    "from datacleaning.CleanData import CleanData\n",
    "from datetime import datetime\n",
    "import plotly.express as px\n",
    "\n",
    "pd.set_option(\"display.max_columns\", 100)"
   ]
  },
  {
   "cell_type": "code",
   "execution_count": 3,
   "id": "0310af50-144d-4f98-ba91-b0d3e2edbb7a",
   "metadata": {
    "tags": []
   },
   "outputs": [],
   "source": [
    "FetchData.scan_save_all_records()\n",
    "CleanData.clean_save_raw_data()"
   ]
  },
  {
   "cell_type": "code",
   "execution_count": 39,
   "id": "34178d50",
   "metadata": {},
   "outputs": [],
   "source": [
    "from sklearn.base import BaseEstimator, TransformerMixin\n",
    "from datetime import datetime\n",
    "import pandas as pd \n",
    "import numpy as np \n",
    "\n",
    "\n",
    "class SortDropCast(BaseEstimator, TransformerMixin):\n",
    "    \"\"\"\n",
    "    This pipeline step will sort values by field \"connectTime\",\n",
    "    drop columns \"user_email\", \"slrpPaymentId\", \n",
    "    and cast columns \"cumEnergy_Wh\", \"peakPower_W\" as float values. \n",
    "    \"connectTime\" will be converted into pd_datetime like.\n",
    "    \"\"\"\n",
    "    def fit(self, X, y=None):\n",
    "        return self\n",
    "\n",
    "    @staticmethod\n",
    "    def transform(X) -> pd.DataFrame:\n",
    "        now = datetime.now().strftime('%D')\n",
    "        X = X.sort_values(by=\"connectTime\").drop(columns=[\"user_email\", \"slrpPaymentId\"]).reset_index(drop=True)\n",
    "        X[\"connectTime\"] = pd.to_datetime(X[\"connectTime\"])\n",
    "        X[\"cumEnergy_Wh\"] = X[\"cumEnergy_Wh\"].astype(float)\n",
    "        X[\"peakPower_W\"] = X[\"peakPower_W\"].astype(float)\n",
    "        X = X[X[\"connectTime\"] >= now]\n",
    "        return X\n",
    "\n",
    "\n",
    "class HelperFeatureCreation(BaseEstimator, TransformerMixin):\n",
    "    \"\"\"\n",
    "    This pipeline step will drop any records that contain 0 for \n",
    "    \"peakPower_W\" or \"cumEnergy_Wh\". Two additional columns will be created:\n",
    "    \"reqChargeTime\" and \"finishChargeTime\".\n",
    "    \"\"\"\n",
    "    def fit(self, X, y=None):\n",
    "        return self\n",
    "\n",
    "    @staticmethod\n",
    "    def transform(X) -> pd.DataFrame:\n",
    "        X = X.loc[(X[\"peakPower_W\"] != 0) & (X[\"cumEnergy_Wh\"] != 0)]\n",
    "        X = X.assign(reqChargeTime_h=(X[\"cumEnergy_Wh\"] / X[\"peakPower_W\"]))\n",
    "        X = X.assign(connectTime=(pd.to_datetime(X[\"connectTime\"])))\n",
    "        X = X.assign(\n",
    "            finishChargeTime=(X[\"connectTime\"] + pd.to_timedelta(X['reqChargeTime_h'], unit='hours').round(\"s\"))\n",
    "        )\n",
    "        return X \n",
    "\n",
    "\n",
    "class CreateNestedSessionTimeSeries(BaseEstimator, TransformerMixin):\n",
    "    \"\"\"\n",
    "    This pipeline step will create a time series for each session. Two new columns will be created, \n",
    "    \"time_vals\" and \"power_vals\", respective lists for a time and power demand. \"time_vals\" are rounded to the \n",
    "    closest 5 min. \n",
    "    \"\"\" \n",
    "    def __init__(self) -> None:\n",
    "        super().__init__()\n",
    "    \n",
    "    def fit(self, X, y=None):\n",
    "        return self \n",
    "\n",
    "    def transform(self, X) -> pd.DataFrame:\n",
    "        self.ts_df = pd.DataFrame(columns=[\"time_vals\", \"power_vals\"])\n",
    "        X.apply(self.__create_ts, axis=1)\n",
    "        X = pd.concat([X.reset_index(), self.ts_df], axis=1)\n",
    "        X = X.explode([\"time_vals\", \"power_vals\"])\n",
    "        X[\"userId\"] = X[\"userId\"].astype(str)\n",
    "        return X\n",
    "\n",
    "    def __create_ts(self, session):\n",
    "\n",
    "        date_range = pd.date_range(start=session[\"connectTime\"], end=session[\"finishChargeTime\"], freq=\"5min\").to_list()\n",
    "        power_vals = np.ones(len(date_range)) * session[\"peakPower_W\"]\n",
    "        \n",
    "        now = session[\"connectTime\"].strftime('%D')\n",
    "        temp_df = pd.DataFrame({\"power\":power_vals}, index=date_range).resample(\"5min\").sum().reindex(index = pd.period_range(now, periods=288, freq='5min').to_timestamp(), fill_value=0)\n",
    "        \n",
    "        date_range = temp_df.index.to_list()\n",
    "        power_vals = temp_df[\"power\"].to_list()\n",
    "\n",
    "        temp_df = pd.DataFrame([[date_range, power_vals]], columns=self.ts_df.columns)\n",
    "        \n",
    "        self.ts_df = pd.concat([self.ts_df, temp_df], ignore_index=True)\n"
   ]
  },
  {
   "cell_type": "code",
   "execution_count": 40,
   "id": "2bb7082f",
   "metadata": {},
   "outputs": [
    {
     "data": {
      "text/html": [
       "<div>\n",
       "<style scoped>\n",
       "    .dataframe tbody tr th:only-of-type {\n",
       "        vertical-align: middle;\n",
       "    }\n",
       "\n",
       "    .dataframe tbody tr th {\n",
       "        vertical-align: top;\n",
       "    }\n",
       "\n",
       "    .dataframe thead th {\n",
       "        text-align: right;\n",
       "    }\n",
       "</style>\n",
       "<table border=\"1\" class=\"dataframe\">\n",
       "  <thead>\n",
       "    <tr style=\"text-align: right;\">\n",
       "      <th></th>\n",
       "      <th>Unnamed: 0</th>\n",
       "      <th>vehicle_maxChgRate_W</th>\n",
       "      <th>peakPower_W</th>\n",
       "      <th>sch_centsPerHr</th>\n",
       "      <th>connectTime</th>\n",
       "      <th>user_email</th>\n",
       "      <th>vehicle_model</th>\n",
       "      <th>Duration</th>\n",
       "      <th>userId</th>\n",
       "      <th>regular</th>\n",
       "      <th>Deadline</th>\n",
       "      <th>startChargeTime</th>\n",
       "      <th>sch_centsPerOverstayHr</th>\n",
       "      <th>sch_centsPerKwh</th>\n",
       "      <th>choice</th>\n",
       "      <th>siteId</th>\n",
       "      <th>estCost</th>\n",
       "      <th>slrpPaymentId</th>\n",
       "      <th>DurationHrs</th>\n",
       "      <th>dcosId</th>\n",
       "      <th>lastUpdate</th>\n",
       "      <th>energyReq_Wh</th>\n",
       "      <th>power</th>\n",
       "      <th>stationId</th>\n",
       "      <th>defaultDeadline</th>\n",
       "      <th>scheduled</th>\n",
       "      <th>cumEnergy_Wh</th>\n",
       "      <th>reg_centsPerHr</th>\n",
       "    </tr>\n",
       "  </thead>\n",
       "  <tbody>\n",
       "    <tr>\n",
       "      <th>0</th>\n",
       "      <td>0</td>\n",
       "      <td>8800</td>\n",
       "      <td>3380</td>\n",
       "      <td>150.0</td>\n",
       "      <td>2022-01-07T06:23:52</td>\n",
       "      <td>lamartell@berkeley.edu</td>\n",
       "      <td>Prius Prime</td>\n",
       "      <td>0 days 01:40:50</td>\n",
       "      <td>603</td>\n",
       "      <td>0</td>\n",
       "      <td>2022-01-07T08:15:00</td>\n",
       "      <td>2022-01-07T06:24:19</td>\n",
       "      <td>500.0</td>\n",
       "      <td>0.0</td>\n",
       "      <td>SCHEDULED</td>\n",
       "      <td>25</td>\n",
       "      <td>3.26708</td>\n",
       "      <td>8021073541d47f523b5c018e82e34477ef6fc0f04610cd...</td>\n",
       "      <td>1.68055</td>\n",
       "      <td>1838</td>\n",
       "      <td>2022-01-07T08:05:09</td>\n",
       "      <td>8800.0</td>\n",
       "      <td>[{'power_W': Decimal('1229'), 'timestamp': Dec...</td>\n",
       "      <td>12</td>\n",
       "      <td>2022-01-07T08:15:00</td>\n",
       "      <td>1</td>\n",
       "      <td>4214</td>\n",
       "      <td>200.0</td>\n",
       "    </tr>\n",
       "    <tr>\n",
       "      <th>1</th>\n",
       "      <td>1</td>\n",
       "      <td>6600</td>\n",
       "      <td>6563</td>\n",
       "      <td>250.0</td>\n",
       "      <td>2022-10-20T10:16:13</td>\n",
       "      <td>erfanm@berkeley.edu</td>\n",
       "      <td>Clarity PHEV</td>\n",
       "      <td>0 days 01:53:35</td>\n",
       "      <td>793</td>\n",
       "      <td>1</td>\n",
       "      <td>NaN</td>\n",
       "      <td>2022-10-20T10:16:33</td>\n",
       "      <td>400.0</td>\n",
       "      <td>0.0</td>\n",
       "      <td>REGULAR</td>\n",
       "      <td>25</td>\n",
       "      <td>3.09348</td>\n",
       "      <td>46fd620dfb0f65509d36c93ced73d167268ade266ecb18...</td>\n",
       "      <td>1.89305</td>\n",
       "      <td>3416</td>\n",
       "      <td>2022-10-20T12:10:08</td>\n",
       "      <td>NaN</td>\n",
       "      <td>[{'power_W': Decimal('6563'), 'timestamp': Dec...</td>\n",
       "      <td>17</td>\n",
       "      <td>2022-10-20T15:30:00</td>\n",
       "      <td>0</td>\n",
       "      <td>11724</td>\n",
       "      <td>137.0</td>\n",
       "    </tr>\n",
       "    <tr>\n",
       "      <th>2</th>\n",
       "      <td>2</td>\n",
       "      <td>170000</td>\n",
       "      <td>6822</td>\n",
       "      <td>250.0</td>\n",
       "      <td>2023-02-02T22:08:40</td>\n",
       "      <td>amehregan@berkeley.edu</td>\n",
       "      <td>Model 3</td>\n",
       "      <td>0 days 00:56:17</td>\n",
       "      <td>902</td>\n",
       "      <td>1</td>\n",
       "      <td>NaN</td>\n",
       "      <td>2023-02-02T22:08:51</td>\n",
       "      <td>400.0</td>\n",
       "      <td>0.0</td>\n",
       "      <td>REGULAR</td>\n",
       "      <td>25</td>\n",
       "      <td>1.78513</td>\n",
       "      <td>40aa08c906ce9403a383ba4142ad4784d6af32df1e3dd4...</td>\n",
       "      <td>0.93805</td>\n",
       "      <td>4119</td>\n",
       "      <td>2023-02-02T23:05:08</td>\n",
       "      <td>NaN</td>\n",
       "      <td>[{'power_W': Decimal('6822'), 'timestamp': Dec...</td>\n",
       "      <td>11</td>\n",
       "      <td>2023-02-03T12:00:00</td>\n",
       "      <td>0</td>\n",
       "      <td>6050</td>\n",
       "      <td>137.0</td>\n",
       "    </tr>\n",
       "    <tr>\n",
       "      <th>3</th>\n",
       "      <td>3</td>\n",
       "      <td>3600</td>\n",
       "      <td>3442</td>\n",
       "      <td>142.0</td>\n",
       "      <td>2022-03-22T15:39:06</td>\n",
       "      <td>nthaman@berkeley.edu</td>\n",
       "      <td>Volt</td>\n",
       "      <td>0 days 04:26:19</td>\n",
       "      <td>804</td>\n",
       "      <td>1</td>\n",
       "      <td>NaN</td>\n",
       "      <td>2022-03-23T10:03:50</td>\n",
       "      <td>400.0</td>\n",
       "      <td>0.0</td>\n",
       "      <td>REGULAR</td>\n",
       "      <td>25</td>\n",
       "      <td>6.22580</td>\n",
       "      <td>1178d775901330553b8f1002dbfd65fc96e0a35a9a22e8...</td>\n",
       "      <td>4.43861</td>\n",
       "      <td>2289</td>\n",
       "      <td>2022-03-23T14:30:09</td>\n",
       "      <td>NaN</td>\n",
       "      <td>[{'power_W': Decimal('0'), 'timestamp': Decima...</td>\n",
       "      <td>16</td>\n",
       "      <td>2022-03-23T15:45:00</td>\n",
       "      <td>0</td>\n",
       "      <td>14529</td>\n",
       "      <td>129.0</td>\n",
       "    </tr>\n",
       "    <tr>\n",
       "      <th>4</th>\n",
       "      <td>4</td>\n",
       "      <td>170000</td>\n",
       "      <td>5170</td>\n",
       "      <td>250.0</td>\n",
       "      <td>2022-06-24T09:57:06</td>\n",
       "      <td>scott.moura@gmail.com</td>\n",
       "      <td>Model 3</td>\n",
       "      <td>0 days 06:37:26</td>\n",
       "      <td>615</td>\n",
       "      <td>1</td>\n",
       "      <td>NaN</td>\n",
       "      <td>2022-06-24T09:57:41</td>\n",
       "      <td>400.0</td>\n",
       "      <td>0.0</td>\n",
       "      <td>REGULAR</td>\n",
       "      <td>25</td>\n",
       "      <td>9.57472</td>\n",
       "      <td>677481c9cf67f6563f944c9e44357b5e4a30925ef8a0b7...</td>\n",
       "      <td>6.62388</td>\n",
       "      <td>2733</td>\n",
       "      <td>2022-06-24T16:35:07</td>\n",
       "      <td>NaN</td>\n",
       "      <td>[{'power_W': Decimal('0'), 'timestamp': Decima...</td>\n",
       "      <td>16</td>\n",
       "      <td>2022-06-24T21:30:00</td>\n",
       "      <td>0</td>\n",
       "      <td>34904</td>\n",
       "      <td>137.0</td>\n",
       "    </tr>\n",
       "    <tr>\n",
       "      <th>...</th>\n",
       "      <td>...</td>\n",
       "      <td>...</td>\n",
       "      <td>...</td>\n",
       "      <td>...</td>\n",
       "      <td>...</td>\n",
       "      <td>...</td>\n",
       "      <td>...</td>\n",
       "      <td>...</td>\n",
       "      <td>...</td>\n",
       "      <td>...</td>\n",
       "      <td>...</td>\n",
       "      <td>...</td>\n",
       "      <td>...</td>\n",
       "      <td>...</td>\n",
       "      <td>...</td>\n",
       "      <td>...</td>\n",
       "      <td>...</td>\n",
       "      <td>...</td>\n",
       "      <td>...</td>\n",
       "      <td>...</td>\n",
       "      <td>...</td>\n",
       "      <td>...</td>\n",
       "      <td>...</td>\n",
       "      <td>...</td>\n",
       "      <td>...</td>\n",
       "      <td>...</td>\n",
       "      <td>...</td>\n",
       "      <td>...</td>\n",
       "    </tr>\n",
       "    <tr>\n",
       "      <th>2996</th>\n",
       "      <td>2996</td>\n",
       "      <td>50000</td>\n",
       "      <td>919</td>\n",
       "      <td>250.0</td>\n",
       "      <td>2022-10-06T06:44:58</td>\n",
       "      <td>k.moua@berkeley.edu</td>\n",
       "      <td>Ioniq Electric</td>\n",
       "      <td>0 days 02:35:05</td>\n",
       "      <td>964</td>\n",
       "      <td>1</td>\n",
       "      <td>NaN</td>\n",
       "      <td>2022-10-06T06:45:09</td>\n",
       "      <td>400.0</td>\n",
       "      <td>0.0</td>\n",
       "      <td>REGULAR</td>\n",
       "      <td>25</td>\n",
       "      <td>4.14445</td>\n",
       "      <td>54e801e6c08028f3ca182e3f9d7d6807d0cbcb7823aefe...</td>\n",
       "      <td>2.58472</td>\n",
       "      <td>3294</td>\n",
       "      <td>2022-10-06T09:20:14</td>\n",
       "      <td>NaN</td>\n",
       "      <td>[{'power_W': Decimal('919'), 'timestamp': Deci...</td>\n",
       "      <td>16</td>\n",
       "      <td>2022-10-06T20:00:00</td>\n",
       "      <td>0</td>\n",
       "      <td>15757</td>\n",
       "      <td>141.0</td>\n",
       "    </tr>\n",
       "    <tr>\n",
       "      <th>2997</th>\n",
       "      <td>2997</td>\n",
       "      <td>4500</td>\n",
       "      <td>3833</td>\n",
       "      <td>NaN</td>\n",
       "      <td>2022-10-13T09:08:19</td>\n",
       "      <td>lauryn.holloway@berkeley.edu</td>\n",
       "      <td>Model 3</td>\n",
       "      <td>0 days 07:11:45</td>\n",
       "      <td>1126</td>\n",
       "      <td>1</td>\n",
       "      <td>NaN</td>\n",
       "      <td>2022-10-13T09:08:29</td>\n",
       "      <td>NaN</td>\n",
       "      <td>NaN</td>\n",
       "      <td>REGULAR</td>\n",
       "      <td>25</td>\n",
       "      <td>NaN</td>\n",
       "      <td>NaN</td>\n",
       "      <td>7.19583</td>\n",
       "      <td>3345</td>\n",
       "      <td>2022-10-13T16:20:14</td>\n",
       "      <td>NaN</td>\n",
       "      <td>[{'power_W': Decimal('3833'), 'timestamp': Dec...</td>\n",
       "      <td>12</td>\n",
       "      <td>2022-10-13T16:45:00</td>\n",
       "      <td>0</td>\n",
       "      <td>42029</td>\n",
       "      <td>NaN</td>\n",
       "    </tr>\n",
       "    <tr>\n",
       "      <th>2998</th>\n",
       "      <td>2998</td>\n",
       "      <td>3600</td>\n",
       "      <td>3444</td>\n",
       "      <td>50.0</td>\n",
       "      <td>2021-10-14T10:09:45</td>\n",
       "      <td>nthaman@berkeley.edu</td>\n",
       "      <td>Volt</td>\n",
       "      <td>0 days 05:09:48</td>\n",
       "      <td>804</td>\n",
       "      <td>0</td>\n",
       "      <td>2021-10-14T15:30:00</td>\n",
       "      <td>2021-10-14T10:10:20</td>\n",
       "      <td>400.0</td>\n",
       "      <td>0.0</td>\n",
       "      <td>SCHEDULED</td>\n",
       "      <td>25</td>\n",
       "      <td>3.16388</td>\n",
       "      <td>ac7de5785d27bc48d3bb03170daa36b047f3ebbe26cef5...</td>\n",
       "      <td>5.16333</td>\n",
       "      <td>1209</td>\n",
       "      <td>2021-10-14T15:20:08</td>\n",
       "      <td>18400.0</td>\n",
       "      <td>[{'power_W': Decimal('3443'), 'timestamp': Dec...</td>\n",
       "      <td>18</td>\n",
       "      <td>2021-10-14T15:15:00</td>\n",
       "      <td>1</td>\n",
       "      <td>15281</td>\n",
       "      <td>200.0</td>\n",
       "    </tr>\n",
       "    <tr>\n",
       "      <th>2999</th>\n",
       "      <td>2999</td>\n",
       "      <td>4250</td>\n",
       "      <td>3239</td>\n",
       "      <td>127.0</td>\n",
       "      <td>2022-06-04T21:32:12</td>\n",
       "      <td>mwhitwill107@berkeley.edu</td>\n",
       "      <td>Volt</td>\n",
       "      <td>0 days 00:47:04</td>\n",
       "      <td>1154</td>\n",
       "      <td>0</td>\n",
       "      <td>2022-06-05T09:15:00</td>\n",
       "      <td>2022-06-04T21:33:03</td>\n",
       "      <td>400.0</td>\n",
       "      <td>0.0</td>\n",
       "      <td>SCHEDULED</td>\n",
       "      <td>25</td>\n",
       "      <td>15.35794</td>\n",
       "      <td>951bdeaba187978cfbda3f45e5d958c39f37b47b68d0f8...</td>\n",
       "      <td>0.78444</td>\n",
       "      <td>2648</td>\n",
       "      <td>2022-06-04T22:20:07</td>\n",
       "      <td>16500.0</td>\n",
       "      <td>[{'power_W': Decimal('1936'), 'timestamp': Dec...</td>\n",
       "      <td>11</td>\n",
       "      <td>2022-06-05T02:00:00</td>\n",
       "      <td>1</td>\n",
       "      <td>2390</td>\n",
       "      <td>145.0</td>\n",
       "    </tr>\n",
       "    <tr>\n",
       "      <th>3000</th>\n",
       "      <td>3000</td>\n",
       "      <td>6600</td>\n",
       "      <td>6163</td>\n",
       "      <td>213.0</td>\n",
       "      <td>2022-04-08T11:59:04</td>\n",
       "      <td>erfanm@berkeley.edu</td>\n",
       "      <td>Clarity PHEV</td>\n",
       "      <td>0 days 00:50:52</td>\n",
       "      <td>793</td>\n",
       "      <td>1</td>\n",
       "      <td>NaN</td>\n",
       "      <td>2022-04-08T11:59:16</td>\n",
       "      <td>400.0</td>\n",
       "      <td>0.0</td>\n",
       "      <td>REGULAR</td>\n",
       "      <td>25</td>\n",
       "      <td>2.42445</td>\n",
       "      <td>893ebf586216e667ea781d879e9753819c51c0d7a71a35...</td>\n",
       "      <td>0.84777</td>\n",
       "      <td>2388</td>\n",
       "      <td>2022-04-08T12:50:08</td>\n",
       "      <td>NaN</td>\n",
       "      <td>[{'power_W': Decimal('3245'), 'timestamp': Dec...</td>\n",
       "      <td>13</td>\n",
       "      <td>2022-04-08T15:30:00</td>\n",
       "      <td>0</td>\n",
       "      <td>4916</td>\n",
       "      <td>227.0</td>\n",
       "    </tr>\n",
       "  </tbody>\n",
       "</table>\n",
       "<p>3001 rows × 28 columns</p>\n",
       "</div>"
      ],
      "text/plain": [
       "      Unnamed: 0  vehicle_maxChgRate_W  peakPower_W  sch_centsPerHr  \\\n",
       "0              0                  8800         3380           150.0   \n",
       "1              1                  6600         6563           250.0   \n",
       "2              2                170000         6822           250.0   \n",
       "3              3                  3600         3442           142.0   \n",
       "4              4                170000         5170           250.0   \n",
       "...          ...                   ...          ...             ...   \n",
       "2996        2996                 50000          919           250.0   \n",
       "2997        2997                  4500         3833             NaN   \n",
       "2998        2998                  3600         3444            50.0   \n",
       "2999        2999                  4250         3239           127.0   \n",
       "3000        3000                  6600         6163           213.0   \n",
       "\n",
       "              connectTime                    user_email   vehicle_model  \\\n",
       "0     2022-01-07T06:23:52        lamartell@berkeley.edu     Prius Prime   \n",
       "1     2022-10-20T10:16:13           erfanm@berkeley.edu    Clarity PHEV   \n",
       "2     2023-02-02T22:08:40        amehregan@berkeley.edu         Model 3   \n",
       "3     2022-03-22T15:39:06          nthaman@berkeley.edu            Volt   \n",
       "4     2022-06-24T09:57:06         scott.moura@gmail.com         Model 3   \n",
       "...                   ...                           ...             ...   \n",
       "2996  2022-10-06T06:44:58           k.moua@berkeley.edu  Ioniq Electric   \n",
       "2997  2022-10-13T09:08:19  lauryn.holloway@berkeley.edu         Model 3   \n",
       "2998  2021-10-14T10:09:45          nthaman@berkeley.edu            Volt   \n",
       "2999  2022-06-04T21:32:12     mwhitwill107@berkeley.edu            Volt   \n",
       "3000  2022-04-08T11:59:04           erfanm@berkeley.edu    Clarity PHEV   \n",
       "\n",
       "             Duration  userId  regular             Deadline  \\\n",
       "0     0 days 01:40:50     603        0  2022-01-07T08:15:00   \n",
       "1     0 days 01:53:35     793        1                  NaN   \n",
       "2     0 days 00:56:17     902        1                  NaN   \n",
       "3     0 days 04:26:19     804        1                  NaN   \n",
       "4     0 days 06:37:26     615        1                  NaN   \n",
       "...               ...     ...      ...                  ...   \n",
       "2996  0 days 02:35:05     964        1                  NaN   \n",
       "2997  0 days 07:11:45    1126        1                  NaN   \n",
       "2998  0 days 05:09:48     804        0  2021-10-14T15:30:00   \n",
       "2999  0 days 00:47:04    1154        0  2022-06-05T09:15:00   \n",
       "3000  0 days 00:50:52     793        1                  NaN   \n",
       "\n",
       "          startChargeTime  sch_centsPerOverstayHr  sch_centsPerKwh     choice  \\\n",
       "0     2022-01-07T06:24:19                   500.0              0.0  SCHEDULED   \n",
       "1     2022-10-20T10:16:33                   400.0              0.0    REGULAR   \n",
       "2     2023-02-02T22:08:51                   400.0              0.0    REGULAR   \n",
       "3     2022-03-23T10:03:50                   400.0              0.0    REGULAR   \n",
       "4     2022-06-24T09:57:41                   400.0              0.0    REGULAR   \n",
       "...                   ...                     ...              ...        ...   \n",
       "2996  2022-10-06T06:45:09                   400.0              0.0    REGULAR   \n",
       "2997  2022-10-13T09:08:29                     NaN              NaN    REGULAR   \n",
       "2998  2021-10-14T10:10:20                   400.0              0.0  SCHEDULED   \n",
       "2999  2022-06-04T21:33:03                   400.0              0.0  SCHEDULED   \n",
       "3000  2022-04-08T11:59:16                   400.0              0.0    REGULAR   \n",
       "\n",
       "      siteId   estCost                                      slrpPaymentId  \\\n",
       "0         25   3.26708  8021073541d47f523b5c018e82e34477ef6fc0f04610cd...   \n",
       "1         25   3.09348  46fd620dfb0f65509d36c93ced73d167268ade266ecb18...   \n",
       "2         25   1.78513  40aa08c906ce9403a383ba4142ad4784d6af32df1e3dd4...   \n",
       "3         25   6.22580  1178d775901330553b8f1002dbfd65fc96e0a35a9a22e8...   \n",
       "4         25   9.57472  677481c9cf67f6563f944c9e44357b5e4a30925ef8a0b7...   \n",
       "...      ...       ...                                                ...   \n",
       "2996      25   4.14445  54e801e6c08028f3ca182e3f9d7d6807d0cbcb7823aefe...   \n",
       "2997      25       NaN                                                NaN   \n",
       "2998      25   3.16388  ac7de5785d27bc48d3bb03170daa36b047f3ebbe26cef5...   \n",
       "2999      25  15.35794  951bdeaba187978cfbda3f45e5d958c39f37b47b68d0f8...   \n",
       "3000      25   2.42445  893ebf586216e667ea781d879e9753819c51c0d7a71a35...   \n",
       "\n",
       "      DurationHrs  dcosId           lastUpdate  energyReq_Wh  \\\n",
       "0         1.68055    1838  2022-01-07T08:05:09        8800.0   \n",
       "1         1.89305    3416  2022-10-20T12:10:08           NaN   \n",
       "2         0.93805    4119  2023-02-02T23:05:08           NaN   \n",
       "3         4.43861    2289  2022-03-23T14:30:09           NaN   \n",
       "4         6.62388    2733  2022-06-24T16:35:07           NaN   \n",
       "...           ...     ...                  ...           ...   \n",
       "2996      2.58472    3294  2022-10-06T09:20:14           NaN   \n",
       "2997      7.19583    3345  2022-10-13T16:20:14           NaN   \n",
       "2998      5.16333    1209  2021-10-14T15:20:08       18400.0   \n",
       "2999      0.78444    2648  2022-06-04T22:20:07       16500.0   \n",
       "3000      0.84777    2388  2022-04-08T12:50:08           NaN   \n",
       "\n",
       "                                                  power  stationId  \\\n",
       "0     [{'power_W': Decimal('1229'), 'timestamp': Dec...         12   \n",
       "1     [{'power_W': Decimal('6563'), 'timestamp': Dec...         17   \n",
       "2     [{'power_W': Decimal('6822'), 'timestamp': Dec...         11   \n",
       "3     [{'power_W': Decimal('0'), 'timestamp': Decima...         16   \n",
       "4     [{'power_W': Decimal('0'), 'timestamp': Decima...         16   \n",
       "...                                                 ...        ...   \n",
       "2996  [{'power_W': Decimal('919'), 'timestamp': Deci...         16   \n",
       "2997  [{'power_W': Decimal('3833'), 'timestamp': Dec...         12   \n",
       "2998  [{'power_W': Decimal('3443'), 'timestamp': Dec...         18   \n",
       "2999  [{'power_W': Decimal('1936'), 'timestamp': Dec...         11   \n",
       "3000  [{'power_W': Decimal('3245'), 'timestamp': Dec...         13   \n",
       "\n",
       "          defaultDeadline  scheduled  cumEnergy_Wh  reg_centsPerHr  \n",
       "0     2022-01-07T08:15:00          1          4214           200.0  \n",
       "1     2022-10-20T15:30:00          0         11724           137.0  \n",
       "2     2023-02-03T12:00:00          0          6050           137.0  \n",
       "3     2022-03-23T15:45:00          0         14529           129.0  \n",
       "4     2022-06-24T21:30:00          0         34904           137.0  \n",
       "...                   ...        ...           ...             ...  \n",
       "2996  2022-10-06T20:00:00          0         15757           141.0  \n",
       "2997  2022-10-13T16:45:00          0         42029             NaN  \n",
       "2998  2021-10-14T15:15:00          1         15281           200.0  \n",
       "2999  2022-06-05T02:00:00          1          2390           145.0  \n",
       "3000  2022-04-08T15:30:00          0          4916           227.0  \n",
       "\n",
       "[3001 rows x 28 columns]"
      ]
     },
     "execution_count": 40,
     "metadata": {},
     "output_type": "execute_result"
    }
   ],
   "source": [
    "raw = pd.read_csv(\"data/raw_data.csv\")\n",
    "raw"
   ]
  },
  {
   "cell_type": "code",
   "execution_count": 41,
   "id": "420c2388",
   "metadata": {},
   "outputs": [],
   "source": [
    "pipeline = Pipeline([\n",
    "    (\"1\", SortDropCast()),\n",
    "    (\"2\", HelperFeatureCreation()),\n",
    "    (\"3\", CreateNestedSessionTimeSeries())\n",
    "])"
   ]
  },
  {
   "cell_type": "code",
   "execution_count": 42,
   "id": "4ddb034a-9e24-4964-a401-52df68b2e8a1",
   "metadata": {},
   "outputs": [
    {
     "data": {
      "text/html": [
       "<div>\n",
       "<style scoped>\n",
       "    .dataframe tbody tr th:only-of-type {\n",
       "        vertical-align: middle;\n",
       "    }\n",
       "\n",
       "    .dataframe tbody tr th {\n",
       "        vertical-align: top;\n",
       "    }\n",
       "\n",
       "    .dataframe thead th {\n",
       "        text-align: right;\n",
       "    }\n",
       "</style>\n",
       "<table border=\"1\" class=\"dataframe\">\n",
       "  <thead>\n",
       "    <tr style=\"text-align: right;\">\n",
       "      <th></th>\n",
       "      <th>index</th>\n",
       "      <th>Unnamed: 0</th>\n",
       "      <th>vehicle_maxChgRate_W</th>\n",
       "      <th>peakPower_W</th>\n",
       "      <th>sch_centsPerHr</th>\n",
       "      <th>connectTime</th>\n",
       "      <th>vehicle_model</th>\n",
       "      <th>Duration</th>\n",
       "      <th>userId</th>\n",
       "      <th>regular</th>\n",
       "      <th>Deadline</th>\n",
       "      <th>startChargeTime</th>\n",
       "      <th>sch_centsPerOverstayHr</th>\n",
       "      <th>sch_centsPerKwh</th>\n",
       "      <th>choice</th>\n",
       "      <th>siteId</th>\n",
       "      <th>estCost</th>\n",
       "      <th>DurationHrs</th>\n",
       "      <th>dcosId</th>\n",
       "      <th>lastUpdate</th>\n",
       "      <th>energyReq_Wh</th>\n",
       "      <th>power</th>\n",
       "      <th>stationId</th>\n",
       "      <th>defaultDeadline</th>\n",
       "      <th>scheduled</th>\n",
       "      <th>cumEnergy_Wh</th>\n",
       "      <th>reg_centsPerHr</th>\n",
       "      <th>reqChargeTime_h</th>\n",
       "      <th>finishChargeTime</th>\n",
       "      <th>time_vals</th>\n",
       "      <th>power_vals</th>\n",
       "    </tr>\n",
       "  </thead>\n",
       "  <tbody>\n",
       "    <tr>\n",
       "      <th>0</th>\n",
       "      <td>3000</td>\n",
       "      <td>2131</td>\n",
       "      <td>112000</td>\n",
       "      <td>6499.0</td>\n",
       "      <td>250.0</td>\n",
       "      <td>2023-02-05 14:07:29</td>\n",
       "      <td>Model Y</td>\n",
       "      <td>0 days 03:34:22</td>\n",
       "      <td>1168</td>\n",
       "      <td>1</td>\n",
       "      <td>NaN</td>\n",
       "      <td>2023-02-05T15:25:48</td>\n",
       "      <td>400.0</td>\n",
       "      <td>0.0</td>\n",
       "      <td>REGULAR</td>\n",
       "      <td>25</td>\n",
       "      <td>5.3947</td>\n",
       "      <td>3.57277</td>\n",
       "      <td>4135</td>\n",
       "      <td>2023-02-05T19:00:10</td>\n",
       "      <td>NaN</td>\n",
       "      <td>[{'power_W': Decimal('6474'), 'timestamp': Dec...</td>\n",
       "      <td>18</td>\n",
       "      <td>2023-02-05T20:00:00</td>\n",
       "      <td>0</td>\n",
       "      <td>21986.0</td>\n",
       "      <td>137.0</td>\n",
       "      <td>3.382982</td>\n",
       "      <td>2023-02-05 17:30:28</td>\n",
       "      <td>2023-02-05 00:00:00</td>\n",
       "      <td>0.0</td>\n",
       "    </tr>\n",
       "    <tr>\n",
       "      <th>0</th>\n",
       "      <td>3000</td>\n",
       "      <td>2131</td>\n",
       "      <td>112000</td>\n",
       "      <td>6499.0</td>\n",
       "      <td>250.0</td>\n",
       "      <td>2023-02-05 14:07:29</td>\n",
       "      <td>Model Y</td>\n",
       "      <td>0 days 03:34:22</td>\n",
       "      <td>1168</td>\n",
       "      <td>1</td>\n",
       "      <td>NaN</td>\n",
       "      <td>2023-02-05T15:25:48</td>\n",
       "      <td>400.0</td>\n",
       "      <td>0.0</td>\n",
       "      <td>REGULAR</td>\n",
       "      <td>25</td>\n",
       "      <td>5.3947</td>\n",
       "      <td>3.57277</td>\n",
       "      <td>4135</td>\n",
       "      <td>2023-02-05T19:00:10</td>\n",
       "      <td>NaN</td>\n",
       "      <td>[{'power_W': Decimal('6474'), 'timestamp': Dec...</td>\n",
       "      <td>18</td>\n",
       "      <td>2023-02-05T20:00:00</td>\n",
       "      <td>0</td>\n",
       "      <td>21986.0</td>\n",
       "      <td>137.0</td>\n",
       "      <td>3.382982</td>\n",
       "      <td>2023-02-05 17:30:28</td>\n",
       "      <td>2023-02-05 00:05:00</td>\n",
       "      <td>0.0</td>\n",
       "    </tr>\n",
       "    <tr>\n",
       "      <th>0</th>\n",
       "      <td>3000</td>\n",
       "      <td>2131</td>\n",
       "      <td>112000</td>\n",
       "      <td>6499.0</td>\n",
       "      <td>250.0</td>\n",
       "      <td>2023-02-05 14:07:29</td>\n",
       "      <td>Model Y</td>\n",
       "      <td>0 days 03:34:22</td>\n",
       "      <td>1168</td>\n",
       "      <td>1</td>\n",
       "      <td>NaN</td>\n",
       "      <td>2023-02-05T15:25:48</td>\n",
       "      <td>400.0</td>\n",
       "      <td>0.0</td>\n",
       "      <td>REGULAR</td>\n",
       "      <td>25</td>\n",
       "      <td>5.3947</td>\n",
       "      <td>3.57277</td>\n",
       "      <td>4135</td>\n",
       "      <td>2023-02-05T19:00:10</td>\n",
       "      <td>NaN</td>\n",
       "      <td>[{'power_W': Decimal('6474'), 'timestamp': Dec...</td>\n",
       "      <td>18</td>\n",
       "      <td>2023-02-05T20:00:00</td>\n",
       "      <td>0</td>\n",
       "      <td>21986.0</td>\n",
       "      <td>137.0</td>\n",
       "      <td>3.382982</td>\n",
       "      <td>2023-02-05 17:30:28</td>\n",
       "      <td>2023-02-05 00:10:00</td>\n",
       "      <td>0.0</td>\n",
       "    </tr>\n",
       "    <tr>\n",
       "      <th>0</th>\n",
       "      <td>3000</td>\n",
       "      <td>2131</td>\n",
       "      <td>112000</td>\n",
       "      <td>6499.0</td>\n",
       "      <td>250.0</td>\n",
       "      <td>2023-02-05 14:07:29</td>\n",
       "      <td>Model Y</td>\n",
       "      <td>0 days 03:34:22</td>\n",
       "      <td>1168</td>\n",
       "      <td>1</td>\n",
       "      <td>NaN</td>\n",
       "      <td>2023-02-05T15:25:48</td>\n",
       "      <td>400.0</td>\n",
       "      <td>0.0</td>\n",
       "      <td>REGULAR</td>\n",
       "      <td>25</td>\n",
       "      <td>5.3947</td>\n",
       "      <td>3.57277</td>\n",
       "      <td>4135</td>\n",
       "      <td>2023-02-05T19:00:10</td>\n",
       "      <td>NaN</td>\n",
       "      <td>[{'power_W': Decimal('6474'), 'timestamp': Dec...</td>\n",
       "      <td>18</td>\n",
       "      <td>2023-02-05T20:00:00</td>\n",
       "      <td>0</td>\n",
       "      <td>21986.0</td>\n",
       "      <td>137.0</td>\n",
       "      <td>3.382982</td>\n",
       "      <td>2023-02-05 17:30:28</td>\n",
       "      <td>2023-02-05 00:15:00</td>\n",
       "      <td>0.0</td>\n",
       "    </tr>\n",
       "    <tr>\n",
       "      <th>0</th>\n",
       "      <td>3000</td>\n",
       "      <td>2131</td>\n",
       "      <td>112000</td>\n",
       "      <td>6499.0</td>\n",
       "      <td>250.0</td>\n",
       "      <td>2023-02-05 14:07:29</td>\n",
       "      <td>Model Y</td>\n",
       "      <td>0 days 03:34:22</td>\n",
       "      <td>1168</td>\n",
       "      <td>1</td>\n",
       "      <td>NaN</td>\n",
       "      <td>2023-02-05T15:25:48</td>\n",
       "      <td>400.0</td>\n",
       "      <td>0.0</td>\n",
       "      <td>REGULAR</td>\n",
       "      <td>25</td>\n",
       "      <td>5.3947</td>\n",
       "      <td>3.57277</td>\n",
       "      <td>4135</td>\n",
       "      <td>2023-02-05T19:00:10</td>\n",
       "      <td>NaN</td>\n",
       "      <td>[{'power_W': Decimal('6474'), 'timestamp': Dec...</td>\n",
       "      <td>18</td>\n",
       "      <td>2023-02-05T20:00:00</td>\n",
       "      <td>0</td>\n",
       "      <td>21986.0</td>\n",
       "      <td>137.0</td>\n",
       "      <td>3.382982</td>\n",
       "      <td>2023-02-05 17:30:28</td>\n",
       "      <td>2023-02-05 00:20:00</td>\n",
       "      <td>0.0</td>\n",
       "    </tr>\n",
       "    <tr>\n",
       "      <th>0</th>\n",
       "      <td>3000</td>\n",
       "      <td>2131</td>\n",
       "      <td>112000</td>\n",
       "      <td>6499.0</td>\n",
       "      <td>250.0</td>\n",
       "      <td>2023-02-05 14:07:29</td>\n",
       "      <td>Model Y</td>\n",
       "      <td>0 days 03:34:22</td>\n",
       "      <td>1168</td>\n",
       "      <td>1</td>\n",
       "      <td>NaN</td>\n",
       "      <td>2023-02-05T15:25:48</td>\n",
       "      <td>400.0</td>\n",
       "      <td>0.0</td>\n",
       "      <td>REGULAR</td>\n",
       "      <td>25</td>\n",
       "      <td>5.3947</td>\n",
       "      <td>3.57277</td>\n",
       "      <td>4135</td>\n",
       "      <td>2023-02-05T19:00:10</td>\n",
       "      <td>NaN</td>\n",
       "      <td>[{'power_W': Decimal('6474'), 'timestamp': Dec...</td>\n",
       "      <td>18</td>\n",
       "      <td>2023-02-05T20:00:00</td>\n",
       "      <td>0</td>\n",
       "      <td>21986.0</td>\n",
       "      <td>137.0</td>\n",
       "      <td>3.382982</td>\n",
       "      <td>2023-02-05 17:30:28</td>\n",
       "      <td>2023-02-05 00:25:00</td>\n",
       "      <td>0.0</td>\n",
       "    </tr>\n",
       "    <tr>\n",
       "      <th>0</th>\n",
       "      <td>3000</td>\n",
       "      <td>2131</td>\n",
       "      <td>112000</td>\n",
       "      <td>6499.0</td>\n",
       "      <td>250.0</td>\n",
       "      <td>2023-02-05 14:07:29</td>\n",
       "      <td>Model Y</td>\n",
       "      <td>0 days 03:34:22</td>\n",
       "      <td>1168</td>\n",
       "      <td>1</td>\n",
       "      <td>NaN</td>\n",
       "      <td>2023-02-05T15:25:48</td>\n",
       "      <td>400.0</td>\n",
       "      <td>0.0</td>\n",
       "      <td>REGULAR</td>\n",
       "      <td>25</td>\n",
       "      <td>5.3947</td>\n",
       "      <td>3.57277</td>\n",
       "      <td>4135</td>\n",
       "      <td>2023-02-05T19:00:10</td>\n",
       "      <td>NaN</td>\n",
       "      <td>[{'power_W': Decimal('6474'), 'timestamp': Dec...</td>\n",
       "      <td>18</td>\n",
       "      <td>2023-02-05T20:00:00</td>\n",
       "      <td>0</td>\n",
       "      <td>21986.0</td>\n",
       "      <td>137.0</td>\n",
       "      <td>3.382982</td>\n",
       "      <td>2023-02-05 17:30:28</td>\n",
       "      <td>2023-02-05 00:30:00</td>\n",
       "      <td>0.0</td>\n",
       "    </tr>\n",
       "    <tr>\n",
       "      <th>0</th>\n",
       "      <td>3000</td>\n",
       "      <td>2131</td>\n",
       "      <td>112000</td>\n",
       "      <td>6499.0</td>\n",
       "      <td>250.0</td>\n",
       "      <td>2023-02-05 14:07:29</td>\n",
       "      <td>Model Y</td>\n",
       "      <td>0 days 03:34:22</td>\n",
       "      <td>1168</td>\n",
       "      <td>1</td>\n",
       "      <td>NaN</td>\n",
       "      <td>2023-02-05T15:25:48</td>\n",
       "      <td>400.0</td>\n",
       "      <td>0.0</td>\n",
       "      <td>REGULAR</td>\n",
       "      <td>25</td>\n",
       "      <td>5.3947</td>\n",
       "      <td>3.57277</td>\n",
       "      <td>4135</td>\n",
       "      <td>2023-02-05T19:00:10</td>\n",
       "      <td>NaN</td>\n",
       "      <td>[{'power_W': Decimal('6474'), 'timestamp': Dec...</td>\n",
       "      <td>18</td>\n",
       "      <td>2023-02-05T20:00:00</td>\n",
       "      <td>0</td>\n",
       "      <td>21986.0</td>\n",
       "      <td>137.0</td>\n",
       "      <td>3.382982</td>\n",
       "      <td>2023-02-05 17:30:28</td>\n",
       "      <td>2023-02-05 00:35:00</td>\n",
       "      <td>0.0</td>\n",
       "    </tr>\n",
       "    <tr>\n",
       "      <th>0</th>\n",
       "      <td>3000</td>\n",
       "      <td>2131</td>\n",
       "      <td>112000</td>\n",
       "      <td>6499.0</td>\n",
       "      <td>250.0</td>\n",
       "      <td>2023-02-05 14:07:29</td>\n",
       "      <td>Model Y</td>\n",
       "      <td>0 days 03:34:22</td>\n",
       "      <td>1168</td>\n",
       "      <td>1</td>\n",
       "      <td>NaN</td>\n",
       "      <td>2023-02-05T15:25:48</td>\n",
       "      <td>400.0</td>\n",
       "      <td>0.0</td>\n",
       "      <td>REGULAR</td>\n",
       "      <td>25</td>\n",
       "      <td>5.3947</td>\n",
       "      <td>3.57277</td>\n",
       "      <td>4135</td>\n",
       "      <td>2023-02-05T19:00:10</td>\n",
       "      <td>NaN</td>\n",
       "      <td>[{'power_W': Decimal('6474'), 'timestamp': Dec...</td>\n",
       "      <td>18</td>\n",
       "      <td>2023-02-05T20:00:00</td>\n",
       "      <td>0</td>\n",
       "      <td>21986.0</td>\n",
       "      <td>137.0</td>\n",
       "      <td>3.382982</td>\n",
       "      <td>2023-02-05 17:30:28</td>\n",
       "      <td>2023-02-05 00:40:00</td>\n",
       "      <td>0.0</td>\n",
       "    </tr>\n",
       "    <tr>\n",
       "      <th>0</th>\n",
       "      <td>3000</td>\n",
       "      <td>2131</td>\n",
       "      <td>112000</td>\n",
       "      <td>6499.0</td>\n",
       "      <td>250.0</td>\n",
       "      <td>2023-02-05 14:07:29</td>\n",
       "      <td>Model Y</td>\n",
       "      <td>0 days 03:34:22</td>\n",
       "      <td>1168</td>\n",
       "      <td>1</td>\n",
       "      <td>NaN</td>\n",
       "      <td>2023-02-05T15:25:48</td>\n",
       "      <td>400.0</td>\n",
       "      <td>0.0</td>\n",
       "      <td>REGULAR</td>\n",
       "      <td>25</td>\n",
       "      <td>5.3947</td>\n",
       "      <td>3.57277</td>\n",
       "      <td>4135</td>\n",
       "      <td>2023-02-05T19:00:10</td>\n",
       "      <td>NaN</td>\n",
       "      <td>[{'power_W': Decimal('6474'), 'timestamp': Dec...</td>\n",
       "      <td>18</td>\n",
       "      <td>2023-02-05T20:00:00</td>\n",
       "      <td>0</td>\n",
       "      <td>21986.0</td>\n",
       "      <td>137.0</td>\n",
       "      <td>3.382982</td>\n",
       "      <td>2023-02-05 17:30:28</td>\n",
       "      <td>2023-02-05 00:45:00</td>\n",
       "      <td>0.0</td>\n",
       "    </tr>\n",
       "    <tr>\n",
       "      <th>0</th>\n",
       "      <td>3000</td>\n",
       "      <td>2131</td>\n",
       "      <td>112000</td>\n",
       "      <td>6499.0</td>\n",
       "      <td>250.0</td>\n",
       "      <td>2023-02-05 14:07:29</td>\n",
       "      <td>Model Y</td>\n",
       "      <td>0 days 03:34:22</td>\n",
       "      <td>1168</td>\n",
       "      <td>1</td>\n",
       "      <td>NaN</td>\n",
       "      <td>2023-02-05T15:25:48</td>\n",
       "      <td>400.0</td>\n",
       "      <td>0.0</td>\n",
       "      <td>REGULAR</td>\n",
       "      <td>25</td>\n",
       "      <td>5.3947</td>\n",
       "      <td>3.57277</td>\n",
       "      <td>4135</td>\n",
       "      <td>2023-02-05T19:00:10</td>\n",
       "      <td>NaN</td>\n",
       "      <td>[{'power_W': Decimal('6474'), 'timestamp': Dec...</td>\n",
       "      <td>18</td>\n",
       "      <td>2023-02-05T20:00:00</td>\n",
       "      <td>0</td>\n",
       "      <td>21986.0</td>\n",
       "      <td>137.0</td>\n",
       "      <td>3.382982</td>\n",
       "      <td>2023-02-05 17:30:28</td>\n",
       "      <td>2023-02-05 00:50:00</td>\n",
       "      <td>0.0</td>\n",
       "    </tr>\n",
       "    <tr>\n",
       "      <th>0</th>\n",
       "      <td>3000</td>\n",
       "      <td>2131</td>\n",
       "      <td>112000</td>\n",
       "      <td>6499.0</td>\n",
       "      <td>250.0</td>\n",
       "      <td>2023-02-05 14:07:29</td>\n",
       "      <td>Model Y</td>\n",
       "      <td>0 days 03:34:22</td>\n",
       "      <td>1168</td>\n",
       "      <td>1</td>\n",
       "      <td>NaN</td>\n",
       "      <td>2023-02-05T15:25:48</td>\n",
       "      <td>400.0</td>\n",
       "      <td>0.0</td>\n",
       "      <td>REGULAR</td>\n",
       "      <td>25</td>\n",
       "      <td>5.3947</td>\n",
       "      <td>3.57277</td>\n",
       "      <td>4135</td>\n",
       "      <td>2023-02-05T19:00:10</td>\n",
       "      <td>NaN</td>\n",
       "      <td>[{'power_W': Decimal('6474'), 'timestamp': Dec...</td>\n",
       "      <td>18</td>\n",
       "      <td>2023-02-05T20:00:00</td>\n",
       "      <td>0</td>\n",
       "      <td>21986.0</td>\n",
       "      <td>137.0</td>\n",
       "      <td>3.382982</td>\n",
       "      <td>2023-02-05 17:30:28</td>\n",
       "      <td>2023-02-05 00:55:00</td>\n",
       "      <td>0.0</td>\n",
       "    </tr>\n",
       "    <tr>\n",
       "      <th>0</th>\n",
       "      <td>3000</td>\n",
       "      <td>2131</td>\n",
       "      <td>112000</td>\n",
       "      <td>6499.0</td>\n",
       "      <td>250.0</td>\n",
       "      <td>2023-02-05 14:07:29</td>\n",
       "      <td>Model Y</td>\n",
       "      <td>0 days 03:34:22</td>\n",
       "      <td>1168</td>\n",
       "      <td>1</td>\n",
       "      <td>NaN</td>\n",
       "      <td>2023-02-05T15:25:48</td>\n",
       "      <td>400.0</td>\n",
       "      <td>0.0</td>\n",
       "      <td>REGULAR</td>\n",
       "      <td>25</td>\n",
       "      <td>5.3947</td>\n",
       "      <td>3.57277</td>\n",
       "      <td>4135</td>\n",
       "      <td>2023-02-05T19:00:10</td>\n",
       "      <td>NaN</td>\n",
       "      <td>[{'power_W': Decimal('6474'), 'timestamp': Dec...</td>\n",
       "      <td>18</td>\n",
       "      <td>2023-02-05T20:00:00</td>\n",
       "      <td>0</td>\n",
       "      <td>21986.0</td>\n",
       "      <td>137.0</td>\n",
       "      <td>3.382982</td>\n",
       "      <td>2023-02-05 17:30:28</td>\n",
       "      <td>2023-02-05 01:00:00</td>\n",
       "      <td>0.0</td>\n",
       "    </tr>\n",
       "    <tr>\n",
       "      <th>0</th>\n",
       "      <td>3000</td>\n",
       "      <td>2131</td>\n",
       "      <td>112000</td>\n",
       "      <td>6499.0</td>\n",
       "      <td>250.0</td>\n",
       "      <td>2023-02-05 14:07:29</td>\n",
       "      <td>Model Y</td>\n",
       "      <td>0 days 03:34:22</td>\n",
       "      <td>1168</td>\n",
       "      <td>1</td>\n",
       "      <td>NaN</td>\n",
       "      <td>2023-02-05T15:25:48</td>\n",
       "      <td>400.0</td>\n",
       "      <td>0.0</td>\n",
       "      <td>REGULAR</td>\n",
       "      <td>25</td>\n",
       "      <td>5.3947</td>\n",
       "      <td>3.57277</td>\n",
       "      <td>4135</td>\n",
       "      <td>2023-02-05T19:00:10</td>\n",
       "      <td>NaN</td>\n",
       "      <td>[{'power_W': Decimal('6474'), 'timestamp': Dec...</td>\n",
       "      <td>18</td>\n",
       "      <td>2023-02-05T20:00:00</td>\n",
       "      <td>0</td>\n",
       "      <td>21986.0</td>\n",
       "      <td>137.0</td>\n",
       "      <td>3.382982</td>\n",
       "      <td>2023-02-05 17:30:28</td>\n",
       "      <td>2023-02-05 01:05:00</td>\n",
       "      <td>0.0</td>\n",
       "    </tr>\n",
       "    <tr>\n",
       "      <th>0</th>\n",
       "      <td>3000</td>\n",
       "      <td>2131</td>\n",
       "      <td>112000</td>\n",
       "      <td>6499.0</td>\n",
       "      <td>250.0</td>\n",
       "      <td>2023-02-05 14:07:29</td>\n",
       "      <td>Model Y</td>\n",
       "      <td>0 days 03:34:22</td>\n",
       "      <td>1168</td>\n",
       "      <td>1</td>\n",
       "      <td>NaN</td>\n",
       "      <td>2023-02-05T15:25:48</td>\n",
       "      <td>400.0</td>\n",
       "      <td>0.0</td>\n",
       "      <td>REGULAR</td>\n",
       "      <td>25</td>\n",
       "      <td>5.3947</td>\n",
       "      <td>3.57277</td>\n",
       "      <td>4135</td>\n",
       "      <td>2023-02-05T19:00:10</td>\n",
       "      <td>NaN</td>\n",
       "      <td>[{'power_W': Decimal('6474'), 'timestamp': Dec...</td>\n",
       "      <td>18</td>\n",
       "      <td>2023-02-05T20:00:00</td>\n",
       "      <td>0</td>\n",
       "      <td>21986.0</td>\n",
       "      <td>137.0</td>\n",
       "      <td>3.382982</td>\n",
       "      <td>2023-02-05 17:30:28</td>\n",
       "      <td>2023-02-05 01:10:00</td>\n",
       "      <td>0.0</td>\n",
       "    </tr>\n",
       "    <tr>\n",
       "      <th>0</th>\n",
       "      <td>3000</td>\n",
       "      <td>2131</td>\n",
       "      <td>112000</td>\n",
       "      <td>6499.0</td>\n",
       "      <td>250.0</td>\n",
       "      <td>2023-02-05 14:07:29</td>\n",
       "      <td>Model Y</td>\n",
       "      <td>0 days 03:34:22</td>\n",
       "      <td>1168</td>\n",
       "      <td>1</td>\n",
       "      <td>NaN</td>\n",
       "      <td>2023-02-05T15:25:48</td>\n",
       "      <td>400.0</td>\n",
       "      <td>0.0</td>\n",
       "      <td>REGULAR</td>\n",
       "      <td>25</td>\n",
       "      <td>5.3947</td>\n",
       "      <td>3.57277</td>\n",
       "      <td>4135</td>\n",
       "      <td>2023-02-05T19:00:10</td>\n",
       "      <td>NaN</td>\n",
       "      <td>[{'power_W': Decimal('6474'), 'timestamp': Dec...</td>\n",
       "      <td>18</td>\n",
       "      <td>2023-02-05T20:00:00</td>\n",
       "      <td>0</td>\n",
       "      <td>21986.0</td>\n",
       "      <td>137.0</td>\n",
       "      <td>3.382982</td>\n",
       "      <td>2023-02-05 17:30:28</td>\n",
       "      <td>2023-02-05 01:15:00</td>\n",
       "      <td>0.0</td>\n",
       "    </tr>\n",
       "    <tr>\n",
       "      <th>0</th>\n",
       "      <td>3000</td>\n",
       "      <td>2131</td>\n",
       "      <td>112000</td>\n",
       "      <td>6499.0</td>\n",
       "      <td>250.0</td>\n",
       "      <td>2023-02-05 14:07:29</td>\n",
       "      <td>Model Y</td>\n",
       "      <td>0 days 03:34:22</td>\n",
       "      <td>1168</td>\n",
       "      <td>1</td>\n",
       "      <td>NaN</td>\n",
       "      <td>2023-02-05T15:25:48</td>\n",
       "      <td>400.0</td>\n",
       "      <td>0.0</td>\n",
       "      <td>REGULAR</td>\n",
       "      <td>25</td>\n",
       "      <td>5.3947</td>\n",
       "      <td>3.57277</td>\n",
       "      <td>4135</td>\n",
       "      <td>2023-02-05T19:00:10</td>\n",
       "      <td>NaN</td>\n",
       "      <td>[{'power_W': Decimal('6474'), 'timestamp': Dec...</td>\n",
       "      <td>18</td>\n",
       "      <td>2023-02-05T20:00:00</td>\n",
       "      <td>0</td>\n",
       "      <td>21986.0</td>\n",
       "      <td>137.0</td>\n",
       "      <td>3.382982</td>\n",
       "      <td>2023-02-05 17:30:28</td>\n",
       "      <td>2023-02-05 01:20:00</td>\n",
       "      <td>0.0</td>\n",
       "    </tr>\n",
       "    <tr>\n",
       "      <th>0</th>\n",
       "      <td>3000</td>\n",
       "      <td>2131</td>\n",
       "      <td>112000</td>\n",
       "      <td>6499.0</td>\n",
       "      <td>250.0</td>\n",
       "      <td>2023-02-05 14:07:29</td>\n",
       "      <td>Model Y</td>\n",
       "      <td>0 days 03:34:22</td>\n",
       "      <td>1168</td>\n",
       "      <td>1</td>\n",
       "      <td>NaN</td>\n",
       "      <td>2023-02-05T15:25:48</td>\n",
       "      <td>400.0</td>\n",
       "      <td>0.0</td>\n",
       "      <td>REGULAR</td>\n",
       "      <td>25</td>\n",
       "      <td>5.3947</td>\n",
       "      <td>3.57277</td>\n",
       "      <td>4135</td>\n",
       "      <td>2023-02-05T19:00:10</td>\n",
       "      <td>NaN</td>\n",
       "      <td>[{'power_W': Decimal('6474'), 'timestamp': Dec...</td>\n",
       "      <td>18</td>\n",
       "      <td>2023-02-05T20:00:00</td>\n",
       "      <td>0</td>\n",
       "      <td>21986.0</td>\n",
       "      <td>137.0</td>\n",
       "      <td>3.382982</td>\n",
       "      <td>2023-02-05 17:30:28</td>\n",
       "      <td>2023-02-05 01:25:00</td>\n",
       "      <td>0.0</td>\n",
       "    </tr>\n",
       "    <tr>\n",
       "      <th>0</th>\n",
       "      <td>3000</td>\n",
       "      <td>2131</td>\n",
       "      <td>112000</td>\n",
       "      <td>6499.0</td>\n",
       "      <td>250.0</td>\n",
       "      <td>2023-02-05 14:07:29</td>\n",
       "      <td>Model Y</td>\n",
       "      <td>0 days 03:34:22</td>\n",
       "      <td>1168</td>\n",
       "      <td>1</td>\n",
       "      <td>NaN</td>\n",
       "      <td>2023-02-05T15:25:48</td>\n",
       "      <td>400.0</td>\n",
       "      <td>0.0</td>\n",
       "      <td>REGULAR</td>\n",
       "      <td>25</td>\n",
       "      <td>5.3947</td>\n",
       "      <td>3.57277</td>\n",
       "      <td>4135</td>\n",
       "      <td>2023-02-05T19:00:10</td>\n",
       "      <td>NaN</td>\n",
       "      <td>[{'power_W': Decimal('6474'), 'timestamp': Dec...</td>\n",
       "      <td>18</td>\n",
       "      <td>2023-02-05T20:00:00</td>\n",
       "      <td>0</td>\n",
       "      <td>21986.0</td>\n",
       "      <td>137.0</td>\n",
       "      <td>3.382982</td>\n",
       "      <td>2023-02-05 17:30:28</td>\n",
       "      <td>2023-02-05 01:30:00</td>\n",
       "      <td>0.0</td>\n",
       "    </tr>\n",
       "    <tr>\n",
       "      <th>0</th>\n",
       "      <td>3000</td>\n",
       "      <td>2131</td>\n",
       "      <td>112000</td>\n",
       "      <td>6499.0</td>\n",
       "      <td>250.0</td>\n",
       "      <td>2023-02-05 14:07:29</td>\n",
       "      <td>Model Y</td>\n",
       "      <td>0 days 03:34:22</td>\n",
       "      <td>1168</td>\n",
       "      <td>1</td>\n",
       "      <td>NaN</td>\n",
       "      <td>2023-02-05T15:25:48</td>\n",
       "      <td>400.0</td>\n",
       "      <td>0.0</td>\n",
       "      <td>REGULAR</td>\n",
       "      <td>25</td>\n",
       "      <td>5.3947</td>\n",
       "      <td>3.57277</td>\n",
       "      <td>4135</td>\n",
       "      <td>2023-02-05T19:00:10</td>\n",
       "      <td>NaN</td>\n",
       "      <td>[{'power_W': Decimal('6474'), 'timestamp': Dec...</td>\n",
       "      <td>18</td>\n",
       "      <td>2023-02-05T20:00:00</td>\n",
       "      <td>0</td>\n",
       "      <td>21986.0</td>\n",
       "      <td>137.0</td>\n",
       "      <td>3.382982</td>\n",
       "      <td>2023-02-05 17:30:28</td>\n",
       "      <td>2023-02-05 01:35:00</td>\n",
       "      <td>0.0</td>\n",
       "    </tr>\n",
       "  </tbody>\n",
       "</table>\n",
       "</div>"
      ],
      "text/plain": [
       "   index  Unnamed: 0  vehicle_maxChgRate_W  peakPower_W  sch_centsPerHr  \\\n",
       "0   3000        2131                112000       6499.0           250.0   \n",
       "0   3000        2131                112000       6499.0           250.0   \n",
       "0   3000        2131                112000       6499.0           250.0   \n",
       "0   3000        2131                112000       6499.0           250.0   \n",
       "0   3000        2131                112000       6499.0           250.0   \n",
       "0   3000        2131                112000       6499.0           250.0   \n",
       "0   3000        2131                112000       6499.0           250.0   \n",
       "0   3000        2131                112000       6499.0           250.0   \n",
       "0   3000        2131                112000       6499.0           250.0   \n",
       "0   3000        2131                112000       6499.0           250.0   \n",
       "0   3000        2131                112000       6499.0           250.0   \n",
       "0   3000        2131                112000       6499.0           250.0   \n",
       "0   3000        2131                112000       6499.0           250.0   \n",
       "0   3000        2131                112000       6499.0           250.0   \n",
       "0   3000        2131                112000       6499.0           250.0   \n",
       "0   3000        2131                112000       6499.0           250.0   \n",
       "0   3000        2131                112000       6499.0           250.0   \n",
       "0   3000        2131                112000       6499.0           250.0   \n",
       "0   3000        2131                112000       6499.0           250.0   \n",
       "0   3000        2131                112000       6499.0           250.0   \n",
       "\n",
       "          connectTime vehicle_model         Duration userId  regular Deadline  \\\n",
       "0 2023-02-05 14:07:29       Model Y  0 days 03:34:22   1168        1      NaN   \n",
       "0 2023-02-05 14:07:29       Model Y  0 days 03:34:22   1168        1      NaN   \n",
       "0 2023-02-05 14:07:29       Model Y  0 days 03:34:22   1168        1      NaN   \n",
       "0 2023-02-05 14:07:29       Model Y  0 days 03:34:22   1168        1      NaN   \n",
       "0 2023-02-05 14:07:29       Model Y  0 days 03:34:22   1168        1      NaN   \n",
       "0 2023-02-05 14:07:29       Model Y  0 days 03:34:22   1168        1      NaN   \n",
       "0 2023-02-05 14:07:29       Model Y  0 days 03:34:22   1168        1      NaN   \n",
       "0 2023-02-05 14:07:29       Model Y  0 days 03:34:22   1168        1      NaN   \n",
       "0 2023-02-05 14:07:29       Model Y  0 days 03:34:22   1168        1      NaN   \n",
       "0 2023-02-05 14:07:29       Model Y  0 days 03:34:22   1168        1      NaN   \n",
       "0 2023-02-05 14:07:29       Model Y  0 days 03:34:22   1168        1      NaN   \n",
       "0 2023-02-05 14:07:29       Model Y  0 days 03:34:22   1168        1      NaN   \n",
       "0 2023-02-05 14:07:29       Model Y  0 days 03:34:22   1168        1      NaN   \n",
       "0 2023-02-05 14:07:29       Model Y  0 days 03:34:22   1168        1      NaN   \n",
       "0 2023-02-05 14:07:29       Model Y  0 days 03:34:22   1168        1      NaN   \n",
       "0 2023-02-05 14:07:29       Model Y  0 days 03:34:22   1168        1      NaN   \n",
       "0 2023-02-05 14:07:29       Model Y  0 days 03:34:22   1168        1      NaN   \n",
       "0 2023-02-05 14:07:29       Model Y  0 days 03:34:22   1168        1      NaN   \n",
       "0 2023-02-05 14:07:29       Model Y  0 days 03:34:22   1168        1      NaN   \n",
       "0 2023-02-05 14:07:29       Model Y  0 days 03:34:22   1168        1      NaN   \n",
       "\n",
       "       startChargeTime  sch_centsPerOverstayHr  sch_centsPerKwh   choice  \\\n",
       "0  2023-02-05T15:25:48                   400.0              0.0  REGULAR   \n",
       "0  2023-02-05T15:25:48                   400.0              0.0  REGULAR   \n",
       "0  2023-02-05T15:25:48                   400.0              0.0  REGULAR   \n",
       "0  2023-02-05T15:25:48                   400.0              0.0  REGULAR   \n",
       "0  2023-02-05T15:25:48                   400.0              0.0  REGULAR   \n",
       "0  2023-02-05T15:25:48                   400.0              0.0  REGULAR   \n",
       "0  2023-02-05T15:25:48                   400.0              0.0  REGULAR   \n",
       "0  2023-02-05T15:25:48                   400.0              0.0  REGULAR   \n",
       "0  2023-02-05T15:25:48                   400.0              0.0  REGULAR   \n",
       "0  2023-02-05T15:25:48                   400.0              0.0  REGULAR   \n",
       "0  2023-02-05T15:25:48                   400.0              0.0  REGULAR   \n",
       "0  2023-02-05T15:25:48                   400.0              0.0  REGULAR   \n",
       "0  2023-02-05T15:25:48                   400.0              0.0  REGULAR   \n",
       "0  2023-02-05T15:25:48                   400.0              0.0  REGULAR   \n",
       "0  2023-02-05T15:25:48                   400.0              0.0  REGULAR   \n",
       "0  2023-02-05T15:25:48                   400.0              0.0  REGULAR   \n",
       "0  2023-02-05T15:25:48                   400.0              0.0  REGULAR   \n",
       "0  2023-02-05T15:25:48                   400.0              0.0  REGULAR   \n",
       "0  2023-02-05T15:25:48                   400.0              0.0  REGULAR   \n",
       "0  2023-02-05T15:25:48                   400.0              0.0  REGULAR   \n",
       "\n",
       "   siteId  estCost  DurationHrs  dcosId           lastUpdate  energyReq_Wh  \\\n",
       "0      25   5.3947      3.57277    4135  2023-02-05T19:00:10           NaN   \n",
       "0      25   5.3947      3.57277    4135  2023-02-05T19:00:10           NaN   \n",
       "0      25   5.3947      3.57277    4135  2023-02-05T19:00:10           NaN   \n",
       "0      25   5.3947      3.57277    4135  2023-02-05T19:00:10           NaN   \n",
       "0      25   5.3947      3.57277    4135  2023-02-05T19:00:10           NaN   \n",
       "0      25   5.3947      3.57277    4135  2023-02-05T19:00:10           NaN   \n",
       "0      25   5.3947      3.57277    4135  2023-02-05T19:00:10           NaN   \n",
       "0      25   5.3947      3.57277    4135  2023-02-05T19:00:10           NaN   \n",
       "0      25   5.3947      3.57277    4135  2023-02-05T19:00:10           NaN   \n",
       "0      25   5.3947      3.57277    4135  2023-02-05T19:00:10           NaN   \n",
       "0      25   5.3947      3.57277    4135  2023-02-05T19:00:10           NaN   \n",
       "0      25   5.3947      3.57277    4135  2023-02-05T19:00:10           NaN   \n",
       "0      25   5.3947      3.57277    4135  2023-02-05T19:00:10           NaN   \n",
       "0      25   5.3947      3.57277    4135  2023-02-05T19:00:10           NaN   \n",
       "0      25   5.3947      3.57277    4135  2023-02-05T19:00:10           NaN   \n",
       "0      25   5.3947      3.57277    4135  2023-02-05T19:00:10           NaN   \n",
       "0      25   5.3947      3.57277    4135  2023-02-05T19:00:10           NaN   \n",
       "0      25   5.3947      3.57277    4135  2023-02-05T19:00:10           NaN   \n",
       "0      25   5.3947      3.57277    4135  2023-02-05T19:00:10           NaN   \n",
       "0      25   5.3947      3.57277    4135  2023-02-05T19:00:10           NaN   \n",
       "\n",
       "                                               power  stationId  \\\n",
       "0  [{'power_W': Decimal('6474'), 'timestamp': Dec...         18   \n",
       "0  [{'power_W': Decimal('6474'), 'timestamp': Dec...         18   \n",
       "0  [{'power_W': Decimal('6474'), 'timestamp': Dec...         18   \n",
       "0  [{'power_W': Decimal('6474'), 'timestamp': Dec...         18   \n",
       "0  [{'power_W': Decimal('6474'), 'timestamp': Dec...         18   \n",
       "0  [{'power_W': Decimal('6474'), 'timestamp': Dec...         18   \n",
       "0  [{'power_W': Decimal('6474'), 'timestamp': Dec...         18   \n",
       "0  [{'power_W': Decimal('6474'), 'timestamp': Dec...         18   \n",
       "0  [{'power_W': Decimal('6474'), 'timestamp': Dec...         18   \n",
       "0  [{'power_W': Decimal('6474'), 'timestamp': Dec...         18   \n",
       "0  [{'power_W': Decimal('6474'), 'timestamp': Dec...         18   \n",
       "0  [{'power_W': Decimal('6474'), 'timestamp': Dec...         18   \n",
       "0  [{'power_W': Decimal('6474'), 'timestamp': Dec...         18   \n",
       "0  [{'power_W': Decimal('6474'), 'timestamp': Dec...         18   \n",
       "0  [{'power_W': Decimal('6474'), 'timestamp': Dec...         18   \n",
       "0  [{'power_W': Decimal('6474'), 'timestamp': Dec...         18   \n",
       "0  [{'power_W': Decimal('6474'), 'timestamp': Dec...         18   \n",
       "0  [{'power_W': Decimal('6474'), 'timestamp': Dec...         18   \n",
       "0  [{'power_W': Decimal('6474'), 'timestamp': Dec...         18   \n",
       "0  [{'power_W': Decimal('6474'), 'timestamp': Dec...         18   \n",
       "\n",
       "       defaultDeadline  scheduled  cumEnergy_Wh  reg_centsPerHr  \\\n",
       "0  2023-02-05T20:00:00          0       21986.0           137.0   \n",
       "0  2023-02-05T20:00:00          0       21986.0           137.0   \n",
       "0  2023-02-05T20:00:00          0       21986.0           137.0   \n",
       "0  2023-02-05T20:00:00          0       21986.0           137.0   \n",
       "0  2023-02-05T20:00:00          0       21986.0           137.0   \n",
       "0  2023-02-05T20:00:00          0       21986.0           137.0   \n",
       "0  2023-02-05T20:00:00          0       21986.0           137.0   \n",
       "0  2023-02-05T20:00:00          0       21986.0           137.0   \n",
       "0  2023-02-05T20:00:00          0       21986.0           137.0   \n",
       "0  2023-02-05T20:00:00          0       21986.0           137.0   \n",
       "0  2023-02-05T20:00:00          0       21986.0           137.0   \n",
       "0  2023-02-05T20:00:00          0       21986.0           137.0   \n",
       "0  2023-02-05T20:00:00          0       21986.0           137.0   \n",
       "0  2023-02-05T20:00:00          0       21986.0           137.0   \n",
       "0  2023-02-05T20:00:00          0       21986.0           137.0   \n",
       "0  2023-02-05T20:00:00          0       21986.0           137.0   \n",
       "0  2023-02-05T20:00:00          0       21986.0           137.0   \n",
       "0  2023-02-05T20:00:00          0       21986.0           137.0   \n",
       "0  2023-02-05T20:00:00          0       21986.0           137.0   \n",
       "0  2023-02-05T20:00:00          0       21986.0           137.0   \n",
       "\n",
       "   reqChargeTime_h    finishChargeTime           time_vals power_vals  \n",
       "0         3.382982 2023-02-05 17:30:28 2023-02-05 00:00:00        0.0  \n",
       "0         3.382982 2023-02-05 17:30:28 2023-02-05 00:05:00        0.0  \n",
       "0         3.382982 2023-02-05 17:30:28 2023-02-05 00:10:00        0.0  \n",
       "0         3.382982 2023-02-05 17:30:28 2023-02-05 00:15:00        0.0  \n",
       "0         3.382982 2023-02-05 17:30:28 2023-02-05 00:20:00        0.0  \n",
       "0         3.382982 2023-02-05 17:30:28 2023-02-05 00:25:00        0.0  \n",
       "0         3.382982 2023-02-05 17:30:28 2023-02-05 00:30:00        0.0  \n",
       "0         3.382982 2023-02-05 17:30:28 2023-02-05 00:35:00        0.0  \n",
       "0         3.382982 2023-02-05 17:30:28 2023-02-05 00:40:00        0.0  \n",
       "0         3.382982 2023-02-05 17:30:28 2023-02-05 00:45:00        0.0  \n",
       "0         3.382982 2023-02-05 17:30:28 2023-02-05 00:50:00        0.0  \n",
       "0         3.382982 2023-02-05 17:30:28 2023-02-05 00:55:00        0.0  \n",
       "0         3.382982 2023-02-05 17:30:28 2023-02-05 01:00:00        0.0  \n",
       "0         3.382982 2023-02-05 17:30:28 2023-02-05 01:05:00        0.0  \n",
       "0         3.382982 2023-02-05 17:30:28 2023-02-05 01:10:00        0.0  \n",
       "0         3.382982 2023-02-05 17:30:28 2023-02-05 01:15:00        0.0  \n",
       "0         3.382982 2023-02-05 17:30:28 2023-02-05 01:20:00        0.0  \n",
       "0         3.382982 2023-02-05 17:30:28 2023-02-05 01:25:00        0.0  \n",
       "0         3.382982 2023-02-05 17:30:28 2023-02-05 01:30:00        0.0  \n",
       "0         3.382982 2023-02-05 17:30:28 2023-02-05 01:35:00        0.0  "
      ]
     },
     "execution_count": 42,
     "metadata": {},
     "output_type": "execute_result"
    }
   ],
   "source": [
    "raw = pd.read_csv(\"data/raw_data.csv\")\n",
    "clean = pipeline.fit_transform(raw)\n",
    "clean.head(20)"
   ]
  },
  {
   "cell_type": "code",
   "execution_count": 43,
   "id": "94a689dd",
   "metadata": {},
   "outputs": [
    {
     "data": {
      "application/vnd.plotly.v1+json": {
       "config": {
        "plotlyServerURL": "https://plot.ly"
       },
       "data": [
        {
         "alignmentgroup": "True",
         "hovertemplate": "userId=1168<br>time_vals=%{x}<br>power_vals=%{y}<extra></extra>",
         "legendgroup": "1168",
         "marker": {
          "color": "#636efa",
          "pattern": {
           "shape": ""
          }
         },
         "name": "1168",
         "offsetgroup": "1168",
         "orientation": "v",
         "showlegend": true,
         "textposition": "auto",
         "type": "bar",
         "x": [
          "2023-02-05T00:00:00",
          "2023-02-05T00:05:00",
          "2023-02-05T00:10:00",
          "2023-02-05T00:15:00",
          "2023-02-05T00:20:00",
          "2023-02-05T00:25:00",
          "2023-02-05T00:30:00",
          "2023-02-05T00:35:00",
          "2023-02-05T00:40:00",
          "2023-02-05T00:45:00",
          "2023-02-05T00:50:00",
          "2023-02-05T00:55:00",
          "2023-02-05T01:00:00",
          "2023-02-05T01:05:00",
          "2023-02-05T01:10:00",
          "2023-02-05T01:15:00",
          "2023-02-05T01:20:00",
          "2023-02-05T01:25:00",
          "2023-02-05T01:30:00",
          "2023-02-05T01:35:00",
          "2023-02-05T01:40:00",
          "2023-02-05T01:45:00",
          "2023-02-05T01:50:00",
          "2023-02-05T01:55:00",
          "2023-02-05T02:00:00",
          "2023-02-05T02:05:00",
          "2023-02-05T02:10:00",
          "2023-02-05T02:15:00",
          "2023-02-05T02:20:00",
          "2023-02-05T02:25:00",
          "2023-02-05T02:30:00",
          "2023-02-05T02:35:00",
          "2023-02-05T02:40:00",
          "2023-02-05T02:45:00",
          "2023-02-05T02:50:00",
          "2023-02-05T02:55:00",
          "2023-02-05T03:00:00",
          "2023-02-05T03:05:00",
          "2023-02-05T03:10:00",
          "2023-02-05T03:15:00",
          "2023-02-05T03:20:00",
          "2023-02-05T03:25:00",
          "2023-02-05T03:30:00",
          "2023-02-05T03:35:00",
          "2023-02-05T03:40:00",
          "2023-02-05T03:45:00",
          "2023-02-05T03:50:00",
          "2023-02-05T03:55:00",
          "2023-02-05T04:00:00",
          "2023-02-05T04:05:00",
          "2023-02-05T04:10:00",
          "2023-02-05T04:15:00",
          "2023-02-05T04:20:00",
          "2023-02-05T04:25:00",
          "2023-02-05T04:30:00",
          "2023-02-05T04:35:00",
          "2023-02-05T04:40:00",
          "2023-02-05T04:45:00",
          "2023-02-05T04:50:00",
          "2023-02-05T04:55:00",
          "2023-02-05T05:00:00",
          "2023-02-05T05:05:00",
          "2023-02-05T05:10:00",
          "2023-02-05T05:15:00",
          "2023-02-05T05:20:00",
          "2023-02-05T05:25:00",
          "2023-02-05T05:30:00",
          "2023-02-05T05:35:00",
          "2023-02-05T05:40:00",
          "2023-02-05T05:45:00",
          "2023-02-05T05:50:00",
          "2023-02-05T05:55:00",
          "2023-02-05T06:00:00",
          "2023-02-05T06:05:00",
          "2023-02-05T06:10:00",
          "2023-02-05T06:15:00",
          "2023-02-05T06:20:00",
          "2023-02-05T06:25:00",
          "2023-02-05T06:30:00",
          "2023-02-05T06:35:00",
          "2023-02-05T06:40:00",
          "2023-02-05T06:45:00",
          "2023-02-05T06:50:00",
          "2023-02-05T06:55:00",
          "2023-02-05T07:00:00",
          "2023-02-05T07:05:00",
          "2023-02-05T07:10:00",
          "2023-02-05T07:15:00",
          "2023-02-05T07:20:00",
          "2023-02-05T07:25:00",
          "2023-02-05T07:30:00",
          "2023-02-05T07:35:00",
          "2023-02-05T07:40:00",
          "2023-02-05T07:45:00",
          "2023-02-05T07:50:00",
          "2023-02-05T07:55:00",
          "2023-02-05T08:00:00",
          "2023-02-05T08:05:00",
          "2023-02-05T08:10:00",
          "2023-02-05T08:15:00",
          "2023-02-05T08:20:00",
          "2023-02-05T08:25:00",
          "2023-02-05T08:30:00",
          "2023-02-05T08:35:00",
          "2023-02-05T08:40:00",
          "2023-02-05T08:45:00",
          "2023-02-05T08:50:00",
          "2023-02-05T08:55:00",
          "2023-02-05T09:00:00",
          "2023-02-05T09:05:00",
          "2023-02-05T09:10:00",
          "2023-02-05T09:15:00",
          "2023-02-05T09:20:00",
          "2023-02-05T09:25:00",
          "2023-02-05T09:30:00",
          "2023-02-05T09:35:00",
          "2023-02-05T09:40:00",
          "2023-02-05T09:45:00",
          "2023-02-05T09:50:00",
          "2023-02-05T09:55:00",
          "2023-02-05T10:00:00",
          "2023-02-05T10:05:00",
          "2023-02-05T10:10:00",
          "2023-02-05T10:15:00",
          "2023-02-05T10:20:00",
          "2023-02-05T10:25:00",
          "2023-02-05T10:30:00",
          "2023-02-05T10:35:00",
          "2023-02-05T10:40:00",
          "2023-02-05T10:45:00",
          "2023-02-05T10:50:00",
          "2023-02-05T10:55:00",
          "2023-02-05T11:00:00",
          "2023-02-05T11:05:00",
          "2023-02-05T11:10:00",
          "2023-02-05T11:15:00",
          "2023-02-05T11:20:00",
          "2023-02-05T11:25:00",
          "2023-02-05T11:30:00",
          "2023-02-05T11:35:00",
          "2023-02-05T11:40:00",
          "2023-02-05T11:45:00",
          "2023-02-05T11:50:00",
          "2023-02-05T11:55:00",
          "2023-02-05T12:00:00",
          "2023-02-05T12:05:00",
          "2023-02-05T12:10:00",
          "2023-02-05T12:15:00",
          "2023-02-05T12:20:00",
          "2023-02-05T12:25:00",
          "2023-02-05T12:30:00",
          "2023-02-05T12:35:00",
          "2023-02-05T12:40:00",
          "2023-02-05T12:45:00",
          "2023-02-05T12:50:00",
          "2023-02-05T12:55:00",
          "2023-02-05T13:00:00",
          "2023-02-05T13:05:00",
          "2023-02-05T13:10:00",
          "2023-02-05T13:15:00",
          "2023-02-05T13:20:00",
          "2023-02-05T13:25:00",
          "2023-02-05T13:30:00",
          "2023-02-05T13:35:00",
          "2023-02-05T13:40:00",
          "2023-02-05T13:45:00",
          "2023-02-05T13:50:00",
          "2023-02-05T13:55:00",
          "2023-02-05T14:00:00",
          "2023-02-05T14:05:00",
          "2023-02-05T14:10:00",
          "2023-02-05T14:15:00",
          "2023-02-05T14:20:00",
          "2023-02-05T14:25:00",
          "2023-02-05T14:30:00",
          "2023-02-05T14:35:00",
          "2023-02-05T14:40:00",
          "2023-02-05T14:45:00",
          "2023-02-05T14:50:00",
          "2023-02-05T14:55:00",
          "2023-02-05T15:00:00",
          "2023-02-05T15:05:00",
          "2023-02-05T15:10:00",
          "2023-02-05T15:15:00",
          "2023-02-05T15:20:00",
          "2023-02-05T15:25:00",
          "2023-02-05T15:30:00",
          "2023-02-05T15:35:00",
          "2023-02-05T15:40:00",
          "2023-02-05T15:45:00",
          "2023-02-05T15:50:00",
          "2023-02-05T15:55:00",
          "2023-02-05T16:00:00",
          "2023-02-05T16:05:00",
          "2023-02-05T16:10:00",
          "2023-02-05T16:15:00",
          "2023-02-05T16:20:00",
          "2023-02-05T16:25:00",
          "2023-02-05T16:30:00",
          "2023-02-05T16:35:00",
          "2023-02-05T16:40:00",
          "2023-02-05T16:45:00",
          "2023-02-05T16:50:00",
          "2023-02-05T16:55:00",
          "2023-02-05T17:00:00",
          "2023-02-05T17:05:00",
          "2023-02-05T17:10:00",
          "2023-02-05T17:15:00",
          "2023-02-05T17:20:00",
          "2023-02-05T17:25:00",
          "2023-02-05T17:30:00",
          "2023-02-05T17:35:00",
          "2023-02-05T17:40:00",
          "2023-02-05T17:45:00",
          "2023-02-05T17:50:00",
          "2023-02-05T17:55:00",
          "2023-02-05T18:00:00",
          "2023-02-05T18:05:00",
          "2023-02-05T18:10:00",
          "2023-02-05T18:15:00",
          "2023-02-05T18:20:00",
          "2023-02-05T18:25:00",
          "2023-02-05T18:30:00",
          "2023-02-05T18:35:00",
          "2023-02-05T18:40:00",
          "2023-02-05T18:45:00",
          "2023-02-05T18:50:00",
          "2023-02-05T18:55:00",
          "2023-02-05T19:00:00",
          "2023-02-05T19:05:00",
          "2023-02-05T19:10:00",
          "2023-02-05T19:15:00",
          "2023-02-05T19:20:00",
          "2023-02-05T19:25:00",
          "2023-02-05T19:30:00",
          "2023-02-05T19:35:00",
          "2023-02-05T19:40:00",
          "2023-02-05T19:45:00",
          "2023-02-05T19:50:00",
          "2023-02-05T19:55:00",
          "2023-02-05T20:00:00",
          "2023-02-05T20:05:00",
          "2023-02-05T20:10:00",
          "2023-02-05T20:15:00",
          "2023-02-05T20:20:00",
          "2023-02-05T20:25:00",
          "2023-02-05T20:30:00",
          "2023-02-05T20:35:00",
          "2023-02-05T20:40:00",
          "2023-02-05T20:45:00",
          "2023-02-05T20:50:00",
          "2023-02-05T20:55:00",
          "2023-02-05T21:00:00",
          "2023-02-05T21:05:00",
          "2023-02-05T21:10:00",
          "2023-02-05T21:15:00",
          "2023-02-05T21:20:00",
          "2023-02-05T21:25:00",
          "2023-02-05T21:30:00",
          "2023-02-05T21:35:00",
          "2023-02-05T21:40:00",
          "2023-02-05T21:45:00",
          "2023-02-05T21:50:00",
          "2023-02-05T21:55:00",
          "2023-02-05T22:00:00",
          "2023-02-05T22:05:00",
          "2023-02-05T22:10:00",
          "2023-02-05T22:15:00",
          "2023-02-05T22:20:00",
          "2023-02-05T22:25:00",
          "2023-02-05T22:30:00",
          "2023-02-05T22:35:00",
          "2023-02-05T22:40:00",
          "2023-02-05T22:45:00",
          "2023-02-05T22:50:00",
          "2023-02-05T22:55:00",
          "2023-02-05T23:00:00",
          "2023-02-05T23:05:00",
          "2023-02-05T23:10:00",
          "2023-02-05T23:15:00",
          "2023-02-05T23:20:00",
          "2023-02-05T23:25:00",
          "2023-02-05T23:30:00",
          "2023-02-05T23:35:00",
          "2023-02-05T23:40:00",
          "2023-02-05T23:45:00",
          "2023-02-05T23:50:00",
          "2023-02-05T23:55:00"
         ],
         "xaxis": "x",
         "y": [
          0,
          0,
          0,
          0,
          0,
          0,
          0,
          0,
          0,
          0,
          0,
          0,
          0,
          0,
          0,
          0,
          0,
          0,
          0,
          0,
          0,
          0,
          0,
          0,
          0,
          0,
          0,
          0,
          0,
          0,
          0,
          0,
          0,
          0,
          0,
          0,
          0,
          0,
          0,
          0,
          0,
          0,
          0,
          0,
          0,
          0,
          0,
          0,
          0,
          0,
          0,
          0,
          0,
          0,
          0,
          0,
          0,
          0,
          0,
          0,
          0,
          0,
          0,
          0,
          0,
          0,
          0,
          0,
          0,
          0,
          0,
          0,
          0,
          0,
          0,
          0,
          0,
          0,
          0,
          0,
          0,
          0,
          0,
          0,
          0,
          0,
          0,
          0,
          0,
          0,
          0,
          0,
          0,
          0,
          0,
          0,
          0,
          0,
          0,
          0,
          0,
          0,
          0,
          0,
          0,
          0,
          0,
          0,
          0,
          0,
          0,
          0,
          0,
          0,
          0,
          0,
          0,
          0,
          0,
          0,
          0,
          0,
          0,
          0,
          0,
          0,
          0,
          0,
          0,
          0,
          0,
          0,
          0,
          0,
          0,
          0,
          0,
          0,
          0,
          0,
          0,
          0,
          0,
          0,
          0,
          0,
          0,
          0,
          0,
          0,
          0,
          0,
          0,
          0,
          0,
          0,
          0,
          0,
          0,
          0,
          0,
          0,
          0,
          0,
          0,
          0,
          0,
          0,
          0,
          6499,
          6499,
          6499,
          6499,
          6499,
          6499,
          6499,
          6499,
          6499,
          6499,
          6499,
          6499,
          6499,
          6499,
          6499,
          6499,
          6499,
          6499,
          6499,
          6499,
          6499,
          6499,
          6499,
          6499,
          6499,
          6499,
          6499,
          6499,
          6499,
          6499,
          6499,
          6499,
          6499,
          6499,
          6499,
          6499,
          6499,
          6499,
          6499,
          6499,
          6499,
          0,
          0,
          0,
          0,
          0,
          0,
          0,
          0,
          0,
          0,
          0,
          0,
          0,
          0,
          0,
          0,
          0,
          0,
          0,
          0,
          0,
          0,
          0,
          0,
          0,
          0,
          0,
          0,
          0,
          0,
          0,
          0,
          0,
          0,
          0,
          0,
          0,
          0,
          0,
          0,
          0,
          0,
          0,
          0,
          0,
          0,
          0,
          0,
          0,
          0,
          0,
          0,
          0,
          0,
          0,
          0,
          0,
          0,
          0,
          0,
          0,
          0,
          0,
          0,
          0,
          0,
          0,
          0,
          0,
          0,
          0,
          0,
          0,
          0,
          0,
          0,
          0,
          0
         ],
         "yaxis": "y"
        }
       ],
       "layout": {
        "barmode": "relative",
        "legend": {
         "title": {
          "text": "userId"
         },
         "tracegroupgap": 0
        },
        "margin": {
         "t": 60
        },
        "template": {
         "data": {
          "bar": [
           {
            "error_x": {
             "color": "#2a3f5f"
            },
            "error_y": {
             "color": "#2a3f5f"
            },
            "marker": {
             "line": {
              "color": "#E5ECF6",
              "width": 0.5
             },
             "pattern": {
              "fillmode": "overlay",
              "size": 10,
              "solidity": 0.2
             }
            },
            "type": "bar"
           }
          ],
          "barpolar": [
           {
            "marker": {
             "line": {
              "color": "#E5ECF6",
              "width": 0.5
             },
             "pattern": {
              "fillmode": "overlay",
              "size": 10,
              "solidity": 0.2
             }
            },
            "type": "barpolar"
           }
          ],
          "carpet": [
           {
            "aaxis": {
             "endlinecolor": "#2a3f5f",
             "gridcolor": "white",
             "linecolor": "white",
             "minorgridcolor": "white",
             "startlinecolor": "#2a3f5f"
            },
            "baxis": {
             "endlinecolor": "#2a3f5f",
             "gridcolor": "white",
             "linecolor": "white",
             "minorgridcolor": "white",
             "startlinecolor": "#2a3f5f"
            },
            "type": "carpet"
           }
          ],
          "choropleth": [
           {
            "colorbar": {
             "outlinewidth": 0,
             "ticks": ""
            },
            "type": "choropleth"
           }
          ],
          "contour": [
           {
            "colorbar": {
             "outlinewidth": 0,
             "ticks": ""
            },
            "colorscale": [
             [
              0,
              "#0d0887"
             ],
             [
              0.1111111111111111,
              "#46039f"
             ],
             [
              0.2222222222222222,
              "#7201a8"
             ],
             [
              0.3333333333333333,
              "#9c179e"
             ],
             [
              0.4444444444444444,
              "#bd3786"
             ],
             [
              0.5555555555555556,
              "#d8576b"
             ],
             [
              0.6666666666666666,
              "#ed7953"
             ],
             [
              0.7777777777777778,
              "#fb9f3a"
             ],
             [
              0.8888888888888888,
              "#fdca26"
             ],
             [
              1,
              "#f0f921"
             ]
            ],
            "type": "contour"
           }
          ],
          "contourcarpet": [
           {
            "colorbar": {
             "outlinewidth": 0,
             "ticks": ""
            },
            "type": "contourcarpet"
           }
          ],
          "heatmap": [
           {
            "colorbar": {
             "outlinewidth": 0,
             "ticks": ""
            },
            "colorscale": [
             [
              0,
              "#0d0887"
             ],
             [
              0.1111111111111111,
              "#46039f"
             ],
             [
              0.2222222222222222,
              "#7201a8"
             ],
             [
              0.3333333333333333,
              "#9c179e"
             ],
             [
              0.4444444444444444,
              "#bd3786"
             ],
             [
              0.5555555555555556,
              "#d8576b"
             ],
             [
              0.6666666666666666,
              "#ed7953"
             ],
             [
              0.7777777777777778,
              "#fb9f3a"
             ],
             [
              0.8888888888888888,
              "#fdca26"
             ],
             [
              1,
              "#f0f921"
             ]
            ],
            "type": "heatmap"
           }
          ],
          "heatmapgl": [
           {
            "colorbar": {
             "outlinewidth": 0,
             "ticks": ""
            },
            "colorscale": [
             [
              0,
              "#0d0887"
             ],
             [
              0.1111111111111111,
              "#46039f"
             ],
             [
              0.2222222222222222,
              "#7201a8"
             ],
             [
              0.3333333333333333,
              "#9c179e"
             ],
             [
              0.4444444444444444,
              "#bd3786"
             ],
             [
              0.5555555555555556,
              "#d8576b"
             ],
             [
              0.6666666666666666,
              "#ed7953"
             ],
             [
              0.7777777777777778,
              "#fb9f3a"
             ],
             [
              0.8888888888888888,
              "#fdca26"
             ],
             [
              1,
              "#f0f921"
             ]
            ],
            "type": "heatmapgl"
           }
          ],
          "histogram": [
           {
            "marker": {
             "pattern": {
              "fillmode": "overlay",
              "size": 10,
              "solidity": 0.2
             }
            },
            "type": "histogram"
           }
          ],
          "histogram2d": [
           {
            "colorbar": {
             "outlinewidth": 0,
             "ticks": ""
            },
            "colorscale": [
             [
              0,
              "#0d0887"
             ],
             [
              0.1111111111111111,
              "#46039f"
             ],
             [
              0.2222222222222222,
              "#7201a8"
             ],
             [
              0.3333333333333333,
              "#9c179e"
             ],
             [
              0.4444444444444444,
              "#bd3786"
             ],
             [
              0.5555555555555556,
              "#d8576b"
             ],
             [
              0.6666666666666666,
              "#ed7953"
             ],
             [
              0.7777777777777778,
              "#fb9f3a"
             ],
             [
              0.8888888888888888,
              "#fdca26"
             ],
             [
              1,
              "#f0f921"
             ]
            ],
            "type": "histogram2d"
           }
          ],
          "histogram2dcontour": [
           {
            "colorbar": {
             "outlinewidth": 0,
             "ticks": ""
            },
            "colorscale": [
             [
              0,
              "#0d0887"
             ],
             [
              0.1111111111111111,
              "#46039f"
             ],
             [
              0.2222222222222222,
              "#7201a8"
             ],
             [
              0.3333333333333333,
              "#9c179e"
             ],
             [
              0.4444444444444444,
              "#bd3786"
             ],
             [
              0.5555555555555556,
              "#d8576b"
             ],
             [
              0.6666666666666666,
              "#ed7953"
             ],
             [
              0.7777777777777778,
              "#fb9f3a"
             ],
             [
              0.8888888888888888,
              "#fdca26"
             ],
             [
              1,
              "#f0f921"
             ]
            ],
            "type": "histogram2dcontour"
           }
          ],
          "mesh3d": [
           {
            "colorbar": {
             "outlinewidth": 0,
             "ticks": ""
            },
            "type": "mesh3d"
           }
          ],
          "parcoords": [
           {
            "line": {
             "colorbar": {
              "outlinewidth": 0,
              "ticks": ""
             }
            },
            "type": "parcoords"
           }
          ],
          "pie": [
           {
            "automargin": true,
            "type": "pie"
           }
          ],
          "scatter": [
           {
            "fillpattern": {
             "fillmode": "overlay",
             "size": 10,
             "solidity": 0.2
            },
            "type": "scatter"
           }
          ],
          "scatter3d": [
           {
            "line": {
             "colorbar": {
              "outlinewidth": 0,
              "ticks": ""
             }
            },
            "marker": {
             "colorbar": {
              "outlinewidth": 0,
              "ticks": ""
             }
            },
            "type": "scatter3d"
           }
          ],
          "scattercarpet": [
           {
            "marker": {
             "colorbar": {
              "outlinewidth": 0,
              "ticks": ""
             }
            },
            "type": "scattercarpet"
           }
          ],
          "scattergeo": [
           {
            "marker": {
             "colorbar": {
              "outlinewidth": 0,
              "ticks": ""
             }
            },
            "type": "scattergeo"
           }
          ],
          "scattergl": [
           {
            "marker": {
             "colorbar": {
              "outlinewidth": 0,
              "ticks": ""
             }
            },
            "type": "scattergl"
           }
          ],
          "scattermapbox": [
           {
            "marker": {
             "colorbar": {
              "outlinewidth": 0,
              "ticks": ""
             }
            },
            "type": "scattermapbox"
           }
          ],
          "scatterpolar": [
           {
            "marker": {
             "colorbar": {
              "outlinewidth": 0,
              "ticks": ""
             }
            },
            "type": "scatterpolar"
           }
          ],
          "scatterpolargl": [
           {
            "marker": {
             "colorbar": {
              "outlinewidth": 0,
              "ticks": ""
             }
            },
            "type": "scatterpolargl"
           }
          ],
          "scatterternary": [
           {
            "marker": {
             "colorbar": {
              "outlinewidth": 0,
              "ticks": ""
             }
            },
            "type": "scatterternary"
           }
          ],
          "surface": [
           {
            "colorbar": {
             "outlinewidth": 0,
             "ticks": ""
            },
            "colorscale": [
             [
              0,
              "#0d0887"
             ],
             [
              0.1111111111111111,
              "#46039f"
             ],
             [
              0.2222222222222222,
              "#7201a8"
             ],
             [
              0.3333333333333333,
              "#9c179e"
             ],
             [
              0.4444444444444444,
              "#bd3786"
             ],
             [
              0.5555555555555556,
              "#d8576b"
             ],
             [
              0.6666666666666666,
              "#ed7953"
             ],
             [
              0.7777777777777778,
              "#fb9f3a"
             ],
             [
              0.8888888888888888,
              "#fdca26"
             ],
             [
              1,
              "#f0f921"
             ]
            ],
            "type": "surface"
           }
          ],
          "table": [
           {
            "cells": {
             "fill": {
              "color": "#EBF0F8"
             },
             "line": {
              "color": "white"
             }
            },
            "header": {
             "fill": {
              "color": "#C8D4E3"
             },
             "line": {
              "color": "white"
             }
            },
            "type": "table"
           }
          ]
         },
         "layout": {
          "annotationdefaults": {
           "arrowcolor": "#2a3f5f",
           "arrowhead": 0,
           "arrowwidth": 1
          },
          "autotypenumbers": "strict",
          "coloraxis": {
           "colorbar": {
            "outlinewidth": 0,
            "ticks": ""
           }
          },
          "colorscale": {
           "diverging": [
            [
             0,
             "#8e0152"
            ],
            [
             0.1,
             "#c51b7d"
            ],
            [
             0.2,
             "#de77ae"
            ],
            [
             0.3,
             "#f1b6da"
            ],
            [
             0.4,
             "#fde0ef"
            ],
            [
             0.5,
             "#f7f7f7"
            ],
            [
             0.6,
             "#e6f5d0"
            ],
            [
             0.7,
             "#b8e186"
            ],
            [
             0.8,
             "#7fbc41"
            ],
            [
             0.9,
             "#4d9221"
            ],
            [
             1,
             "#276419"
            ]
           ],
           "sequential": [
            [
             0,
             "#0d0887"
            ],
            [
             0.1111111111111111,
             "#46039f"
            ],
            [
             0.2222222222222222,
             "#7201a8"
            ],
            [
             0.3333333333333333,
             "#9c179e"
            ],
            [
             0.4444444444444444,
             "#bd3786"
            ],
            [
             0.5555555555555556,
             "#d8576b"
            ],
            [
             0.6666666666666666,
             "#ed7953"
            ],
            [
             0.7777777777777778,
             "#fb9f3a"
            ],
            [
             0.8888888888888888,
             "#fdca26"
            ],
            [
             1,
             "#f0f921"
            ]
           ],
           "sequentialminus": [
            [
             0,
             "#0d0887"
            ],
            [
             0.1111111111111111,
             "#46039f"
            ],
            [
             0.2222222222222222,
             "#7201a8"
            ],
            [
             0.3333333333333333,
             "#9c179e"
            ],
            [
             0.4444444444444444,
             "#bd3786"
            ],
            [
             0.5555555555555556,
             "#d8576b"
            ],
            [
             0.6666666666666666,
             "#ed7953"
            ],
            [
             0.7777777777777778,
             "#fb9f3a"
            ],
            [
             0.8888888888888888,
             "#fdca26"
            ],
            [
             1,
             "#f0f921"
            ]
           ]
          },
          "colorway": [
           "#636efa",
           "#EF553B",
           "#00cc96",
           "#ab63fa",
           "#FFA15A",
           "#19d3f3",
           "#FF6692",
           "#B6E880",
           "#FF97FF",
           "#FECB52"
          ],
          "font": {
           "color": "#2a3f5f"
          },
          "geo": {
           "bgcolor": "white",
           "lakecolor": "white",
           "landcolor": "#E5ECF6",
           "showlakes": true,
           "showland": true,
           "subunitcolor": "white"
          },
          "hoverlabel": {
           "align": "left"
          },
          "hovermode": "closest",
          "mapbox": {
           "style": "light"
          },
          "paper_bgcolor": "white",
          "plot_bgcolor": "#E5ECF6",
          "polar": {
           "angularaxis": {
            "gridcolor": "white",
            "linecolor": "white",
            "ticks": ""
           },
           "bgcolor": "#E5ECF6",
           "radialaxis": {
            "gridcolor": "white",
            "linecolor": "white",
            "ticks": ""
           }
          },
          "scene": {
           "xaxis": {
            "backgroundcolor": "#E5ECF6",
            "gridcolor": "white",
            "gridwidth": 2,
            "linecolor": "white",
            "showbackground": true,
            "ticks": "",
            "zerolinecolor": "white"
           },
           "yaxis": {
            "backgroundcolor": "#E5ECF6",
            "gridcolor": "white",
            "gridwidth": 2,
            "linecolor": "white",
            "showbackground": true,
            "ticks": "",
            "zerolinecolor": "white"
           },
           "zaxis": {
            "backgroundcolor": "#E5ECF6",
            "gridcolor": "white",
            "gridwidth": 2,
            "linecolor": "white",
            "showbackground": true,
            "ticks": "",
            "zerolinecolor": "white"
           }
          },
          "shapedefaults": {
           "line": {
            "color": "#2a3f5f"
           }
          },
          "ternary": {
           "aaxis": {
            "gridcolor": "white",
            "linecolor": "white",
            "ticks": ""
           },
           "baxis": {
            "gridcolor": "white",
            "linecolor": "white",
            "ticks": ""
           },
           "bgcolor": "#E5ECF6",
           "caxis": {
            "gridcolor": "white",
            "linecolor": "white",
            "ticks": ""
           }
          },
          "title": {
           "x": 0.05
          },
          "xaxis": {
           "automargin": true,
           "gridcolor": "white",
           "linecolor": "white",
           "ticks": "",
           "title": {
            "standoff": 15
           },
           "zerolinecolor": "white",
           "zerolinewidth": 2
          },
          "yaxis": {
           "automargin": true,
           "gridcolor": "white",
           "linecolor": "white",
           "ticks": "",
           "title": {
            "standoff": 15
           },
           "zerolinecolor": "white",
           "zerolinewidth": 2
          }
         }
        },
        "xaxis": {
         "anchor": "y",
         "domain": [
          0,
          1
         ],
         "title": {
          "text": "time_vals"
         }
        },
        "yaxis": {
         "anchor": "x",
         "domain": [
          0,
          1
         ],
         "showgrid": false,
         "title": {
          "text": "power_vals"
         }
        }
       }
      }
     },
     "metadata": {},
     "output_type": "display_data"
    }
   ],
   "source": [
    "fig = px.bar(clean, x=clean[\"time_vals\"], y=clean[\"power_vals\"], color=clean[\"userId\"])\n",
    "fig.update_yaxes(showgrid=False)\n",
    "fig"
   ]
  },
  {
   "cell_type": "code",
   "execution_count": 34,
   "id": "85e22037",
   "metadata": {},
   "outputs": [
    {
     "data": {
      "text/plain": [
       "Model Y    1\n",
       "Name: vehicle_model, dtype: int64"
      ]
     },
     "execution_count": 34,
     "metadata": {},
     "output_type": "execute_result"
    }
   ],
   "source": [
    "car_pie = clean[[\"dcosId\", \"vehicle_model\"]].groupby(\"dcosId\").first()\n",
    "car_pie[\"vehicle_model\"].value_counts()"
   ]
  },
  {
   "cell_type": "code",
   "execution_count": 35,
   "id": "df55859d",
   "metadata": {},
   "outputs": [
    {
     "data": {
      "application/vnd.plotly.v1+json": {
       "config": {
        "plotlyServerURL": "https://plot.ly"
       },
       "data": [
        {
         "domain": {
          "x": [
           0,
           1
          ],
          "y": [
           0,
           1
          ]
         },
         "hovertemplate": "label=%{label}<br>value=%{value}<extra></extra>",
         "labels": [
          "Model Y"
         ],
         "legendgroup": "",
         "name": "",
         "showlegend": true,
         "type": "pie",
         "values": [
          1
         ]
        }
       ],
       "layout": {
        "legend": {
         "tracegroupgap": 0
        },
        "margin": {
         "t": 60
        },
        "template": {
         "data": {
          "bar": [
           {
            "error_x": {
             "color": "#2a3f5f"
            },
            "error_y": {
             "color": "#2a3f5f"
            },
            "marker": {
             "line": {
              "color": "#E5ECF6",
              "width": 0.5
             },
             "pattern": {
              "fillmode": "overlay",
              "size": 10,
              "solidity": 0.2
             }
            },
            "type": "bar"
           }
          ],
          "barpolar": [
           {
            "marker": {
             "line": {
              "color": "#E5ECF6",
              "width": 0.5
             },
             "pattern": {
              "fillmode": "overlay",
              "size": 10,
              "solidity": 0.2
             }
            },
            "type": "barpolar"
           }
          ],
          "carpet": [
           {
            "aaxis": {
             "endlinecolor": "#2a3f5f",
             "gridcolor": "white",
             "linecolor": "white",
             "minorgridcolor": "white",
             "startlinecolor": "#2a3f5f"
            },
            "baxis": {
             "endlinecolor": "#2a3f5f",
             "gridcolor": "white",
             "linecolor": "white",
             "minorgridcolor": "white",
             "startlinecolor": "#2a3f5f"
            },
            "type": "carpet"
           }
          ],
          "choropleth": [
           {
            "colorbar": {
             "outlinewidth": 0,
             "ticks": ""
            },
            "type": "choropleth"
           }
          ],
          "contour": [
           {
            "colorbar": {
             "outlinewidth": 0,
             "ticks": ""
            },
            "colorscale": [
             [
              0,
              "#0d0887"
             ],
             [
              0.1111111111111111,
              "#46039f"
             ],
             [
              0.2222222222222222,
              "#7201a8"
             ],
             [
              0.3333333333333333,
              "#9c179e"
             ],
             [
              0.4444444444444444,
              "#bd3786"
             ],
             [
              0.5555555555555556,
              "#d8576b"
             ],
             [
              0.6666666666666666,
              "#ed7953"
             ],
             [
              0.7777777777777778,
              "#fb9f3a"
             ],
             [
              0.8888888888888888,
              "#fdca26"
             ],
             [
              1,
              "#f0f921"
             ]
            ],
            "type": "contour"
           }
          ],
          "contourcarpet": [
           {
            "colorbar": {
             "outlinewidth": 0,
             "ticks": ""
            },
            "type": "contourcarpet"
           }
          ],
          "heatmap": [
           {
            "colorbar": {
             "outlinewidth": 0,
             "ticks": ""
            },
            "colorscale": [
             [
              0,
              "#0d0887"
             ],
             [
              0.1111111111111111,
              "#46039f"
             ],
             [
              0.2222222222222222,
              "#7201a8"
             ],
             [
              0.3333333333333333,
              "#9c179e"
             ],
             [
              0.4444444444444444,
              "#bd3786"
             ],
             [
              0.5555555555555556,
              "#d8576b"
             ],
             [
              0.6666666666666666,
              "#ed7953"
             ],
             [
              0.7777777777777778,
              "#fb9f3a"
             ],
             [
              0.8888888888888888,
              "#fdca26"
             ],
             [
              1,
              "#f0f921"
             ]
            ],
            "type": "heatmap"
           }
          ],
          "heatmapgl": [
           {
            "colorbar": {
             "outlinewidth": 0,
             "ticks": ""
            },
            "colorscale": [
             [
              0,
              "#0d0887"
             ],
             [
              0.1111111111111111,
              "#46039f"
             ],
             [
              0.2222222222222222,
              "#7201a8"
             ],
             [
              0.3333333333333333,
              "#9c179e"
             ],
             [
              0.4444444444444444,
              "#bd3786"
             ],
             [
              0.5555555555555556,
              "#d8576b"
             ],
             [
              0.6666666666666666,
              "#ed7953"
             ],
             [
              0.7777777777777778,
              "#fb9f3a"
             ],
             [
              0.8888888888888888,
              "#fdca26"
             ],
             [
              1,
              "#f0f921"
             ]
            ],
            "type": "heatmapgl"
           }
          ],
          "histogram": [
           {
            "marker": {
             "pattern": {
              "fillmode": "overlay",
              "size": 10,
              "solidity": 0.2
             }
            },
            "type": "histogram"
           }
          ],
          "histogram2d": [
           {
            "colorbar": {
             "outlinewidth": 0,
             "ticks": ""
            },
            "colorscale": [
             [
              0,
              "#0d0887"
             ],
             [
              0.1111111111111111,
              "#46039f"
             ],
             [
              0.2222222222222222,
              "#7201a8"
             ],
             [
              0.3333333333333333,
              "#9c179e"
             ],
             [
              0.4444444444444444,
              "#bd3786"
             ],
             [
              0.5555555555555556,
              "#d8576b"
             ],
             [
              0.6666666666666666,
              "#ed7953"
             ],
             [
              0.7777777777777778,
              "#fb9f3a"
             ],
             [
              0.8888888888888888,
              "#fdca26"
             ],
             [
              1,
              "#f0f921"
             ]
            ],
            "type": "histogram2d"
           }
          ],
          "histogram2dcontour": [
           {
            "colorbar": {
             "outlinewidth": 0,
             "ticks": ""
            },
            "colorscale": [
             [
              0,
              "#0d0887"
             ],
             [
              0.1111111111111111,
              "#46039f"
             ],
             [
              0.2222222222222222,
              "#7201a8"
             ],
             [
              0.3333333333333333,
              "#9c179e"
             ],
             [
              0.4444444444444444,
              "#bd3786"
             ],
             [
              0.5555555555555556,
              "#d8576b"
             ],
             [
              0.6666666666666666,
              "#ed7953"
             ],
             [
              0.7777777777777778,
              "#fb9f3a"
             ],
             [
              0.8888888888888888,
              "#fdca26"
             ],
             [
              1,
              "#f0f921"
             ]
            ],
            "type": "histogram2dcontour"
           }
          ],
          "mesh3d": [
           {
            "colorbar": {
             "outlinewidth": 0,
             "ticks": ""
            },
            "type": "mesh3d"
           }
          ],
          "parcoords": [
           {
            "line": {
             "colorbar": {
              "outlinewidth": 0,
              "ticks": ""
             }
            },
            "type": "parcoords"
           }
          ],
          "pie": [
           {
            "automargin": true,
            "type": "pie"
           }
          ],
          "scatter": [
           {
            "fillpattern": {
             "fillmode": "overlay",
             "size": 10,
             "solidity": 0.2
            },
            "type": "scatter"
           }
          ],
          "scatter3d": [
           {
            "line": {
             "colorbar": {
              "outlinewidth": 0,
              "ticks": ""
             }
            },
            "marker": {
             "colorbar": {
              "outlinewidth": 0,
              "ticks": ""
             }
            },
            "type": "scatter3d"
           }
          ],
          "scattercarpet": [
           {
            "marker": {
             "colorbar": {
              "outlinewidth": 0,
              "ticks": ""
             }
            },
            "type": "scattercarpet"
           }
          ],
          "scattergeo": [
           {
            "marker": {
             "colorbar": {
              "outlinewidth": 0,
              "ticks": ""
             }
            },
            "type": "scattergeo"
           }
          ],
          "scattergl": [
           {
            "marker": {
             "colorbar": {
              "outlinewidth": 0,
              "ticks": ""
             }
            },
            "type": "scattergl"
           }
          ],
          "scattermapbox": [
           {
            "marker": {
             "colorbar": {
              "outlinewidth": 0,
              "ticks": ""
             }
            },
            "type": "scattermapbox"
           }
          ],
          "scatterpolar": [
           {
            "marker": {
             "colorbar": {
              "outlinewidth": 0,
              "ticks": ""
             }
            },
            "type": "scatterpolar"
           }
          ],
          "scatterpolargl": [
           {
            "marker": {
             "colorbar": {
              "outlinewidth": 0,
              "ticks": ""
             }
            },
            "type": "scatterpolargl"
           }
          ],
          "scatterternary": [
           {
            "marker": {
             "colorbar": {
              "outlinewidth": 0,
              "ticks": ""
             }
            },
            "type": "scatterternary"
           }
          ],
          "surface": [
           {
            "colorbar": {
             "outlinewidth": 0,
             "ticks": ""
            },
            "colorscale": [
             [
              0,
              "#0d0887"
             ],
             [
              0.1111111111111111,
              "#46039f"
             ],
             [
              0.2222222222222222,
              "#7201a8"
             ],
             [
              0.3333333333333333,
              "#9c179e"
             ],
             [
              0.4444444444444444,
              "#bd3786"
             ],
             [
              0.5555555555555556,
              "#d8576b"
             ],
             [
              0.6666666666666666,
              "#ed7953"
             ],
             [
              0.7777777777777778,
              "#fb9f3a"
             ],
             [
              0.8888888888888888,
              "#fdca26"
             ],
             [
              1,
              "#f0f921"
             ]
            ],
            "type": "surface"
           }
          ],
          "table": [
           {
            "cells": {
             "fill": {
              "color": "#EBF0F8"
             },
             "line": {
              "color": "white"
             }
            },
            "header": {
             "fill": {
              "color": "#C8D4E3"
             },
             "line": {
              "color": "white"
             }
            },
            "type": "table"
           }
          ]
         },
         "layout": {
          "annotationdefaults": {
           "arrowcolor": "#2a3f5f",
           "arrowhead": 0,
           "arrowwidth": 1
          },
          "autotypenumbers": "strict",
          "coloraxis": {
           "colorbar": {
            "outlinewidth": 0,
            "ticks": ""
           }
          },
          "colorscale": {
           "diverging": [
            [
             0,
             "#8e0152"
            ],
            [
             0.1,
             "#c51b7d"
            ],
            [
             0.2,
             "#de77ae"
            ],
            [
             0.3,
             "#f1b6da"
            ],
            [
             0.4,
             "#fde0ef"
            ],
            [
             0.5,
             "#f7f7f7"
            ],
            [
             0.6,
             "#e6f5d0"
            ],
            [
             0.7,
             "#b8e186"
            ],
            [
             0.8,
             "#7fbc41"
            ],
            [
             0.9,
             "#4d9221"
            ],
            [
             1,
             "#276419"
            ]
           ],
           "sequential": [
            [
             0,
             "#0d0887"
            ],
            [
             0.1111111111111111,
             "#46039f"
            ],
            [
             0.2222222222222222,
             "#7201a8"
            ],
            [
             0.3333333333333333,
             "#9c179e"
            ],
            [
             0.4444444444444444,
             "#bd3786"
            ],
            [
             0.5555555555555556,
             "#d8576b"
            ],
            [
             0.6666666666666666,
             "#ed7953"
            ],
            [
             0.7777777777777778,
             "#fb9f3a"
            ],
            [
             0.8888888888888888,
             "#fdca26"
            ],
            [
             1,
             "#f0f921"
            ]
           ],
           "sequentialminus": [
            [
             0,
             "#0d0887"
            ],
            [
             0.1111111111111111,
             "#46039f"
            ],
            [
             0.2222222222222222,
             "#7201a8"
            ],
            [
             0.3333333333333333,
             "#9c179e"
            ],
            [
             0.4444444444444444,
             "#bd3786"
            ],
            [
             0.5555555555555556,
             "#d8576b"
            ],
            [
             0.6666666666666666,
             "#ed7953"
            ],
            [
             0.7777777777777778,
             "#fb9f3a"
            ],
            [
             0.8888888888888888,
             "#fdca26"
            ],
            [
             1,
             "#f0f921"
            ]
           ]
          },
          "colorway": [
           "#636efa",
           "#EF553B",
           "#00cc96",
           "#ab63fa",
           "#FFA15A",
           "#19d3f3",
           "#FF6692",
           "#B6E880",
           "#FF97FF",
           "#FECB52"
          ],
          "font": {
           "color": "#2a3f5f"
          },
          "geo": {
           "bgcolor": "white",
           "lakecolor": "white",
           "landcolor": "#E5ECF6",
           "showlakes": true,
           "showland": true,
           "subunitcolor": "white"
          },
          "hoverlabel": {
           "align": "left"
          },
          "hovermode": "closest",
          "mapbox": {
           "style": "light"
          },
          "paper_bgcolor": "white",
          "plot_bgcolor": "#E5ECF6",
          "polar": {
           "angularaxis": {
            "gridcolor": "white",
            "linecolor": "white",
            "ticks": ""
           },
           "bgcolor": "#E5ECF6",
           "radialaxis": {
            "gridcolor": "white",
            "linecolor": "white",
            "ticks": ""
           }
          },
          "scene": {
           "xaxis": {
            "backgroundcolor": "#E5ECF6",
            "gridcolor": "white",
            "gridwidth": 2,
            "linecolor": "white",
            "showbackground": true,
            "ticks": "",
            "zerolinecolor": "white"
           },
           "yaxis": {
            "backgroundcolor": "#E5ECF6",
            "gridcolor": "white",
            "gridwidth": 2,
            "linecolor": "white",
            "showbackground": true,
            "ticks": "",
            "zerolinecolor": "white"
           },
           "zaxis": {
            "backgroundcolor": "#E5ECF6",
            "gridcolor": "white",
            "gridwidth": 2,
            "linecolor": "white",
            "showbackground": true,
            "ticks": "",
            "zerolinecolor": "white"
           }
          },
          "shapedefaults": {
           "line": {
            "color": "#2a3f5f"
           }
          },
          "ternary": {
           "aaxis": {
            "gridcolor": "white",
            "linecolor": "white",
            "ticks": ""
           },
           "baxis": {
            "gridcolor": "white",
            "linecolor": "white",
            "ticks": ""
           },
           "bgcolor": "#E5ECF6",
           "caxis": {
            "gridcolor": "white",
            "linecolor": "white",
            "ticks": ""
           }
          },
          "title": {
           "x": 0.05
          },
          "xaxis": {
           "automargin": true,
           "gridcolor": "white",
           "linecolor": "white",
           "ticks": "",
           "title": {
            "standoff": 15
           },
           "zerolinecolor": "white",
           "zerolinewidth": 2
          },
          "yaxis": {
           "automargin": true,
           "gridcolor": "white",
           "linecolor": "white",
           "ticks": "",
           "title": {
            "standoff": 15
           },
           "zerolinecolor": "white",
           "zerolinewidth": 2
          }
         }
        }
       }
      }
     },
     "metadata": {},
     "output_type": "display_data"
    }
   ],
   "source": [
    "px.pie(values = car_pie[\"vehicle_model\"].value_counts(), names=car_pie[\"vehicle_model\"].value_counts().index)"
   ]
  },
  {
   "cell_type": "code",
   "execution_count": 37,
   "id": "6a5a919c",
   "metadata": {},
   "outputs": [
    {
     "data": {
      "text/html": [
       "<div>\n",
       "<style scoped>\n",
       "    .dataframe tbody tr th:only-of-type {\n",
       "        vertical-align: middle;\n",
       "    }\n",
       "\n",
       "    .dataframe tbody tr th {\n",
       "        vertical-align: top;\n",
       "    }\n",
       "\n",
       "    .dataframe thead th {\n",
       "        text-align: right;\n",
       "    }\n",
       "</style>\n",
       "<table border=\"1\" class=\"dataframe\">\n",
       "  <thead>\n",
       "    <tr style=\"text-align: right;\">\n",
       "      <th></th>\n",
       "      <th>Unnamed: 0.1</th>\n",
       "      <th>index</th>\n",
       "      <th>Unnamed: 0</th>\n",
       "      <th>vehicle_maxChgRate_W</th>\n",
       "      <th>peakPower_W</th>\n",
       "      <th>sch_centsPerHr</th>\n",
       "      <th>connectTime</th>\n",
       "      <th>vehicle_model</th>\n",
       "      <th>Duration</th>\n",
       "      <th>userId</th>\n",
       "      <th>regular</th>\n",
       "      <th>Deadline</th>\n",
       "      <th>startChargeTime</th>\n",
       "      <th>sch_centsPerOverstayHr</th>\n",
       "      <th>sch_centsPerKwh</th>\n",
       "      <th>choice</th>\n",
       "      <th>siteId</th>\n",
       "      <th>estCost</th>\n",
       "      <th>DurationHrs</th>\n",
       "      <th>dcosId</th>\n",
       "      <th>lastUpdate</th>\n",
       "      <th>energyReq_Wh</th>\n",
       "      <th>power</th>\n",
       "      <th>stationId</th>\n",
       "      <th>defaultDeadline</th>\n",
       "      <th>scheduled</th>\n",
       "      <th>cumEnergy_Wh</th>\n",
       "      <th>reg_centsPerHr</th>\n",
       "      <th>reqChargeTime_h</th>\n",
       "      <th>finishChargeTime</th>\n",
       "      <th>time_vals</th>\n",
       "      <th>power_vals</th>\n",
       "    </tr>\n",
       "  </thead>\n",
       "  <tbody>\n",
       "    <tr>\n",
       "      <th>0</th>\n",
       "      <td>0</td>\n",
       "      <td>3000</td>\n",
       "      <td>2131</td>\n",
       "      <td>112000</td>\n",
       "      <td>6499.0</td>\n",
       "      <td>250.0</td>\n",
       "      <td>2023-02-05 14:07:29</td>\n",
       "      <td>Model Y</td>\n",
       "      <td>0 days 03:24:20</td>\n",
       "      <td>1168</td>\n",
       "      <td>1</td>\n",
       "      <td>NaN</td>\n",
       "      <td>2023-02-05T15:25:48</td>\n",
       "      <td>400.0</td>\n",
       "      <td>0.0</td>\n",
       "      <td>REGULAR</td>\n",
       "      <td>25</td>\n",
       "      <td>5.16561</td>\n",
       "      <td>3.40555</td>\n",
       "      <td>4135</td>\n",
       "      <td>2023-02-05T18:50:08</td>\n",
       "      <td>NaN</td>\n",
       "      <td>[{'power_W': Decimal('6474'), 'timestamp': Dec...</td>\n",
       "      <td>18</td>\n",
       "      <td>2023-02-05T20:00:00</td>\n",
       "      <td>0</td>\n",
       "      <td>20959.0</td>\n",
       "      <td>137.0</td>\n",
       "      <td>3.224958</td>\n",
       "      <td>2023-02-05 17:20:59</td>\n",
       "      <td>2023-02-05 00:00:00</td>\n",
       "      <td>0.0</td>\n",
       "    </tr>\n",
       "    <tr>\n",
       "      <th>1</th>\n",
       "      <td>0</td>\n",
       "      <td>3000</td>\n",
       "      <td>2131</td>\n",
       "      <td>112000</td>\n",
       "      <td>6499.0</td>\n",
       "      <td>250.0</td>\n",
       "      <td>2023-02-05 14:07:29</td>\n",
       "      <td>Model Y</td>\n",
       "      <td>0 days 03:24:20</td>\n",
       "      <td>1168</td>\n",
       "      <td>1</td>\n",
       "      <td>NaN</td>\n",
       "      <td>2023-02-05T15:25:48</td>\n",
       "      <td>400.0</td>\n",
       "      <td>0.0</td>\n",
       "      <td>REGULAR</td>\n",
       "      <td>25</td>\n",
       "      <td>5.16561</td>\n",
       "      <td>3.40555</td>\n",
       "      <td>4135</td>\n",
       "      <td>2023-02-05T18:50:08</td>\n",
       "      <td>NaN</td>\n",
       "      <td>[{'power_W': Decimal('6474'), 'timestamp': Dec...</td>\n",
       "      <td>18</td>\n",
       "      <td>2023-02-05T20:00:00</td>\n",
       "      <td>0</td>\n",
       "      <td>20959.0</td>\n",
       "      <td>137.0</td>\n",
       "      <td>3.224958</td>\n",
       "      <td>2023-02-05 17:20:59</td>\n",
       "      <td>2023-02-05 00:05:00</td>\n",
       "      <td>0.0</td>\n",
       "    </tr>\n",
       "    <tr>\n",
       "      <th>2</th>\n",
       "      <td>0</td>\n",
       "      <td>3000</td>\n",
       "      <td>2131</td>\n",
       "      <td>112000</td>\n",
       "      <td>6499.0</td>\n",
       "      <td>250.0</td>\n",
       "      <td>2023-02-05 14:07:29</td>\n",
       "      <td>Model Y</td>\n",
       "      <td>0 days 03:24:20</td>\n",
       "      <td>1168</td>\n",
       "      <td>1</td>\n",
       "      <td>NaN</td>\n",
       "      <td>2023-02-05T15:25:48</td>\n",
       "      <td>400.0</td>\n",
       "      <td>0.0</td>\n",
       "      <td>REGULAR</td>\n",
       "      <td>25</td>\n",
       "      <td>5.16561</td>\n",
       "      <td>3.40555</td>\n",
       "      <td>4135</td>\n",
       "      <td>2023-02-05T18:50:08</td>\n",
       "      <td>NaN</td>\n",
       "      <td>[{'power_W': Decimal('6474'), 'timestamp': Dec...</td>\n",
       "      <td>18</td>\n",
       "      <td>2023-02-05T20:00:00</td>\n",
       "      <td>0</td>\n",
       "      <td>20959.0</td>\n",
       "      <td>137.0</td>\n",
       "      <td>3.224958</td>\n",
       "      <td>2023-02-05 17:20:59</td>\n",
       "      <td>2023-02-05 00:10:00</td>\n",
       "      <td>0.0</td>\n",
       "    </tr>\n",
       "    <tr>\n",
       "      <th>3</th>\n",
       "      <td>0</td>\n",
       "      <td>3000</td>\n",
       "      <td>2131</td>\n",
       "      <td>112000</td>\n",
       "      <td>6499.0</td>\n",
       "      <td>250.0</td>\n",
       "      <td>2023-02-05 14:07:29</td>\n",
       "      <td>Model Y</td>\n",
       "      <td>0 days 03:24:20</td>\n",
       "      <td>1168</td>\n",
       "      <td>1</td>\n",
       "      <td>NaN</td>\n",
       "      <td>2023-02-05T15:25:48</td>\n",
       "      <td>400.0</td>\n",
       "      <td>0.0</td>\n",
       "      <td>REGULAR</td>\n",
       "      <td>25</td>\n",
       "      <td>5.16561</td>\n",
       "      <td>3.40555</td>\n",
       "      <td>4135</td>\n",
       "      <td>2023-02-05T18:50:08</td>\n",
       "      <td>NaN</td>\n",
       "      <td>[{'power_W': Decimal('6474'), 'timestamp': Dec...</td>\n",
       "      <td>18</td>\n",
       "      <td>2023-02-05T20:00:00</td>\n",
       "      <td>0</td>\n",
       "      <td>20959.0</td>\n",
       "      <td>137.0</td>\n",
       "      <td>3.224958</td>\n",
       "      <td>2023-02-05 17:20:59</td>\n",
       "      <td>2023-02-05 00:15:00</td>\n",
       "      <td>0.0</td>\n",
       "    </tr>\n",
       "    <tr>\n",
       "      <th>4</th>\n",
       "      <td>0</td>\n",
       "      <td>3000</td>\n",
       "      <td>2131</td>\n",
       "      <td>112000</td>\n",
       "      <td>6499.0</td>\n",
       "      <td>250.0</td>\n",
       "      <td>2023-02-05 14:07:29</td>\n",
       "      <td>Model Y</td>\n",
       "      <td>0 days 03:24:20</td>\n",
       "      <td>1168</td>\n",
       "      <td>1</td>\n",
       "      <td>NaN</td>\n",
       "      <td>2023-02-05T15:25:48</td>\n",
       "      <td>400.0</td>\n",
       "      <td>0.0</td>\n",
       "      <td>REGULAR</td>\n",
       "      <td>25</td>\n",
       "      <td>5.16561</td>\n",
       "      <td>3.40555</td>\n",
       "      <td>4135</td>\n",
       "      <td>2023-02-05T18:50:08</td>\n",
       "      <td>NaN</td>\n",
       "      <td>[{'power_W': Decimal('6474'), 'timestamp': Dec...</td>\n",
       "      <td>18</td>\n",
       "      <td>2023-02-05T20:00:00</td>\n",
       "      <td>0</td>\n",
       "      <td>20959.0</td>\n",
       "      <td>137.0</td>\n",
       "      <td>3.224958</td>\n",
       "      <td>2023-02-05 17:20:59</td>\n",
       "      <td>2023-02-05 00:20:00</td>\n",
       "      <td>0.0</td>\n",
       "    </tr>\n",
       "    <tr>\n",
       "      <th>...</th>\n",
       "      <td>...</td>\n",
       "      <td>...</td>\n",
       "      <td>...</td>\n",
       "      <td>...</td>\n",
       "      <td>...</td>\n",
       "      <td>...</td>\n",
       "      <td>...</td>\n",
       "      <td>...</td>\n",
       "      <td>...</td>\n",
       "      <td>...</td>\n",
       "      <td>...</td>\n",
       "      <td>...</td>\n",
       "      <td>...</td>\n",
       "      <td>...</td>\n",
       "      <td>...</td>\n",
       "      <td>...</td>\n",
       "      <td>...</td>\n",
       "      <td>...</td>\n",
       "      <td>...</td>\n",
       "      <td>...</td>\n",
       "      <td>...</td>\n",
       "      <td>...</td>\n",
       "      <td>...</td>\n",
       "      <td>...</td>\n",
       "      <td>...</td>\n",
       "      <td>...</td>\n",
       "      <td>...</td>\n",
       "      <td>...</td>\n",
       "      <td>...</td>\n",
       "      <td>...</td>\n",
       "      <td>...</td>\n",
       "      <td>...</td>\n",
       "    </tr>\n",
       "    <tr>\n",
       "      <th>283</th>\n",
       "      <td>0</td>\n",
       "      <td>3000</td>\n",
       "      <td>2131</td>\n",
       "      <td>112000</td>\n",
       "      <td>6499.0</td>\n",
       "      <td>250.0</td>\n",
       "      <td>2023-02-05 14:07:29</td>\n",
       "      <td>Model Y</td>\n",
       "      <td>0 days 03:24:20</td>\n",
       "      <td>1168</td>\n",
       "      <td>1</td>\n",
       "      <td>NaN</td>\n",
       "      <td>2023-02-05T15:25:48</td>\n",
       "      <td>400.0</td>\n",
       "      <td>0.0</td>\n",
       "      <td>REGULAR</td>\n",
       "      <td>25</td>\n",
       "      <td>5.16561</td>\n",
       "      <td>3.40555</td>\n",
       "      <td>4135</td>\n",
       "      <td>2023-02-05T18:50:08</td>\n",
       "      <td>NaN</td>\n",
       "      <td>[{'power_W': Decimal('6474'), 'timestamp': Dec...</td>\n",
       "      <td>18</td>\n",
       "      <td>2023-02-05T20:00:00</td>\n",
       "      <td>0</td>\n",
       "      <td>20959.0</td>\n",
       "      <td>137.0</td>\n",
       "      <td>3.224958</td>\n",
       "      <td>2023-02-05 17:20:59</td>\n",
       "      <td>2023-02-05 23:35:00</td>\n",
       "      <td>0.0</td>\n",
       "    </tr>\n",
       "    <tr>\n",
       "      <th>284</th>\n",
       "      <td>0</td>\n",
       "      <td>3000</td>\n",
       "      <td>2131</td>\n",
       "      <td>112000</td>\n",
       "      <td>6499.0</td>\n",
       "      <td>250.0</td>\n",
       "      <td>2023-02-05 14:07:29</td>\n",
       "      <td>Model Y</td>\n",
       "      <td>0 days 03:24:20</td>\n",
       "      <td>1168</td>\n",
       "      <td>1</td>\n",
       "      <td>NaN</td>\n",
       "      <td>2023-02-05T15:25:48</td>\n",
       "      <td>400.0</td>\n",
       "      <td>0.0</td>\n",
       "      <td>REGULAR</td>\n",
       "      <td>25</td>\n",
       "      <td>5.16561</td>\n",
       "      <td>3.40555</td>\n",
       "      <td>4135</td>\n",
       "      <td>2023-02-05T18:50:08</td>\n",
       "      <td>NaN</td>\n",
       "      <td>[{'power_W': Decimal('6474'), 'timestamp': Dec...</td>\n",
       "      <td>18</td>\n",
       "      <td>2023-02-05T20:00:00</td>\n",
       "      <td>0</td>\n",
       "      <td>20959.0</td>\n",
       "      <td>137.0</td>\n",
       "      <td>3.224958</td>\n",
       "      <td>2023-02-05 17:20:59</td>\n",
       "      <td>2023-02-05 23:40:00</td>\n",
       "      <td>0.0</td>\n",
       "    </tr>\n",
       "    <tr>\n",
       "      <th>285</th>\n",
       "      <td>0</td>\n",
       "      <td>3000</td>\n",
       "      <td>2131</td>\n",
       "      <td>112000</td>\n",
       "      <td>6499.0</td>\n",
       "      <td>250.0</td>\n",
       "      <td>2023-02-05 14:07:29</td>\n",
       "      <td>Model Y</td>\n",
       "      <td>0 days 03:24:20</td>\n",
       "      <td>1168</td>\n",
       "      <td>1</td>\n",
       "      <td>NaN</td>\n",
       "      <td>2023-02-05T15:25:48</td>\n",
       "      <td>400.0</td>\n",
       "      <td>0.0</td>\n",
       "      <td>REGULAR</td>\n",
       "      <td>25</td>\n",
       "      <td>5.16561</td>\n",
       "      <td>3.40555</td>\n",
       "      <td>4135</td>\n",
       "      <td>2023-02-05T18:50:08</td>\n",
       "      <td>NaN</td>\n",
       "      <td>[{'power_W': Decimal('6474'), 'timestamp': Dec...</td>\n",
       "      <td>18</td>\n",
       "      <td>2023-02-05T20:00:00</td>\n",
       "      <td>0</td>\n",
       "      <td>20959.0</td>\n",
       "      <td>137.0</td>\n",
       "      <td>3.224958</td>\n",
       "      <td>2023-02-05 17:20:59</td>\n",
       "      <td>2023-02-05 23:45:00</td>\n",
       "      <td>0.0</td>\n",
       "    </tr>\n",
       "    <tr>\n",
       "      <th>286</th>\n",
       "      <td>0</td>\n",
       "      <td>3000</td>\n",
       "      <td>2131</td>\n",
       "      <td>112000</td>\n",
       "      <td>6499.0</td>\n",
       "      <td>250.0</td>\n",
       "      <td>2023-02-05 14:07:29</td>\n",
       "      <td>Model Y</td>\n",
       "      <td>0 days 03:24:20</td>\n",
       "      <td>1168</td>\n",
       "      <td>1</td>\n",
       "      <td>NaN</td>\n",
       "      <td>2023-02-05T15:25:48</td>\n",
       "      <td>400.0</td>\n",
       "      <td>0.0</td>\n",
       "      <td>REGULAR</td>\n",
       "      <td>25</td>\n",
       "      <td>5.16561</td>\n",
       "      <td>3.40555</td>\n",
       "      <td>4135</td>\n",
       "      <td>2023-02-05T18:50:08</td>\n",
       "      <td>NaN</td>\n",
       "      <td>[{'power_W': Decimal('6474'), 'timestamp': Dec...</td>\n",
       "      <td>18</td>\n",
       "      <td>2023-02-05T20:00:00</td>\n",
       "      <td>0</td>\n",
       "      <td>20959.0</td>\n",
       "      <td>137.0</td>\n",
       "      <td>3.224958</td>\n",
       "      <td>2023-02-05 17:20:59</td>\n",
       "      <td>2023-02-05 23:50:00</td>\n",
       "      <td>0.0</td>\n",
       "    </tr>\n",
       "    <tr>\n",
       "      <th>287</th>\n",
       "      <td>0</td>\n",
       "      <td>3000</td>\n",
       "      <td>2131</td>\n",
       "      <td>112000</td>\n",
       "      <td>6499.0</td>\n",
       "      <td>250.0</td>\n",
       "      <td>2023-02-05 14:07:29</td>\n",
       "      <td>Model Y</td>\n",
       "      <td>0 days 03:24:20</td>\n",
       "      <td>1168</td>\n",
       "      <td>1</td>\n",
       "      <td>NaN</td>\n",
       "      <td>2023-02-05T15:25:48</td>\n",
       "      <td>400.0</td>\n",
       "      <td>0.0</td>\n",
       "      <td>REGULAR</td>\n",
       "      <td>25</td>\n",
       "      <td>5.16561</td>\n",
       "      <td>3.40555</td>\n",
       "      <td>4135</td>\n",
       "      <td>2023-02-05T18:50:08</td>\n",
       "      <td>NaN</td>\n",
       "      <td>[{'power_W': Decimal('6474'), 'timestamp': Dec...</td>\n",
       "      <td>18</td>\n",
       "      <td>2023-02-05T20:00:00</td>\n",
       "      <td>0</td>\n",
       "      <td>20959.0</td>\n",
       "      <td>137.0</td>\n",
       "      <td>3.224958</td>\n",
       "      <td>2023-02-05 17:20:59</td>\n",
       "      <td>2023-02-05 23:55:00</td>\n",
       "      <td>0.0</td>\n",
       "    </tr>\n",
       "  </tbody>\n",
       "</table>\n",
       "<p>288 rows × 32 columns</p>\n",
       "</div>"
      ],
      "text/plain": [
       "     Unnamed: 0.1  index  Unnamed: 0  vehicle_maxChgRate_W  peakPower_W  \\\n",
       "0               0   3000        2131                112000       6499.0   \n",
       "1               0   3000        2131                112000       6499.0   \n",
       "2               0   3000        2131                112000       6499.0   \n",
       "3               0   3000        2131                112000       6499.0   \n",
       "4               0   3000        2131                112000       6499.0   \n",
       "..            ...    ...         ...                   ...          ...   \n",
       "283             0   3000        2131                112000       6499.0   \n",
       "284             0   3000        2131                112000       6499.0   \n",
       "285             0   3000        2131                112000       6499.0   \n",
       "286             0   3000        2131                112000       6499.0   \n",
       "287             0   3000        2131                112000       6499.0   \n",
       "\n",
       "     sch_centsPerHr          connectTime vehicle_model         Duration  \\\n",
       "0             250.0  2023-02-05 14:07:29       Model Y  0 days 03:24:20   \n",
       "1             250.0  2023-02-05 14:07:29       Model Y  0 days 03:24:20   \n",
       "2             250.0  2023-02-05 14:07:29       Model Y  0 days 03:24:20   \n",
       "3             250.0  2023-02-05 14:07:29       Model Y  0 days 03:24:20   \n",
       "4             250.0  2023-02-05 14:07:29       Model Y  0 days 03:24:20   \n",
       "..              ...                  ...           ...              ...   \n",
       "283           250.0  2023-02-05 14:07:29       Model Y  0 days 03:24:20   \n",
       "284           250.0  2023-02-05 14:07:29       Model Y  0 days 03:24:20   \n",
       "285           250.0  2023-02-05 14:07:29       Model Y  0 days 03:24:20   \n",
       "286           250.0  2023-02-05 14:07:29       Model Y  0 days 03:24:20   \n",
       "287           250.0  2023-02-05 14:07:29       Model Y  0 days 03:24:20   \n",
       "\n",
       "     userId  regular  Deadline      startChargeTime  sch_centsPerOverstayHr  \\\n",
       "0      1168        1       NaN  2023-02-05T15:25:48                   400.0   \n",
       "1      1168        1       NaN  2023-02-05T15:25:48                   400.0   \n",
       "2      1168        1       NaN  2023-02-05T15:25:48                   400.0   \n",
       "3      1168        1       NaN  2023-02-05T15:25:48                   400.0   \n",
       "4      1168        1       NaN  2023-02-05T15:25:48                   400.0   \n",
       "..      ...      ...       ...                  ...                     ...   \n",
       "283    1168        1       NaN  2023-02-05T15:25:48                   400.0   \n",
       "284    1168        1       NaN  2023-02-05T15:25:48                   400.0   \n",
       "285    1168        1       NaN  2023-02-05T15:25:48                   400.0   \n",
       "286    1168        1       NaN  2023-02-05T15:25:48                   400.0   \n",
       "287    1168        1       NaN  2023-02-05T15:25:48                   400.0   \n",
       "\n",
       "     sch_centsPerKwh   choice  siteId  estCost  DurationHrs  dcosId  \\\n",
       "0                0.0  REGULAR      25  5.16561      3.40555    4135   \n",
       "1                0.0  REGULAR      25  5.16561      3.40555    4135   \n",
       "2                0.0  REGULAR      25  5.16561      3.40555    4135   \n",
       "3                0.0  REGULAR      25  5.16561      3.40555    4135   \n",
       "4                0.0  REGULAR      25  5.16561      3.40555    4135   \n",
       "..               ...      ...     ...      ...          ...     ...   \n",
       "283              0.0  REGULAR      25  5.16561      3.40555    4135   \n",
       "284              0.0  REGULAR      25  5.16561      3.40555    4135   \n",
       "285              0.0  REGULAR      25  5.16561      3.40555    4135   \n",
       "286              0.0  REGULAR      25  5.16561      3.40555    4135   \n",
       "287              0.0  REGULAR      25  5.16561      3.40555    4135   \n",
       "\n",
       "              lastUpdate  energyReq_Wh  \\\n",
       "0    2023-02-05T18:50:08           NaN   \n",
       "1    2023-02-05T18:50:08           NaN   \n",
       "2    2023-02-05T18:50:08           NaN   \n",
       "3    2023-02-05T18:50:08           NaN   \n",
       "4    2023-02-05T18:50:08           NaN   \n",
       "..                   ...           ...   \n",
       "283  2023-02-05T18:50:08           NaN   \n",
       "284  2023-02-05T18:50:08           NaN   \n",
       "285  2023-02-05T18:50:08           NaN   \n",
       "286  2023-02-05T18:50:08           NaN   \n",
       "287  2023-02-05T18:50:08           NaN   \n",
       "\n",
       "                                                 power  stationId  \\\n",
       "0    [{'power_W': Decimal('6474'), 'timestamp': Dec...         18   \n",
       "1    [{'power_W': Decimal('6474'), 'timestamp': Dec...         18   \n",
       "2    [{'power_W': Decimal('6474'), 'timestamp': Dec...         18   \n",
       "3    [{'power_W': Decimal('6474'), 'timestamp': Dec...         18   \n",
       "4    [{'power_W': Decimal('6474'), 'timestamp': Dec...         18   \n",
       "..                                                 ...        ...   \n",
       "283  [{'power_W': Decimal('6474'), 'timestamp': Dec...         18   \n",
       "284  [{'power_W': Decimal('6474'), 'timestamp': Dec...         18   \n",
       "285  [{'power_W': Decimal('6474'), 'timestamp': Dec...         18   \n",
       "286  [{'power_W': Decimal('6474'), 'timestamp': Dec...         18   \n",
       "287  [{'power_W': Decimal('6474'), 'timestamp': Dec...         18   \n",
       "\n",
       "         defaultDeadline  scheduled  cumEnergy_Wh  reg_centsPerHr  \\\n",
       "0    2023-02-05T20:00:00          0       20959.0           137.0   \n",
       "1    2023-02-05T20:00:00          0       20959.0           137.0   \n",
       "2    2023-02-05T20:00:00          0       20959.0           137.0   \n",
       "3    2023-02-05T20:00:00          0       20959.0           137.0   \n",
       "4    2023-02-05T20:00:00          0       20959.0           137.0   \n",
       "..                   ...        ...           ...             ...   \n",
       "283  2023-02-05T20:00:00          0       20959.0           137.0   \n",
       "284  2023-02-05T20:00:00          0       20959.0           137.0   \n",
       "285  2023-02-05T20:00:00          0       20959.0           137.0   \n",
       "286  2023-02-05T20:00:00          0       20959.0           137.0   \n",
       "287  2023-02-05T20:00:00          0       20959.0           137.0   \n",
       "\n",
       "     reqChargeTime_h     finishChargeTime            time_vals  power_vals  \n",
       "0           3.224958  2023-02-05 17:20:59  2023-02-05 00:00:00         0.0  \n",
       "1           3.224958  2023-02-05 17:20:59  2023-02-05 00:05:00         0.0  \n",
       "2           3.224958  2023-02-05 17:20:59  2023-02-05 00:10:00         0.0  \n",
       "3           3.224958  2023-02-05 17:20:59  2023-02-05 00:15:00         0.0  \n",
       "4           3.224958  2023-02-05 17:20:59  2023-02-05 00:20:00         0.0  \n",
       "..               ...                  ...                  ...         ...  \n",
       "283         3.224958  2023-02-05 17:20:59  2023-02-05 23:35:00         0.0  \n",
       "284         3.224958  2023-02-05 17:20:59  2023-02-05 23:40:00         0.0  \n",
       "285         3.224958  2023-02-05 17:20:59  2023-02-05 23:45:00         0.0  \n",
       "286         3.224958  2023-02-05 17:20:59  2023-02-05 23:50:00         0.0  \n",
       "287         3.224958  2023-02-05 17:20:59  2023-02-05 23:55:00         0.0  \n",
       "\n",
       "[288 rows x 32 columns]"
      ]
     },
     "execution_count": 37,
     "metadata": {},
     "output_type": "execute_result"
    }
   ],
   "source": [
    "pd.read_csv(\"data/todays_sessions.csv\")"
   ]
  },
  {
   "cell_type": "code",
   "execution_count": 18,
   "id": "063f8a68",
   "metadata": {},
   "outputs": [
    {
     "data": {
      "text/html": [
       "<div>\n",
       "<style scoped>\n",
       "    .dataframe tbody tr th:only-of-type {\n",
       "        vertical-align: middle;\n",
       "    }\n",
       "\n",
       "    .dataframe tbody tr th {\n",
       "        vertical-align: top;\n",
       "    }\n",
       "\n",
       "    .dataframe thead th {\n",
       "        text-align: right;\n",
       "    }\n",
       "</style>\n",
       "<table border=\"1\" class=\"dataframe\">\n",
       "  <thead>\n",
       "    <tr style=\"text-align: right;\">\n",
       "      <th></th>\n",
       "      <th>avg_power_demand_W</th>\n",
       "      <th>energy_demand_kWh</th>\n",
       "      <th>peak_power_W</th>\n",
       "      <th>day</th>\n",
       "      <th>month</th>\n",
       "    </tr>\n",
       "    <tr>\n",
       "      <th>time</th>\n",
       "      <th></th>\n",
       "      <th></th>\n",
       "      <th></th>\n",
       "      <th></th>\n",
       "      <th></th>\n",
       "    </tr>\n",
       "  </thead>\n",
       "  <tbody>\n",
       "    <tr>\n",
       "      <th>2020-11-05 10:00:00</th>\n",
       "      <td>6335.0</td>\n",
       "      <td>0.527917</td>\n",
       "      <td>6335.0</td>\n",
       "      <td>Thursday</td>\n",
       "      <td>November</td>\n",
       "    </tr>\n",
       "    <tr>\n",
       "      <th>2020-11-05 11:00:00</th>\n",
       "      <td>6335.0</td>\n",
       "      <td>0.527917</td>\n",
       "      <td>6335.0</td>\n",
       "      <td>Thursday</td>\n",
       "      <td>November</td>\n",
       "    </tr>\n",
       "    <tr>\n",
       "      <th>2020-11-05 12:00:00</th>\n",
       "      <td>0.0</td>\n",
       "      <td>0.000000</td>\n",
       "      <td>0.0</td>\n",
       "      <td>Thursday</td>\n",
       "      <td>November</td>\n",
       "    </tr>\n",
       "    <tr>\n",
       "      <th>2020-11-05 13:00:00</th>\n",
       "      <td>0.0</td>\n",
       "      <td>0.000000</td>\n",
       "      <td>0.0</td>\n",
       "      <td>Thursday</td>\n",
       "      <td>November</td>\n",
       "    </tr>\n",
       "    <tr>\n",
       "      <th>2020-11-05 14:00:00</th>\n",
       "      <td>0.0</td>\n",
       "      <td>0.000000</td>\n",
       "      <td>0.0</td>\n",
       "      <td>Thursday</td>\n",
       "      <td>November</td>\n",
       "    </tr>\n",
       "    <tr>\n",
       "      <th>...</th>\n",
       "      <td>...</td>\n",
       "      <td>...</td>\n",
       "      <td>...</td>\n",
       "      <td>...</td>\n",
       "      <td>...</td>\n",
       "    </tr>\n",
       "    <tr>\n",
       "      <th>2023-02-19 01:00:00</th>\n",
       "      <td>107.0</td>\n",
       "      <td>0.008917</td>\n",
       "      <td>107.0</td>\n",
       "      <td>Sunday</td>\n",
       "      <td>February</td>\n",
       "    </tr>\n",
       "    <tr>\n",
       "      <th>2023-02-19 02:00:00</th>\n",
       "      <td>107.0</td>\n",
       "      <td>0.008917</td>\n",
       "      <td>107.0</td>\n",
       "      <td>Sunday</td>\n",
       "      <td>February</td>\n",
       "    </tr>\n",
       "    <tr>\n",
       "      <th>2023-02-19 03:00:00</th>\n",
       "      <td>107.0</td>\n",
       "      <td>0.008917</td>\n",
       "      <td>107.0</td>\n",
       "      <td>Sunday</td>\n",
       "      <td>February</td>\n",
       "    </tr>\n",
       "    <tr>\n",
       "      <th>2023-02-19 04:00:00</th>\n",
       "      <td>107.0</td>\n",
       "      <td>0.008917</td>\n",
       "      <td>107.0</td>\n",
       "      <td>Sunday</td>\n",
       "      <td>February</td>\n",
       "    </tr>\n",
       "    <tr>\n",
       "      <th>2023-02-19 05:00:00</th>\n",
       "      <td>107.0</td>\n",
       "      <td>0.008917</td>\n",
       "      <td>107.0</td>\n",
       "      <td>Sunday</td>\n",
       "      <td>February</td>\n",
       "    </tr>\n",
       "  </tbody>\n",
       "</table>\n",
       "<p>20060 rows × 5 columns</p>\n",
       "</div>"
      ],
      "text/plain": [
       "                     avg_power_demand_W  energy_demand_kWh  peak_power_W  \\\n",
       "time                                                                       \n",
       "2020-11-05 10:00:00              6335.0           0.527917        6335.0   \n",
       "2020-11-05 11:00:00              6335.0           0.527917        6335.0   \n",
       "2020-11-05 12:00:00                 0.0           0.000000           0.0   \n",
       "2020-11-05 13:00:00                 0.0           0.000000           0.0   \n",
       "2020-11-05 14:00:00                 0.0           0.000000           0.0   \n",
       "...                                 ...                ...           ...   \n",
       "2023-02-19 01:00:00               107.0           0.008917         107.0   \n",
       "2023-02-19 02:00:00               107.0           0.008917         107.0   \n",
       "2023-02-19 03:00:00               107.0           0.008917         107.0   \n",
       "2023-02-19 04:00:00               107.0           0.008917         107.0   \n",
       "2023-02-19 05:00:00               107.0           0.008917         107.0   \n",
       "\n",
       "                          day     month  \n",
       "time                                     \n",
       "2020-11-05 10:00:00  Thursday  November  \n",
       "2020-11-05 11:00:00  Thursday  November  \n",
       "2020-11-05 12:00:00  Thursday  November  \n",
       "2020-11-05 13:00:00  Thursday  November  \n",
       "2020-11-05 14:00:00  Thursday  November  \n",
       "...                       ...       ...  \n",
       "2023-02-19 01:00:00    Sunday  February  \n",
       "2023-02-19 02:00:00    Sunday  February  \n",
       "2023-02-19 03:00:00    Sunday  February  \n",
       "2023-02-19 04:00:00    Sunday  February  \n",
       "2023-02-19 05:00:00    Sunday  February  \n",
       "\n",
       "[20060 rows x 5 columns]"
      ]
     },
     "execution_count": 18,
     "metadata": {},
     "output_type": "execute_result"
    }
   ],
   "source": [
    "df = pd.read_csv(\"data/fivemindemand.csv\")\n",
    "df.set_index(\"time\", drop=True, inplace=True)\n",
    "df.index = pd.to_datetime(df.index)\n",
    "df.resample(\"1H\").max()"
   ]
  },
  {
   "cell_type": "code",
   "execution_count": 22,
   "id": "f88a0169",
   "metadata": {},
   "outputs": [
    {
     "data": {
      "text/plain": [
       "(2592, 32)"
      ]
     },
     "execution_count": 22,
     "metadata": {},
     "output_type": "execute_result"
    }
   ],
   "source": [
    "df = pd.read_csv(\"data/todays_sessions.csv\")\n",
    "df.shape"
   ]
  },
  {
   "cell_type": "code",
   "execution_count": 25,
   "id": "baf31ab2",
   "metadata": {},
   "outputs": [
    {
     "name": "stdout",
     "output_type": "stream",
     "text": [
      "   Unnamed: 0  vehicle_maxChgRate_W  peakPower_W  sch_centsPerHr  \\\n",
      "0           0                  8800         3380           150.0   \n",
      "1           1                  6600         6563           250.0   \n",
      "2           2                170000         6822           250.0   \n",
      "3           3                  3600         3442           142.0   \n",
      "4           4                170000         5170           250.0   \n",
      "\n",
      "           connectTime              user_email vehicle_model         Duration  \\\n",
      "0  2022-01-07T06:23:52  lamartell@berkeley.edu   Prius Prime  0 days 01:40:50   \n",
      "1  2022-10-20T10:16:13     erfanm@berkeley.edu  Clarity PHEV  0 days 01:53:35   \n",
      "2  2023-02-02T22:08:40  amehregan@berkeley.edu       Model 3  0 days 00:56:17   \n",
      "3  2022-03-22T15:39:06    nthaman@berkeley.edu          Volt  0 days 04:26:19   \n",
      "4  2022-06-24T09:57:06   scott.moura@gmail.com       Model 3  0 days 06:37:26   \n",
      "\n",
      "   userId  regular             Deadline      startChargeTime  \\\n",
      "0     603        0  2022-01-07T08:15:00  2022-01-07T06:24:19   \n",
      "1     793        1                  NaN  2022-10-20T10:16:33   \n",
      "2     902        1                  NaN  2023-02-02T22:08:51   \n",
      "3     804        1                  NaN  2022-03-23T10:03:50   \n",
      "4     615        1                  NaN  2022-06-24T09:57:41   \n",
      "\n",
      "   sch_centsPerOverstayHr  sch_centsPerKwh     choice  siteId  estCost  \\\n",
      "0                   500.0              0.0  SCHEDULED      25  3.26708   \n",
      "1                   400.0              0.0    REGULAR      25  3.09348   \n",
      "2                   400.0              0.0    REGULAR      25  1.78513   \n",
      "3                   400.0              0.0    REGULAR      25  6.22580   \n",
      "4                   400.0              0.0    REGULAR      25  9.57472   \n",
      "\n",
      "                                       slrpPaymentId  DurationHrs  dcosId  \\\n",
      "0  8021073541d47f523b5c018e82e34477ef6fc0f04610cd...      1.68055    1838   \n",
      "1  46fd620dfb0f65509d36c93ced73d167268ade266ecb18...      1.89305    3416   \n",
      "2  40aa08c906ce9403a383ba4142ad4784d6af32df1e3dd4...      0.93805    4119   \n",
      "3  1178d775901330553b8f1002dbfd65fc96e0a35a9a22e8...      4.43861    2289   \n",
      "4  677481c9cf67f6563f944c9e44357b5e4a30925ef8a0b7...      6.62388    2733   \n",
      "\n",
      "            lastUpdate  energyReq_Wh  \\\n",
      "0  2022-01-07T08:05:09        8800.0   \n",
      "1  2022-10-20T12:10:08           NaN   \n",
      "2  2023-02-02T23:05:08           NaN   \n",
      "3  2022-03-23T14:30:09           NaN   \n",
      "4  2022-06-24T16:35:07           NaN   \n",
      "\n",
      "                                               power  stationId  \\\n",
      "0  [{'power_W': Decimal('1229'), 'timestamp': Dec...         12   \n",
      "1  [{'power_W': Decimal('6563'), 'timestamp': Dec...         17   \n",
      "2  [{'power_W': Decimal('6822'), 'timestamp': Dec...         11   \n",
      "3  [{'power_W': Decimal('0'), 'timestamp': Decima...         16   \n",
      "4  [{'power_W': Decimal('0'), 'timestamp': Decima...         16   \n",
      "\n",
      "       defaultDeadline  scheduled  cumEnergy_Wh  reg_centsPerHr  \n",
      "0  2022-01-07T08:15:00          1          4214           200.0  \n",
      "1  2022-10-20T15:30:00          0         11724           137.0  \n",
      "2  2023-02-03T12:00:00          0          6050           137.0  \n",
      "3  2022-03-23T15:45:00          0         14529           129.0  \n",
      "4  2022-06-24T21:30:00          0         34904           137.0  \n",
      "None\n"
     ]
    }
   ],
   "source": [
    "from sklearn.pipeline import Pipeline\n",
    "import pandas as pd\n",
    "import datacleaning.fullcleaningclasses as pc\n",
    "import datacleaning.sessionlevelcleaningclasses as sc\n",
    "\n",
    "raw_data = pd.read_csv(\"data/raw_data.csv\")\n",
    "\n",
    "# session level pipeline\n",
    "session_lvl_pipeline = Pipeline(\n",
    "    [\n",
    "        (\"sort_drop_cast\", sc.SortDropCast()),\n",
    "        (\"create_helpers\", sc.HelperFeatureCreation()),\n",
    "        (\"nested_ts\", sc.CreateNestedSessionTimeSeries()),\n",
    "        (\"save_csv\", sc.SaveCSV()),\n",
    "    ]\n",
    ")\n",
    "\n",
    "X = session_lvl_pipeline.fit_transform(raw_data)\n",
    "print(X)"
   ]
  },
  {
   "cell_type": "code",
   "execution_count": null,
   "id": "61bbc3b3",
   "metadata": {},
   "outputs": [],
   "source": []
  }
 ],
 "metadata": {
  "kernelspec": {
   "display_name": "base",
   "language": "python",
   "name": "python3"
  },
  "language_info": {
   "codemirror_mode": {
    "name": "ipython",
    "version": 3
   },
   "file_extension": ".py",
   "mimetype": "text/x-python",
   "name": "python",
   "nbconvert_exporter": "python",
   "pygments_lexer": "ipython3",
   "version": "3.9.12"
  },
  "vscode": {
   "interpreter": {
    "hash": "475dd3d8de922d6629668699edf7da91807dd0e731d2ca4abf0ed1b52cb8d54e"
   }
  }
 },
 "nbformat": 4,
 "nbformat_minor": 5
}
