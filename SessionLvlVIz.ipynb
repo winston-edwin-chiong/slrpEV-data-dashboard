{
 "cells": [
  {
   "cell_type": "code",
   "execution_count": 1,
   "id": "092882a5-2bf2-4b69-ac42-0b7e845850c5",
   "metadata": {},
   "outputs": [],
   "source": [
    "import pandas as pd \n",
    "from sklearn.pipeline import Pipeline\n",
    "from datacleaning.FetchData import FetchData\n",
    "from datacleaning.CleanData import CleanData\n",
    "from datetime import datetime\n",
    "import plotly.express as px\n",
    "\n",
    "pd.set_option(\"display.max_columns\", 100)"
   ]
  },
  {
   "cell_type": "code",
   "execution_count": 2,
   "id": "0310af50-144d-4f98-ba91-b0d3e2edbb7a",
   "metadata": {
    "tags": []
   },
   "outputs": [],
   "source": [
    "FetchData.scan_save_all_records()\n",
    "CleanData.clean_save_raw_data()"
   ]
  },
  {
   "cell_type": "code",
   "execution_count": 3,
   "id": "34178d50",
   "metadata": {},
   "outputs": [],
   "source": [
    "from sklearn.base import BaseEstimator, TransformerMixin\n",
    "import pandas as pd \n",
    "import numpy as np \n",
    "\n",
    "\n",
    "class SortDropCast(BaseEstimator, TransformerMixin):\n",
    "    \"\"\"\n",
    "    This pipeline step will sort values by field \"connectTime\",\n",
    "    drop columns \"user_email\", \"slrpPaymentId\", \n",
    "    and cast columns \"cumEnergy_Wh\", \"peakPower_W\" as float values. \n",
    "    \"\"\"\n",
    "    def fit(self, X, y=None):\n",
    "        return self\n",
    "\n",
    "    @staticmethod\n",
    "    def transform(X) -> pd.DataFrame:\n",
    "        X = X.sort_values(by=\"connectTime\").drop(columns=[\"user_email\", \"slrpPaymentId\"]).reset_index(drop=True)\n",
    "        X[\"cumEnergy_Wh\"] = X[\"cumEnergy_Wh\"].astype(float)\n",
    "        X[\"peakPower_W\"] = X[\"peakPower_W\"].astype(float)\n",
    "        return X\n",
    "\n",
    "\n",
    "class HelperFeatureCreation(BaseEstimator, TransformerMixin):\n",
    "    \"\"\"\n",
    "    This pipeline step will drop any records that contain 0 for \n",
    "    \"peakPower_W\" or \"cumEnergy_Wh\". Two additional columns will be created:\n",
    "    \"reqChargeTime\" and \"finishChargeTime\".\n",
    "    \"\"\"\n",
    "    def fit(self, X, y=None):\n",
    "        return self\n",
    "\n",
    "    @staticmethod\n",
    "    def transform(X) -> pd.DataFrame:\n",
    "        X = X.loc[(X[\"peakPower_W\"] != 0) & (X[\"cumEnergy_Wh\"] != 0)]\n",
    "        X = X.assign(reqChargeTime_h=(X[\"cumEnergy_Wh\"] / X[\"peakPower_W\"]))\n",
    "        X = X.assign(connectTime=(pd.to_datetime(X[\"connectTime\"])))\n",
    "        X = X.assign(\n",
    "            finishChargeTime=(X[\"connectTime\"] + pd.to_timedelta(X['reqChargeTime_h'], unit='hours').round(\"s\"))\n",
    "        )\n",
    "        return X \n",
    "\n",
    "\n",
    "class CreateNestedSessionTimeSeries(BaseEstimator, TransformerMixin):\n",
    "    \"\"\"\n",
    "    This pipeline step will create a time series for each session. Two new columns will be created, \n",
    "    \"time_vals\" and \"power_vals\", respective lists for a time and power demand. \"time_vals\" are rounded to the \n",
    "    closest 5 min. \n",
    "    \"\"\" \n",
    "    def __init__(self) -> None:\n",
    "        super().__init__()\n",
    "    \n",
    "    def fit(self, X, y=None):\n",
    "        return self \n",
    "\n",
    "    def transform(self, X) -> pd.DataFrame:\n",
    "        self.ts_df = pd.DataFrame(columns=[\"time_vals\", \"power_vals\"])\n",
    "        X.apply(self.__create_ts, axis=1)\n",
    "        X = pd.concat([X.reset_index(), self.ts_df], axis=1)\n",
    "        return X\n",
    "\n",
    "    def __create_ts(self, session):\n",
    "\n",
    "        date_range = pd.date_range(start=session[\"connectTime\"], end=session[\"finishChargeTime\"], freq=\"5min\").to_list()\n",
    "        power_vals = np.ones(len(date_range)) * session[\"peakPower_W\"]\n",
    "        \n",
    "        temp_df = pd.DataFrame([[date_range, power_vals]], columns=self.ts_df.columns)\n",
    "        self.ts_df = pd.concat([self.ts_df, temp_df], ignore_index=True)\n",
    "\n",
    "\n",
    "class FeatureCreation(BaseEstimator, TransformerMixin):\n",
    "    \"\"\"\n",
    "    This pipeline step will create an \"energy_demand_kWh\" and \"peak_power_W\" column. \n",
    "    The name of the dataframe's index will be set to \"time\", and \"day\" and \"month\" columns \n",
    "    will be created. \n",
    "    \"\"\"\n",
    "    def fit(self, X, y=None):\n",
    "        return self \n",
    "\n",
    "    @ staticmethod\n",
    "    def transform(X) -> pd.DataFrame:\n",
    "        X[\"energy_demand_kWh\"] = (X[\"avg_power_demand_W\"]/1000)/12\n",
    "        # for the highest granularity, peak power is equal to the power demand\n",
    "        # (different for different granularities though)\n",
    "        X[\"peak_power_W\"] = X[\"avg_power_demand_W\"] \n",
    "        X.index.name = \"time\"\n",
    "        X[\"day\"] = X.index.day_name()\n",
    "        X[\"month\"] = X.index.month_name()\n",
    "        return X\n"
   ]
  },
  {
   "cell_type": "code",
   "execution_count": 11,
   "id": "2bb7082f",
   "metadata": {},
   "outputs": [
    {
     "data": {
      "text/html": [
       "<div>\n",
       "<style scoped>\n",
       "    .dataframe tbody tr th:only-of-type {\n",
       "        vertical-align: middle;\n",
       "    }\n",
       "\n",
       "    .dataframe tbody tr th {\n",
       "        vertical-align: top;\n",
       "    }\n",
       "\n",
       "    .dataframe thead th {\n",
       "        text-align: right;\n",
       "    }\n",
       "</style>\n",
       "<table border=\"1\" class=\"dataframe\">\n",
       "  <thead>\n",
       "    <tr style=\"text-align: right;\">\n",
       "      <th></th>\n",
       "      <th>Unnamed: 0</th>\n",
       "      <th>vehicle_maxChgRate_W</th>\n",
       "      <th>peakPower_W</th>\n",
       "      <th>sch_centsPerHr</th>\n",
       "      <th>connectTime</th>\n",
       "      <th>user_email</th>\n",
       "      <th>vehicle_model</th>\n",
       "      <th>Duration</th>\n",
       "      <th>userId</th>\n",
       "      <th>regular</th>\n",
       "      <th>Deadline</th>\n",
       "      <th>startChargeTime</th>\n",
       "      <th>sch_centsPerOverstayHr</th>\n",
       "      <th>sch_centsPerKwh</th>\n",
       "      <th>choice</th>\n",
       "      <th>siteId</th>\n",
       "      <th>estCost</th>\n",
       "      <th>slrpPaymentId</th>\n",
       "      <th>DurationHrs</th>\n",
       "      <th>dcosId</th>\n",
       "      <th>lastUpdate</th>\n",
       "      <th>energyReq_Wh</th>\n",
       "      <th>power</th>\n",
       "      <th>stationId</th>\n",
       "      <th>defaultDeadline</th>\n",
       "      <th>scheduled</th>\n",
       "      <th>cumEnergy_Wh</th>\n",
       "      <th>reg_centsPerHr</th>\n",
       "    </tr>\n",
       "  </thead>\n",
       "  <tbody>\n",
       "    <tr>\n",
       "      <th>2629</th>\n",
       "      <td>2629</td>\n",
       "      <td>6600</td>\n",
       "      <td>6335</td>\n",
       "      <td>9.0</td>\n",
       "      <td>2020-11-05 10:30:16</td>\n",
       "      <td>yossarianassyrian@gmail.com</td>\n",
       "      <td>500e</td>\n",
       "      <td>0 days 03:43:57</td>\n",
       "      <td>605</td>\n",
       "      <td>1</td>\n",
       "      <td>NaN</td>\n",
       "      <td>2020-11-05T10:31:09</td>\n",
       "      <td>200.0</td>\n",
       "      <td>15.0</td>\n",
       "      <td>REGULAR</td>\n",
       "      <td>23</td>\n",
       "      <td>5.35224</td>\n",
       "      <td>6b108a9e64224989135baca2cffa2c596359c45ef2c0f0...</td>\n",
       "      <td>3.73249</td>\n",
       "      <td>24</td>\n",
       "      <td>2020-11-05T14:15:06</td>\n",
       "      <td>NaN</td>\n",
       "      <td>[{'power_W': Decimal('6259'), 'timestamp': Dec...</td>\n",
       "      <td>7</td>\n",
       "      <td>1969-12-31T16:00:00</td>\n",
       "      <td>0</td>\n",
       "      <td>3281</td>\n",
       "      <td>130.0</td>\n",
       "    </tr>\n",
       "    <tr>\n",
       "      <th>1376</th>\n",
       "      <td>1376</td>\n",
       "      <td>24000</td>\n",
       "      <td>7005</td>\n",
       "      <td>3.0</td>\n",
       "      <td>2020-11-11 07:39:55</td>\n",
       "      <td>sohum@ucsd.edu</td>\n",
       "      <td>Model 3</td>\n",
       "      <td>0 days 06:50:07</td>\n",
       "      <td>486</td>\n",
       "      <td>1</td>\n",
       "      <td>NaN</td>\n",
       "      <td>2020-11-11T07:39:59</td>\n",
       "      <td>200.0</td>\n",
       "      <td>15.0</td>\n",
       "      <td>REGULAR</td>\n",
       "      <td>23</td>\n",
       "      <td>10.75291</td>\n",
       "      <td>7e40611ff8f81771592628312547eedede36157d5aee63...</td>\n",
       "      <td>6.83527</td>\n",
       "      <td>26</td>\n",
       "      <td>2020-11-11T14:30:06</td>\n",
       "      <td>NaN</td>\n",
       "      <td>[{'power_W': Decimal('0'), 'timestamp': Decima...</td>\n",
       "      <td>3</td>\n",
       "      <td>2020-11-12T03:11:00</td>\n",
       "      <td>0</td>\n",
       "      <td>33458</td>\n",
       "      <td>150.0</td>\n",
       "    </tr>\n",
       "    <tr>\n",
       "      <th>2659</th>\n",
       "      <td>2659</td>\n",
       "      <td>3600</td>\n",
       "      <td>3450</td>\n",
       "      <td>3.0</td>\n",
       "      <td>2020-11-13 16:19:55</td>\n",
       "      <td>kylebhaas@berkeley.edu</td>\n",
       "      <td>Volt</td>\n",
       "      <td>0 days 20:40:02</td>\n",
       "      <td>620</td>\n",
       "      <td>0</td>\n",
       "      <td>2020-11-14T04:15:00</td>\n",
       "      <td>2020-11-13T16:20:06</td>\n",
       "      <td>300.0</td>\n",
       "      <td>12.0</td>\n",
       "      <td>SCHEDULED</td>\n",
       "      <td>25</td>\n",
       "      <td>29.32211</td>\n",
       "      <td>5475d7bfb9fdca49e239f14c88bc0ac50a8a26976a3e44...</td>\n",
       "      <td>20.66722</td>\n",
       "      <td>30</td>\n",
       "      <td>2020-11-14T13:00:08</td>\n",
       "      <td>18400.0</td>\n",
       "      <td>[{'power_W': Decimal('0'), 'timestamp': Decima...</td>\n",
       "      <td>12</td>\n",
       "      <td>2020-11-14T04:11:00</td>\n",
       "      <td>1</td>\n",
       "      <td>15216</td>\n",
       "      <td>180.0</td>\n",
       "    </tr>\n",
       "    <tr>\n",
       "      <th>675</th>\n",
       "      <td>675</td>\n",
       "      <td>7200</td>\n",
       "      <td>6889</td>\n",
       "      <td>3.0</td>\n",
       "      <td>2020-11-14 23:47:06</td>\n",
       "      <td>rayconstantino.me@gmail.com</td>\n",
       "      <td>Bolt</td>\n",
       "      <td>0 days 02:12:51</td>\n",
       "      <td>618</td>\n",
       "      <td>1</td>\n",
       "      <td>NaN</td>\n",
       "      <td>2020-11-14T23:47:16</td>\n",
       "      <td>400.0</td>\n",
       "      <td>18.0</td>\n",
       "      <td>REGULAR</td>\n",
       "      <td>23</td>\n",
       "      <td>3.82125</td>\n",
       "      <td>add3a0ba4ca2d77670c3d08bbfb1c0903774c48d08d305...</td>\n",
       "      <td>2.21416</td>\n",
       "      <td>31</td>\n",
       "      <td>2020-11-15T02:00:07</td>\n",
       "      <td>NaN</td>\n",
       "      <td>[{'power_W': Decimal('6889'), 'timestamp': Dec...</td>\n",
       "      <td>6</td>\n",
       "      <td>1969-12-31T16:00:00</td>\n",
       "      <td>0</td>\n",
       "      <td>14378</td>\n",
       "      <td>150.0</td>\n",
       "    </tr>\n",
       "    <tr>\n",
       "      <th>353</th>\n",
       "      <td>353</td>\n",
       "      <td>6000</td>\n",
       "      <td>6852</td>\n",
       "      <td>NaN</td>\n",
       "      <td>2020-11-16 11:38:44</td>\n",
       "      <td>khuffman@health.ucsd.edu</td>\n",
       "      <td>B-Class Electric Drive</td>\n",
       "      <td>0 days 03:12:45</td>\n",
       "      <td>623</td>\n",
       "      <td>1</td>\n",
       "      <td>NaN</td>\n",
       "      <td>2020-11-16T11:42:22</td>\n",
       "      <td>NaN</td>\n",
       "      <td>NaN</td>\n",
       "      <td>REGULAR</td>\n",
       "      <td>23</td>\n",
       "      <td>NaN</td>\n",
       "      <td>NaN</td>\n",
       "      <td>3.21249</td>\n",
       "      <td>32</td>\n",
       "      <td>2020-11-16T14:55:07</td>\n",
       "      <td>NaN</td>\n",
       "      <td>[{'power_W': Decimal('6813'), 'timestamp': Dec...</td>\n",
       "      <td>9</td>\n",
       "      <td>2020-11-17T04:11:00</td>\n",
       "      <td>0</td>\n",
       "      <td>12484</td>\n",
       "      <td>NaN</td>\n",
       "    </tr>\n",
       "    <tr>\n",
       "      <th>...</th>\n",
       "      <td>...</td>\n",
       "      <td>...</td>\n",
       "      <td>...</td>\n",
       "      <td>...</td>\n",
       "      <td>...</td>\n",
       "      <td>...</td>\n",
       "      <td>...</td>\n",
       "      <td>...</td>\n",
       "      <td>...</td>\n",
       "      <td>...</td>\n",
       "      <td>...</td>\n",
       "      <td>...</td>\n",
       "      <td>...</td>\n",
       "      <td>...</td>\n",
       "      <td>...</td>\n",
       "      <td>...</td>\n",
       "      <td>...</td>\n",
       "      <td>...</td>\n",
       "      <td>...</td>\n",
       "      <td>...</td>\n",
       "      <td>...</td>\n",
       "      <td>...</td>\n",
       "      <td>...</td>\n",
       "      <td>...</td>\n",
       "      <td>...</td>\n",
       "      <td>...</td>\n",
       "      <td>...</td>\n",
       "      <td>...</td>\n",
       "    </tr>\n",
       "    <tr>\n",
       "      <th>2101</th>\n",
       "      <td>2101</td>\n",
       "      <td>7000</td>\n",
       "      <td>3818</td>\n",
       "      <td>127.0</td>\n",
       "      <td>2023-02-01 07:43:25</td>\n",
       "      <td>grosales@berkeley.edu</td>\n",
       "      <td>Leaf</td>\n",
       "      <td>0 days 05:16:30</td>\n",
       "      <td>1067</td>\n",
       "      <td>1</td>\n",
       "      <td>NaN</td>\n",
       "      <td>2023-02-01T07:43:40</td>\n",
       "      <td>400.0</td>\n",
       "      <td>0.0</td>\n",
       "      <td>REGULAR</td>\n",
       "      <td>25</td>\n",
       "      <td>10.20599</td>\n",
       "      <td>277332d81349a2654cad7dbeb0f563b61fecbfaa794fcb...</td>\n",
       "      <td>5.27500</td>\n",
       "      <td>4101</td>\n",
       "      <td>2023-02-01T13:00:10</td>\n",
       "      <td>NaN</td>\n",
       "      <td>[{'power_W': Decimal('3813'), 'timestamp': Dec...</td>\n",
       "      <td>11</td>\n",
       "      <td>2023-02-01T13:30:00</td>\n",
       "      <td>0</td>\n",
       "      <td>12932</td>\n",
       "      <td>184.0</td>\n",
       "    </tr>\n",
       "    <tr>\n",
       "      <th>1565</th>\n",
       "      <td>1565</td>\n",
       "      <td>7000</td>\n",
       "      <td>6855</td>\n",
       "      <td>250.0</td>\n",
       "      <td>2023-02-01 09:38:09</td>\n",
       "      <td>stephanie.tomasco@alumni.berkeley.edu</td>\n",
       "      <td>Model Y</td>\n",
       "      <td>0 days 02:20:10</td>\n",
       "      <td>880</td>\n",
       "      <td>1</td>\n",
       "      <td>NaN</td>\n",
       "      <td>2023-02-01T09:40:05</td>\n",
       "      <td>400.0</td>\n",
       "      <td>0.0</td>\n",
       "      <td>REGULAR</td>\n",
       "      <td>25</td>\n",
       "      <td>3.70047</td>\n",
       "      <td>7223927243fc41dfd447834044d1c7dd43fb220effce90...</td>\n",
       "      <td>2.33611</td>\n",
       "      <td>4103</td>\n",
       "      <td>2023-02-01T12:00:15</td>\n",
       "      <td>NaN</td>\n",
       "      <td>[{'power_W': Decimal('0'), 'timestamp': Decima...</td>\n",
       "      <td>17</td>\n",
       "      <td>2023-02-01T16:30:00</td>\n",
       "      <td>0</td>\n",
       "      <td>15129</td>\n",
       "      <td>137.0</td>\n",
       "    </tr>\n",
       "    <tr>\n",
       "      <th>2260</th>\n",
       "      <td>2260</td>\n",
       "      <td>7000</td>\n",
       "      <td>6482</td>\n",
       "      <td>250.0</td>\n",
       "      <td>2023-02-01 10:53:06</td>\n",
       "      <td>ngkumar@berkeley.edu</td>\n",
       "      <td>Model Y</td>\n",
       "      <td>0 days 00:15:52</td>\n",
       "      <td>1139</td>\n",
       "      <td>1</td>\n",
       "      <td>NaN</td>\n",
       "      <td>2023-02-01T10:54:16</td>\n",
       "      <td>400.0</td>\n",
       "      <td>0.0</td>\n",
       "      <td>REGULAR</td>\n",
       "      <td>25</td>\n",
       "      <td>0.86228</td>\n",
       "      <td>87ef316f5ae058c55f21ffa5554f13b820b5b85eb749e5...</td>\n",
       "      <td>0.26444</td>\n",
       "      <td>4104</td>\n",
       "      <td>2023-02-01T11:10:08</td>\n",
       "      <td>NaN</td>\n",
       "      <td>[{'power_W': Decimal('1636'), 'timestamp': Dec...</td>\n",
       "      <td>13</td>\n",
       "      <td>2023-02-01T17:00:00</td>\n",
       "      <td>0</td>\n",
       "      <td>1575</td>\n",
       "      <td>137.0</td>\n",
       "    </tr>\n",
       "    <tr>\n",
       "      <th>1622</th>\n",
       "      <td>1622</td>\n",
       "      <td>100000</td>\n",
       "      <td>6656</td>\n",
       "      <td>250.0</td>\n",
       "      <td>2023-02-01 11:42:52</td>\n",
       "      <td>courtnee.butler@berkeley.edu</td>\n",
       "      <td>Kona</td>\n",
       "      <td>0 days 05:31:45</td>\n",
       "      <td>1149</td>\n",
       "      <td>1</td>\n",
       "      <td>NaN</td>\n",
       "      <td>2023-02-01T11:43:23</td>\n",
       "      <td>400.0</td>\n",
       "      <td>0.0</td>\n",
       "      <td>REGULAR</td>\n",
       "      <td>25</td>\n",
       "      <td>8.07495</td>\n",
       "      <td>2d2ac9072c881728aff5a6b3e67c35880999ed14920dba...</td>\n",
       "      <td>5.52916</td>\n",
       "      <td>4105</td>\n",
       "      <td>2023-02-01T17:15:08</td>\n",
       "      <td>NaN</td>\n",
       "      <td>[{'power_W': Decimal('3109'), 'timestamp': Dec...</td>\n",
       "      <td>15</td>\n",
       "      <td>2023-02-01T18:00:00</td>\n",
       "      <td>0</td>\n",
       "      <td>34897</td>\n",
       "      <td>137.0</td>\n",
       "    </tr>\n",
       "    <tr>\n",
       "      <th>80</th>\n",
       "      <td>80</td>\n",
       "      <td>17200</td>\n",
       "      <td>6278</td>\n",
       "      <td>250.0</td>\n",
       "      <td>2023-02-01 15:43:36</td>\n",
       "      <td>d_zhang@berkeley.edu</td>\n",
       "      <td>Model X</td>\n",
       "      <td>0 days 03:50:04</td>\n",
       "      <td>1180</td>\n",
       "      <td>1</td>\n",
       "      <td>NaN</td>\n",
       "      <td>2023-02-01T15:45:04</td>\n",
       "      <td>400.0</td>\n",
       "      <td>0.0</td>\n",
       "      <td>REGULAR</td>\n",
       "      <td>25</td>\n",
       "      <td>5.75318</td>\n",
       "      <td>f580eb714f2366e0ab2e030e41568ddd5a0ce0df5ef554...</td>\n",
       "      <td>3.83444</td>\n",
       "      <td>4106</td>\n",
       "      <td>2023-02-01T19:35:08</td>\n",
       "      <td>NaN</td>\n",
       "      <td>[{'power_W': Decimal('0'), 'timestamp': Decima...</td>\n",
       "      <td>13</td>\n",
       "      <td>2023-02-01T21:30:00</td>\n",
       "      <td>0</td>\n",
       "      <td>22747</td>\n",
       "      <td>137.0</td>\n",
       "    </tr>\n",
       "  </tbody>\n",
       "</table>\n",
       "<p>2979 rows × 28 columns</p>\n",
       "</div>"
      ],
      "text/plain": [
       "      Unnamed: 0  vehicle_maxChgRate_W  peakPower_W  sch_centsPerHr  \\\n",
       "2629        2629                  6600         6335             9.0   \n",
       "1376        1376                 24000         7005             3.0   \n",
       "2659        2659                  3600         3450             3.0   \n",
       "675          675                  7200         6889             3.0   \n",
       "353          353                  6000         6852             NaN   \n",
       "...          ...                   ...          ...             ...   \n",
       "2101        2101                  7000         3818           127.0   \n",
       "1565        1565                  7000         6855           250.0   \n",
       "2260        2260                  7000         6482           250.0   \n",
       "1622        1622                100000         6656           250.0   \n",
       "80            80                 17200         6278           250.0   \n",
       "\n",
       "             connectTime                             user_email  \\\n",
       "2629 2020-11-05 10:30:16            yossarianassyrian@gmail.com   \n",
       "1376 2020-11-11 07:39:55                         sohum@ucsd.edu   \n",
       "2659 2020-11-13 16:19:55                 kylebhaas@berkeley.edu   \n",
       "675  2020-11-14 23:47:06            rayconstantino.me@gmail.com   \n",
       "353  2020-11-16 11:38:44               khuffman@health.ucsd.edu   \n",
       "...                  ...                                    ...   \n",
       "2101 2023-02-01 07:43:25                  grosales@berkeley.edu   \n",
       "1565 2023-02-01 09:38:09  stephanie.tomasco@alumni.berkeley.edu   \n",
       "2260 2023-02-01 10:53:06                   ngkumar@berkeley.edu   \n",
       "1622 2023-02-01 11:42:52           courtnee.butler@berkeley.edu   \n",
       "80   2023-02-01 15:43:36                   d_zhang@berkeley.edu   \n",
       "\n",
       "               vehicle_model         Duration  userId  regular  \\\n",
       "2629                    500e  0 days 03:43:57     605        1   \n",
       "1376                 Model 3  0 days 06:50:07     486        1   \n",
       "2659                    Volt  0 days 20:40:02     620        0   \n",
       "675                     Bolt  0 days 02:12:51     618        1   \n",
       "353   B-Class Electric Drive  0 days 03:12:45     623        1   \n",
       "...                      ...              ...     ...      ...   \n",
       "2101                    Leaf  0 days 05:16:30    1067        1   \n",
       "1565                 Model Y  0 days 02:20:10     880        1   \n",
       "2260                 Model Y  0 days 00:15:52    1139        1   \n",
       "1622                    Kona  0 days 05:31:45    1149        1   \n",
       "80                   Model X  0 days 03:50:04    1180        1   \n",
       "\n",
       "                 Deadline      startChargeTime  sch_centsPerOverstayHr  \\\n",
       "2629                  NaN  2020-11-05T10:31:09                   200.0   \n",
       "1376                  NaN  2020-11-11T07:39:59                   200.0   \n",
       "2659  2020-11-14T04:15:00  2020-11-13T16:20:06                   300.0   \n",
       "675                   NaN  2020-11-14T23:47:16                   400.0   \n",
       "353                   NaN  2020-11-16T11:42:22                     NaN   \n",
       "...                   ...                  ...                     ...   \n",
       "2101                  NaN  2023-02-01T07:43:40                   400.0   \n",
       "1565                  NaN  2023-02-01T09:40:05                   400.0   \n",
       "2260                  NaN  2023-02-01T10:54:16                   400.0   \n",
       "1622                  NaN  2023-02-01T11:43:23                   400.0   \n",
       "80                    NaN  2023-02-01T15:45:04                   400.0   \n",
       "\n",
       "      sch_centsPerKwh     choice  siteId   estCost  \\\n",
       "2629             15.0    REGULAR      23   5.35224   \n",
       "1376             15.0    REGULAR      23  10.75291   \n",
       "2659             12.0  SCHEDULED      25  29.32211   \n",
       "675              18.0    REGULAR      23   3.82125   \n",
       "353               NaN    REGULAR      23       NaN   \n",
       "...               ...        ...     ...       ...   \n",
       "2101              0.0    REGULAR      25  10.20599   \n",
       "1565              0.0    REGULAR      25   3.70047   \n",
       "2260              0.0    REGULAR      25   0.86228   \n",
       "1622              0.0    REGULAR      25   8.07495   \n",
       "80                0.0    REGULAR      25   5.75318   \n",
       "\n",
       "                                          slrpPaymentId  DurationHrs  dcosId  \\\n",
       "2629  6b108a9e64224989135baca2cffa2c596359c45ef2c0f0...      3.73249      24   \n",
       "1376  7e40611ff8f81771592628312547eedede36157d5aee63...      6.83527      26   \n",
       "2659  5475d7bfb9fdca49e239f14c88bc0ac50a8a26976a3e44...     20.66722      30   \n",
       "675   add3a0ba4ca2d77670c3d08bbfb1c0903774c48d08d305...      2.21416      31   \n",
       "353                                                 NaN      3.21249      32   \n",
       "...                                                 ...          ...     ...   \n",
       "2101  277332d81349a2654cad7dbeb0f563b61fecbfaa794fcb...      5.27500    4101   \n",
       "1565  7223927243fc41dfd447834044d1c7dd43fb220effce90...      2.33611    4103   \n",
       "2260  87ef316f5ae058c55f21ffa5554f13b820b5b85eb749e5...      0.26444    4104   \n",
       "1622  2d2ac9072c881728aff5a6b3e67c35880999ed14920dba...      5.52916    4105   \n",
       "80    f580eb714f2366e0ab2e030e41568ddd5a0ce0df5ef554...      3.83444    4106   \n",
       "\n",
       "               lastUpdate  energyReq_Wh  \\\n",
       "2629  2020-11-05T14:15:06           NaN   \n",
       "1376  2020-11-11T14:30:06           NaN   \n",
       "2659  2020-11-14T13:00:08       18400.0   \n",
       "675   2020-11-15T02:00:07           NaN   \n",
       "353   2020-11-16T14:55:07           NaN   \n",
       "...                   ...           ...   \n",
       "2101  2023-02-01T13:00:10           NaN   \n",
       "1565  2023-02-01T12:00:15           NaN   \n",
       "2260  2023-02-01T11:10:08           NaN   \n",
       "1622  2023-02-01T17:15:08           NaN   \n",
       "80    2023-02-01T19:35:08           NaN   \n",
       "\n",
       "                                                  power  stationId  \\\n",
       "2629  [{'power_W': Decimal('6259'), 'timestamp': Dec...          7   \n",
       "1376  [{'power_W': Decimal('0'), 'timestamp': Decima...          3   \n",
       "2659  [{'power_W': Decimal('0'), 'timestamp': Decima...         12   \n",
       "675   [{'power_W': Decimal('6889'), 'timestamp': Dec...          6   \n",
       "353   [{'power_W': Decimal('6813'), 'timestamp': Dec...          9   \n",
       "...                                                 ...        ...   \n",
       "2101  [{'power_W': Decimal('3813'), 'timestamp': Dec...         11   \n",
       "1565  [{'power_W': Decimal('0'), 'timestamp': Decima...         17   \n",
       "2260  [{'power_W': Decimal('1636'), 'timestamp': Dec...         13   \n",
       "1622  [{'power_W': Decimal('3109'), 'timestamp': Dec...         15   \n",
       "80    [{'power_W': Decimal('0'), 'timestamp': Decima...         13   \n",
       "\n",
       "          defaultDeadline  scheduled  cumEnergy_Wh  reg_centsPerHr  \n",
       "2629  1969-12-31T16:00:00          0          3281           130.0  \n",
       "1376  2020-11-12T03:11:00          0         33458           150.0  \n",
       "2659  2020-11-14T04:11:00          1         15216           180.0  \n",
       "675   1969-12-31T16:00:00          0         14378           150.0  \n",
       "353   2020-11-17T04:11:00          0         12484             NaN  \n",
       "...                   ...        ...           ...             ...  \n",
       "2101  2023-02-01T13:30:00          0         12932           184.0  \n",
       "1565  2023-02-01T16:30:00          0         15129           137.0  \n",
       "2260  2023-02-01T17:00:00          0          1575           137.0  \n",
       "1622  2023-02-01T18:00:00          0         34897           137.0  \n",
       "80    2023-02-01T21:30:00          0         22747           137.0  \n",
       "\n",
       "[2979 rows x 28 columns]"
      ]
     },
     "execution_count": 11,
     "metadata": {},
     "output_type": "execute_result"
    }
   ],
   "source": [
    "raw = pd.read_csv(\"data/raw_data.csv\")\n",
    "raw = raw.sort_values(\"connectTime\")\n",
    "raw[\"connectTime\"] = pd.to_datetime(raw[\"connectTime\"])\n",
    "raw"
   ]
  },
  {
   "cell_type": "code",
   "execution_count": 21,
   "id": "420c2388",
   "metadata": {},
   "outputs": [],
   "source": [
    "pipeline = Pipeline([\n",
    "    (\"1\", SortDropCast()),\n",
    "    (\"2\", HelperFeatureCreation()),\n",
    "    (\"3\", CreateNestedSessionTimeSeries())\n",
    "])"
   ]
  },
  {
   "cell_type": "code",
   "execution_count": 36,
   "id": "4ddb034a-9e24-4964-a401-52df68b2e8a1",
   "metadata": {},
   "outputs": [
    {
     "data": {
      "text/html": [
       "<div>\n",
       "<style scoped>\n",
       "    .dataframe tbody tr th:only-of-type {\n",
       "        vertical-align: middle;\n",
       "    }\n",
       "\n",
       "    .dataframe tbody tr th {\n",
       "        vertical-align: top;\n",
       "    }\n",
       "\n",
       "    .dataframe thead th {\n",
       "        text-align: right;\n",
       "    }\n",
       "</style>\n",
       "<table border=\"1\" class=\"dataframe\">\n",
       "  <thead>\n",
       "    <tr style=\"text-align: right;\">\n",
       "      <th></th>\n",
       "      <th>index</th>\n",
       "      <th>Unnamed: 0</th>\n",
       "      <th>vehicle_maxChgRate_W</th>\n",
       "      <th>peakPower_W</th>\n",
       "      <th>sch_centsPerHr</th>\n",
       "      <th>connectTime</th>\n",
       "      <th>vehicle_model</th>\n",
       "      <th>Duration</th>\n",
       "      <th>userId</th>\n",
       "      <th>regular</th>\n",
       "      <th>Deadline</th>\n",
       "      <th>startChargeTime</th>\n",
       "      <th>sch_centsPerOverstayHr</th>\n",
       "      <th>sch_centsPerKwh</th>\n",
       "      <th>choice</th>\n",
       "      <th>siteId</th>\n",
       "      <th>estCost</th>\n",
       "      <th>DurationHrs</th>\n",
       "      <th>dcosId</th>\n",
       "      <th>lastUpdate</th>\n",
       "      <th>energyReq_Wh</th>\n",
       "      <th>power</th>\n",
       "      <th>stationId</th>\n",
       "      <th>defaultDeadline</th>\n",
       "      <th>scheduled</th>\n",
       "      <th>cumEnergy_Wh</th>\n",
       "      <th>reg_centsPerHr</th>\n",
       "      <th>reqChargeTime_h</th>\n",
       "      <th>finishChargeTime</th>\n",
       "      <th>time_vals</th>\n",
       "      <th>power_vals</th>\n",
       "    </tr>\n",
       "  </thead>\n",
       "  <tbody>\n",
       "    <tr>\n",
       "      <th>0</th>\n",
       "      <td>0</td>\n",
       "      <td>552</td>\n",
       "      <td>7200</td>\n",
       "      <td>6893.0</td>\n",
       "      <td>127.0</td>\n",
       "      <td>2023-02-01 07:43:09</td>\n",
       "      <td>Bolt</td>\n",
       "      <td>0 days 09:26:50</td>\n",
       "      <td>682</td>\n",
       "      <td>0</td>\n",
       "      <td>2023-02-01T17:30:00</td>\n",
       "      <td>2023-02-01T07:43:19</td>\n",
       "      <td>400.0</td>\n",
       "      <td>0.0</td>\n",
       "      <td>SCHEDULED</td>\n",
       "      <td>25</td>\n",
       "      <td>12.91813</td>\n",
       "      <td>9.44722</td>\n",
       "      <td>4100</td>\n",
       "      <td>2023-02-01T17:10:09</td>\n",
       "      <td>39580.0</td>\n",
       "      <td>[{'power_W': Decimal('6876'), 'timestamp': Dec...</td>\n",
       "      <td>16</td>\n",
       "      <td>2023-02-01T17:30:00</td>\n",
       "      <td>1</td>\n",
       "      <td>45967.0</td>\n",
       "      <td>184.0</td>\n",
       "      <td>6.668649</td>\n",
       "      <td>2023-02-01 14:23:16</td>\n",
       "      <td>2023-02-01 07:43:09</td>\n",
       "      <td>6893.0</td>\n",
       "    </tr>\n",
       "    <tr>\n",
       "      <th>0</th>\n",
       "      <td>0</td>\n",
       "      <td>552</td>\n",
       "      <td>7200</td>\n",
       "      <td>6893.0</td>\n",
       "      <td>127.0</td>\n",
       "      <td>2023-02-01 07:43:09</td>\n",
       "      <td>Bolt</td>\n",
       "      <td>0 days 09:26:50</td>\n",
       "      <td>682</td>\n",
       "      <td>0</td>\n",
       "      <td>2023-02-01T17:30:00</td>\n",
       "      <td>2023-02-01T07:43:19</td>\n",
       "      <td>400.0</td>\n",
       "      <td>0.0</td>\n",
       "      <td>SCHEDULED</td>\n",
       "      <td>25</td>\n",
       "      <td>12.91813</td>\n",
       "      <td>9.44722</td>\n",
       "      <td>4100</td>\n",
       "      <td>2023-02-01T17:10:09</td>\n",
       "      <td>39580.0</td>\n",
       "      <td>[{'power_W': Decimal('6876'), 'timestamp': Dec...</td>\n",
       "      <td>16</td>\n",
       "      <td>2023-02-01T17:30:00</td>\n",
       "      <td>1</td>\n",
       "      <td>45967.0</td>\n",
       "      <td>184.0</td>\n",
       "      <td>6.668649</td>\n",
       "      <td>2023-02-01 14:23:16</td>\n",
       "      <td>2023-02-01 07:48:09</td>\n",
       "      <td>6893.0</td>\n",
       "    </tr>\n",
       "    <tr>\n",
       "      <th>0</th>\n",
       "      <td>0</td>\n",
       "      <td>552</td>\n",
       "      <td>7200</td>\n",
       "      <td>6893.0</td>\n",
       "      <td>127.0</td>\n",
       "      <td>2023-02-01 07:43:09</td>\n",
       "      <td>Bolt</td>\n",
       "      <td>0 days 09:26:50</td>\n",
       "      <td>682</td>\n",
       "      <td>0</td>\n",
       "      <td>2023-02-01T17:30:00</td>\n",
       "      <td>2023-02-01T07:43:19</td>\n",
       "      <td>400.0</td>\n",
       "      <td>0.0</td>\n",
       "      <td>SCHEDULED</td>\n",
       "      <td>25</td>\n",
       "      <td>12.91813</td>\n",
       "      <td>9.44722</td>\n",
       "      <td>4100</td>\n",
       "      <td>2023-02-01T17:10:09</td>\n",
       "      <td>39580.0</td>\n",
       "      <td>[{'power_W': Decimal('6876'), 'timestamp': Dec...</td>\n",
       "      <td>16</td>\n",
       "      <td>2023-02-01T17:30:00</td>\n",
       "      <td>1</td>\n",
       "      <td>45967.0</td>\n",
       "      <td>184.0</td>\n",
       "      <td>6.668649</td>\n",
       "      <td>2023-02-01 14:23:16</td>\n",
       "      <td>2023-02-01 07:53:09</td>\n",
       "      <td>6893.0</td>\n",
       "    </tr>\n",
       "    <tr>\n",
       "      <th>0</th>\n",
       "      <td>0</td>\n",
       "      <td>552</td>\n",
       "      <td>7200</td>\n",
       "      <td>6893.0</td>\n",
       "      <td>127.0</td>\n",
       "      <td>2023-02-01 07:43:09</td>\n",
       "      <td>Bolt</td>\n",
       "      <td>0 days 09:26:50</td>\n",
       "      <td>682</td>\n",
       "      <td>0</td>\n",
       "      <td>2023-02-01T17:30:00</td>\n",
       "      <td>2023-02-01T07:43:19</td>\n",
       "      <td>400.0</td>\n",
       "      <td>0.0</td>\n",
       "      <td>SCHEDULED</td>\n",
       "      <td>25</td>\n",
       "      <td>12.91813</td>\n",
       "      <td>9.44722</td>\n",
       "      <td>4100</td>\n",
       "      <td>2023-02-01T17:10:09</td>\n",
       "      <td>39580.0</td>\n",
       "      <td>[{'power_W': Decimal('6876'), 'timestamp': Dec...</td>\n",
       "      <td>16</td>\n",
       "      <td>2023-02-01T17:30:00</td>\n",
       "      <td>1</td>\n",
       "      <td>45967.0</td>\n",
       "      <td>184.0</td>\n",
       "      <td>6.668649</td>\n",
       "      <td>2023-02-01 14:23:16</td>\n",
       "      <td>2023-02-01 07:58:09</td>\n",
       "      <td>6893.0</td>\n",
       "    </tr>\n",
       "    <tr>\n",
       "      <th>0</th>\n",
       "      <td>0</td>\n",
       "      <td>552</td>\n",
       "      <td>7200</td>\n",
       "      <td>6893.0</td>\n",
       "      <td>127.0</td>\n",
       "      <td>2023-02-01 07:43:09</td>\n",
       "      <td>Bolt</td>\n",
       "      <td>0 days 09:26:50</td>\n",
       "      <td>682</td>\n",
       "      <td>0</td>\n",
       "      <td>2023-02-01T17:30:00</td>\n",
       "      <td>2023-02-01T07:43:19</td>\n",
       "      <td>400.0</td>\n",
       "      <td>0.0</td>\n",
       "      <td>SCHEDULED</td>\n",
       "      <td>25</td>\n",
       "      <td>12.91813</td>\n",
       "      <td>9.44722</td>\n",
       "      <td>4100</td>\n",
       "      <td>2023-02-01T17:10:09</td>\n",
       "      <td>39580.0</td>\n",
       "      <td>[{'power_W': Decimal('6876'), 'timestamp': Dec...</td>\n",
       "      <td>16</td>\n",
       "      <td>2023-02-01T17:30:00</td>\n",
       "      <td>1</td>\n",
       "      <td>45967.0</td>\n",
       "      <td>184.0</td>\n",
       "      <td>6.668649</td>\n",
       "      <td>2023-02-01 14:23:16</td>\n",
       "      <td>2023-02-01 08:03:09</td>\n",
       "      <td>6893.0</td>\n",
       "    </tr>\n",
       "    <tr>\n",
       "      <th>...</th>\n",
       "      <td>...</td>\n",
       "      <td>...</td>\n",
       "      <td>...</td>\n",
       "      <td>...</td>\n",
       "      <td>...</td>\n",
       "      <td>...</td>\n",
       "      <td>...</td>\n",
       "      <td>...</td>\n",
       "      <td>...</td>\n",
       "      <td>...</td>\n",
       "      <td>...</td>\n",
       "      <td>...</td>\n",
       "      <td>...</td>\n",
       "      <td>...</td>\n",
       "      <td>...</td>\n",
       "      <td>...</td>\n",
       "      <td>...</td>\n",
       "      <td>...</td>\n",
       "      <td>...</td>\n",
       "      <td>...</td>\n",
       "      <td>...</td>\n",
       "      <td>...</td>\n",
       "      <td>...</td>\n",
       "      <td>...</td>\n",
       "      <td>...</td>\n",
       "      <td>...</td>\n",
       "      <td>...</td>\n",
       "      <td>...</td>\n",
       "      <td>...</td>\n",
       "      <td>...</td>\n",
       "      <td>...</td>\n",
       "    </tr>\n",
       "    <tr>\n",
       "      <th>5</th>\n",
       "      <td>5</td>\n",
       "      <td>80</td>\n",
       "      <td>17200</td>\n",
       "      <td>6278.0</td>\n",
       "      <td>250.0</td>\n",
       "      <td>2023-02-01 15:43:36</td>\n",
       "      <td>Model X</td>\n",
       "      <td>0 days 03:50:04</td>\n",
       "      <td>1180</td>\n",
       "      <td>1</td>\n",
       "      <td>NaN</td>\n",
       "      <td>2023-02-01T15:45:04</td>\n",
       "      <td>400.0</td>\n",
       "      <td>0.0</td>\n",
       "      <td>REGULAR</td>\n",
       "      <td>25</td>\n",
       "      <td>5.75318</td>\n",
       "      <td>3.83444</td>\n",
       "      <td>4106</td>\n",
       "      <td>2023-02-01T19:35:08</td>\n",
       "      <td>NaN</td>\n",
       "      <td>[{'power_W': Decimal('0'), 'timestamp': Decima...</td>\n",
       "      <td>13</td>\n",
       "      <td>2023-02-01T21:30:00</td>\n",
       "      <td>0</td>\n",
       "      <td>22747.0</td>\n",
       "      <td>137.0</td>\n",
       "      <td>3.623288</td>\n",
       "      <td>2023-02-01 19:21:00</td>\n",
       "      <td>2023-02-01 18:58:36</td>\n",
       "      <td>6278.0</td>\n",
       "    </tr>\n",
       "    <tr>\n",
       "      <th>5</th>\n",
       "      <td>5</td>\n",
       "      <td>80</td>\n",
       "      <td>17200</td>\n",
       "      <td>6278.0</td>\n",
       "      <td>250.0</td>\n",
       "      <td>2023-02-01 15:43:36</td>\n",
       "      <td>Model X</td>\n",
       "      <td>0 days 03:50:04</td>\n",
       "      <td>1180</td>\n",
       "      <td>1</td>\n",
       "      <td>NaN</td>\n",
       "      <td>2023-02-01T15:45:04</td>\n",
       "      <td>400.0</td>\n",
       "      <td>0.0</td>\n",
       "      <td>REGULAR</td>\n",
       "      <td>25</td>\n",
       "      <td>5.75318</td>\n",
       "      <td>3.83444</td>\n",
       "      <td>4106</td>\n",
       "      <td>2023-02-01T19:35:08</td>\n",
       "      <td>NaN</td>\n",
       "      <td>[{'power_W': Decimal('0'), 'timestamp': Decima...</td>\n",
       "      <td>13</td>\n",
       "      <td>2023-02-01T21:30:00</td>\n",
       "      <td>0</td>\n",
       "      <td>22747.0</td>\n",
       "      <td>137.0</td>\n",
       "      <td>3.623288</td>\n",
       "      <td>2023-02-01 19:21:00</td>\n",
       "      <td>2023-02-01 19:03:36</td>\n",
       "      <td>6278.0</td>\n",
       "    </tr>\n",
       "    <tr>\n",
       "      <th>5</th>\n",
       "      <td>5</td>\n",
       "      <td>80</td>\n",
       "      <td>17200</td>\n",
       "      <td>6278.0</td>\n",
       "      <td>250.0</td>\n",
       "      <td>2023-02-01 15:43:36</td>\n",
       "      <td>Model X</td>\n",
       "      <td>0 days 03:50:04</td>\n",
       "      <td>1180</td>\n",
       "      <td>1</td>\n",
       "      <td>NaN</td>\n",
       "      <td>2023-02-01T15:45:04</td>\n",
       "      <td>400.0</td>\n",
       "      <td>0.0</td>\n",
       "      <td>REGULAR</td>\n",
       "      <td>25</td>\n",
       "      <td>5.75318</td>\n",
       "      <td>3.83444</td>\n",
       "      <td>4106</td>\n",
       "      <td>2023-02-01T19:35:08</td>\n",
       "      <td>NaN</td>\n",
       "      <td>[{'power_W': Decimal('0'), 'timestamp': Decima...</td>\n",
       "      <td>13</td>\n",
       "      <td>2023-02-01T21:30:00</td>\n",
       "      <td>0</td>\n",
       "      <td>22747.0</td>\n",
       "      <td>137.0</td>\n",
       "      <td>3.623288</td>\n",
       "      <td>2023-02-01 19:21:00</td>\n",
       "      <td>2023-02-01 19:08:36</td>\n",
       "      <td>6278.0</td>\n",
       "    </tr>\n",
       "    <tr>\n",
       "      <th>5</th>\n",
       "      <td>5</td>\n",
       "      <td>80</td>\n",
       "      <td>17200</td>\n",
       "      <td>6278.0</td>\n",
       "      <td>250.0</td>\n",
       "      <td>2023-02-01 15:43:36</td>\n",
       "      <td>Model X</td>\n",
       "      <td>0 days 03:50:04</td>\n",
       "      <td>1180</td>\n",
       "      <td>1</td>\n",
       "      <td>NaN</td>\n",
       "      <td>2023-02-01T15:45:04</td>\n",
       "      <td>400.0</td>\n",
       "      <td>0.0</td>\n",
       "      <td>REGULAR</td>\n",
       "      <td>25</td>\n",
       "      <td>5.75318</td>\n",
       "      <td>3.83444</td>\n",
       "      <td>4106</td>\n",
       "      <td>2023-02-01T19:35:08</td>\n",
       "      <td>NaN</td>\n",
       "      <td>[{'power_W': Decimal('0'), 'timestamp': Decima...</td>\n",
       "      <td>13</td>\n",
       "      <td>2023-02-01T21:30:00</td>\n",
       "      <td>0</td>\n",
       "      <td>22747.0</td>\n",
       "      <td>137.0</td>\n",
       "      <td>3.623288</td>\n",
       "      <td>2023-02-01 19:21:00</td>\n",
       "      <td>2023-02-01 19:13:36</td>\n",
       "      <td>6278.0</td>\n",
       "    </tr>\n",
       "    <tr>\n",
       "      <th>5</th>\n",
       "      <td>5</td>\n",
       "      <td>80</td>\n",
       "      <td>17200</td>\n",
       "      <td>6278.0</td>\n",
       "      <td>250.0</td>\n",
       "      <td>2023-02-01 15:43:36</td>\n",
       "      <td>Model X</td>\n",
       "      <td>0 days 03:50:04</td>\n",
       "      <td>1180</td>\n",
       "      <td>1</td>\n",
       "      <td>NaN</td>\n",
       "      <td>2023-02-01T15:45:04</td>\n",
       "      <td>400.0</td>\n",
       "      <td>0.0</td>\n",
       "      <td>REGULAR</td>\n",
       "      <td>25</td>\n",
       "      <td>5.75318</td>\n",
       "      <td>3.83444</td>\n",
       "      <td>4106</td>\n",
       "      <td>2023-02-01T19:35:08</td>\n",
       "      <td>NaN</td>\n",
       "      <td>[{'power_W': Decimal('0'), 'timestamp': Decima...</td>\n",
       "      <td>13</td>\n",
       "      <td>2023-02-01T21:30:00</td>\n",
       "      <td>0</td>\n",
       "      <td>22747.0</td>\n",
       "      <td>137.0</td>\n",
       "      <td>3.623288</td>\n",
       "      <td>2023-02-01 19:21:00</td>\n",
       "      <td>2023-02-01 19:18:36</td>\n",
       "      <td>6278.0</td>\n",
       "    </tr>\n",
       "  </tbody>\n",
       "</table>\n",
       "<p>259 rows × 31 columns</p>\n",
       "</div>"
      ],
      "text/plain": [
       "    index  Unnamed: 0  vehicle_maxChgRate_W  peakPower_W  sch_centsPerHr  \\\n",
       "0       0         552                  7200       6893.0           127.0   \n",
       "0       0         552                  7200       6893.0           127.0   \n",
       "0       0         552                  7200       6893.0           127.0   \n",
       "0       0         552                  7200       6893.0           127.0   \n",
       "0       0         552                  7200       6893.0           127.0   \n",
       "..    ...         ...                   ...          ...             ...   \n",
       "5       5          80                 17200       6278.0           250.0   \n",
       "5       5          80                 17200       6278.0           250.0   \n",
       "5       5          80                 17200       6278.0           250.0   \n",
       "5       5          80                 17200       6278.0           250.0   \n",
       "5       5          80                 17200       6278.0           250.0   \n",
       "\n",
       "           connectTime vehicle_model         Duration  userId  regular  \\\n",
       "0  2023-02-01 07:43:09          Bolt  0 days 09:26:50     682        0   \n",
       "0  2023-02-01 07:43:09          Bolt  0 days 09:26:50     682        0   \n",
       "0  2023-02-01 07:43:09          Bolt  0 days 09:26:50     682        0   \n",
       "0  2023-02-01 07:43:09          Bolt  0 days 09:26:50     682        0   \n",
       "0  2023-02-01 07:43:09          Bolt  0 days 09:26:50     682        0   \n",
       "..                 ...           ...              ...     ...      ...   \n",
       "5  2023-02-01 15:43:36       Model X  0 days 03:50:04    1180        1   \n",
       "5  2023-02-01 15:43:36       Model X  0 days 03:50:04    1180        1   \n",
       "5  2023-02-01 15:43:36       Model X  0 days 03:50:04    1180        1   \n",
       "5  2023-02-01 15:43:36       Model X  0 days 03:50:04    1180        1   \n",
       "5  2023-02-01 15:43:36       Model X  0 days 03:50:04    1180        1   \n",
       "\n",
       "               Deadline      startChargeTime  sch_centsPerOverstayHr  \\\n",
       "0   2023-02-01T17:30:00  2023-02-01T07:43:19                   400.0   \n",
       "0   2023-02-01T17:30:00  2023-02-01T07:43:19                   400.0   \n",
       "0   2023-02-01T17:30:00  2023-02-01T07:43:19                   400.0   \n",
       "0   2023-02-01T17:30:00  2023-02-01T07:43:19                   400.0   \n",
       "0   2023-02-01T17:30:00  2023-02-01T07:43:19                   400.0   \n",
       "..                  ...                  ...                     ...   \n",
       "5                   NaN  2023-02-01T15:45:04                   400.0   \n",
       "5                   NaN  2023-02-01T15:45:04                   400.0   \n",
       "5                   NaN  2023-02-01T15:45:04                   400.0   \n",
       "5                   NaN  2023-02-01T15:45:04                   400.0   \n",
       "5                   NaN  2023-02-01T15:45:04                   400.0   \n",
       "\n",
       "    sch_centsPerKwh     choice  siteId   estCost  DurationHrs  dcosId  \\\n",
       "0               0.0  SCHEDULED      25  12.91813      9.44722    4100   \n",
       "0               0.0  SCHEDULED      25  12.91813      9.44722    4100   \n",
       "0               0.0  SCHEDULED      25  12.91813      9.44722    4100   \n",
       "0               0.0  SCHEDULED      25  12.91813      9.44722    4100   \n",
       "0               0.0  SCHEDULED      25  12.91813      9.44722    4100   \n",
       "..              ...        ...     ...       ...          ...     ...   \n",
       "5               0.0    REGULAR      25   5.75318      3.83444    4106   \n",
       "5               0.0    REGULAR      25   5.75318      3.83444    4106   \n",
       "5               0.0    REGULAR      25   5.75318      3.83444    4106   \n",
       "5               0.0    REGULAR      25   5.75318      3.83444    4106   \n",
       "5               0.0    REGULAR      25   5.75318      3.83444    4106   \n",
       "\n",
       "             lastUpdate  energyReq_Wh  \\\n",
       "0   2023-02-01T17:10:09       39580.0   \n",
       "0   2023-02-01T17:10:09       39580.0   \n",
       "0   2023-02-01T17:10:09       39580.0   \n",
       "0   2023-02-01T17:10:09       39580.0   \n",
       "0   2023-02-01T17:10:09       39580.0   \n",
       "..                  ...           ...   \n",
       "5   2023-02-01T19:35:08           NaN   \n",
       "5   2023-02-01T19:35:08           NaN   \n",
       "5   2023-02-01T19:35:08           NaN   \n",
       "5   2023-02-01T19:35:08           NaN   \n",
       "5   2023-02-01T19:35:08           NaN   \n",
       "\n",
       "                                                power  stationId  \\\n",
       "0   [{'power_W': Decimal('6876'), 'timestamp': Dec...         16   \n",
       "0   [{'power_W': Decimal('6876'), 'timestamp': Dec...         16   \n",
       "0   [{'power_W': Decimal('6876'), 'timestamp': Dec...         16   \n",
       "0   [{'power_W': Decimal('6876'), 'timestamp': Dec...         16   \n",
       "0   [{'power_W': Decimal('6876'), 'timestamp': Dec...         16   \n",
       "..                                                ...        ...   \n",
       "5   [{'power_W': Decimal('0'), 'timestamp': Decima...         13   \n",
       "5   [{'power_W': Decimal('0'), 'timestamp': Decima...         13   \n",
       "5   [{'power_W': Decimal('0'), 'timestamp': Decima...         13   \n",
       "5   [{'power_W': Decimal('0'), 'timestamp': Decima...         13   \n",
       "5   [{'power_W': Decimal('0'), 'timestamp': Decima...         13   \n",
       "\n",
       "        defaultDeadline  scheduled  cumEnergy_Wh  reg_centsPerHr  \\\n",
       "0   2023-02-01T17:30:00          1       45967.0           184.0   \n",
       "0   2023-02-01T17:30:00          1       45967.0           184.0   \n",
       "0   2023-02-01T17:30:00          1       45967.0           184.0   \n",
       "0   2023-02-01T17:30:00          1       45967.0           184.0   \n",
       "0   2023-02-01T17:30:00          1       45967.0           184.0   \n",
       "..                  ...        ...           ...             ...   \n",
       "5   2023-02-01T21:30:00          0       22747.0           137.0   \n",
       "5   2023-02-01T21:30:00          0       22747.0           137.0   \n",
       "5   2023-02-01T21:30:00          0       22747.0           137.0   \n",
       "5   2023-02-01T21:30:00          0       22747.0           137.0   \n",
       "5   2023-02-01T21:30:00          0       22747.0           137.0   \n",
       "\n",
       "    reqChargeTime_h    finishChargeTime           time_vals power_vals  \n",
       "0          6.668649 2023-02-01 14:23:16 2023-02-01 07:43:09     6893.0  \n",
       "0          6.668649 2023-02-01 14:23:16 2023-02-01 07:48:09     6893.0  \n",
       "0          6.668649 2023-02-01 14:23:16 2023-02-01 07:53:09     6893.0  \n",
       "0          6.668649 2023-02-01 14:23:16 2023-02-01 07:58:09     6893.0  \n",
       "0          6.668649 2023-02-01 14:23:16 2023-02-01 08:03:09     6893.0  \n",
       "..              ...                 ...                 ...        ...  \n",
       "5          3.623288 2023-02-01 19:21:00 2023-02-01 18:58:36     6278.0  \n",
       "5          3.623288 2023-02-01 19:21:00 2023-02-01 19:03:36     6278.0  \n",
       "5          3.623288 2023-02-01 19:21:00 2023-02-01 19:08:36     6278.0  \n",
       "5          3.623288 2023-02-01 19:21:00 2023-02-01 19:13:36     6278.0  \n",
       "5          3.623288 2023-02-01 19:21:00 2023-02-01 19:18:36     6278.0  \n",
       "\n",
       "[259 rows x 31 columns]"
      ]
     },
     "execution_count": 36,
     "metadata": {},
     "output_type": "execute_result"
    }
   ],
   "source": [
    "raw = pd.read_csv(\"data/raw_data.csv\")\n",
    "raw = raw.sort_values(\"connectTime\")\n",
    "raw[\"connectTime\"] = pd.to_datetime(raw[\"connectTime\"])\n",
    "now = datetime.now().strftime('%D')\n",
    "filtered = raw[raw[\"connectTime\"] >= now]\n",
    "clean = pipeline.fit_transform(filtered)\n",
    "clean = clean.explode([\"time_vals\", \"power_vals\"])\n",
    "clean"
   ]
  },
  {
   "cell_type": "code",
   "execution_count": 38,
   "id": "b7416dbf",
   "metadata": {},
   "outputs": [
    {
     "data": {
      "text/html": [
       "<div>\n",
       "<style scoped>\n",
       "    .dataframe tbody tr th:only-of-type {\n",
       "        vertical-align: middle;\n",
       "    }\n",
       "\n",
       "    .dataframe tbody tr th {\n",
       "        vertical-align: top;\n",
       "    }\n",
       "\n",
       "    .dataframe thead th {\n",
       "        text-align: right;\n",
       "    }\n",
       "</style>\n",
       "<table border=\"1\" class=\"dataframe\">\n",
       "  <thead>\n",
       "    <tr style=\"text-align: right;\">\n",
       "      <th></th>\n",
       "      <th>index</th>\n",
       "      <th>Unnamed: 0</th>\n",
       "      <th>vehicle_maxChgRate_W</th>\n",
       "      <th>peakPower_W</th>\n",
       "      <th>sch_centsPerHr</th>\n",
       "      <th>connectTime</th>\n",
       "      <th>vehicle_model</th>\n",
       "      <th>Duration</th>\n",
       "      <th>userId</th>\n",
       "      <th>regular</th>\n",
       "      <th>Deadline</th>\n",
       "      <th>startChargeTime</th>\n",
       "      <th>sch_centsPerOverstayHr</th>\n",
       "      <th>sch_centsPerKwh</th>\n",
       "      <th>choice</th>\n",
       "      <th>siteId</th>\n",
       "      <th>estCost</th>\n",
       "      <th>DurationHrs</th>\n",
       "      <th>dcosId</th>\n",
       "      <th>lastUpdate</th>\n",
       "      <th>energyReq_Wh</th>\n",
       "      <th>power</th>\n",
       "      <th>stationId</th>\n",
       "      <th>defaultDeadline</th>\n",
       "      <th>scheduled</th>\n",
       "      <th>cumEnergy_Wh</th>\n",
       "      <th>reg_centsPerHr</th>\n",
       "      <th>reqChargeTime_h</th>\n",
       "      <th>finishChargeTime</th>\n",
       "      <th>time_vals</th>\n",
       "      <th>power_vals</th>\n",
       "    </tr>\n",
       "  </thead>\n",
       "  <tbody>\n",
       "    <tr>\n",
       "      <th>0</th>\n",
       "      <td>0</td>\n",
       "      <td>552</td>\n",
       "      <td>7200</td>\n",
       "      <td>6893.0</td>\n",
       "      <td>127.0</td>\n",
       "      <td>2023-02-01 07:43:09</td>\n",
       "      <td>Bolt</td>\n",
       "      <td>0 days 09:26:50</td>\n",
       "      <td>682</td>\n",
       "      <td>0</td>\n",
       "      <td>2023-02-01T17:30:00</td>\n",
       "      <td>2023-02-01T07:43:19</td>\n",
       "      <td>400.0</td>\n",
       "      <td>0.0</td>\n",
       "      <td>SCHEDULED</td>\n",
       "      <td>25</td>\n",
       "      <td>12.91813</td>\n",
       "      <td>9.44722</td>\n",
       "      <td>4100</td>\n",
       "      <td>2023-02-01T17:10:09</td>\n",
       "      <td>39580.0</td>\n",
       "      <td>[{'power_W': Decimal('6876'), 'timestamp': Dec...</td>\n",
       "      <td>16</td>\n",
       "      <td>2023-02-01T17:30:00</td>\n",
       "      <td>1</td>\n",
       "      <td>45967.0</td>\n",
       "      <td>184.0</td>\n",
       "      <td>6.668649</td>\n",
       "      <td>2023-02-01 14:23:16</td>\n",
       "      <td>2023-02-01 07:45:00</td>\n",
       "      <td>6893.0</td>\n",
       "    </tr>\n",
       "    <tr>\n",
       "      <th>1</th>\n",
       "      <td>1</td>\n",
       "      <td>2101</td>\n",
       "      <td>7000</td>\n",
       "      <td>3818.0</td>\n",
       "      <td>127.0</td>\n",
       "      <td>2023-02-01 07:43:25</td>\n",
       "      <td>Leaf</td>\n",
       "      <td>0 days 05:16:30</td>\n",
       "      <td>1067</td>\n",
       "      <td>1</td>\n",
       "      <td>NaN</td>\n",
       "      <td>2023-02-01T07:43:40</td>\n",
       "      <td>400.0</td>\n",
       "      <td>0.0</td>\n",
       "      <td>REGULAR</td>\n",
       "      <td>25</td>\n",
       "      <td>10.20599</td>\n",
       "      <td>5.27500</td>\n",
       "      <td>4101</td>\n",
       "      <td>2023-02-01T13:00:10</td>\n",
       "      <td>NaN</td>\n",
       "      <td>[{'power_W': Decimal('3813'), 'timestamp': Dec...</td>\n",
       "      <td>11</td>\n",
       "      <td>2023-02-01T13:30:00</td>\n",
       "      <td>0</td>\n",
       "      <td>12932.0</td>\n",
       "      <td>184.0</td>\n",
       "      <td>3.387114</td>\n",
       "      <td>2023-02-01 11:06:39</td>\n",
       "      <td>2023-02-01 07:45:00</td>\n",
       "      <td>3818.0</td>\n",
       "    </tr>\n",
       "    <tr>\n",
       "      <th>0</th>\n",
       "      <td>0</td>\n",
       "      <td>552</td>\n",
       "      <td>7200</td>\n",
       "      <td>6893.0</td>\n",
       "      <td>127.0</td>\n",
       "      <td>2023-02-01 07:43:09</td>\n",
       "      <td>Bolt</td>\n",
       "      <td>0 days 09:26:50</td>\n",
       "      <td>682</td>\n",
       "      <td>0</td>\n",
       "      <td>2023-02-01T17:30:00</td>\n",
       "      <td>2023-02-01T07:43:19</td>\n",
       "      <td>400.0</td>\n",
       "      <td>0.0</td>\n",
       "      <td>SCHEDULED</td>\n",
       "      <td>25</td>\n",
       "      <td>12.91813</td>\n",
       "      <td>9.44722</td>\n",
       "      <td>4100</td>\n",
       "      <td>2023-02-01T17:10:09</td>\n",
       "      <td>39580.0</td>\n",
       "      <td>[{'power_W': Decimal('6876'), 'timestamp': Dec...</td>\n",
       "      <td>16</td>\n",
       "      <td>2023-02-01T17:30:00</td>\n",
       "      <td>1</td>\n",
       "      <td>45967.0</td>\n",
       "      <td>184.0</td>\n",
       "      <td>6.668649</td>\n",
       "      <td>2023-02-01 14:23:16</td>\n",
       "      <td>2023-02-01 07:50:00</td>\n",
       "      <td>6893.0</td>\n",
       "    </tr>\n",
       "    <tr>\n",
       "      <th>1</th>\n",
       "      <td>1</td>\n",
       "      <td>2101</td>\n",
       "      <td>7000</td>\n",
       "      <td>3818.0</td>\n",
       "      <td>127.0</td>\n",
       "      <td>2023-02-01 07:43:25</td>\n",
       "      <td>Leaf</td>\n",
       "      <td>0 days 05:16:30</td>\n",
       "      <td>1067</td>\n",
       "      <td>1</td>\n",
       "      <td>NaN</td>\n",
       "      <td>2023-02-01T07:43:40</td>\n",
       "      <td>400.0</td>\n",
       "      <td>0.0</td>\n",
       "      <td>REGULAR</td>\n",
       "      <td>25</td>\n",
       "      <td>10.20599</td>\n",
       "      <td>5.27500</td>\n",
       "      <td>4101</td>\n",
       "      <td>2023-02-01T13:00:10</td>\n",
       "      <td>NaN</td>\n",
       "      <td>[{'power_W': Decimal('3813'), 'timestamp': Dec...</td>\n",
       "      <td>11</td>\n",
       "      <td>2023-02-01T13:30:00</td>\n",
       "      <td>0</td>\n",
       "      <td>12932.0</td>\n",
       "      <td>184.0</td>\n",
       "      <td>3.387114</td>\n",
       "      <td>2023-02-01 11:06:39</td>\n",
       "      <td>2023-02-01 07:50:00</td>\n",
       "      <td>3818.0</td>\n",
       "    </tr>\n",
       "    <tr>\n",
       "      <th>0</th>\n",
       "      <td>0</td>\n",
       "      <td>552</td>\n",
       "      <td>7200</td>\n",
       "      <td>6893.0</td>\n",
       "      <td>127.0</td>\n",
       "      <td>2023-02-01 07:43:09</td>\n",
       "      <td>Bolt</td>\n",
       "      <td>0 days 09:26:50</td>\n",
       "      <td>682</td>\n",
       "      <td>0</td>\n",
       "      <td>2023-02-01T17:30:00</td>\n",
       "      <td>2023-02-01T07:43:19</td>\n",
       "      <td>400.0</td>\n",
       "      <td>0.0</td>\n",
       "      <td>SCHEDULED</td>\n",
       "      <td>25</td>\n",
       "      <td>12.91813</td>\n",
       "      <td>9.44722</td>\n",
       "      <td>4100</td>\n",
       "      <td>2023-02-01T17:10:09</td>\n",
       "      <td>39580.0</td>\n",
       "      <td>[{'power_W': Decimal('6876'), 'timestamp': Dec...</td>\n",
       "      <td>16</td>\n",
       "      <td>2023-02-01T17:30:00</td>\n",
       "      <td>1</td>\n",
       "      <td>45967.0</td>\n",
       "      <td>184.0</td>\n",
       "      <td>6.668649</td>\n",
       "      <td>2023-02-01 14:23:16</td>\n",
       "      <td>2023-02-01 07:55:00</td>\n",
       "      <td>6893.0</td>\n",
       "    </tr>\n",
       "    <tr>\n",
       "      <th>...</th>\n",
       "      <td>...</td>\n",
       "      <td>...</td>\n",
       "      <td>...</td>\n",
       "      <td>...</td>\n",
       "      <td>...</td>\n",
       "      <td>...</td>\n",
       "      <td>...</td>\n",
       "      <td>...</td>\n",
       "      <td>...</td>\n",
       "      <td>...</td>\n",
       "      <td>...</td>\n",
       "      <td>...</td>\n",
       "      <td>...</td>\n",
       "      <td>...</td>\n",
       "      <td>...</td>\n",
       "      <td>...</td>\n",
       "      <td>...</td>\n",
       "      <td>...</td>\n",
       "      <td>...</td>\n",
       "      <td>...</td>\n",
       "      <td>...</td>\n",
       "      <td>...</td>\n",
       "      <td>...</td>\n",
       "      <td>...</td>\n",
       "      <td>...</td>\n",
       "      <td>...</td>\n",
       "      <td>...</td>\n",
       "      <td>...</td>\n",
       "      <td>...</td>\n",
       "      <td>...</td>\n",
       "      <td>...</td>\n",
       "    </tr>\n",
       "    <tr>\n",
       "      <th>5</th>\n",
       "      <td>5</td>\n",
       "      <td>80</td>\n",
       "      <td>17200</td>\n",
       "      <td>6278.0</td>\n",
       "      <td>250.0</td>\n",
       "      <td>2023-02-01 15:43:36</td>\n",
       "      <td>Model X</td>\n",
       "      <td>0 days 03:50:04</td>\n",
       "      <td>1180</td>\n",
       "      <td>1</td>\n",
       "      <td>NaN</td>\n",
       "      <td>2023-02-01T15:45:04</td>\n",
       "      <td>400.0</td>\n",
       "      <td>0.0</td>\n",
       "      <td>REGULAR</td>\n",
       "      <td>25</td>\n",
       "      <td>5.75318</td>\n",
       "      <td>3.83444</td>\n",
       "      <td>4106</td>\n",
       "      <td>2023-02-01T19:35:08</td>\n",
       "      <td>NaN</td>\n",
       "      <td>[{'power_W': Decimal('0'), 'timestamp': Decima...</td>\n",
       "      <td>13</td>\n",
       "      <td>2023-02-01T21:30:00</td>\n",
       "      <td>0</td>\n",
       "      <td>22747.0</td>\n",
       "      <td>137.0</td>\n",
       "      <td>3.623288</td>\n",
       "      <td>2023-02-01 19:21:00</td>\n",
       "      <td>2023-02-01 19:00:00</td>\n",
       "      <td>6278.0</td>\n",
       "    </tr>\n",
       "    <tr>\n",
       "      <th>5</th>\n",
       "      <td>5</td>\n",
       "      <td>80</td>\n",
       "      <td>17200</td>\n",
       "      <td>6278.0</td>\n",
       "      <td>250.0</td>\n",
       "      <td>2023-02-01 15:43:36</td>\n",
       "      <td>Model X</td>\n",
       "      <td>0 days 03:50:04</td>\n",
       "      <td>1180</td>\n",
       "      <td>1</td>\n",
       "      <td>NaN</td>\n",
       "      <td>2023-02-01T15:45:04</td>\n",
       "      <td>400.0</td>\n",
       "      <td>0.0</td>\n",
       "      <td>REGULAR</td>\n",
       "      <td>25</td>\n",
       "      <td>5.75318</td>\n",
       "      <td>3.83444</td>\n",
       "      <td>4106</td>\n",
       "      <td>2023-02-01T19:35:08</td>\n",
       "      <td>NaN</td>\n",
       "      <td>[{'power_W': Decimal('0'), 'timestamp': Decima...</td>\n",
       "      <td>13</td>\n",
       "      <td>2023-02-01T21:30:00</td>\n",
       "      <td>0</td>\n",
       "      <td>22747.0</td>\n",
       "      <td>137.0</td>\n",
       "      <td>3.623288</td>\n",
       "      <td>2023-02-01 19:21:00</td>\n",
       "      <td>2023-02-01 19:05:00</td>\n",
       "      <td>6278.0</td>\n",
       "    </tr>\n",
       "    <tr>\n",
       "      <th>5</th>\n",
       "      <td>5</td>\n",
       "      <td>80</td>\n",
       "      <td>17200</td>\n",
       "      <td>6278.0</td>\n",
       "      <td>250.0</td>\n",
       "      <td>2023-02-01 15:43:36</td>\n",
       "      <td>Model X</td>\n",
       "      <td>0 days 03:50:04</td>\n",
       "      <td>1180</td>\n",
       "      <td>1</td>\n",
       "      <td>NaN</td>\n",
       "      <td>2023-02-01T15:45:04</td>\n",
       "      <td>400.0</td>\n",
       "      <td>0.0</td>\n",
       "      <td>REGULAR</td>\n",
       "      <td>25</td>\n",
       "      <td>5.75318</td>\n",
       "      <td>3.83444</td>\n",
       "      <td>4106</td>\n",
       "      <td>2023-02-01T19:35:08</td>\n",
       "      <td>NaN</td>\n",
       "      <td>[{'power_W': Decimal('0'), 'timestamp': Decima...</td>\n",
       "      <td>13</td>\n",
       "      <td>2023-02-01T21:30:00</td>\n",
       "      <td>0</td>\n",
       "      <td>22747.0</td>\n",
       "      <td>137.0</td>\n",
       "      <td>3.623288</td>\n",
       "      <td>2023-02-01 19:21:00</td>\n",
       "      <td>2023-02-01 19:10:00</td>\n",
       "      <td>6278.0</td>\n",
       "    </tr>\n",
       "    <tr>\n",
       "      <th>5</th>\n",
       "      <td>5</td>\n",
       "      <td>80</td>\n",
       "      <td>17200</td>\n",
       "      <td>6278.0</td>\n",
       "      <td>250.0</td>\n",
       "      <td>2023-02-01 15:43:36</td>\n",
       "      <td>Model X</td>\n",
       "      <td>0 days 03:50:04</td>\n",
       "      <td>1180</td>\n",
       "      <td>1</td>\n",
       "      <td>NaN</td>\n",
       "      <td>2023-02-01T15:45:04</td>\n",
       "      <td>400.0</td>\n",
       "      <td>0.0</td>\n",
       "      <td>REGULAR</td>\n",
       "      <td>25</td>\n",
       "      <td>5.75318</td>\n",
       "      <td>3.83444</td>\n",
       "      <td>4106</td>\n",
       "      <td>2023-02-01T19:35:08</td>\n",
       "      <td>NaN</td>\n",
       "      <td>[{'power_W': Decimal('0'), 'timestamp': Decima...</td>\n",
       "      <td>13</td>\n",
       "      <td>2023-02-01T21:30:00</td>\n",
       "      <td>0</td>\n",
       "      <td>22747.0</td>\n",
       "      <td>137.0</td>\n",
       "      <td>3.623288</td>\n",
       "      <td>2023-02-01 19:21:00</td>\n",
       "      <td>2023-02-01 19:15:00</td>\n",
       "      <td>6278.0</td>\n",
       "    </tr>\n",
       "    <tr>\n",
       "      <th>5</th>\n",
       "      <td>5</td>\n",
       "      <td>80</td>\n",
       "      <td>17200</td>\n",
       "      <td>6278.0</td>\n",
       "      <td>250.0</td>\n",
       "      <td>2023-02-01 15:43:36</td>\n",
       "      <td>Model X</td>\n",
       "      <td>0 days 03:50:04</td>\n",
       "      <td>1180</td>\n",
       "      <td>1</td>\n",
       "      <td>NaN</td>\n",
       "      <td>2023-02-01T15:45:04</td>\n",
       "      <td>400.0</td>\n",
       "      <td>0.0</td>\n",
       "      <td>REGULAR</td>\n",
       "      <td>25</td>\n",
       "      <td>5.75318</td>\n",
       "      <td>3.83444</td>\n",
       "      <td>4106</td>\n",
       "      <td>2023-02-01T19:35:08</td>\n",
       "      <td>NaN</td>\n",
       "      <td>[{'power_W': Decimal('0'), 'timestamp': Decima...</td>\n",
       "      <td>13</td>\n",
       "      <td>2023-02-01T21:30:00</td>\n",
       "      <td>0</td>\n",
       "      <td>22747.0</td>\n",
       "      <td>137.0</td>\n",
       "      <td>3.623288</td>\n",
       "      <td>2023-02-01 19:21:00</td>\n",
       "      <td>2023-02-01 19:20:00</td>\n",
       "      <td>6278.0</td>\n",
       "    </tr>\n",
       "  </tbody>\n",
       "</table>\n",
       "<p>259 rows × 31 columns</p>\n",
       "</div>"
      ],
      "text/plain": [
       "    index  Unnamed: 0  vehicle_maxChgRate_W  peakPower_W  sch_centsPerHr  \\\n",
       "0       0         552                  7200       6893.0           127.0   \n",
       "1       1        2101                  7000       3818.0           127.0   \n",
       "0       0         552                  7200       6893.0           127.0   \n",
       "1       1        2101                  7000       3818.0           127.0   \n",
       "0       0         552                  7200       6893.0           127.0   \n",
       "..    ...         ...                   ...          ...             ...   \n",
       "5       5          80                 17200       6278.0           250.0   \n",
       "5       5          80                 17200       6278.0           250.0   \n",
       "5       5          80                 17200       6278.0           250.0   \n",
       "5       5          80                 17200       6278.0           250.0   \n",
       "5       5          80                 17200       6278.0           250.0   \n",
       "\n",
       "           connectTime vehicle_model         Duration userId  regular  \\\n",
       "0  2023-02-01 07:43:09          Bolt  0 days 09:26:50    682        0   \n",
       "1  2023-02-01 07:43:25          Leaf  0 days 05:16:30   1067        1   \n",
       "0  2023-02-01 07:43:09          Bolt  0 days 09:26:50    682        0   \n",
       "1  2023-02-01 07:43:25          Leaf  0 days 05:16:30   1067        1   \n",
       "0  2023-02-01 07:43:09          Bolt  0 days 09:26:50    682        0   \n",
       "..                 ...           ...              ...    ...      ...   \n",
       "5  2023-02-01 15:43:36       Model X  0 days 03:50:04   1180        1   \n",
       "5  2023-02-01 15:43:36       Model X  0 days 03:50:04   1180        1   \n",
       "5  2023-02-01 15:43:36       Model X  0 days 03:50:04   1180        1   \n",
       "5  2023-02-01 15:43:36       Model X  0 days 03:50:04   1180        1   \n",
       "5  2023-02-01 15:43:36       Model X  0 days 03:50:04   1180        1   \n",
       "\n",
       "               Deadline      startChargeTime  sch_centsPerOverstayHr  \\\n",
       "0   2023-02-01T17:30:00  2023-02-01T07:43:19                   400.0   \n",
       "1                   NaN  2023-02-01T07:43:40                   400.0   \n",
       "0   2023-02-01T17:30:00  2023-02-01T07:43:19                   400.0   \n",
       "1                   NaN  2023-02-01T07:43:40                   400.0   \n",
       "0   2023-02-01T17:30:00  2023-02-01T07:43:19                   400.0   \n",
       "..                  ...                  ...                     ...   \n",
       "5                   NaN  2023-02-01T15:45:04                   400.0   \n",
       "5                   NaN  2023-02-01T15:45:04                   400.0   \n",
       "5                   NaN  2023-02-01T15:45:04                   400.0   \n",
       "5                   NaN  2023-02-01T15:45:04                   400.0   \n",
       "5                   NaN  2023-02-01T15:45:04                   400.0   \n",
       "\n",
       "    sch_centsPerKwh     choice  siteId   estCost  DurationHrs  dcosId  \\\n",
       "0               0.0  SCHEDULED      25  12.91813      9.44722    4100   \n",
       "1               0.0    REGULAR      25  10.20599      5.27500    4101   \n",
       "0               0.0  SCHEDULED      25  12.91813      9.44722    4100   \n",
       "1               0.0    REGULAR      25  10.20599      5.27500    4101   \n",
       "0               0.0  SCHEDULED      25  12.91813      9.44722    4100   \n",
       "..              ...        ...     ...       ...          ...     ...   \n",
       "5               0.0    REGULAR      25   5.75318      3.83444    4106   \n",
       "5               0.0    REGULAR      25   5.75318      3.83444    4106   \n",
       "5               0.0    REGULAR      25   5.75318      3.83444    4106   \n",
       "5               0.0    REGULAR      25   5.75318      3.83444    4106   \n",
       "5               0.0    REGULAR      25   5.75318      3.83444    4106   \n",
       "\n",
       "             lastUpdate  energyReq_Wh  \\\n",
       "0   2023-02-01T17:10:09       39580.0   \n",
       "1   2023-02-01T13:00:10           NaN   \n",
       "0   2023-02-01T17:10:09       39580.0   \n",
       "1   2023-02-01T13:00:10           NaN   \n",
       "0   2023-02-01T17:10:09       39580.0   \n",
       "..                  ...           ...   \n",
       "5   2023-02-01T19:35:08           NaN   \n",
       "5   2023-02-01T19:35:08           NaN   \n",
       "5   2023-02-01T19:35:08           NaN   \n",
       "5   2023-02-01T19:35:08           NaN   \n",
       "5   2023-02-01T19:35:08           NaN   \n",
       "\n",
       "                                                power  stationId  \\\n",
       "0   [{'power_W': Decimal('6876'), 'timestamp': Dec...         16   \n",
       "1   [{'power_W': Decimal('3813'), 'timestamp': Dec...         11   \n",
       "0   [{'power_W': Decimal('6876'), 'timestamp': Dec...         16   \n",
       "1   [{'power_W': Decimal('3813'), 'timestamp': Dec...         11   \n",
       "0   [{'power_W': Decimal('6876'), 'timestamp': Dec...         16   \n",
       "..                                                ...        ...   \n",
       "5   [{'power_W': Decimal('0'), 'timestamp': Decima...         13   \n",
       "5   [{'power_W': Decimal('0'), 'timestamp': Decima...         13   \n",
       "5   [{'power_W': Decimal('0'), 'timestamp': Decima...         13   \n",
       "5   [{'power_W': Decimal('0'), 'timestamp': Decima...         13   \n",
       "5   [{'power_W': Decimal('0'), 'timestamp': Decima...         13   \n",
       "\n",
       "        defaultDeadline  scheduled  cumEnergy_Wh  reg_centsPerHr  \\\n",
       "0   2023-02-01T17:30:00          1       45967.0           184.0   \n",
       "1   2023-02-01T13:30:00          0       12932.0           184.0   \n",
       "0   2023-02-01T17:30:00          1       45967.0           184.0   \n",
       "1   2023-02-01T13:30:00          0       12932.0           184.0   \n",
       "0   2023-02-01T17:30:00          1       45967.0           184.0   \n",
       "..                  ...        ...           ...             ...   \n",
       "5   2023-02-01T21:30:00          0       22747.0           137.0   \n",
       "5   2023-02-01T21:30:00          0       22747.0           137.0   \n",
       "5   2023-02-01T21:30:00          0       22747.0           137.0   \n",
       "5   2023-02-01T21:30:00          0       22747.0           137.0   \n",
       "5   2023-02-01T21:30:00          0       22747.0           137.0   \n",
       "\n",
       "    reqChargeTime_h    finishChargeTime           time_vals power_vals  \n",
       "0          6.668649 2023-02-01 14:23:16 2023-02-01 07:45:00     6893.0  \n",
       "1          3.387114 2023-02-01 11:06:39 2023-02-01 07:45:00     3818.0  \n",
       "0          6.668649 2023-02-01 14:23:16 2023-02-01 07:50:00     6893.0  \n",
       "1          3.387114 2023-02-01 11:06:39 2023-02-01 07:50:00     3818.0  \n",
       "0          6.668649 2023-02-01 14:23:16 2023-02-01 07:55:00     6893.0  \n",
       "..              ...                 ...                 ...        ...  \n",
       "5          3.623288 2023-02-01 19:21:00 2023-02-01 19:00:00     6278.0  \n",
       "5          3.623288 2023-02-01 19:21:00 2023-02-01 19:05:00     6278.0  \n",
       "5          3.623288 2023-02-01 19:21:00 2023-02-01 19:10:00     6278.0  \n",
       "5          3.623288 2023-02-01 19:21:00 2023-02-01 19:15:00     6278.0  \n",
       "5          3.623288 2023-02-01 19:21:00 2023-02-01 19:20:00     6278.0  \n",
       "\n",
       "[259 rows x 31 columns]"
      ]
     },
     "execution_count": 38,
     "metadata": {},
     "output_type": "execute_result"
    }
   ],
   "source": [
    "clean[\"time_vals\"] = clean[\"time_vals\"].dt.round('5min')\n",
    "clean[\"userId\"] = clean[\"userId\"].astype(str)\n",
    "clean = clean.sort_values(\"time_vals\")\n",
    "clean"
   ]
  },
  {
   "cell_type": "code",
   "execution_count": 39,
   "id": "94a689dd",
   "metadata": {},
   "outputs": [
    {
     "data": {
      "application/vnd.plotly.v1+json": {
       "config": {
        "plotlyServerURL": "https://plot.ly"
       },
       "data": [
        {
         "alignmentgroup": "True",
         "hovertemplate": "userId=682<br>time_vals=%{x}<br>power_vals=%{y}<extra></extra>",
         "legendgroup": "682",
         "marker": {
          "color": "#636efa",
          "pattern": {
           "shape": ""
          }
         },
         "name": "682",
         "offsetgroup": "682",
         "orientation": "v",
         "showlegend": true,
         "textposition": "auto",
         "type": "bar",
         "x": [
          "2023-02-01T07:45:00",
          "2023-02-01T07:50:00",
          "2023-02-01T07:55:00",
          "2023-02-01T08:00:00",
          "2023-02-01T08:05:00",
          "2023-02-01T08:10:00",
          "2023-02-01T08:15:00",
          "2023-02-01T08:20:00",
          "2023-02-01T08:25:00",
          "2023-02-01T08:30:00",
          "2023-02-01T08:35:00",
          "2023-02-01T08:40:00",
          "2023-02-01T08:45:00",
          "2023-02-01T08:50:00",
          "2023-02-01T08:55:00",
          "2023-02-01T09:00:00",
          "2023-02-01T09:05:00",
          "2023-02-01T09:10:00",
          "2023-02-01T09:15:00",
          "2023-02-01T09:20:00",
          "2023-02-01T09:25:00",
          "2023-02-01T09:30:00",
          "2023-02-01T09:35:00",
          "2023-02-01T09:40:00",
          "2023-02-01T09:45:00",
          "2023-02-01T09:50:00",
          "2023-02-01T09:55:00",
          "2023-02-01T10:00:00",
          "2023-02-01T10:05:00",
          "2023-02-01T10:10:00",
          "2023-02-01T10:15:00",
          "2023-02-01T10:20:00",
          "2023-02-01T10:25:00",
          "2023-02-01T10:30:00",
          "2023-02-01T10:35:00",
          "2023-02-01T10:40:00",
          "2023-02-01T10:45:00",
          "2023-02-01T10:50:00",
          "2023-02-01T10:55:00",
          "2023-02-01T11:00:00",
          "2023-02-01T11:05:00",
          "2023-02-01T11:10:00",
          "2023-02-01T11:15:00",
          "2023-02-01T11:20:00",
          "2023-02-01T11:25:00",
          "2023-02-01T11:30:00",
          "2023-02-01T11:35:00",
          "2023-02-01T11:40:00",
          "2023-02-01T11:45:00",
          "2023-02-01T11:50:00",
          "2023-02-01T11:55:00",
          "2023-02-01T12:00:00",
          "2023-02-01T12:05:00",
          "2023-02-01T12:10:00",
          "2023-02-01T12:15:00",
          "2023-02-01T12:20:00",
          "2023-02-01T12:25:00",
          "2023-02-01T12:30:00",
          "2023-02-01T12:35:00",
          "2023-02-01T12:40:00",
          "2023-02-01T12:45:00",
          "2023-02-01T12:50:00",
          "2023-02-01T12:55:00",
          "2023-02-01T13:00:00",
          "2023-02-01T13:05:00",
          "2023-02-01T13:10:00",
          "2023-02-01T13:15:00",
          "2023-02-01T13:20:00",
          "2023-02-01T13:25:00",
          "2023-02-01T13:30:00",
          "2023-02-01T13:35:00",
          "2023-02-01T13:40:00",
          "2023-02-01T13:45:00",
          "2023-02-01T13:50:00",
          "2023-02-01T13:55:00",
          "2023-02-01T14:00:00",
          "2023-02-01T14:05:00",
          "2023-02-01T14:10:00",
          "2023-02-01T14:15:00",
          "2023-02-01T14:20:00",
          "2023-02-01T14:25:00"
         ],
         "xaxis": "x",
         "y": [
          6893,
          6893,
          6893,
          6893,
          6893,
          6893,
          6893,
          6893,
          6893,
          6893,
          6893,
          6893,
          6893,
          6893,
          6893,
          6893,
          6893,
          6893,
          6893,
          6893,
          6893,
          6893,
          6893,
          6893,
          6893,
          6893,
          6893,
          6893,
          6893,
          6893,
          6893,
          6893,
          6893,
          6893,
          6893,
          6893,
          6893,
          6893,
          6893,
          6893,
          6893,
          6893,
          6893,
          6893,
          6893,
          6893,
          6893,
          6893,
          6893,
          6893,
          6893,
          6893,
          6893,
          6893,
          6893,
          6893,
          6893,
          6893,
          6893,
          6893,
          6893,
          6893,
          6893,
          6893,
          6893,
          6893,
          6893,
          6893,
          6893,
          6893,
          6893,
          6893,
          6893,
          6893,
          6893,
          6893,
          6893,
          6893,
          6893,
          6893,
          6893
         ],
         "yaxis": "y"
        },
        {
         "alignmentgroup": "True",
         "hovertemplate": "userId=1067<br>time_vals=%{x}<br>power_vals=%{y}<extra></extra>",
         "legendgroup": "1067",
         "marker": {
          "color": "#EF553B",
          "pattern": {
           "shape": ""
          }
         },
         "name": "1067",
         "offsetgroup": "1067",
         "orientation": "v",
         "showlegend": true,
         "textposition": "auto",
         "type": "bar",
         "x": [
          "2023-02-01T07:45:00",
          "2023-02-01T07:50:00",
          "2023-02-01T07:55:00",
          "2023-02-01T08:00:00",
          "2023-02-01T08:05:00",
          "2023-02-01T08:10:00",
          "2023-02-01T08:15:00",
          "2023-02-01T08:20:00",
          "2023-02-01T08:25:00",
          "2023-02-01T08:30:00",
          "2023-02-01T08:35:00",
          "2023-02-01T08:40:00",
          "2023-02-01T08:45:00",
          "2023-02-01T08:50:00",
          "2023-02-01T08:55:00",
          "2023-02-01T09:00:00",
          "2023-02-01T09:05:00",
          "2023-02-01T09:10:00",
          "2023-02-01T09:15:00",
          "2023-02-01T09:20:00",
          "2023-02-01T09:25:00",
          "2023-02-01T09:30:00",
          "2023-02-01T09:35:00",
          "2023-02-01T09:40:00",
          "2023-02-01T09:45:00",
          "2023-02-01T09:50:00",
          "2023-02-01T09:55:00",
          "2023-02-01T10:00:00",
          "2023-02-01T10:05:00",
          "2023-02-01T10:10:00",
          "2023-02-01T10:15:00",
          "2023-02-01T10:20:00",
          "2023-02-01T10:25:00",
          "2023-02-01T10:30:00",
          "2023-02-01T10:35:00",
          "2023-02-01T10:40:00",
          "2023-02-01T10:45:00",
          "2023-02-01T10:50:00",
          "2023-02-01T10:55:00",
          "2023-02-01T11:00:00",
          "2023-02-01T11:05:00"
         ],
         "xaxis": "x",
         "y": [
          3818,
          3818,
          3818,
          3818,
          3818,
          3818,
          3818,
          3818,
          3818,
          3818,
          3818,
          3818,
          3818,
          3818,
          3818,
          3818,
          3818,
          3818,
          3818,
          3818,
          3818,
          3818,
          3818,
          3818,
          3818,
          3818,
          3818,
          3818,
          3818,
          3818,
          3818,
          3818,
          3818,
          3818,
          3818,
          3818,
          3818,
          3818,
          3818,
          3818,
          3818
         ],
         "yaxis": "y"
        },
        {
         "alignmentgroup": "True",
         "hovertemplate": "userId=880<br>time_vals=%{x}<br>power_vals=%{y}<extra></extra>",
         "legendgroup": "880",
         "marker": {
          "color": "#00cc96",
          "pattern": {
           "shape": ""
          }
         },
         "name": "880",
         "offsetgroup": "880",
         "orientation": "v",
         "showlegend": true,
         "textposition": "auto",
         "type": "bar",
         "x": [
          "2023-02-01T09:40:00",
          "2023-02-01T09:45:00",
          "2023-02-01T09:50:00",
          "2023-02-01T09:55:00",
          "2023-02-01T10:00:00",
          "2023-02-01T10:05:00",
          "2023-02-01T10:10:00",
          "2023-02-01T10:15:00",
          "2023-02-01T10:20:00",
          "2023-02-01T10:25:00",
          "2023-02-01T10:30:00",
          "2023-02-01T10:35:00",
          "2023-02-01T10:40:00",
          "2023-02-01T10:45:00",
          "2023-02-01T10:50:00",
          "2023-02-01T10:55:00",
          "2023-02-01T11:00:00",
          "2023-02-01T11:05:00",
          "2023-02-01T11:10:00",
          "2023-02-01T11:15:00",
          "2023-02-01T11:20:00",
          "2023-02-01T11:25:00",
          "2023-02-01T11:30:00",
          "2023-02-01T11:35:00",
          "2023-02-01T11:40:00",
          "2023-02-01T11:45:00",
          "2023-02-01T11:50:00"
         ],
         "xaxis": "x",
         "y": [
          6855,
          6855,
          6855,
          6855,
          6855,
          6855,
          6855,
          6855,
          6855,
          6855,
          6855,
          6855,
          6855,
          6855,
          6855,
          6855,
          6855,
          6855,
          6855,
          6855,
          6855,
          6855,
          6855,
          6855,
          6855,
          6855,
          6855
         ],
         "yaxis": "y"
        },
        {
         "alignmentgroup": "True",
         "hovertemplate": "userId=1139<br>time_vals=%{x}<br>power_vals=%{y}<extra></extra>",
         "legendgroup": "1139",
         "marker": {
          "color": "#ab63fa",
          "pattern": {
           "shape": ""
          }
         },
         "name": "1139",
         "offsetgroup": "1139",
         "orientation": "v",
         "showlegend": true,
         "textposition": "auto",
         "type": "bar",
         "x": [
          "2023-02-01T10:55:00",
          "2023-02-01T11:00:00",
          "2023-02-01T11:05:00"
         ],
         "xaxis": "x",
         "y": [
          6482,
          6482,
          6482
         ],
         "yaxis": "y"
        },
        {
         "alignmentgroup": "True",
         "hovertemplate": "userId=1149<br>time_vals=%{x}<br>power_vals=%{y}<extra></extra>",
         "legendgroup": "1149",
         "marker": {
          "color": "#FFA15A",
          "pattern": {
           "shape": ""
          }
         },
         "name": "1149",
         "offsetgroup": "1149",
         "orientation": "v",
         "showlegend": true,
         "textposition": "auto",
         "type": "bar",
         "x": [
          "2023-02-01T11:45:00",
          "2023-02-01T11:50:00",
          "2023-02-01T11:55:00",
          "2023-02-01T12:00:00",
          "2023-02-01T12:05:00",
          "2023-02-01T12:10:00",
          "2023-02-01T12:15:00",
          "2023-02-01T12:20:00",
          "2023-02-01T12:25:00",
          "2023-02-01T12:30:00",
          "2023-02-01T12:35:00",
          "2023-02-01T12:40:00",
          "2023-02-01T12:45:00",
          "2023-02-01T12:50:00",
          "2023-02-01T12:55:00",
          "2023-02-01T13:00:00",
          "2023-02-01T13:05:00",
          "2023-02-01T13:10:00",
          "2023-02-01T13:15:00",
          "2023-02-01T13:20:00",
          "2023-02-01T13:25:00",
          "2023-02-01T13:30:00",
          "2023-02-01T13:35:00",
          "2023-02-01T13:40:00",
          "2023-02-01T13:45:00",
          "2023-02-01T13:50:00",
          "2023-02-01T13:55:00",
          "2023-02-01T14:00:00",
          "2023-02-01T14:05:00",
          "2023-02-01T14:10:00",
          "2023-02-01T14:15:00",
          "2023-02-01T14:20:00",
          "2023-02-01T14:25:00",
          "2023-02-01T14:30:00",
          "2023-02-01T14:35:00",
          "2023-02-01T14:40:00",
          "2023-02-01T14:45:00",
          "2023-02-01T14:50:00",
          "2023-02-01T14:55:00",
          "2023-02-01T15:00:00",
          "2023-02-01T15:05:00",
          "2023-02-01T15:10:00",
          "2023-02-01T15:15:00",
          "2023-02-01T15:20:00",
          "2023-02-01T15:25:00",
          "2023-02-01T15:30:00",
          "2023-02-01T15:35:00",
          "2023-02-01T15:40:00",
          "2023-02-01T15:45:00",
          "2023-02-01T15:50:00",
          "2023-02-01T15:55:00",
          "2023-02-01T16:00:00",
          "2023-02-01T16:05:00",
          "2023-02-01T16:10:00",
          "2023-02-01T16:15:00",
          "2023-02-01T16:20:00",
          "2023-02-01T16:25:00",
          "2023-02-01T16:30:00",
          "2023-02-01T16:35:00",
          "2023-02-01T16:40:00",
          "2023-02-01T16:45:00",
          "2023-02-01T16:50:00",
          "2023-02-01T16:55:00"
         ],
         "xaxis": "x",
         "y": [
          6656,
          6656,
          6656,
          6656,
          6656,
          6656,
          6656,
          6656,
          6656,
          6656,
          6656,
          6656,
          6656,
          6656,
          6656,
          6656,
          6656,
          6656,
          6656,
          6656,
          6656,
          6656,
          6656,
          6656,
          6656,
          6656,
          6656,
          6656,
          6656,
          6656,
          6656,
          6656,
          6656,
          6656,
          6656,
          6656,
          6656,
          6656,
          6656,
          6656,
          6656,
          6656,
          6656,
          6656,
          6656,
          6656,
          6656,
          6656,
          6656,
          6656,
          6656,
          6656,
          6656,
          6656,
          6656,
          6656,
          6656,
          6656,
          6656,
          6656,
          6656,
          6656,
          6656
         ],
         "yaxis": "y"
        },
        {
         "alignmentgroup": "True",
         "hovertemplate": "userId=1180<br>time_vals=%{x}<br>power_vals=%{y}<extra></extra>",
         "legendgroup": "1180",
         "marker": {
          "color": "#19d3f3",
          "pattern": {
           "shape": ""
          }
         },
         "name": "1180",
         "offsetgroup": "1180",
         "orientation": "v",
         "showlegend": true,
         "textposition": "auto",
         "type": "bar",
         "x": [
          "2023-02-01T15:45:00",
          "2023-02-01T15:50:00",
          "2023-02-01T15:55:00",
          "2023-02-01T16:00:00",
          "2023-02-01T16:05:00",
          "2023-02-01T16:10:00",
          "2023-02-01T16:15:00",
          "2023-02-01T16:20:00",
          "2023-02-01T16:25:00",
          "2023-02-01T16:30:00",
          "2023-02-01T16:35:00",
          "2023-02-01T16:40:00",
          "2023-02-01T16:45:00",
          "2023-02-01T16:50:00",
          "2023-02-01T16:55:00",
          "2023-02-01T17:00:00",
          "2023-02-01T17:05:00",
          "2023-02-01T17:10:00",
          "2023-02-01T17:15:00",
          "2023-02-01T17:20:00",
          "2023-02-01T17:25:00",
          "2023-02-01T17:30:00",
          "2023-02-01T17:35:00",
          "2023-02-01T17:40:00",
          "2023-02-01T17:45:00",
          "2023-02-01T17:50:00",
          "2023-02-01T17:55:00",
          "2023-02-01T18:00:00",
          "2023-02-01T18:05:00",
          "2023-02-01T18:10:00",
          "2023-02-01T18:15:00",
          "2023-02-01T18:20:00",
          "2023-02-01T18:25:00",
          "2023-02-01T18:30:00",
          "2023-02-01T18:35:00",
          "2023-02-01T18:40:00",
          "2023-02-01T18:45:00",
          "2023-02-01T18:50:00",
          "2023-02-01T18:55:00",
          "2023-02-01T19:00:00",
          "2023-02-01T19:05:00",
          "2023-02-01T19:10:00",
          "2023-02-01T19:15:00",
          "2023-02-01T19:20:00"
         ],
         "xaxis": "x",
         "y": [
          6278,
          6278,
          6278,
          6278,
          6278,
          6278,
          6278,
          6278,
          6278,
          6278,
          6278,
          6278,
          6278,
          6278,
          6278,
          6278,
          6278,
          6278,
          6278,
          6278,
          6278,
          6278,
          6278,
          6278,
          6278,
          6278,
          6278,
          6278,
          6278,
          6278,
          6278,
          6278,
          6278,
          6278,
          6278,
          6278,
          6278,
          6278,
          6278,
          6278,
          6278,
          6278,
          6278,
          6278
         ],
         "yaxis": "y"
        }
       ],
       "layout": {
        "barmode": "relative",
        "legend": {
         "title": {
          "text": "userId"
         },
         "tracegroupgap": 0
        },
        "margin": {
         "t": 60
        },
        "template": {
         "data": {
          "bar": [
           {
            "error_x": {
             "color": "#2a3f5f"
            },
            "error_y": {
             "color": "#2a3f5f"
            },
            "marker": {
             "line": {
              "color": "#E5ECF6",
              "width": 0.5
             },
             "pattern": {
              "fillmode": "overlay",
              "size": 10,
              "solidity": 0.2
             }
            },
            "type": "bar"
           }
          ],
          "barpolar": [
           {
            "marker": {
             "line": {
              "color": "#E5ECF6",
              "width": 0.5
             },
             "pattern": {
              "fillmode": "overlay",
              "size": 10,
              "solidity": 0.2
             }
            },
            "type": "barpolar"
           }
          ],
          "carpet": [
           {
            "aaxis": {
             "endlinecolor": "#2a3f5f",
             "gridcolor": "white",
             "linecolor": "white",
             "minorgridcolor": "white",
             "startlinecolor": "#2a3f5f"
            },
            "baxis": {
             "endlinecolor": "#2a3f5f",
             "gridcolor": "white",
             "linecolor": "white",
             "minorgridcolor": "white",
             "startlinecolor": "#2a3f5f"
            },
            "type": "carpet"
           }
          ],
          "choropleth": [
           {
            "colorbar": {
             "outlinewidth": 0,
             "ticks": ""
            },
            "type": "choropleth"
           }
          ],
          "contour": [
           {
            "colorbar": {
             "outlinewidth": 0,
             "ticks": ""
            },
            "colorscale": [
             [
              0,
              "#0d0887"
             ],
             [
              0.1111111111111111,
              "#46039f"
             ],
             [
              0.2222222222222222,
              "#7201a8"
             ],
             [
              0.3333333333333333,
              "#9c179e"
             ],
             [
              0.4444444444444444,
              "#bd3786"
             ],
             [
              0.5555555555555556,
              "#d8576b"
             ],
             [
              0.6666666666666666,
              "#ed7953"
             ],
             [
              0.7777777777777778,
              "#fb9f3a"
             ],
             [
              0.8888888888888888,
              "#fdca26"
             ],
             [
              1,
              "#f0f921"
             ]
            ],
            "type": "contour"
           }
          ],
          "contourcarpet": [
           {
            "colorbar": {
             "outlinewidth": 0,
             "ticks": ""
            },
            "type": "contourcarpet"
           }
          ],
          "heatmap": [
           {
            "colorbar": {
             "outlinewidth": 0,
             "ticks": ""
            },
            "colorscale": [
             [
              0,
              "#0d0887"
             ],
             [
              0.1111111111111111,
              "#46039f"
             ],
             [
              0.2222222222222222,
              "#7201a8"
             ],
             [
              0.3333333333333333,
              "#9c179e"
             ],
             [
              0.4444444444444444,
              "#bd3786"
             ],
             [
              0.5555555555555556,
              "#d8576b"
             ],
             [
              0.6666666666666666,
              "#ed7953"
             ],
             [
              0.7777777777777778,
              "#fb9f3a"
             ],
             [
              0.8888888888888888,
              "#fdca26"
             ],
             [
              1,
              "#f0f921"
             ]
            ],
            "type": "heatmap"
           }
          ],
          "heatmapgl": [
           {
            "colorbar": {
             "outlinewidth": 0,
             "ticks": ""
            },
            "colorscale": [
             [
              0,
              "#0d0887"
             ],
             [
              0.1111111111111111,
              "#46039f"
             ],
             [
              0.2222222222222222,
              "#7201a8"
             ],
             [
              0.3333333333333333,
              "#9c179e"
             ],
             [
              0.4444444444444444,
              "#bd3786"
             ],
             [
              0.5555555555555556,
              "#d8576b"
             ],
             [
              0.6666666666666666,
              "#ed7953"
             ],
             [
              0.7777777777777778,
              "#fb9f3a"
             ],
             [
              0.8888888888888888,
              "#fdca26"
             ],
             [
              1,
              "#f0f921"
             ]
            ],
            "type": "heatmapgl"
           }
          ],
          "histogram": [
           {
            "marker": {
             "pattern": {
              "fillmode": "overlay",
              "size": 10,
              "solidity": 0.2
             }
            },
            "type": "histogram"
           }
          ],
          "histogram2d": [
           {
            "colorbar": {
             "outlinewidth": 0,
             "ticks": ""
            },
            "colorscale": [
             [
              0,
              "#0d0887"
             ],
             [
              0.1111111111111111,
              "#46039f"
             ],
             [
              0.2222222222222222,
              "#7201a8"
             ],
             [
              0.3333333333333333,
              "#9c179e"
             ],
             [
              0.4444444444444444,
              "#bd3786"
             ],
             [
              0.5555555555555556,
              "#d8576b"
             ],
             [
              0.6666666666666666,
              "#ed7953"
             ],
             [
              0.7777777777777778,
              "#fb9f3a"
             ],
             [
              0.8888888888888888,
              "#fdca26"
             ],
             [
              1,
              "#f0f921"
             ]
            ],
            "type": "histogram2d"
           }
          ],
          "histogram2dcontour": [
           {
            "colorbar": {
             "outlinewidth": 0,
             "ticks": ""
            },
            "colorscale": [
             [
              0,
              "#0d0887"
             ],
             [
              0.1111111111111111,
              "#46039f"
             ],
             [
              0.2222222222222222,
              "#7201a8"
             ],
             [
              0.3333333333333333,
              "#9c179e"
             ],
             [
              0.4444444444444444,
              "#bd3786"
             ],
             [
              0.5555555555555556,
              "#d8576b"
             ],
             [
              0.6666666666666666,
              "#ed7953"
             ],
             [
              0.7777777777777778,
              "#fb9f3a"
             ],
             [
              0.8888888888888888,
              "#fdca26"
             ],
             [
              1,
              "#f0f921"
             ]
            ],
            "type": "histogram2dcontour"
           }
          ],
          "mesh3d": [
           {
            "colorbar": {
             "outlinewidth": 0,
             "ticks": ""
            },
            "type": "mesh3d"
           }
          ],
          "parcoords": [
           {
            "line": {
             "colorbar": {
              "outlinewidth": 0,
              "ticks": ""
             }
            },
            "type": "parcoords"
           }
          ],
          "pie": [
           {
            "automargin": true,
            "type": "pie"
           }
          ],
          "scatter": [
           {
            "fillpattern": {
             "fillmode": "overlay",
             "size": 10,
             "solidity": 0.2
            },
            "type": "scatter"
           }
          ],
          "scatter3d": [
           {
            "line": {
             "colorbar": {
              "outlinewidth": 0,
              "ticks": ""
             }
            },
            "marker": {
             "colorbar": {
              "outlinewidth": 0,
              "ticks": ""
             }
            },
            "type": "scatter3d"
           }
          ],
          "scattercarpet": [
           {
            "marker": {
             "colorbar": {
              "outlinewidth": 0,
              "ticks": ""
             }
            },
            "type": "scattercarpet"
           }
          ],
          "scattergeo": [
           {
            "marker": {
             "colorbar": {
              "outlinewidth": 0,
              "ticks": ""
             }
            },
            "type": "scattergeo"
           }
          ],
          "scattergl": [
           {
            "marker": {
             "colorbar": {
              "outlinewidth": 0,
              "ticks": ""
             }
            },
            "type": "scattergl"
           }
          ],
          "scattermapbox": [
           {
            "marker": {
             "colorbar": {
              "outlinewidth": 0,
              "ticks": ""
             }
            },
            "type": "scattermapbox"
           }
          ],
          "scatterpolar": [
           {
            "marker": {
             "colorbar": {
              "outlinewidth": 0,
              "ticks": ""
             }
            },
            "type": "scatterpolar"
           }
          ],
          "scatterpolargl": [
           {
            "marker": {
             "colorbar": {
              "outlinewidth": 0,
              "ticks": ""
             }
            },
            "type": "scatterpolargl"
           }
          ],
          "scatterternary": [
           {
            "marker": {
             "colorbar": {
              "outlinewidth": 0,
              "ticks": ""
             }
            },
            "type": "scatterternary"
           }
          ],
          "surface": [
           {
            "colorbar": {
             "outlinewidth": 0,
             "ticks": ""
            },
            "colorscale": [
             [
              0,
              "#0d0887"
             ],
             [
              0.1111111111111111,
              "#46039f"
             ],
             [
              0.2222222222222222,
              "#7201a8"
             ],
             [
              0.3333333333333333,
              "#9c179e"
             ],
             [
              0.4444444444444444,
              "#bd3786"
             ],
             [
              0.5555555555555556,
              "#d8576b"
             ],
             [
              0.6666666666666666,
              "#ed7953"
             ],
             [
              0.7777777777777778,
              "#fb9f3a"
             ],
             [
              0.8888888888888888,
              "#fdca26"
             ],
             [
              1,
              "#f0f921"
             ]
            ],
            "type": "surface"
           }
          ],
          "table": [
           {
            "cells": {
             "fill": {
              "color": "#EBF0F8"
             },
             "line": {
              "color": "white"
             }
            },
            "header": {
             "fill": {
              "color": "#C8D4E3"
             },
             "line": {
              "color": "white"
             }
            },
            "type": "table"
           }
          ]
         },
         "layout": {
          "annotationdefaults": {
           "arrowcolor": "#2a3f5f",
           "arrowhead": 0,
           "arrowwidth": 1
          },
          "autotypenumbers": "strict",
          "coloraxis": {
           "colorbar": {
            "outlinewidth": 0,
            "ticks": ""
           }
          },
          "colorscale": {
           "diverging": [
            [
             0,
             "#8e0152"
            ],
            [
             0.1,
             "#c51b7d"
            ],
            [
             0.2,
             "#de77ae"
            ],
            [
             0.3,
             "#f1b6da"
            ],
            [
             0.4,
             "#fde0ef"
            ],
            [
             0.5,
             "#f7f7f7"
            ],
            [
             0.6,
             "#e6f5d0"
            ],
            [
             0.7,
             "#b8e186"
            ],
            [
             0.8,
             "#7fbc41"
            ],
            [
             0.9,
             "#4d9221"
            ],
            [
             1,
             "#276419"
            ]
           ],
           "sequential": [
            [
             0,
             "#0d0887"
            ],
            [
             0.1111111111111111,
             "#46039f"
            ],
            [
             0.2222222222222222,
             "#7201a8"
            ],
            [
             0.3333333333333333,
             "#9c179e"
            ],
            [
             0.4444444444444444,
             "#bd3786"
            ],
            [
             0.5555555555555556,
             "#d8576b"
            ],
            [
             0.6666666666666666,
             "#ed7953"
            ],
            [
             0.7777777777777778,
             "#fb9f3a"
            ],
            [
             0.8888888888888888,
             "#fdca26"
            ],
            [
             1,
             "#f0f921"
            ]
           ],
           "sequentialminus": [
            [
             0,
             "#0d0887"
            ],
            [
             0.1111111111111111,
             "#46039f"
            ],
            [
             0.2222222222222222,
             "#7201a8"
            ],
            [
             0.3333333333333333,
             "#9c179e"
            ],
            [
             0.4444444444444444,
             "#bd3786"
            ],
            [
             0.5555555555555556,
             "#d8576b"
            ],
            [
             0.6666666666666666,
             "#ed7953"
            ],
            [
             0.7777777777777778,
             "#fb9f3a"
            ],
            [
             0.8888888888888888,
             "#fdca26"
            ],
            [
             1,
             "#f0f921"
            ]
           ]
          },
          "colorway": [
           "#636efa",
           "#EF553B",
           "#00cc96",
           "#ab63fa",
           "#FFA15A",
           "#19d3f3",
           "#FF6692",
           "#B6E880",
           "#FF97FF",
           "#FECB52"
          ],
          "font": {
           "color": "#2a3f5f"
          },
          "geo": {
           "bgcolor": "white",
           "lakecolor": "white",
           "landcolor": "#E5ECF6",
           "showlakes": true,
           "showland": true,
           "subunitcolor": "white"
          },
          "hoverlabel": {
           "align": "left"
          },
          "hovermode": "closest",
          "mapbox": {
           "style": "light"
          },
          "paper_bgcolor": "white",
          "plot_bgcolor": "#E5ECF6",
          "polar": {
           "angularaxis": {
            "gridcolor": "white",
            "linecolor": "white",
            "ticks": ""
           },
           "bgcolor": "#E5ECF6",
           "radialaxis": {
            "gridcolor": "white",
            "linecolor": "white",
            "ticks": ""
           }
          },
          "scene": {
           "xaxis": {
            "backgroundcolor": "#E5ECF6",
            "gridcolor": "white",
            "gridwidth": 2,
            "linecolor": "white",
            "showbackground": true,
            "ticks": "",
            "zerolinecolor": "white"
           },
           "yaxis": {
            "backgroundcolor": "#E5ECF6",
            "gridcolor": "white",
            "gridwidth": 2,
            "linecolor": "white",
            "showbackground": true,
            "ticks": "",
            "zerolinecolor": "white"
           },
           "zaxis": {
            "backgroundcolor": "#E5ECF6",
            "gridcolor": "white",
            "gridwidth": 2,
            "linecolor": "white",
            "showbackground": true,
            "ticks": "",
            "zerolinecolor": "white"
           }
          },
          "shapedefaults": {
           "line": {
            "color": "#2a3f5f"
           }
          },
          "ternary": {
           "aaxis": {
            "gridcolor": "white",
            "linecolor": "white",
            "ticks": ""
           },
           "baxis": {
            "gridcolor": "white",
            "linecolor": "white",
            "ticks": ""
           },
           "bgcolor": "#E5ECF6",
           "caxis": {
            "gridcolor": "white",
            "linecolor": "white",
            "ticks": ""
           }
          },
          "title": {
           "x": 0.05
          },
          "xaxis": {
           "automargin": true,
           "gridcolor": "white",
           "linecolor": "white",
           "ticks": "",
           "title": {
            "standoff": 15
           },
           "zerolinecolor": "white",
           "zerolinewidth": 2
          },
          "yaxis": {
           "automargin": true,
           "gridcolor": "white",
           "linecolor": "white",
           "ticks": "",
           "title": {
            "standoff": 15
           },
           "zerolinecolor": "white",
           "zerolinewidth": 2
          }
         }
        },
        "xaxis": {
         "anchor": "y",
         "domain": [
          0,
          1
         ],
         "title": {
          "text": "time_vals"
         }
        },
        "yaxis": {
         "anchor": "x",
         "domain": [
          0,
          1
         ],
         "showgrid": false,
         "title": {
          "text": "power_vals"
         }
        }
       }
      }
     },
     "metadata": {},
     "output_type": "display_data"
    }
   ],
   "source": [
    "fig = px.bar(clean, x=clean[\"time_vals\"], y=clean[\"power_vals\"], color=clean[\"userId\"])\n",
    "fig.update_yaxes(showgrid=False)\n",
    "fig"
   ]
  },
  {
   "cell_type": "code",
   "execution_count": 71,
   "id": "153f2fc8",
   "metadata": {},
   "outputs": [
    {
     "data": {
      "text/html": [
       "<div>\n",
       "<style scoped>\n",
       "    .dataframe tbody tr th:only-of-type {\n",
       "        vertical-align: middle;\n",
       "    }\n",
       "\n",
       "    .dataframe tbody tr th {\n",
       "        vertical-align: top;\n",
       "    }\n",
       "\n",
       "    .dataframe thead th {\n",
       "        text-align: right;\n",
       "    }\n",
       "</style>\n",
       "<table border=\"1\" class=\"dataframe\">\n",
       "  <thead>\n",
       "    <tr style=\"text-align: right;\">\n",
       "      <th></th>\n",
       "      <th>Unnamed: 0</th>\n",
       "      <th>vehicle_maxChgRate_W</th>\n",
       "      <th>peakPower_W</th>\n",
       "      <th>sch_centsPerHr</th>\n",
       "      <th>connectTime</th>\n",
       "      <th>user_email</th>\n",
       "      <th>vehicle_model</th>\n",
       "      <th>Duration</th>\n",
       "      <th>userId</th>\n",
       "      <th>regular</th>\n",
       "      <th>Deadline</th>\n",
       "      <th>startChargeTime</th>\n",
       "      <th>sch_centsPerOverstayHr</th>\n",
       "      <th>sch_centsPerKwh</th>\n",
       "      <th>choice</th>\n",
       "      <th>siteId</th>\n",
       "      <th>estCost</th>\n",
       "      <th>slrpPaymentId</th>\n",
       "      <th>DurationHrs</th>\n",
       "      <th>dcosId</th>\n",
       "      <th>lastUpdate</th>\n",
       "      <th>energyReq_Wh</th>\n",
       "      <th>power</th>\n",
       "      <th>stationId</th>\n",
       "      <th>defaultDeadline</th>\n",
       "      <th>scheduled</th>\n",
       "      <th>cumEnergy_Wh</th>\n",
       "      <th>reg_centsPerHr</th>\n",
       "    </tr>\n",
       "  </thead>\n",
       "  <tbody>\n",
       "    <tr>\n",
       "      <th>6465</th>\n",
       "      <td>6465</td>\n",
       "      <td>7200</td>\n",
       "      <td>6893</td>\n",
       "      <td>127.0</td>\n",
       "      <td>2023-02-01 07:43:09</td>\n",
       "      <td>lee.r@berkeley.edu</td>\n",
       "      <td>Bolt</td>\n",
       "      <td>0 days 09:26:50</td>\n",
       "      <td>682</td>\n",
       "      <td>0</td>\n",
       "      <td>2023-02-01T17:30:00</td>\n",
       "      <td>2023-02-01T07:43:19</td>\n",
       "      <td>400.0</td>\n",
       "      <td>0.0</td>\n",
       "      <td>SCHEDULED</td>\n",
       "      <td>25</td>\n",
       "      <td>12.91813</td>\n",
       "      <td>089cc5605f6f62a8750ca62bf8caca7a62f6a5ac86291f...</td>\n",
       "      <td>9.44722</td>\n",
       "      <td>4100</td>\n",
       "      <td>2023-02-01T17:10:09</td>\n",
       "      <td>39580.0</td>\n",
       "      <td>[{'power_W': Decimal('6880'), 'timestamp': Dec...</td>\n",
       "      <td>16</td>\n",
       "      <td>2023-02-01T17:30:00</td>\n",
       "      <td>1</td>\n",
       "      <td>45967</td>\n",
       "      <td>184.0</td>\n",
       "    </tr>\n",
       "    <tr>\n",
       "      <th>3486</th>\n",
       "      <td>3486</td>\n",
       "      <td>7200</td>\n",
       "      <td>6893</td>\n",
       "      <td>127.0</td>\n",
       "      <td>2023-02-01 07:43:09</td>\n",
       "      <td>lee.r@berkeley.edu</td>\n",
       "      <td>Bolt</td>\n",
       "      <td>0 days 09:26:50</td>\n",
       "      <td>682</td>\n",
       "      <td>0</td>\n",
       "      <td>2023-02-01T17:30:00</td>\n",
       "      <td>2023-02-01T07:43:19</td>\n",
       "      <td>400.0</td>\n",
       "      <td>0.0</td>\n",
       "      <td>SCHEDULED</td>\n",
       "      <td>25</td>\n",
       "      <td>12.91813</td>\n",
       "      <td>089cc5605f6f62a8750ca62bf8caca7a62f6a5ac86291f...</td>\n",
       "      <td>9.44722</td>\n",
       "      <td>4100</td>\n",
       "      <td>2023-02-01T17:10:09</td>\n",
       "      <td>39580.0</td>\n",
       "      <td>[{'power_W': Decimal('6880'), 'timestamp': Dec...</td>\n",
       "      <td>16</td>\n",
       "      <td>2023-02-01T17:30:00</td>\n",
       "      <td>1</td>\n",
       "      <td>45967</td>\n",
       "      <td>184.0</td>\n",
       "    </tr>\n",
       "    <tr>\n",
       "      <th>8014</th>\n",
       "      <td>8014</td>\n",
       "      <td>7000</td>\n",
       "      <td>3820</td>\n",
       "      <td>127.0</td>\n",
       "      <td>2023-02-01 07:43:25</td>\n",
       "      <td>grosales@berkeley.edu</td>\n",
       "      <td>Leaf</td>\n",
       "      <td>0 days 05:16:30</td>\n",
       "      <td>1067</td>\n",
       "      <td>1</td>\n",
       "      <td>NaN</td>\n",
       "      <td>2023-02-01T07:43:40</td>\n",
       "      <td>400.0</td>\n",
       "      <td>0.0</td>\n",
       "      <td>REGULAR</td>\n",
       "      <td>25</td>\n",
       "      <td>10.20599</td>\n",
       "      <td>277332d81349a2654cad7dbeb0f563b61fecbfaa794fcb...</td>\n",
       "      <td>5.27500</td>\n",
       "      <td>4101</td>\n",
       "      <td>2023-02-01T13:00:10</td>\n",
       "      <td>NaN</td>\n",
       "      <td>[{'power_W': Decimal('3820'), 'timestamp': Dec...</td>\n",
       "      <td>11</td>\n",
       "      <td>2023-02-01T13:30:00</td>\n",
       "      <td>0</td>\n",
       "      <td>12932</td>\n",
       "      <td>184.0</td>\n",
       "    </tr>\n",
       "    <tr>\n",
       "      <th>5035</th>\n",
       "      <td>5035</td>\n",
       "      <td>7000</td>\n",
       "      <td>3820</td>\n",
       "      <td>127.0</td>\n",
       "      <td>2023-02-01 07:43:25</td>\n",
       "      <td>grosales@berkeley.edu</td>\n",
       "      <td>Leaf</td>\n",
       "      <td>0 days 05:16:30</td>\n",
       "      <td>1067</td>\n",
       "      <td>1</td>\n",
       "      <td>NaN</td>\n",
       "      <td>2023-02-01T07:43:40</td>\n",
       "      <td>400.0</td>\n",
       "      <td>0.0</td>\n",
       "      <td>REGULAR</td>\n",
       "      <td>25</td>\n",
       "      <td>10.20599</td>\n",
       "      <td>277332d81349a2654cad7dbeb0f563b61fecbfaa794fcb...</td>\n",
       "      <td>5.27500</td>\n",
       "      <td>4101</td>\n",
       "      <td>2023-02-01T13:00:10</td>\n",
       "      <td>NaN</td>\n",
       "      <td>[{'power_W': Decimal('3820'), 'timestamp': Dec...</td>\n",
       "      <td>11</td>\n",
       "      <td>2023-02-01T13:30:00</td>\n",
       "      <td>0</td>\n",
       "      <td>12932</td>\n",
       "      <td>184.0</td>\n",
       "    </tr>\n",
       "    <tr>\n",
       "      <th>7478</th>\n",
       "      <td>7478</td>\n",
       "      <td>7000</td>\n",
       "      <td>6855</td>\n",
       "      <td>250.0</td>\n",
       "      <td>2023-02-01 09:38:09</td>\n",
       "      <td>stephanie.tomasco@alumni.berkeley.edu</td>\n",
       "      <td>Model Y</td>\n",
       "      <td>0 days 02:20:10</td>\n",
       "      <td>880</td>\n",
       "      <td>1</td>\n",
       "      <td>NaN</td>\n",
       "      <td>2023-02-01T09:40:05</td>\n",
       "      <td>400.0</td>\n",
       "      <td>0.0</td>\n",
       "      <td>REGULAR</td>\n",
       "      <td>25</td>\n",
       "      <td>3.70047</td>\n",
       "      <td>7223927243fc41dfd447834044d1c7dd43fb220effce90...</td>\n",
       "      <td>2.33611</td>\n",
       "      <td>4103</td>\n",
       "      <td>2023-02-01T12:00:15</td>\n",
       "      <td>NaN</td>\n",
       "      <td>[{'power_W': Decimal('6835'), 'timestamp': Dec...</td>\n",
       "      <td>17</td>\n",
       "      <td>2023-02-01T16:30:00</td>\n",
       "      <td>0</td>\n",
       "      <td>15129</td>\n",
       "      <td>137.0</td>\n",
       "    </tr>\n",
       "    <tr>\n",
       "      <th>4499</th>\n",
       "      <td>4499</td>\n",
       "      <td>7000</td>\n",
       "      <td>6855</td>\n",
       "      <td>250.0</td>\n",
       "      <td>2023-02-01 09:38:09</td>\n",
       "      <td>stephanie.tomasco@alumni.berkeley.edu</td>\n",
       "      <td>Model Y</td>\n",
       "      <td>0 days 02:20:10</td>\n",
       "      <td>880</td>\n",
       "      <td>1</td>\n",
       "      <td>NaN</td>\n",
       "      <td>2023-02-01T09:40:05</td>\n",
       "      <td>400.0</td>\n",
       "      <td>0.0</td>\n",
       "      <td>REGULAR</td>\n",
       "      <td>25</td>\n",
       "      <td>3.70047</td>\n",
       "      <td>7223927243fc41dfd447834044d1c7dd43fb220effce90...</td>\n",
       "      <td>2.33611</td>\n",
       "      <td>4103</td>\n",
       "      <td>2023-02-01T12:00:15</td>\n",
       "      <td>NaN</td>\n",
       "      <td>[{'power_W': Decimal('6835'), 'timestamp': Dec...</td>\n",
       "      <td>17</td>\n",
       "      <td>2023-02-01T16:30:00</td>\n",
       "      <td>0</td>\n",
       "      <td>15129</td>\n",
       "      <td>137.0</td>\n",
       "    </tr>\n",
       "    <tr>\n",
       "      <th>8173</th>\n",
       "      <td>8173</td>\n",
       "      <td>7000</td>\n",
       "      <td>6482</td>\n",
       "      <td>250.0</td>\n",
       "      <td>2023-02-01 10:53:06</td>\n",
       "      <td>ngkumar@berkeley.edu</td>\n",
       "      <td>Model Y</td>\n",
       "      <td>0 days 00:15:52</td>\n",
       "      <td>1139</td>\n",
       "      <td>1</td>\n",
       "      <td>NaN</td>\n",
       "      <td>2023-02-01T10:54:16</td>\n",
       "      <td>400.0</td>\n",
       "      <td>0.0</td>\n",
       "      <td>REGULAR</td>\n",
       "      <td>25</td>\n",
       "      <td>0.86228</td>\n",
       "      <td>87ef316f5ae058c55f21ffa5554f13b820b5b85eb749e5...</td>\n",
       "      <td>0.26444</td>\n",
       "      <td>4104</td>\n",
       "      <td>2023-02-01T11:10:08</td>\n",
       "      <td>NaN</td>\n",
       "      <td>[{'power_W': Decimal('1636'), 'timestamp': Dec...</td>\n",
       "      <td>13</td>\n",
       "      <td>2023-02-01T17:00:00</td>\n",
       "      <td>0</td>\n",
       "      <td>1575</td>\n",
       "      <td>137.0</td>\n",
       "    </tr>\n",
       "    <tr>\n",
       "      <th>5194</th>\n",
       "      <td>5194</td>\n",
       "      <td>7000</td>\n",
       "      <td>6482</td>\n",
       "      <td>250.0</td>\n",
       "      <td>2023-02-01 10:53:06</td>\n",
       "      <td>ngkumar@berkeley.edu</td>\n",
       "      <td>Model Y</td>\n",
       "      <td>0 days 00:15:52</td>\n",
       "      <td>1139</td>\n",
       "      <td>1</td>\n",
       "      <td>NaN</td>\n",
       "      <td>2023-02-01T10:54:16</td>\n",
       "      <td>400.0</td>\n",
       "      <td>0.0</td>\n",
       "      <td>REGULAR</td>\n",
       "      <td>25</td>\n",
       "      <td>0.86228</td>\n",
       "      <td>87ef316f5ae058c55f21ffa5554f13b820b5b85eb749e5...</td>\n",
       "      <td>0.26444</td>\n",
       "      <td>4104</td>\n",
       "      <td>2023-02-01T11:10:08</td>\n",
       "      <td>NaN</td>\n",
       "      <td>[{'power_W': Decimal('1636'), 'timestamp': Dec...</td>\n",
       "      <td>13</td>\n",
       "      <td>2023-02-01T17:00:00</td>\n",
       "      <td>0</td>\n",
       "      <td>1575</td>\n",
       "      <td>137.0</td>\n",
       "    </tr>\n",
       "    <tr>\n",
       "      <th>7535</th>\n",
       "      <td>7535</td>\n",
       "      <td>100000</td>\n",
       "      <td>6656</td>\n",
       "      <td>250.0</td>\n",
       "      <td>2023-02-01 11:42:52</td>\n",
       "      <td>courtnee.butler@berkeley.edu</td>\n",
       "      <td>Kona</td>\n",
       "      <td>0 days 05:31:45</td>\n",
       "      <td>1149</td>\n",
       "      <td>1</td>\n",
       "      <td>NaN</td>\n",
       "      <td>2023-02-01T11:43:23</td>\n",
       "      <td>400.0</td>\n",
       "      <td>0.0</td>\n",
       "      <td>REGULAR</td>\n",
       "      <td>25</td>\n",
       "      <td>8.07495</td>\n",
       "      <td>2d2ac9072c881728aff5a6b3e67c35880999ed14920dba...</td>\n",
       "      <td>5.52916</td>\n",
       "      <td>4105</td>\n",
       "      <td>2023-02-01T17:15:08</td>\n",
       "      <td>NaN</td>\n",
       "      <td>[{'power_W': Decimal('3109'), 'timestamp': Dec...</td>\n",
       "      <td>15</td>\n",
       "      <td>2023-02-01T18:00:00</td>\n",
       "      <td>0</td>\n",
       "      <td>34897</td>\n",
       "      <td>137.0</td>\n",
       "    </tr>\n",
       "    <tr>\n",
       "      <th>4556</th>\n",
       "      <td>4556</td>\n",
       "      <td>100000</td>\n",
       "      <td>6656</td>\n",
       "      <td>250.0</td>\n",
       "      <td>2023-02-01 11:42:52</td>\n",
       "      <td>courtnee.butler@berkeley.edu</td>\n",
       "      <td>Kona</td>\n",
       "      <td>0 days 05:31:45</td>\n",
       "      <td>1149</td>\n",
       "      <td>1</td>\n",
       "      <td>NaN</td>\n",
       "      <td>2023-02-01T11:43:23</td>\n",
       "      <td>400.0</td>\n",
       "      <td>0.0</td>\n",
       "      <td>REGULAR</td>\n",
       "      <td>25</td>\n",
       "      <td>8.07495</td>\n",
       "      <td>2d2ac9072c881728aff5a6b3e67c35880999ed14920dba...</td>\n",
       "      <td>5.52916</td>\n",
       "      <td>4105</td>\n",
       "      <td>2023-02-01T17:15:08</td>\n",
       "      <td>NaN</td>\n",
       "      <td>[{'power_W': Decimal('3109'), 'timestamp': Dec...</td>\n",
       "      <td>15</td>\n",
       "      <td>2023-02-01T18:00:00</td>\n",
       "      <td>0</td>\n",
       "      <td>34897</td>\n",
       "      <td>137.0</td>\n",
       "    </tr>\n",
       "    <tr>\n",
       "      <th>3014</th>\n",
       "      <td>3014</td>\n",
       "      <td>17200</td>\n",
       "      <td>6278</td>\n",
       "      <td>250.0</td>\n",
       "      <td>2023-02-01 15:43:36</td>\n",
       "      <td>d_zhang@berkeley.edu</td>\n",
       "      <td>Model X</td>\n",
       "      <td>0 days 03:50:04</td>\n",
       "      <td>1180</td>\n",
       "      <td>1</td>\n",
       "      <td>NaN</td>\n",
       "      <td>2023-02-01T15:45:04</td>\n",
       "      <td>400.0</td>\n",
       "      <td>0.0</td>\n",
       "      <td>REGULAR</td>\n",
       "      <td>25</td>\n",
       "      <td>5.75318</td>\n",
       "      <td>f580eb714f2366e0ab2e030e41568ddd5a0ce0df5ef554...</td>\n",
       "      <td>3.83444</td>\n",
       "      <td>4106</td>\n",
       "      <td>2023-02-01T19:35:08</td>\n",
       "      <td>NaN</td>\n",
       "      <td>[{'power_W': Decimal('0'), 'timestamp': Decima...</td>\n",
       "      <td>13</td>\n",
       "      <td>2023-02-01T21:30:00</td>\n",
       "      <td>0</td>\n",
       "      <td>22747</td>\n",
       "      <td>137.0</td>\n",
       "    </tr>\n",
       "    <tr>\n",
       "      <th>5993</th>\n",
       "      <td>5993</td>\n",
       "      <td>17200</td>\n",
       "      <td>6278</td>\n",
       "      <td>250.0</td>\n",
       "      <td>2023-02-01 15:43:36</td>\n",
       "      <td>d_zhang@berkeley.edu</td>\n",
       "      <td>Model X</td>\n",
       "      <td>0 days 03:50:04</td>\n",
       "      <td>1180</td>\n",
       "      <td>1</td>\n",
       "      <td>NaN</td>\n",
       "      <td>2023-02-01T15:45:04</td>\n",
       "      <td>400.0</td>\n",
       "      <td>0.0</td>\n",
       "      <td>REGULAR</td>\n",
       "      <td>25</td>\n",
       "      <td>5.75318</td>\n",
       "      <td>f580eb714f2366e0ab2e030e41568ddd5a0ce0df5ef554...</td>\n",
       "      <td>3.83444</td>\n",
       "      <td>4106</td>\n",
       "      <td>2023-02-01T19:35:08</td>\n",
       "      <td>NaN</td>\n",
       "      <td>[{'power_W': Decimal('0'), 'timestamp': Decima...</td>\n",
       "      <td>13</td>\n",
       "      <td>2023-02-01T21:30:00</td>\n",
       "      <td>0</td>\n",
       "      <td>22747</td>\n",
       "      <td>137.0</td>\n",
       "    </tr>\n",
       "  </tbody>\n",
       "</table>\n",
       "</div>"
      ],
      "text/plain": [
       "      Unnamed: 0  vehicle_maxChgRate_W  peakPower_W  sch_centsPerHr  \\\n",
       "6465        6465                  7200         6893           127.0   \n",
       "3486        3486                  7200         6893           127.0   \n",
       "8014        8014                  7000         3820           127.0   \n",
       "5035        5035                  7000         3820           127.0   \n",
       "7478        7478                  7000         6855           250.0   \n",
       "4499        4499                  7000         6855           250.0   \n",
       "8173        8173                  7000         6482           250.0   \n",
       "5194        5194                  7000         6482           250.0   \n",
       "7535        7535                100000         6656           250.0   \n",
       "4556        4556                100000         6656           250.0   \n",
       "3014        3014                 17200         6278           250.0   \n",
       "5993        5993                 17200         6278           250.0   \n",
       "\n",
       "             connectTime                             user_email vehicle_model  \\\n",
       "6465 2023-02-01 07:43:09                     lee.r@berkeley.edu          Bolt   \n",
       "3486 2023-02-01 07:43:09                     lee.r@berkeley.edu          Bolt   \n",
       "8014 2023-02-01 07:43:25                  grosales@berkeley.edu          Leaf   \n",
       "5035 2023-02-01 07:43:25                  grosales@berkeley.edu          Leaf   \n",
       "7478 2023-02-01 09:38:09  stephanie.tomasco@alumni.berkeley.edu       Model Y   \n",
       "4499 2023-02-01 09:38:09  stephanie.tomasco@alumni.berkeley.edu       Model Y   \n",
       "8173 2023-02-01 10:53:06                   ngkumar@berkeley.edu       Model Y   \n",
       "5194 2023-02-01 10:53:06                   ngkumar@berkeley.edu       Model Y   \n",
       "7535 2023-02-01 11:42:52           courtnee.butler@berkeley.edu          Kona   \n",
       "4556 2023-02-01 11:42:52           courtnee.butler@berkeley.edu          Kona   \n",
       "3014 2023-02-01 15:43:36                   d_zhang@berkeley.edu       Model X   \n",
       "5993 2023-02-01 15:43:36                   d_zhang@berkeley.edu       Model X   \n",
       "\n",
       "             Duration  userId  regular             Deadline  \\\n",
       "6465  0 days 09:26:50     682        0  2023-02-01T17:30:00   \n",
       "3486  0 days 09:26:50     682        0  2023-02-01T17:30:00   \n",
       "8014  0 days 05:16:30    1067        1                  NaN   \n",
       "5035  0 days 05:16:30    1067        1                  NaN   \n",
       "7478  0 days 02:20:10     880        1                  NaN   \n",
       "4499  0 days 02:20:10     880        1                  NaN   \n",
       "8173  0 days 00:15:52    1139        1                  NaN   \n",
       "5194  0 days 00:15:52    1139        1                  NaN   \n",
       "7535  0 days 05:31:45    1149        1                  NaN   \n",
       "4556  0 days 05:31:45    1149        1                  NaN   \n",
       "3014  0 days 03:50:04    1180        1                  NaN   \n",
       "5993  0 days 03:50:04    1180        1                  NaN   \n",
       "\n",
       "          startChargeTime  sch_centsPerOverstayHr  sch_centsPerKwh     choice  \\\n",
       "6465  2023-02-01T07:43:19                   400.0              0.0  SCHEDULED   \n",
       "3486  2023-02-01T07:43:19                   400.0              0.0  SCHEDULED   \n",
       "8014  2023-02-01T07:43:40                   400.0              0.0    REGULAR   \n",
       "5035  2023-02-01T07:43:40                   400.0              0.0    REGULAR   \n",
       "7478  2023-02-01T09:40:05                   400.0              0.0    REGULAR   \n",
       "4499  2023-02-01T09:40:05                   400.0              0.0    REGULAR   \n",
       "8173  2023-02-01T10:54:16                   400.0              0.0    REGULAR   \n",
       "5194  2023-02-01T10:54:16                   400.0              0.0    REGULAR   \n",
       "7535  2023-02-01T11:43:23                   400.0              0.0    REGULAR   \n",
       "4556  2023-02-01T11:43:23                   400.0              0.0    REGULAR   \n",
       "3014  2023-02-01T15:45:04                   400.0              0.0    REGULAR   \n",
       "5993  2023-02-01T15:45:04                   400.0              0.0    REGULAR   \n",
       "\n",
       "      siteId   estCost                                      slrpPaymentId  \\\n",
       "6465      25  12.91813  089cc5605f6f62a8750ca62bf8caca7a62f6a5ac86291f...   \n",
       "3486      25  12.91813  089cc5605f6f62a8750ca62bf8caca7a62f6a5ac86291f...   \n",
       "8014      25  10.20599  277332d81349a2654cad7dbeb0f563b61fecbfaa794fcb...   \n",
       "5035      25  10.20599  277332d81349a2654cad7dbeb0f563b61fecbfaa794fcb...   \n",
       "7478      25   3.70047  7223927243fc41dfd447834044d1c7dd43fb220effce90...   \n",
       "4499      25   3.70047  7223927243fc41dfd447834044d1c7dd43fb220effce90...   \n",
       "8173      25   0.86228  87ef316f5ae058c55f21ffa5554f13b820b5b85eb749e5...   \n",
       "5194      25   0.86228  87ef316f5ae058c55f21ffa5554f13b820b5b85eb749e5...   \n",
       "7535      25   8.07495  2d2ac9072c881728aff5a6b3e67c35880999ed14920dba...   \n",
       "4556      25   8.07495  2d2ac9072c881728aff5a6b3e67c35880999ed14920dba...   \n",
       "3014      25   5.75318  f580eb714f2366e0ab2e030e41568ddd5a0ce0df5ef554...   \n",
       "5993      25   5.75318  f580eb714f2366e0ab2e030e41568ddd5a0ce0df5ef554...   \n",
       "\n",
       "      DurationHrs  dcosId           lastUpdate  energyReq_Wh  \\\n",
       "6465      9.44722    4100  2023-02-01T17:10:09       39580.0   \n",
       "3486      9.44722    4100  2023-02-01T17:10:09       39580.0   \n",
       "8014      5.27500    4101  2023-02-01T13:00:10           NaN   \n",
       "5035      5.27500    4101  2023-02-01T13:00:10           NaN   \n",
       "7478      2.33611    4103  2023-02-01T12:00:15           NaN   \n",
       "4499      2.33611    4103  2023-02-01T12:00:15           NaN   \n",
       "8173      0.26444    4104  2023-02-01T11:10:08           NaN   \n",
       "5194      0.26444    4104  2023-02-01T11:10:08           NaN   \n",
       "7535      5.52916    4105  2023-02-01T17:15:08           NaN   \n",
       "4556      5.52916    4105  2023-02-01T17:15:08           NaN   \n",
       "3014      3.83444    4106  2023-02-01T19:35:08           NaN   \n",
       "5993      3.83444    4106  2023-02-01T19:35:08           NaN   \n",
       "\n",
       "                                                  power  stationId  \\\n",
       "6465  [{'power_W': Decimal('6880'), 'timestamp': Dec...         16   \n",
       "3486  [{'power_W': Decimal('6880'), 'timestamp': Dec...         16   \n",
       "8014  [{'power_W': Decimal('3820'), 'timestamp': Dec...         11   \n",
       "5035  [{'power_W': Decimal('3820'), 'timestamp': Dec...         11   \n",
       "7478  [{'power_W': Decimal('6835'), 'timestamp': Dec...         17   \n",
       "4499  [{'power_W': Decimal('6835'), 'timestamp': Dec...         17   \n",
       "8173  [{'power_W': Decimal('1636'), 'timestamp': Dec...         13   \n",
       "5194  [{'power_W': Decimal('1636'), 'timestamp': Dec...         13   \n",
       "7535  [{'power_W': Decimal('3109'), 'timestamp': Dec...         15   \n",
       "4556  [{'power_W': Decimal('3109'), 'timestamp': Dec...         15   \n",
       "3014  [{'power_W': Decimal('0'), 'timestamp': Decima...         13   \n",
       "5993  [{'power_W': Decimal('0'), 'timestamp': Decima...         13   \n",
       "\n",
       "          defaultDeadline  scheduled  cumEnergy_Wh  reg_centsPerHr  \n",
       "6465  2023-02-01T17:30:00          1         45967           184.0  \n",
       "3486  2023-02-01T17:30:00          1         45967           184.0  \n",
       "8014  2023-02-01T13:30:00          0         12932           184.0  \n",
       "5035  2023-02-01T13:30:00          0         12932           184.0  \n",
       "7478  2023-02-01T16:30:00          0         15129           137.0  \n",
       "4499  2023-02-01T16:30:00          0         15129           137.0  \n",
       "8173  2023-02-01T17:00:00          0          1575           137.0  \n",
       "5194  2023-02-01T17:00:00          0          1575           137.0  \n",
       "7535  2023-02-01T18:00:00          0         34897           137.0  \n",
       "4556  2023-02-01T18:00:00          0         34897           137.0  \n",
       "3014  2023-02-01T21:30:00          0         22747           137.0  \n",
       "5993  2023-02-01T21:30:00          0         22747           137.0  "
      ]
     },
     "execution_count": 71,
     "metadata": {},
     "output_type": "execute_result"
    }
   ],
   "source": [
    "filtered"
   ]
  },
  {
   "cell_type": "code",
   "execution_count": 69,
   "id": "85e22037",
   "metadata": {},
   "outputs": [
    {
     "data": {
      "text/plain": [
       "Model Y    2\n",
       "Bolt       1\n",
       "Leaf       1\n",
       "Kona       1\n",
       "Model X    1\n",
       "Name: vehicle_model, dtype: int64"
      ]
     },
     "execution_count": 69,
     "metadata": {},
     "output_type": "execute_result"
    }
   ],
   "source": [
    "car_pie = clean[[\"dcosId\", \"vehicle_model\"]].groupby(\"dcosId\").first()\n",
    "car_pie[\"vehicle_model\"].value_counts()"
   ]
  },
  {
   "cell_type": "code",
   "execution_count": 70,
   "id": "df55859d",
   "metadata": {},
   "outputs": [
    {
     "data": {
      "application/vnd.plotly.v1+json": {
       "config": {
        "plotlyServerURL": "https://plot.ly"
       },
       "data": [
        {
         "domain": {
          "x": [
           0,
           1
          ],
          "y": [
           0,
           1
          ]
         },
         "hovertemplate": "label=%{label}<br>value=%{value}<extra></extra>",
         "labels": [
          "Model Y",
          "Bolt",
          "Leaf",
          "Kona",
          "Model X"
         ],
         "legendgroup": "",
         "name": "",
         "showlegend": true,
         "type": "pie",
         "values": [
          2,
          1,
          1,
          1,
          1
         ]
        }
       ],
       "layout": {
        "legend": {
         "tracegroupgap": 0
        },
        "margin": {
         "t": 60
        },
        "template": {
         "data": {
          "bar": [
           {
            "error_x": {
             "color": "#2a3f5f"
            },
            "error_y": {
             "color": "#2a3f5f"
            },
            "marker": {
             "line": {
              "color": "#E5ECF6",
              "width": 0.5
             },
             "pattern": {
              "fillmode": "overlay",
              "size": 10,
              "solidity": 0.2
             }
            },
            "type": "bar"
           }
          ],
          "barpolar": [
           {
            "marker": {
             "line": {
              "color": "#E5ECF6",
              "width": 0.5
             },
             "pattern": {
              "fillmode": "overlay",
              "size": 10,
              "solidity": 0.2
             }
            },
            "type": "barpolar"
           }
          ],
          "carpet": [
           {
            "aaxis": {
             "endlinecolor": "#2a3f5f",
             "gridcolor": "white",
             "linecolor": "white",
             "minorgridcolor": "white",
             "startlinecolor": "#2a3f5f"
            },
            "baxis": {
             "endlinecolor": "#2a3f5f",
             "gridcolor": "white",
             "linecolor": "white",
             "minorgridcolor": "white",
             "startlinecolor": "#2a3f5f"
            },
            "type": "carpet"
           }
          ],
          "choropleth": [
           {
            "colorbar": {
             "outlinewidth": 0,
             "ticks": ""
            },
            "type": "choropleth"
           }
          ],
          "contour": [
           {
            "colorbar": {
             "outlinewidth": 0,
             "ticks": ""
            },
            "colorscale": [
             [
              0,
              "#0d0887"
             ],
             [
              0.1111111111111111,
              "#46039f"
             ],
             [
              0.2222222222222222,
              "#7201a8"
             ],
             [
              0.3333333333333333,
              "#9c179e"
             ],
             [
              0.4444444444444444,
              "#bd3786"
             ],
             [
              0.5555555555555556,
              "#d8576b"
             ],
             [
              0.6666666666666666,
              "#ed7953"
             ],
             [
              0.7777777777777778,
              "#fb9f3a"
             ],
             [
              0.8888888888888888,
              "#fdca26"
             ],
             [
              1,
              "#f0f921"
             ]
            ],
            "type": "contour"
           }
          ],
          "contourcarpet": [
           {
            "colorbar": {
             "outlinewidth": 0,
             "ticks": ""
            },
            "type": "contourcarpet"
           }
          ],
          "heatmap": [
           {
            "colorbar": {
             "outlinewidth": 0,
             "ticks": ""
            },
            "colorscale": [
             [
              0,
              "#0d0887"
             ],
             [
              0.1111111111111111,
              "#46039f"
             ],
             [
              0.2222222222222222,
              "#7201a8"
             ],
             [
              0.3333333333333333,
              "#9c179e"
             ],
             [
              0.4444444444444444,
              "#bd3786"
             ],
             [
              0.5555555555555556,
              "#d8576b"
             ],
             [
              0.6666666666666666,
              "#ed7953"
             ],
             [
              0.7777777777777778,
              "#fb9f3a"
             ],
             [
              0.8888888888888888,
              "#fdca26"
             ],
             [
              1,
              "#f0f921"
             ]
            ],
            "type": "heatmap"
           }
          ],
          "heatmapgl": [
           {
            "colorbar": {
             "outlinewidth": 0,
             "ticks": ""
            },
            "colorscale": [
             [
              0,
              "#0d0887"
             ],
             [
              0.1111111111111111,
              "#46039f"
             ],
             [
              0.2222222222222222,
              "#7201a8"
             ],
             [
              0.3333333333333333,
              "#9c179e"
             ],
             [
              0.4444444444444444,
              "#bd3786"
             ],
             [
              0.5555555555555556,
              "#d8576b"
             ],
             [
              0.6666666666666666,
              "#ed7953"
             ],
             [
              0.7777777777777778,
              "#fb9f3a"
             ],
             [
              0.8888888888888888,
              "#fdca26"
             ],
             [
              1,
              "#f0f921"
             ]
            ],
            "type": "heatmapgl"
           }
          ],
          "histogram": [
           {
            "marker": {
             "pattern": {
              "fillmode": "overlay",
              "size": 10,
              "solidity": 0.2
             }
            },
            "type": "histogram"
           }
          ],
          "histogram2d": [
           {
            "colorbar": {
             "outlinewidth": 0,
             "ticks": ""
            },
            "colorscale": [
             [
              0,
              "#0d0887"
             ],
             [
              0.1111111111111111,
              "#46039f"
             ],
             [
              0.2222222222222222,
              "#7201a8"
             ],
             [
              0.3333333333333333,
              "#9c179e"
             ],
             [
              0.4444444444444444,
              "#bd3786"
             ],
             [
              0.5555555555555556,
              "#d8576b"
             ],
             [
              0.6666666666666666,
              "#ed7953"
             ],
             [
              0.7777777777777778,
              "#fb9f3a"
             ],
             [
              0.8888888888888888,
              "#fdca26"
             ],
             [
              1,
              "#f0f921"
             ]
            ],
            "type": "histogram2d"
           }
          ],
          "histogram2dcontour": [
           {
            "colorbar": {
             "outlinewidth": 0,
             "ticks": ""
            },
            "colorscale": [
             [
              0,
              "#0d0887"
             ],
             [
              0.1111111111111111,
              "#46039f"
             ],
             [
              0.2222222222222222,
              "#7201a8"
             ],
             [
              0.3333333333333333,
              "#9c179e"
             ],
             [
              0.4444444444444444,
              "#bd3786"
             ],
             [
              0.5555555555555556,
              "#d8576b"
             ],
             [
              0.6666666666666666,
              "#ed7953"
             ],
             [
              0.7777777777777778,
              "#fb9f3a"
             ],
             [
              0.8888888888888888,
              "#fdca26"
             ],
             [
              1,
              "#f0f921"
             ]
            ],
            "type": "histogram2dcontour"
           }
          ],
          "mesh3d": [
           {
            "colorbar": {
             "outlinewidth": 0,
             "ticks": ""
            },
            "type": "mesh3d"
           }
          ],
          "parcoords": [
           {
            "line": {
             "colorbar": {
              "outlinewidth": 0,
              "ticks": ""
             }
            },
            "type": "parcoords"
           }
          ],
          "pie": [
           {
            "automargin": true,
            "type": "pie"
           }
          ],
          "scatter": [
           {
            "fillpattern": {
             "fillmode": "overlay",
             "size": 10,
             "solidity": 0.2
            },
            "type": "scatter"
           }
          ],
          "scatter3d": [
           {
            "line": {
             "colorbar": {
              "outlinewidth": 0,
              "ticks": ""
             }
            },
            "marker": {
             "colorbar": {
              "outlinewidth": 0,
              "ticks": ""
             }
            },
            "type": "scatter3d"
           }
          ],
          "scattercarpet": [
           {
            "marker": {
             "colorbar": {
              "outlinewidth": 0,
              "ticks": ""
             }
            },
            "type": "scattercarpet"
           }
          ],
          "scattergeo": [
           {
            "marker": {
             "colorbar": {
              "outlinewidth": 0,
              "ticks": ""
             }
            },
            "type": "scattergeo"
           }
          ],
          "scattergl": [
           {
            "marker": {
             "colorbar": {
              "outlinewidth": 0,
              "ticks": ""
             }
            },
            "type": "scattergl"
           }
          ],
          "scattermapbox": [
           {
            "marker": {
             "colorbar": {
              "outlinewidth": 0,
              "ticks": ""
             }
            },
            "type": "scattermapbox"
           }
          ],
          "scatterpolar": [
           {
            "marker": {
             "colorbar": {
              "outlinewidth": 0,
              "ticks": ""
             }
            },
            "type": "scatterpolar"
           }
          ],
          "scatterpolargl": [
           {
            "marker": {
             "colorbar": {
              "outlinewidth": 0,
              "ticks": ""
             }
            },
            "type": "scatterpolargl"
           }
          ],
          "scatterternary": [
           {
            "marker": {
             "colorbar": {
              "outlinewidth": 0,
              "ticks": ""
             }
            },
            "type": "scatterternary"
           }
          ],
          "surface": [
           {
            "colorbar": {
             "outlinewidth": 0,
             "ticks": ""
            },
            "colorscale": [
             [
              0,
              "#0d0887"
             ],
             [
              0.1111111111111111,
              "#46039f"
             ],
             [
              0.2222222222222222,
              "#7201a8"
             ],
             [
              0.3333333333333333,
              "#9c179e"
             ],
             [
              0.4444444444444444,
              "#bd3786"
             ],
             [
              0.5555555555555556,
              "#d8576b"
             ],
             [
              0.6666666666666666,
              "#ed7953"
             ],
             [
              0.7777777777777778,
              "#fb9f3a"
             ],
             [
              0.8888888888888888,
              "#fdca26"
             ],
             [
              1,
              "#f0f921"
             ]
            ],
            "type": "surface"
           }
          ],
          "table": [
           {
            "cells": {
             "fill": {
              "color": "#EBF0F8"
             },
             "line": {
              "color": "white"
             }
            },
            "header": {
             "fill": {
              "color": "#C8D4E3"
             },
             "line": {
              "color": "white"
             }
            },
            "type": "table"
           }
          ]
         },
         "layout": {
          "annotationdefaults": {
           "arrowcolor": "#2a3f5f",
           "arrowhead": 0,
           "arrowwidth": 1
          },
          "autotypenumbers": "strict",
          "coloraxis": {
           "colorbar": {
            "outlinewidth": 0,
            "ticks": ""
           }
          },
          "colorscale": {
           "diverging": [
            [
             0,
             "#8e0152"
            ],
            [
             0.1,
             "#c51b7d"
            ],
            [
             0.2,
             "#de77ae"
            ],
            [
             0.3,
             "#f1b6da"
            ],
            [
             0.4,
             "#fde0ef"
            ],
            [
             0.5,
             "#f7f7f7"
            ],
            [
             0.6,
             "#e6f5d0"
            ],
            [
             0.7,
             "#b8e186"
            ],
            [
             0.8,
             "#7fbc41"
            ],
            [
             0.9,
             "#4d9221"
            ],
            [
             1,
             "#276419"
            ]
           ],
           "sequential": [
            [
             0,
             "#0d0887"
            ],
            [
             0.1111111111111111,
             "#46039f"
            ],
            [
             0.2222222222222222,
             "#7201a8"
            ],
            [
             0.3333333333333333,
             "#9c179e"
            ],
            [
             0.4444444444444444,
             "#bd3786"
            ],
            [
             0.5555555555555556,
             "#d8576b"
            ],
            [
             0.6666666666666666,
             "#ed7953"
            ],
            [
             0.7777777777777778,
             "#fb9f3a"
            ],
            [
             0.8888888888888888,
             "#fdca26"
            ],
            [
             1,
             "#f0f921"
            ]
           ],
           "sequentialminus": [
            [
             0,
             "#0d0887"
            ],
            [
             0.1111111111111111,
             "#46039f"
            ],
            [
             0.2222222222222222,
             "#7201a8"
            ],
            [
             0.3333333333333333,
             "#9c179e"
            ],
            [
             0.4444444444444444,
             "#bd3786"
            ],
            [
             0.5555555555555556,
             "#d8576b"
            ],
            [
             0.6666666666666666,
             "#ed7953"
            ],
            [
             0.7777777777777778,
             "#fb9f3a"
            ],
            [
             0.8888888888888888,
             "#fdca26"
            ],
            [
             1,
             "#f0f921"
            ]
           ]
          },
          "colorway": [
           "#636efa",
           "#EF553B",
           "#00cc96",
           "#ab63fa",
           "#FFA15A",
           "#19d3f3",
           "#FF6692",
           "#B6E880",
           "#FF97FF",
           "#FECB52"
          ],
          "font": {
           "color": "#2a3f5f"
          },
          "geo": {
           "bgcolor": "white",
           "lakecolor": "white",
           "landcolor": "#E5ECF6",
           "showlakes": true,
           "showland": true,
           "subunitcolor": "white"
          },
          "hoverlabel": {
           "align": "left"
          },
          "hovermode": "closest",
          "mapbox": {
           "style": "light"
          },
          "paper_bgcolor": "white",
          "plot_bgcolor": "#E5ECF6",
          "polar": {
           "angularaxis": {
            "gridcolor": "white",
            "linecolor": "white",
            "ticks": ""
           },
           "bgcolor": "#E5ECF6",
           "radialaxis": {
            "gridcolor": "white",
            "linecolor": "white",
            "ticks": ""
           }
          },
          "scene": {
           "xaxis": {
            "backgroundcolor": "#E5ECF6",
            "gridcolor": "white",
            "gridwidth": 2,
            "linecolor": "white",
            "showbackground": true,
            "ticks": "",
            "zerolinecolor": "white"
           },
           "yaxis": {
            "backgroundcolor": "#E5ECF6",
            "gridcolor": "white",
            "gridwidth": 2,
            "linecolor": "white",
            "showbackground": true,
            "ticks": "",
            "zerolinecolor": "white"
           },
           "zaxis": {
            "backgroundcolor": "#E5ECF6",
            "gridcolor": "white",
            "gridwidth": 2,
            "linecolor": "white",
            "showbackground": true,
            "ticks": "",
            "zerolinecolor": "white"
           }
          },
          "shapedefaults": {
           "line": {
            "color": "#2a3f5f"
           }
          },
          "ternary": {
           "aaxis": {
            "gridcolor": "white",
            "linecolor": "white",
            "ticks": ""
           },
           "baxis": {
            "gridcolor": "white",
            "linecolor": "white",
            "ticks": ""
           },
           "bgcolor": "#E5ECF6",
           "caxis": {
            "gridcolor": "white",
            "linecolor": "white",
            "ticks": ""
           }
          },
          "title": {
           "x": 0.05
          },
          "xaxis": {
           "automargin": true,
           "gridcolor": "white",
           "linecolor": "white",
           "ticks": "",
           "title": {
            "standoff": 15
           },
           "zerolinecolor": "white",
           "zerolinewidth": 2
          },
          "yaxis": {
           "automargin": true,
           "gridcolor": "white",
           "linecolor": "white",
           "ticks": "",
           "title": {
            "standoff": 15
           },
           "zerolinecolor": "white",
           "zerolinewidth": 2
          }
         }
        }
       }
      }
     },
     "metadata": {},
     "output_type": "display_data"
    }
   ],
   "source": [
    "px.pie(values = car_pie[\"vehicle_model\"].value_counts(), names=car_pie[\"vehicle_model\"].value_counts().index)"
   ]
  },
  {
   "cell_type": "code",
   "execution_count": null,
   "id": "6a5a919c",
   "metadata": {},
   "outputs": [],
   "source": []
  }
 ],
 "metadata": {
  "kernelspec": {
   "display_name": "base",
   "language": "python",
   "name": "python3"
  },
  "language_info": {
   "codemirror_mode": {
    "name": "ipython",
    "version": 3
   },
   "file_extension": ".py",
   "mimetype": "text/x-python",
   "name": "python",
   "nbconvert_exporter": "python",
   "pygments_lexer": "ipython3",
   "version": "3.9.13"
  },
  "vscode": {
   "interpreter": {
    "hash": "475dd3d8de922d6629668699edf7da91807dd0e731d2ca4abf0ed1b52cb8d54e"
   }
  }
 },
 "nbformat": 4,
 "nbformat_minor": 5
}
