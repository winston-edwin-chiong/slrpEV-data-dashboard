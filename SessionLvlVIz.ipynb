{
 "cells": [
  {
   "cell_type": "code",
   "execution_count": 3,
   "id": "092882a5-2bf2-4b69-ac42-0b7e845850c5",
   "metadata": {},
   "outputs": [],
   "source": [
    "import pandas as pd \n",
    "from sklearn.pipeline import Pipeline\n",
    "import plotly.express as px\n",
    "from sklearn.base import BaseEstimator, TransformerMixin\n",
    "import numpy as np\n",
    "from datetime import datetime\n",
    "\n",
    "pd.set_option(\"display.max_columns\", 100)"
   ]
  },
  {
   "cell_type": "code",
   "execution_count": 2,
   "id": "dea0d6be",
   "metadata": {},
   "outputs": [],
   "source": [
    "import numpy as np\n",
    "import pandas as pd\n",
    "from sklearn.pipeline import Pipeline\n",
    "from sklearn.neighbors import KNeighborsRegressor\n",
    "from sklearn.model_selection import GridSearchCV, train_test_split\n",
    "from sklearn.base import BaseEstimator, TransformerMixin\n",
    "\n",
    "\n",
    "## Main Class\n",
    "class HourlyCrossValidator:\n",
    "\n",
    "    columns = [\"energy_demand_kWh\", \"peak_power_W\"]\n",
    "\n",
    "    def __init__(self, max_neighbors, max_depth):\n",
    "        self.max_neighbors = max_neighbors\n",
    "        self.max_depth = max_depth\n",
    "\n",
    "    def cross_validate(self, df):\n",
    "\n",
    "        best_params = {}\n",
    "\n",
    "        for column in self.columns:\n",
    "            # initalize cross validator, cross validate  \n",
    "            params = kNNCrossValidator(self.max_neighbors, self.max_depth, column).cross_validate_one(df)\n",
    "            best_params[column] = params\n",
    "\n",
    "        best_params[\"avg_power_demand_W\"] = best_params[\"energy_demand_kWh\"] # same data, different units, so same parameters\n",
    "\n",
    "        return best_params\n",
    "    \n",
    "\n",
    "## Helper Class\n",
    "class kNNCrossValidator:\n",
    "\n",
    "    test_size = 0.2\n",
    "\n",
    "    def __init__(self, max_neighbors, max_depth, col_name):\n",
    "        super().__init__()\n",
    "        self.max_neighbors = max_neighbors\n",
    "        self.max_depth = max_depth\n",
    "        self.col_name = col_name\n",
    "\n",
    "\n",
    "    def cross_validate_one(self, df) -> dict:\n",
    "        # create features\n",
    "        df = self.__create_all_lag_features(df)\n",
    "\n",
    "        # create validation pipeline\n",
    "        validation_pipeline = Pipeline([\n",
    "            (\"subset_features\", SubsetLags()),\n",
    "            (\"estimator\", KNeighborsRegressor())\n",
    "        ])\n",
    "\n",
    "        # create parameter grid\n",
    "        params = {\n",
    "            \"estimator__n_neighbors\": np.arange(10, self.max_neighbors+1), # start searching at 10 neighbors\n",
    "            \"subset_features__num_lags\": np.arange(40, self.max_depth+1) # start searching at 40 lags as features\n",
    "        }\n",
    "\n",
    "        # split data into train, validation, and test\n",
    "        X_train_validation, X_train, X_validation, X_test, y_train_validation, y_train, y_validation, y_test = self.__train_test_split(df)\n",
    "\n",
    "        # create grid and iteratively search\n",
    "        grid = GridSearchCV(\n",
    "            estimator=validation_pipeline,\n",
    "            param_grid=params,\n",
    "            scoring=\"neg_mean_squared_error\",\n",
    "            n_jobs=8,\n",
    "            verbose=4,\n",
    "            cv=[(np.arange(0, len(X_train)), np.arange(len(X_train), len(X_train_validation)))]\n",
    "        )\n",
    "        grid.fit(X_train_validation, y_train_validation)\n",
    "\n",
    "        best_params = {\n",
    "            \"best_depth\": grid.best_params_[\"subset_features__num_lags\"],\n",
    "            \"best_n_neighbors\": grid.best_params_[\"estimator__n_neighbors\"]\n",
    "        }\n",
    "\n",
    "        return best_params\n",
    "\n",
    "\n",
    "    def __create_all_lag_features(self, df) -> pd.DataFrame:\n",
    "        # create pipeline, pass data, create features\n",
    "        pipeline = Pipeline([\n",
    "            (\"create_features\", CreateLagFeatures(\n",
    "                self.max_depth, self.col_name))\n",
    "        ])\n",
    "        df_with_features = pipeline.fit_transform(df)\n",
    "\n",
    "        return df_with_features\n",
    "\n",
    "\n",
    "    def __train_test_split(self, df):\n",
    "\n",
    "        # split into train+validation and test\n",
    "        X_train_validation, X_test, y_train_validation, y_test = train_test_split(\n",
    "            df.filter(regex=\"lag\"),  # select only \"lag-\" features\n",
    "            df[[self.col_name]],\n",
    "            test_size=self.test_size,\n",
    "            shuffle=False  # time series split\n",
    "        )\n",
    "\n",
    "        # split into train and validation\n",
    "        X_train, X_validation, y_train, y_validation = train_test_split(\n",
    "            X_train_validation,\n",
    "            y_train_validation,\n",
    "            test_size=0.2,\n",
    "            shuffle=False\n",
    "        )\n",
    "\n",
    "        return X_train_validation, X_train, X_validation, X_test, y_train_validation, y_train, y_validation, y_test\n",
    "\n",
    "\n",
    "\n",
    "## Pipeline Classes\n",
    "class CreateLagFeatures(BaseEstimator, TransformerMixin):\n",
    "\n",
    "    def __init__(self, num_lag_depths, col_name):\n",
    "        super().__init__()\n",
    "        self.num_lags_depths = num_lag_depths\n",
    "        self.col_name = col_name\n",
    "\n",
    "    def fit(self, X, y=None):\n",
    "        return self \n",
    "    \n",
    "    def transform(self, X):\n",
    "        return self.__create_lag_features(X, self.num_lags_depths, self.col_name)\n",
    "    \n",
    "    @staticmethod\n",
    "    def __create_lag_features(df, num_lag_depths, col_name):\n",
    "        df_with_lags = df.copy(deep=True)\n",
    "        for lag_depth in np.arange(1,num_lag_depths+1):\n",
    "            column = df_with_lags[col_name].shift(24*lag_depth)\n",
    "            df_with_lags = pd.concat([df_with_lags, column.rename(\"lag\" + f\"{lag_depth}\")], axis=1)\n",
    "        return df_with_lags.dropna()\n",
    "\n",
    "\n",
    "class SubsetLags(BaseEstimator, TransformerMixin):\n",
    "    \n",
    "    def __init__(self, num_lags=1):\n",
    "        super().__init__()\n",
    "        self.num_lags = num_lags\n",
    "        \n",
    "    def fit(self, X, y=None):\n",
    "        return self\n",
    "    \n",
    "    def transform(self, X):\n",
    "        return self.__select_subset_lags(X, self.num_lags)\n",
    "    \n",
    "    @staticmethod\n",
    "    def __select_subset_lags(df, num_lags):\n",
    "        return df[[f\"lag{depth}\" for depth in np.arange(1, num_lags+1)]]\n",
    "\n",
    "\n",
    "import pandas as pd\n",
    "from sklearn.model_selection import train_test_split\n",
    "import pmdarima as pm\n",
    "\n",
    "\n",
    "# Main Class\n",
    "class DailyCrossValidator:\n",
    "\n",
    "    columns = [\"energy_demand_kWh\", \"peak_power_W\"]\n",
    "\n",
    "    @classmethod\n",
    "    def cross_validate(cls, df):\n",
    "\n",
    "        best_params = {}\n",
    "\n",
    "        for column in cls.columns:\n",
    "            # initalize cross validator, cross validate\n",
    "            params = SARIMACrossValidator(column).cross_validate_one(df)\n",
    "            best_params[column] = params\n",
    "\n",
    "        # same data, different units, so same parameters\n",
    "        best_params[\"avg_power_demand_W\"] = best_params[\"energy_demand_kWh\"]\n",
    "\n",
    "        return best_params\n",
    "\n",
    "\n",
    "# Helper Class\n",
    "class SARIMACrossValidator:\n",
    "\n",
    "    test_size = 0.2\n",
    "\n",
    "    def __init__(self, col_name):\n",
    "        super().__init__()\n",
    "        self.col_name = col_name\n",
    "\n",
    "    def cross_validate_one(self, df: pd.DataFrame):\n",
    "\n",
    "        X_train, X_test, y_train, y_test = self.__train_test_split(df)\n",
    "\n",
    "        stepwise_fit = pm.auto_arima(y_train,\n",
    "                                     start_p=0, start_q=0,\n",
    "                                     max_p=3, max_q=3, max_Q=3, max_P=3,\n",
    "                                     d=0, D=1, m=7,\n",
    "                                     X=None,\n",
    "                                     seasonal=True, trace=True, stepwise=True)\n",
    "\n",
    "        return stepwise_fit\n",
    "\n",
    "    def __train_test_split(self, df: pd.DataFrame):\n",
    "        # take only needed column \n",
    "        df = df[[self.col_name]]\n",
    "        \n",
    "        X_train, X_test, y_train, y_test = train_test_split(\n",
    "            df.drop(columns=[self.col_name]),\n",
    "            df[[self.col_name]],\n",
    "            test_size=self.test_size,\n",
    "            shuffle=False\n",
    "        )\n",
    "\n",
    "        return X_train, X_test, y_train, y_test\n",
    "\n",
    "\n",
    "import pandas as pd\n",
    "import statsmodels.api as sm \n",
    "\n",
    "class CreateDailyForecasts:\n",
    "\n",
    "    columns = [\"avg_power_demand_W\", \"energy_demand_kWh\", \"peak_power_W\"]\n",
    "\n",
    "    def __init__():\n",
    "        pass \n",
    "    \n",
    "    @classmethod\n",
    "    def run_daily_forecast(cls, df, best_params: dict):\n",
    "\n",
    "        existing_forecasts = pd.read_csv(\"forecastdata/dailyforecasts.csv\", index_col=\"time\", parse_dates=True)\n",
    "        new_forecasts = pd.DataFrame()\n",
    "\n",
    "        for column in cls.columns:\n",
    "            \n",
    "            # train on ALL available data\n",
    "            train = df[[column]].copy() \n",
    "            # create ARIMA model \n",
    "            best_model_arima = sm.tsa.arima.ARIMA(train, order=(1,0,0), seasonal_order=(1,1,1,7)).fit()\n",
    "            # forecast on day ahead, convert to a dataframe\n",
    "            one_column_forecast = best_model_arima.forecast()\n",
    "            one_column_forecast = pd.DataFrame(one_column_forecast, columns=[column+'_predictions']) \n",
    "            new_forecasts = pd.concat([new_forecasts, one_column_forecast], axis=1)\n",
    "\n",
    "        # append new forecasts existing set of forecasts\n",
    "        forecasts = pd.concat([existing_forecasts, new_forecasts], axis=0)\n",
    "\n",
    "        return forecasts\n",
    "\n",
    "    \n",
    "    @staticmethod\n",
    "    def save_empty_prediction_df():\n",
    "        empty_df = pd.DataFrame(columns=[\"avg_power_demand_W_predictions\", \"energy_demand_kWh_predictions\", \"peak_power_W_predictions\"], index=pd.Index([], name=\"time\"))\n",
    "        empty_df.to_csv(\"forecastdata/dailyforecasts.csv\")\n",
    "        return empty_df\n"
   ]
  },
  {
   "cell_type": "code",
   "execution_count": 18,
   "id": "c20f62e8",
   "metadata": {},
   "outputs": [
    {
     "data": {
      "text/html": [
       "<div>\n",
       "<style scoped>\n",
       "    .dataframe tbody tr th:only-of-type {\n",
       "        vertical-align: middle;\n",
       "    }\n",
       "\n",
       "    .dataframe tbody tr th {\n",
       "        vertical-align: top;\n",
       "    }\n",
       "\n",
       "    .dataframe thead th {\n",
       "        text-align: right;\n",
       "    }\n",
       "</style>\n",
       "<table border=\"1\" class=\"dataframe\">\n",
       "  <thead>\n",
       "    <tr style=\"text-align: right;\">\n",
       "      <th></th>\n",
       "      <th>Unnamed: 0</th>\n",
       "      <th>vehicle_maxChgRate_W</th>\n",
       "      <th>peakPower_W</th>\n",
       "      <th>sch_centsPerHr</th>\n",
       "      <th>connectTime</th>\n",
       "      <th>vehicle_model</th>\n",
       "      <th>Duration</th>\n",
       "      <th>userId</th>\n",
       "      <th>regular</th>\n",
       "      <th>startChargeTime</th>\n",
       "      <th>sch_centsPerOverstayHr</th>\n",
       "      <th>sch_centsPerKwh</th>\n",
       "      <th>choice</th>\n",
       "      <th>siteId</th>\n",
       "      <th>estCost</th>\n",
       "      <th>DurationHrs</th>\n",
       "      <th>dcosId</th>\n",
       "      <th>lastUpdate</th>\n",
       "      <th>power</th>\n",
       "      <th>stationId</th>\n",
       "      <th>defaultDeadline</th>\n",
       "      <th>scheduled</th>\n",
       "      <th>cumEnergy_Wh</th>\n",
       "      <th>reg_centsPerHr</th>\n",
       "      <th>Deadline</th>\n",
       "      <th>energyReq_Wh</th>\n",
       "      <th>finishChargeTime</th>\n",
       "      <th>trueDurationHrs</th>\n",
       "      <th>true_peakPower_W</th>\n",
       "      <th>Overstay</th>\n",
       "      <th>Overstay_h</th>\n",
       "    </tr>\n",
       "  </thead>\n",
       "  <tbody>\n",
       "    <tr>\n",
       "      <th>0</th>\n",
       "      <td>0</td>\n",
       "      <td>6600</td>\n",
       "      <td>6335.0</td>\n",
       "      <td>9.0</td>\n",
       "      <td>2020-11-05 10:30:16</td>\n",
       "      <td>500e</td>\n",
       "      <td>0 days 03:43:57</td>\n",
       "      <td>605</td>\n",
       "      <td>1</td>\n",
       "      <td>2020-11-05 10:31:09</td>\n",
       "      <td>200.0</td>\n",
       "      <td>15.0</td>\n",
       "      <td>REGULAR</td>\n",
       "      <td>23</td>\n",
       "      <td>5.35224</td>\n",
       "      <td>3.73249</td>\n",
       "      <td>24</td>\n",
       "      <td>2020-11-05 14:15:06</td>\n",
       "      <td>[{'power_W': Decimal('6259'), 'timestamp': Dec...</td>\n",
       "      <td>7</td>\n",
       "      <td>1969-12-31T16:00:00</td>\n",
       "      <td>0</td>\n",
       "      <td>3281.0</td>\n",
       "      <td>130.0</td>\n",
       "      <td>NaN</td>\n",
       "      <td>NaN</td>\n",
       "      <td>2020-11-05 14:15:06</td>\n",
       "      <td>3.732</td>\n",
       "      <td>879.0</td>\n",
       "      <td>0 days 00:00:00</td>\n",
       "      <td>0.000000</td>\n",
       "    </tr>\n",
       "    <tr>\n",
       "      <th>1</th>\n",
       "      <td>1</td>\n",
       "      <td>24000</td>\n",
       "      <td>7005.0</td>\n",
       "      <td>3.0</td>\n",
       "      <td>2020-11-11 07:39:55</td>\n",
       "      <td>Model 3</td>\n",
       "      <td>0 days 06:50:07</td>\n",
       "      <td>486</td>\n",
       "      <td>1</td>\n",
       "      <td>2020-11-11 07:39:59</td>\n",
       "      <td>200.0</td>\n",
       "      <td>15.0</td>\n",
       "      <td>REGULAR</td>\n",
       "      <td>23</td>\n",
       "      <td>10.75291</td>\n",
       "      <td>6.83527</td>\n",
       "      <td>26</td>\n",
       "      <td>2020-11-11 14:30:06</td>\n",
       "      <td>[{'power_W': Decimal('0'), 'timestamp': Decima...</td>\n",
       "      <td>3</td>\n",
       "      <td>2020-11-12T03:11:00</td>\n",
       "      <td>0</td>\n",
       "      <td>33458.0</td>\n",
       "      <td>150.0</td>\n",
       "      <td>NaN</td>\n",
       "      <td>NaN</td>\n",
       "      <td>2020-11-11 14:30:06</td>\n",
       "      <td>6.835</td>\n",
       "      <td>4895.0</td>\n",
       "      <td>0 days 00:00:00</td>\n",
       "      <td>0.000000</td>\n",
       "    </tr>\n",
       "    <tr>\n",
       "      <th>2</th>\n",
       "      <td>2</td>\n",
       "      <td>3600</td>\n",
       "      <td>3450.0</td>\n",
       "      <td>3.0</td>\n",
       "      <td>2020-11-13 16:19:55</td>\n",
       "      <td>Volt</td>\n",
       "      <td>0 days 20:40:02</td>\n",
       "      <td>620</td>\n",
       "      <td>0</td>\n",
       "      <td>2020-11-13 16:20:06</td>\n",
       "      <td>300.0</td>\n",
       "      <td>12.0</td>\n",
       "      <td>SCHEDULED</td>\n",
       "      <td>25</td>\n",
       "      <td>29.32211</td>\n",
       "      <td>20.66722</td>\n",
       "      <td>30</td>\n",
       "      <td>2020-11-14 13:00:08</td>\n",
       "      <td>[{'power_W': Decimal('0'), 'timestamp': Decima...</td>\n",
       "      <td>12</td>\n",
       "      <td>2020-11-14T04:11:00</td>\n",
       "      <td>1</td>\n",
       "      <td>15216.0</td>\n",
       "      <td>180.0</td>\n",
       "      <td>2020-11-14 04:15:00</td>\n",
       "      <td>18400.0</td>\n",
       "      <td>2020-11-14 04:15:00</td>\n",
       "      <td>11.915</td>\n",
       "      <td>1277.0</td>\n",
       "      <td>0 days 08:45:08</td>\n",
       "      <td>8.752222</td>\n",
       "    </tr>\n",
       "    <tr>\n",
       "      <th>3</th>\n",
       "      <td>3</td>\n",
       "      <td>7200</td>\n",
       "      <td>6889.0</td>\n",
       "      <td>3.0</td>\n",
       "      <td>2020-11-14 23:47:06</td>\n",
       "      <td>Bolt</td>\n",
       "      <td>0 days 02:12:51</td>\n",
       "      <td>618</td>\n",
       "      <td>1</td>\n",
       "      <td>2020-11-14 23:47:16</td>\n",
       "      <td>400.0</td>\n",
       "      <td>18.0</td>\n",
       "      <td>REGULAR</td>\n",
       "      <td>23</td>\n",
       "      <td>3.82125</td>\n",
       "      <td>2.21416</td>\n",
       "      <td>31</td>\n",
       "      <td>2020-11-15 02:00:07</td>\n",
       "      <td>[{'power_W': Decimal('6889'), 'timestamp': Dec...</td>\n",
       "      <td>6</td>\n",
       "      <td>1969-12-31T16:00:00</td>\n",
       "      <td>0</td>\n",
       "      <td>14378.0</td>\n",
       "      <td>150.0</td>\n",
       "      <td>NaN</td>\n",
       "      <td>NaN</td>\n",
       "      <td>2020-11-15 02:00:07</td>\n",
       "      <td>2.214</td>\n",
       "      <td>6494.0</td>\n",
       "      <td>0 days 00:00:00</td>\n",
       "      <td>0.000000</td>\n",
       "    </tr>\n",
       "    <tr>\n",
       "      <th>4</th>\n",
       "      <td>4</td>\n",
       "      <td>6000</td>\n",
       "      <td>6852.0</td>\n",
       "      <td>NaN</td>\n",
       "      <td>2020-11-16 11:38:44</td>\n",
       "      <td>B-Class Electric Drive</td>\n",
       "      <td>0 days 03:12:45</td>\n",
       "      <td>623</td>\n",
       "      <td>1</td>\n",
       "      <td>2020-11-16 11:42:22</td>\n",
       "      <td>NaN</td>\n",
       "      <td>NaN</td>\n",
       "      <td>REGULAR</td>\n",
       "      <td>23</td>\n",
       "      <td>NaN</td>\n",
       "      <td>3.21249</td>\n",
       "      <td>32</td>\n",
       "      <td>2020-11-16 14:55:07</td>\n",
       "      <td>[{'power_W': Decimal('6813'), 'timestamp': Dec...</td>\n",
       "      <td>9</td>\n",
       "      <td>2020-11-17T04:11:00</td>\n",
       "      <td>0</td>\n",
       "      <td>12484.0</td>\n",
       "      <td>NaN</td>\n",
       "      <td>NaN</td>\n",
       "      <td>NaN</td>\n",
       "      <td>2020-11-16 14:55:07</td>\n",
       "      <td>3.212</td>\n",
       "      <td>3887.0</td>\n",
       "      <td>0 days 00:00:00</td>\n",
       "      <td>0.000000</td>\n",
       "    </tr>\n",
       "    <tr>\n",
       "      <th>...</th>\n",
       "      <td>...</td>\n",
       "      <td>...</td>\n",
       "      <td>...</td>\n",
       "      <td>...</td>\n",
       "      <td>...</td>\n",
       "      <td>...</td>\n",
       "      <td>...</td>\n",
       "      <td>...</td>\n",
       "      <td>...</td>\n",
       "      <td>...</td>\n",
       "      <td>...</td>\n",
       "      <td>...</td>\n",
       "      <td>...</td>\n",
       "      <td>...</td>\n",
       "      <td>...</td>\n",
       "      <td>...</td>\n",
       "      <td>...</td>\n",
       "      <td>...</td>\n",
       "      <td>...</td>\n",
       "      <td>...</td>\n",
       "      <td>...</td>\n",
       "      <td>...</td>\n",
       "      <td>...</td>\n",
       "      <td>...</td>\n",
       "      <td>...</td>\n",
       "      <td>...</td>\n",
       "      <td>...</td>\n",
       "      <td>...</td>\n",
       "      <td>...</td>\n",
       "      <td>...</td>\n",
       "      <td>...</td>\n",
       "    </tr>\n",
       "    <tr>\n",
       "      <th>2913</th>\n",
       "      <td>3612</td>\n",
       "      <td>55000</td>\n",
       "      <td>6831.0</td>\n",
       "      <td>200.0</td>\n",
       "      <td>2023-04-28 07:42:57</td>\n",
       "      <td>Bolt EUV</td>\n",
       "      <td>0 days 02:36:40</td>\n",
       "      <td>1189</td>\n",
       "      <td>1</td>\n",
       "      <td>2023-04-28 07:43:25</td>\n",
       "      <td>300.0</td>\n",
       "      <td>0.0</td>\n",
       "      <td>REGULAR</td>\n",
       "      <td>25</td>\n",
       "      <td>4.41666</td>\n",
       "      <td>2.61111</td>\n",
       "      <td>4884</td>\n",
       "      <td>2023-04-28 10:20:05</td>\n",
       "      <td>[{'power_W': Decimal('1453'), 'timestamp': Dec...</td>\n",
       "      <td>17</td>\n",
       "      <td>2023-04-28T12:15:00</td>\n",
       "      <td>0</td>\n",
       "      <td>16843.0</td>\n",
       "      <td>150.0</td>\n",
       "      <td>NaN</td>\n",
       "      <td>NaN</td>\n",
       "      <td>2023-04-28 10:20:05</td>\n",
       "      <td>2.611</td>\n",
       "      <td>6451.0</td>\n",
       "      <td>0 days 00:00:00</td>\n",
       "      <td>0.000000</td>\n",
       "    </tr>\n",
       "    <tr>\n",
       "      <th>2914</th>\n",
       "      <td>3613</td>\n",
       "      <td>3600</td>\n",
       "      <td>3415.0</td>\n",
       "      <td>200.0</td>\n",
       "      <td>2023-04-28 08:45:19</td>\n",
       "      <td>Volt</td>\n",
       "      <td>0 days 03:18:56</td>\n",
       "      <td>790</td>\n",
       "      <td>1</td>\n",
       "      <td>2023-04-28 08:46:09</td>\n",
       "      <td>300.0</td>\n",
       "      <td>0.0</td>\n",
       "      <td>REGULAR</td>\n",
       "      <td>25</td>\n",
       "      <td>5.47333</td>\n",
       "      <td>3.31555</td>\n",
       "      <td>4885</td>\n",
       "      <td>2023-04-28 12:05:05</td>\n",
       "      <td>[{'power_W': Decimal('3390'), 'timestamp': Dec...</td>\n",
       "      <td>11</td>\n",
       "      <td>2023-04-28T18:15:00</td>\n",
       "      <td>0</td>\n",
       "      <td>10695.0</td>\n",
       "      <td>150.0</td>\n",
       "      <td>NaN</td>\n",
       "      <td>NaN</td>\n",
       "      <td>2023-04-28 12:05:05</td>\n",
       "      <td>3.316</td>\n",
       "      <td>3225.0</td>\n",
       "      <td>0 days 00:00:00</td>\n",
       "      <td>0.000000</td>\n",
       "    </tr>\n",
       "    <tr>\n",
       "      <th>2915</th>\n",
       "      <td>3614</td>\n",
       "      <td>91000</td>\n",
       "      <td>6835.0</td>\n",
       "      <td>NaN</td>\n",
       "      <td>2023-04-28 09:27:36</td>\n",
       "      <td>Mach E</td>\n",
       "      <td>0 days 02:08:43</td>\n",
       "      <td>1191</td>\n",
       "      <td>1</td>\n",
       "      <td>2023-04-28 09:56:22</td>\n",
       "      <td>NaN</td>\n",
       "      <td>NaN</td>\n",
       "      <td>REGULAR</td>\n",
       "      <td>25</td>\n",
       "      <td>NaN</td>\n",
       "      <td>2.14527</td>\n",
       "      <td>4887</td>\n",
       "      <td>2023-04-28 12:05:05</td>\n",
       "      <td>[{'power_W': Decimal('6776'), 'timestamp': Dec...</td>\n",
       "      <td>16</td>\n",
       "      <td>1969-12-31T16:00:00</td>\n",
       "      <td>0</td>\n",
       "      <td>13679.0</td>\n",
       "      <td>NaN</td>\n",
       "      <td>NaN</td>\n",
       "      <td>NaN</td>\n",
       "      <td>2023-04-28 12:05:05</td>\n",
       "      <td>2.145</td>\n",
       "      <td>6377.0</td>\n",
       "      <td>0 days 00:00:00</td>\n",
       "      <td>0.000000</td>\n",
       "    </tr>\n",
       "    <tr>\n",
       "      <th>2916</th>\n",
       "      <td>3615</td>\n",
       "      <td>150000</td>\n",
       "      <td>6724.0</td>\n",
       "      <td>200.0</td>\n",
       "      <td>2023-04-28 10:29:04</td>\n",
       "      <td>Mach -E</td>\n",
       "      <td>0 days 01:35:43</td>\n",
       "      <td>1258</td>\n",
       "      <td>1</td>\n",
       "      <td>2023-04-28 10:29:22</td>\n",
       "      <td>300.0</td>\n",
       "      <td>0.0</td>\n",
       "      <td>REGULAR</td>\n",
       "      <td>25</td>\n",
       "      <td>2.89291</td>\n",
       "      <td>1.59527</td>\n",
       "      <td>4888</td>\n",
       "      <td>2023-04-28 12:05:05</td>\n",
       "      <td>[{'power_W': Decimal('0'), 'timestamp': Decima...</td>\n",
       "      <td>17</td>\n",
       "      <td>2023-04-28T18:00:00</td>\n",
       "      <td>0</td>\n",
       "      <td>9979.0</td>\n",
       "      <td>150.0</td>\n",
       "      <td>NaN</td>\n",
       "      <td>NaN</td>\n",
       "      <td>2023-04-28 12:05:05</td>\n",
       "      <td>1.595</td>\n",
       "      <td>6256.0</td>\n",
       "      <td>0 days 00:00:00</td>\n",
       "      <td>0.000000</td>\n",
       "    </tr>\n",
       "    <tr>\n",
       "      <th>2917</th>\n",
       "      <td>3616</td>\n",
       "      <td>3300</td>\n",
       "      <td>3438.0</td>\n",
       "      <td>200.0</td>\n",
       "      <td>2023-04-28 10:37:18</td>\n",
       "      <td>Escape PHEV</td>\n",
       "      <td>0 days 01:26:49</td>\n",
       "      <td>1135</td>\n",
       "      <td>1</td>\n",
       "      <td>2023-04-28 10:38:16</td>\n",
       "      <td>300.0</td>\n",
       "      <td>0.0</td>\n",
       "      <td>REGULAR</td>\n",
       "      <td>25</td>\n",
       "      <td>2.67041</td>\n",
       "      <td>1.44694</td>\n",
       "      <td>4889</td>\n",
       "      <td>2023-04-28 12:05:05</td>\n",
       "      <td>[{'power_W': Decimal('650'), 'timestamp': Deci...</td>\n",
       "      <td>18</td>\n",
       "      <td>2023-04-28T15:45:00</td>\n",
       "      <td>0</td>\n",
       "      <td>4646.0</td>\n",
       "      <td>150.0</td>\n",
       "      <td>NaN</td>\n",
       "      <td>NaN</td>\n",
       "      <td>2023-04-28 12:05:05</td>\n",
       "      <td>1.447</td>\n",
       "      <td>3211.0</td>\n",
       "      <td>0 days 00:00:00</td>\n",
       "      <td>0.000000</td>\n",
       "    </tr>\n",
       "  </tbody>\n",
       "</table>\n",
       "<p>2918 rows × 31 columns</p>\n",
       "</div>"
      ],
      "text/plain": [
       "      Unnamed: 0  vehicle_maxChgRate_W  peakPower_W  sch_centsPerHr  \\\n",
       "0              0                  6600       6335.0             9.0   \n",
       "1              1                 24000       7005.0             3.0   \n",
       "2              2                  3600       3450.0             3.0   \n",
       "3              3                  7200       6889.0             3.0   \n",
       "4              4                  6000       6852.0             NaN   \n",
       "...          ...                   ...          ...             ...   \n",
       "2913        3612                 55000       6831.0           200.0   \n",
       "2914        3613                  3600       3415.0           200.0   \n",
       "2915        3614                 91000       6835.0             NaN   \n",
       "2916        3615                150000       6724.0           200.0   \n",
       "2917        3616                  3300       3438.0           200.0   \n",
       "\n",
       "              connectTime           vehicle_model         Duration  userId  \\\n",
       "0     2020-11-05 10:30:16                    500e  0 days 03:43:57     605   \n",
       "1     2020-11-11 07:39:55                 Model 3  0 days 06:50:07     486   \n",
       "2     2020-11-13 16:19:55                    Volt  0 days 20:40:02     620   \n",
       "3     2020-11-14 23:47:06                    Bolt  0 days 02:12:51     618   \n",
       "4     2020-11-16 11:38:44  B-Class Electric Drive  0 days 03:12:45     623   \n",
       "...                   ...                     ...              ...     ...   \n",
       "2913  2023-04-28 07:42:57                Bolt EUV  0 days 02:36:40    1189   \n",
       "2914  2023-04-28 08:45:19                    Volt  0 days 03:18:56     790   \n",
       "2915  2023-04-28 09:27:36                  Mach E  0 days 02:08:43    1191   \n",
       "2916  2023-04-28 10:29:04                 Mach -E  0 days 01:35:43    1258   \n",
       "2917  2023-04-28 10:37:18             Escape PHEV  0 days 01:26:49    1135   \n",
       "\n",
       "      regular      startChargeTime  sch_centsPerOverstayHr  sch_centsPerKwh  \\\n",
       "0           1  2020-11-05 10:31:09                   200.0             15.0   \n",
       "1           1  2020-11-11 07:39:59                   200.0             15.0   \n",
       "2           0  2020-11-13 16:20:06                   300.0             12.0   \n",
       "3           1  2020-11-14 23:47:16                   400.0             18.0   \n",
       "4           1  2020-11-16 11:42:22                     NaN              NaN   \n",
       "...       ...                  ...                     ...              ...   \n",
       "2913        1  2023-04-28 07:43:25                   300.0              0.0   \n",
       "2914        1  2023-04-28 08:46:09                   300.0              0.0   \n",
       "2915        1  2023-04-28 09:56:22                     NaN              NaN   \n",
       "2916        1  2023-04-28 10:29:22                   300.0              0.0   \n",
       "2917        1  2023-04-28 10:38:16                   300.0              0.0   \n",
       "\n",
       "         choice  siteId   estCost  DurationHrs  dcosId           lastUpdate  \\\n",
       "0       REGULAR      23   5.35224      3.73249      24  2020-11-05 14:15:06   \n",
       "1       REGULAR      23  10.75291      6.83527      26  2020-11-11 14:30:06   \n",
       "2     SCHEDULED      25  29.32211     20.66722      30  2020-11-14 13:00:08   \n",
       "3       REGULAR      23   3.82125      2.21416      31  2020-11-15 02:00:07   \n",
       "4       REGULAR      23       NaN      3.21249      32  2020-11-16 14:55:07   \n",
       "...         ...     ...       ...          ...     ...                  ...   \n",
       "2913    REGULAR      25   4.41666      2.61111    4884  2023-04-28 10:20:05   \n",
       "2914    REGULAR      25   5.47333      3.31555    4885  2023-04-28 12:05:05   \n",
       "2915    REGULAR      25       NaN      2.14527    4887  2023-04-28 12:05:05   \n",
       "2916    REGULAR      25   2.89291      1.59527    4888  2023-04-28 12:05:05   \n",
       "2917    REGULAR      25   2.67041      1.44694    4889  2023-04-28 12:05:05   \n",
       "\n",
       "                                                  power  stationId  \\\n",
       "0     [{'power_W': Decimal('6259'), 'timestamp': Dec...          7   \n",
       "1     [{'power_W': Decimal('0'), 'timestamp': Decima...          3   \n",
       "2     [{'power_W': Decimal('0'), 'timestamp': Decima...         12   \n",
       "3     [{'power_W': Decimal('6889'), 'timestamp': Dec...          6   \n",
       "4     [{'power_W': Decimal('6813'), 'timestamp': Dec...          9   \n",
       "...                                                 ...        ...   \n",
       "2913  [{'power_W': Decimal('1453'), 'timestamp': Dec...         17   \n",
       "2914  [{'power_W': Decimal('3390'), 'timestamp': Dec...         11   \n",
       "2915  [{'power_W': Decimal('6776'), 'timestamp': Dec...         16   \n",
       "2916  [{'power_W': Decimal('0'), 'timestamp': Decima...         17   \n",
       "2917  [{'power_W': Decimal('650'), 'timestamp': Deci...         18   \n",
       "\n",
       "          defaultDeadline  scheduled  cumEnergy_Wh  reg_centsPerHr  \\\n",
       "0     1969-12-31T16:00:00          0        3281.0           130.0   \n",
       "1     2020-11-12T03:11:00          0       33458.0           150.0   \n",
       "2     2020-11-14T04:11:00          1       15216.0           180.0   \n",
       "3     1969-12-31T16:00:00          0       14378.0           150.0   \n",
       "4     2020-11-17T04:11:00          0       12484.0             NaN   \n",
       "...                   ...        ...           ...             ...   \n",
       "2913  2023-04-28T12:15:00          0       16843.0           150.0   \n",
       "2914  2023-04-28T18:15:00          0       10695.0           150.0   \n",
       "2915  1969-12-31T16:00:00          0       13679.0             NaN   \n",
       "2916  2023-04-28T18:00:00          0        9979.0           150.0   \n",
       "2917  2023-04-28T15:45:00          0        4646.0           150.0   \n",
       "\n",
       "                 Deadline  energyReq_Wh     finishChargeTime  trueDurationHrs  \\\n",
       "0                     NaN           NaN  2020-11-05 14:15:06            3.732   \n",
       "1                     NaN           NaN  2020-11-11 14:30:06            6.835   \n",
       "2     2020-11-14 04:15:00       18400.0  2020-11-14 04:15:00           11.915   \n",
       "3                     NaN           NaN  2020-11-15 02:00:07            2.214   \n",
       "4                     NaN           NaN  2020-11-16 14:55:07            3.212   \n",
       "...                   ...           ...                  ...              ...   \n",
       "2913                  NaN           NaN  2023-04-28 10:20:05            2.611   \n",
       "2914                  NaN           NaN  2023-04-28 12:05:05            3.316   \n",
       "2915                  NaN           NaN  2023-04-28 12:05:05            2.145   \n",
       "2916                  NaN           NaN  2023-04-28 12:05:05            1.595   \n",
       "2917                  NaN           NaN  2023-04-28 12:05:05            1.447   \n",
       "\n",
       "      true_peakPower_W         Overstay  Overstay_h  \n",
       "0                879.0  0 days 00:00:00    0.000000  \n",
       "1               4895.0  0 days 00:00:00    0.000000  \n",
       "2               1277.0  0 days 08:45:08    8.752222  \n",
       "3               6494.0  0 days 00:00:00    0.000000  \n",
       "4               3887.0  0 days 00:00:00    0.000000  \n",
       "...                ...              ...         ...  \n",
       "2913            6451.0  0 days 00:00:00    0.000000  \n",
       "2914            3225.0  0 days 00:00:00    0.000000  \n",
       "2915            6377.0  0 days 00:00:00    0.000000  \n",
       "2916            6256.0  0 days 00:00:00    0.000000  \n",
       "2917            3211.0  0 days 00:00:00    0.000000  \n",
       "\n",
       "[2918 rows x 31 columns]"
      ]
     },
     "execution_count": 18,
     "metadata": {},
     "output_type": "execute_result"
    }
   ],
   "source": [
    "df = pd.read_csv(\"data/raw_data.csv\")\n",
    "df"
   ]
  },
  {
   "cell_type": "code",
   "execution_count": null,
   "id": "9296a3a2",
   "metadata": {},
   "outputs": [],
   "source": []
  },
  {
   "cell_type": "code",
   "execution_count": 20,
   "id": "a09731b1",
   "metadata": {},
   "outputs": [
    {
     "data": {
      "text/plain": [
       "0           3.281\n",
       "1          36.739\n",
       "2          51.955\n",
       "3          66.333\n",
       "4          78.817\n",
       "          ...    \n",
       "2915    56575.227\n",
       "2916    56585.206\n",
       "2912    56613.743\n",
       "2914    56624.438\n",
       "2917    56629.084\n",
       "Name: cumEnergy_Wh, Length: 2918, dtype: float64"
      ]
     },
     "execution_count": 20,
     "metadata": {},
     "output_type": "execute_result"
    }
   ],
   "source": [
    "df[\"finishChargeTime\"] = pd.to_datetime(df[\"finishChargeTime\"])\n",
    "df = df.sort_values(by=\"finishChargeTime\")\n",
    "df[\"cumEnergy_Wh\"].cumsum(axis=0) / 1000"
   ]
  },
  {
   "cell_type": "code",
   "execution_count": 19,
   "id": "3c08b048",
   "metadata": {},
   "outputs": [],
   "source": [
    "hourlydemand = pd.read_csv(\"data/hourlydemand.csv\", index_col=\"time\", parse_dates=True)\n",
    "dailydemand = pd.read_csv(\"data/dailydemand.csv\", index_col=\"time\", parse_dates=True)\n",
    "monthlydemand = pd.read_csv(\"data/monthlydemand.csv\", index_col=\"time\", parse_dates=True)"
   ]
  },
  {
   "cell_type": "code",
   "execution_count": 16,
   "id": "978ae2e1",
   "metadata": {},
   "outputs": [
    {
     "data": {
      "text/plain": [
       "Int64Index([0, 0, 0, 0, 0, 0, 0, 0, 0, 0,\n",
       "            ...\n",
       "            0, 0, 0, 0, 0, 0, 0, 0, 0, 0],\n",
       "           dtype='int64', name='time', length=905)"
      ]
     },
     "execution_count": 16,
     "metadata": {},
     "output_type": "execute_result"
    }
   ],
   "source": [
    "dailydemand.index.hour"
   ]
  },
  {
   "cell_type": "code",
   "execution_count": 13,
   "id": "a8f9d01b",
   "metadata": {},
   "outputs": [
    {
     "data": {
      "text/html": [
       "<div>\n",
       "<style scoped>\n",
       "    .dataframe tbody tr th:only-of-type {\n",
       "        vertical-align: middle;\n",
       "    }\n",
       "\n",
       "    .dataframe tbody tr th {\n",
       "        vertical-align: top;\n",
       "    }\n",
       "\n",
       "    .dataframe thead th {\n",
       "        text-align: right;\n",
       "    }\n",
       "</style>\n",
       "<table border=\"1\" class=\"dataframe\">\n",
       "  <thead>\n",
       "    <tr style=\"text-align: right;\">\n",
       "      <th></th>\n",
       "      <th>avg_power_demand_W</th>\n",
       "      <th>energy_demand_kWh</th>\n",
       "      <th>peak_power_W</th>\n",
       "      <th>day</th>\n",
       "      <th>month</th>\n",
       "    </tr>\n",
       "    <tr>\n",
       "      <th>time</th>\n",
       "      <th></th>\n",
       "      <th></th>\n",
       "      <th></th>\n",
       "      <th></th>\n",
       "      <th></th>\n",
       "    </tr>\n",
       "  </thead>\n",
       "  <tbody>\n",
       "    <tr>\n",
       "      <th>2020-11-06 07:00:00</th>\n",
       "      <td>0.000000</td>\n",
       "      <td>0.000000</td>\n",
       "      <td>0.0</td>\n",
       "      <td>Friday</td>\n",
       "      <td>November</td>\n",
       "    </tr>\n",
       "    <tr>\n",
       "      <th>2020-11-07 07:00:00</th>\n",
       "      <td>0.000000</td>\n",
       "      <td>0.000000</td>\n",
       "      <td>0.0</td>\n",
       "      <td>Saturday</td>\n",
       "      <td>November</td>\n",
       "    </tr>\n",
       "    <tr>\n",
       "      <th>2020-11-08 07:00:00</th>\n",
       "      <td>0.000000</td>\n",
       "      <td>0.000000</td>\n",
       "      <td>0.0</td>\n",
       "      <td>Sunday</td>\n",
       "      <td>November</td>\n",
       "    </tr>\n",
       "    <tr>\n",
       "      <th>2020-11-09 07:00:00</th>\n",
       "      <td>0.000000</td>\n",
       "      <td>0.000000</td>\n",
       "      <td>0.0</td>\n",
       "      <td>Monday</td>\n",
       "      <td>November</td>\n",
       "    </tr>\n",
       "    <tr>\n",
       "      <th>2020-11-10 07:00:00</th>\n",
       "      <td>0.000000</td>\n",
       "      <td>0.000000</td>\n",
       "      <td>0.0</td>\n",
       "      <td>Tuesday</td>\n",
       "      <td>November</td>\n",
       "    </tr>\n",
       "    <tr>\n",
       "      <th>...</th>\n",
       "      <td>...</td>\n",
       "      <td>...</td>\n",
       "      <td>...</td>\n",
       "      <td>...</td>\n",
       "      <td>...</td>\n",
       "    </tr>\n",
       "    <tr>\n",
       "      <th>2023-04-23 07:00:00</th>\n",
       "      <td>0.000000</td>\n",
       "      <td>0.000000</td>\n",
       "      <td>0.0</td>\n",
       "      <td>Sunday</td>\n",
       "      <td>April</td>\n",
       "    </tr>\n",
       "    <tr>\n",
       "      <th>2023-04-24 07:00:00</th>\n",
       "      <td>0.000000</td>\n",
       "      <td>0.000000</td>\n",
       "      <td>0.0</td>\n",
       "      <td>Monday</td>\n",
       "      <td>April</td>\n",
       "    </tr>\n",
       "    <tr>\n",
       "      <th>2023-04-25 07:00:00</th>\n",
       "      <td>6445.000000</td>\n",
       "      <td>6.445000</td>\n",
       "      <td>6445.0</td>\n",
       "      <td>Tuesday</td>\n",
       "      <td>April</td>\n",
       "    </tr>\n",
       "    <tr>\n",
       "      <th>2023-04-26 07:00:00</th>\n",
       "      <td>4581.666667</td>\n",
       "      <td>4.581667</td>\n",
       "      <td>5498.0</td>\n",
       "      <td>Wednesday</td>\n",
       "      <td>April</td>\n",
       "    </tr>\n",
       "    <tr>\n",
       "      <th>2023-04-27 07:00:00</th>\n",
       "      <td>0.000000</td>\n",
       "      <td>0.000000</td>\n",
       "      <td>0.0</td>\n",
       "      <td>Thursday</td>\n",
       "      <td>April</td>\n",
       "    </tr>\n",
       "  </tbody>\n",
       "</table>\n",
       "<p>903 rows × 5 columns</p>\n",
       "</div>"
      ],
      "text/plain": [
       "                     avg_power_demand_W  energy_demand_kWh  peak_power_W  \\\n",
       "time                                                                       \n",
       "2020-11-06 07:00:00            0.000000           0.000000           0.0   \n",
       "2020-11-07 07:00:00            0.000000           0.000000           0.0   \n",
       "2020-11-08 07:00:00            0.000000           0.000000           0.0   \n",
       "2020-11-09 07:00:00            0.000000           0.000000           0.0   \n",
       "2020-11-10 07:00:00            0.000000           0.000000           0.0   \n",
       "...                                 ...                ...           ...   \n",
       "2023-04-23 07:00:00            0.000000           0.000000           0.0   \n",
       "2023-04-24 07:00:00            0.000000           0.000000           0.0   \n",
       "2023-04-25 07:00:00         6445.000000           6.445000        6445.0   \n",
       "2023-04-26 07:00:00         4581.666667           4.581667        5498.0   \n",
       "2023-04-27 07:00:00            0.000000           0.000000           0.0   \n",
       "\n",
       "                           day     month  \n",
       "time                                      \n",
       "2020-11-06 07:00:00     Friday  November  \n",
       "2020-11-07 07:00:00   Saturday  November  \n",
       "2020-11-08 07:00:00     Sunday  November  \n",
       "2020-11-09 07:00:00     Monday  November  \n",
       "2020-11-10 07:00:00    Tuesday  November  \n",
       "...                        ...       ...  \n",
       "2023-04-23 07:00:00     Sunday     April  \n",
       "2023-04-24 07:00:00     Monday     April  \n",
       "2023-04-25 07:00:00    Tuesday     April  \n",
       "2023-04-26 07:00:00  Wednesday     April  \n",
       "2023-04-27 07:00:00   Thursday     April  \n",
       "\n",
       "[903 rows x 5 columns]"
      ]
     },
     "execution_count": 13,
     "metadata": {},
     "output_type": "execute_result"
    }
   ],
   "source": [
    "hourlydemand[hourlydemand.index.hour == 7]"
   ]
  },
  {
   "cell_type": "code",
   "execution_count": 26,
   "id": "8f90027d",
   "metadata": {},
   "outputs": [
    {
     "data": {
      "application/vnd.plotly.v1+json": {
       "config": {
        "plotlyServerURL": "https://plot.ly"
       },
       "data": [
        {
         "hovertemplate": "time=%{x}<br>peak_power_W=%{y}<extra></extra>",
         "legendgroup": "",
         "line": {
          "color": "#636efa",
          "dash": "solid"
         },
         "marker": {
          "symbol": "circle"
         },
         "mode": "lines",
         "name": "",
         "orientation": "v",
         "showlegend": false,
         "type": "scatter",
         "x": [
          "2020-11-01T00:00:00",
          "2020-12-01T00:00:00",
          "2021-01-01T00:00:00",
          "2021-02-01T00:00:00",
          "2021-03-01T00:00:00",
          "2021-04-01T00:00:00",
          "2021-05-01T00:00:00",
          "2021-06-01T00:00:00",
          "2021-07-01T00:00:00",
          "2021-08-01T00:00:00",
          "2021-09-01T00:00:00",
          "2021-10-01T00:00:00",
          "2021-11-01T00:00:00",
          "2021-12-01T00:00:00",
          "2022-01-01T00:00:00",
          "2022-02-01T00:00:00",
          "2022-03-01T00:00:00",
          "2022-04-01T00:00:00",
          "2022-05-01T00:00:00",
          "2022-06-01T00:00:00",
          "2022-07-01T00:00:00",
          "2022-08-01T00:00:00",
          "2022-09-01T00:00:00",
          "2022-10-01T00:00:00",
          "2022-11-01T00:00:00",
          "2022-12-01T00:00:00",
          "2023-01-01T00:00:00",
          "2023-02-01T00:00:00",
          "2023-03-01T00:00:00",
          "2023-04-01T00:00:00"
         ],
         "xaxis": "x",
         "y": [
          11612,
          12908,
          12021,
          10105,
          16055,
          19787,
          17241,
          27095,
          23971,
          24607,
          37207,
          34775,
          29478,
          30171,
          25070,
          21574,
          29689,
          22594,
          29220,
          26909,
          25522,
          40136,
          28403,
          32583,
          24877,
          30375,
          36330,
          35685,
          36628,
          32933
         ],
         "yaxis": "y"
        }
       ],
       "layout": {
        "legend": {
         "tracegroupgap": 0
        },
        "margin": {
         "t": 60
        },
        "template": {
         "data": {
          "bar": [
           {
            "error_x": {
             "color": "#2a3f5f"
            },
            "error_y": {
             "color": "#2a3f5f"
            },
            "marker": {
             "line": {
              "color": "#E5ECF6",
              "width": 0.5
             },
             "pattern": {
              "fillmode": "overlay",
              "size": 10,
              "solidity": 0.2
             }
            },
            "type": "bar"
           }
          ],
          "barpolar": [
           {
            "marker": {
             "line": {
              "color": "#E5ECF6",
              "width": 0.5
             },
             "pattern": {
              "fillmode": "overlay",
              "size": 10,
              "solidity": 0.2
             }
            },
            "type": "barpolar"
           }
          ],
          "carpet": [
           {
            "aaxis": {
             "endlinecolor": "#2a3f5f",
             "gridcolor": "white",
             "linecolor": "white",
             "minorgridcolor": "white",
             "startlinecolor": "#2a3f5f"
            },
            "baxis": {
             "endlinecolor": "#2a3f5f",
             "gridcolor": "white",
             "linecolor": "white",
             "minorgridcolor": "white",
             "startlinecolor": "#2a3f5f"
            },
            "type": "carpet"
           }
          ],
          "choropleth": [
           {
            "colorbar": {
             "outlinewidth": 0,
             "ticks": ""
            },
            "type": "choropleth"
           }
          ],
          "contour": [
           {
            "colorbar": {
             "outlinewidth": 0,
             "ticks": ""
            },
            "colorscale": [
             [
              0,
              "#0d0887"
             ],
             [
              0.1111111111111111,
              "#46039f"
             ],
             [
              0.2222222222222222,
              "#7201a8"
             ],
             [
              0.3333333333333333,
              "#9c179e"
             ],
             [
              0.4444444444444444,
              "#bd3786"
             ],
             [
              0.5555555555555556,
              "#d8576b"
             ],
             [
              0.6666666666666666,
              "#ed7953"
             ],
             [
              0.7777777777777778,
              "#fb9f3a"
             ],
             [
              0.8888888888888888,
              "#fdca26"
             ],
             [
              1,
              "#f0f921"
             ]
            ],
            "type": "contour"
           }
          ],
          "contourcarpet": [
           {
            "colorbar": {
             "outlinewidth": 0,
             "ticks": ""
            },
            "type": "contourcarpet"
           }
          ],
          "heatmap": [
           {
            "colorbar": {
             "outlinewidth": 0,
             "ticks": ""
            },
            "colorscale": [
             [
              0,
              "#0d0887"
             ],
             [
              0.1111111111111111,
              "#46039f"
             ],
             [
              0.2222222222222222,
              "#7201a8"
             ],
             [
              0.3333333333333333,
              "#9c179e"
             ],
             [
              0.4444444444444444,
              "#bd3786"
             ],
             [
              0.5555555555555556,
              "#d8576b"
             ],
             [
              0.6666666666666666,
              "#ed7953"
             ],
             [
              0.7777777777777778,
              "#fb9f3a"
             ],
             [
              0.8888888888888888,
              "#fdca26"
             ],
             [
              1,
              "#f0f921"
             ]
            ],
            "type": "heatmap"
           }
          ],
          "heatmapgl": [
           {
            "colorbar": {
             "outlinewidth": 0,
             "ticks": ""
            },
            "colorscale": [
             [
              0,
              "#0d0887"
             ],
             [
              0.1111111111111111,
              "#46039f"
             ],
             [
              0.2222222222222222,
              "#7201a8"
             ],
             [
              0.3333333333333333,
              "#9c179e"
             ],
             [
              0.4444444444444444,
              "#bd3786"
             ],
             [
              0.5555555555555556,
              "#d8576b"
             ],
             [
              0.6666666666666666,
              "#ed7953"
             ],
             [
              0.7777777777777778,
              "#fb9f3a"
             ],
             [
              0.8888888888888888,
              "#fdca26"
             ],
             [
              1,
              "#f0f921"
             ]
            ],
            "type": "heatmapgl"
           }
          ],
          "histogram": [
           {
            "marker": {
             "pattern": {
              "fillmode": "overlay",
              "size": 10,
              "solidity": 0.2
             }
            },
            "type": "histogram"
           }
          ],
          "histogram2d": [
           {
            "colorbar": {
             "outlinewidth": 0,
             "ticks": ""
            },
            "colorscale": [
             [
              0,
              "#0d0887"
             ],
             [
              0.1111111111111111,
              "#46039f"
             ],
             [
              0.2222222222222222,
              "#7201a8"
             ],
             [
              0.3333333333333333,
              "#9c179e"
             ],
             [
              0.4444444444444444,
              "#bd3786"
             ],
             [
              0.5555555555555556,
              "#d8576b"
             ],
             [
              0.6666666666666666,
              "#ed7953"
             ],
             [
              0.7777777777777778,
              "#fb9f3a"
             ],
             [
              0.8888888888888888,
              "#fdca26"
             ],
             [
              1,
              "#f0f921"
             ]
            ],
            "type": "histogram2d"
           }
          ],
          "histogram2dcontour": [
           {
            "colorbar": {
             "outlinewidth": 0,
             "ticks": ""
            },
            "colorscale": [
             [
              0,
              "#0d0887"
             ],
             [
              0.1111111111111111,
              "#46039f"
             ],
             [
              0.2222222222222222,
              "#7201a8"
             ],
             [
              0.3333333333333333,
              "#9c179e"
             ],
             [
              0.4444444444444444,
              "#bd3786"
             ],
             [
              0.5555555555555556,
              "#d8576b"
             ],
             [
              0.6666666666666666,
              "#ed7953"
             ],
             [
              0.7777777777777778,
              "#fb9f3a"
             ],
             [
              0.8888888888888888,
              "#fdca26"
             ],
             [
              1,
              "#f0f921"
             ]
            ],
            "type": "histogram2dcontour"
           }
          ],
          "mesh3d": [
           {
            "colorbar": {
             "outlinewidth": 0,
             "ticks": ""
            },
            "type": "mesh3d"
           }
          ],
          "parcoords": [
           {
            "line": {
             "colorbar": {
              "outlinewidth": 0,
              "ticks": ""
             }
            },
            "type": "parcoords"
           }
          ],
          "pie": [
           {
            "automargin": true,
            "type": "pie"
           }
          ],
          "scatter": [
           {
            "fillpattern": {
             "fillmode": "overlay",
             "size": 10,
             "solidity": 0.2
            },
            "type": "scatter"
           }
          ],
          "scatter3d": [
           {
            "line": {
             "colorbar": {
              "outlinewidth": 0,
              "ticks": ""
             }
            },
            "marker": {
             "colorbar": {
              "outlinewidth": 0,
              "ticks": ""
             }
            },
            "type": "scatter3d"
           }
          ],
          "scattercarpet": [
           {
            "marker": {
             "colorbar": {
              "outlinewidth": 0,
              "ticks": ""
             }
            },
            "type": "scattercarpet"
           }
          ],
          "scattergeo": [
           {
            "marker": {
             "colorbar": {
              "outlinewidth": 0,
              "ticks": ""
             }
            },
            "type": "scattergeo"
           }
          ],
          "scattergl": [
           {
            "marker": {
             "colorbar": {
              "outlinewidth": 0,
              "ticks": ""
             }
            },
            "type": "scattergl"
           }
          ],
          "scattermapbox": [
           {
            "marker": {
             "colorbar": {
              "outlinewidth": 0,
              "ticks": ""
             }
            },
            "type": "scattermapbox"
           }
          ],
          "scatterpolar": [
           {
            "marker": {
             "colorbar": {
              "outlinewidth": 0,
              "ticks": ""
             }
            },
            "type": "scatterpolar"
           }
          ],
          "scatterpolargl": [
           {
            "marker": {
             "colorbar": {
              "outlinewidth": 0,
              "ticks": ""
             }
            },
            "type": "scatterpolargl"
           }
          ],
          "scatterternary": [
           {
            "marker": {
             "colorbar": {
              "outlinewidth": 0,
              "ticks": ""
             }
            },
            "type": "scatterternary"
           }
          ],
          "surface": [
           {
            "colorbar": {
             "outlinewidth": 0,
             "ticks": ""
            },
            "colorscale": [
             [
              0,
              "#0d0887"
             ],
             [
              0.1111111111111111,
              "#46039f"
             ],
             [
              0.2222222222222222,
              "#7201a8"
             ],
             [
              0.3333333333333333,
              "#9c179e"
             ],
             [
              0.4444444444444444,
              "#bd3786"
             ],
             [
              0.5555555555555556,
              "#d8576b"
             ],
             [
              0.6666666666666666,
              "#ed7953"
             ],
             [
              0.7777777777777778,
              "#fb9f3a"
             ],
             [
              0.8888888888888888,
              "#fdca26"
             ],
             [
              1,
              "#f0f921"
             ]
            ],
            "type": "surface"
           }
          ],
          "table": [
           {
            "cells": {
             "fill": {
              "color": "#EBF0F8"
             },
             "line": {
              "color": "white"
             }
            },
            "header": {
             "fill": {
              "color": "#C8D4E3"
             },
             "line": {
              "color": "white"
             }
            },
            "type": "table"
           }
          ]
         },
         "layout": {
          "annotationdefaults": {
           "arrowcolor": "#2a3f5f",
           "arrowhead": 0,
           "arrowwidth": 1
          },
          "autotypenumbers": "strict",
          "coloraxis": {
           "colorbar": {
            "outlinewidth": 0,
            "ticks": ""
           }
          },
          "colorscale": {
           "diverging": [
            [
             0,
             "#8e0152"
            ],
            [
             0.1,
             "#c51b7d"
            ],
            [
             0.2,
             "#de77ae"
            ],
            [
             0.3,
             "#f1b6da"
            ],
            [
             0.4,
             "#fde0ef"
            ],
            [
             0.5,
             "#f7f7f7"
            ],
            [
             0.6,
             "#e6f5d0"
            ],
            [
             0.7,
             "#b8e186"
            ],
            [
             0.8,
             "#7fbc41"
            ],
            [
             0.9,
             "#4d9221"
            ],
            [
             1,
             "#276419"
            ]
           ],
           "sequential": [
            [
             0,
             "#0d0887"
            ],
            [
             0.1111111111111111,
             "#46039f"
            ],
            [
             0.2222222222222222,
             "#7201a8"
            ],
            [
             0.3333333333333333,
             "#9c179e"
            ],
            [
             0.4444444444444444,
             "#bd3786"
            ],
            [
             0.5555555555555556,
             "#d8576b"
            ],
            [
             0.6666666666666666,
             "#ed7953"
            ],
            [
             0.7777777777777778,
             "#fb9f3a"
            ],
            [
             0.8888888888888888,
             "#fdca26"
            ],
            [
             1,
             "#f0f921"
            ]
           ],
           "sequentialminus": [
            [
             0,
             "#0d0887"
            ],
            [
             0.1111111111111111,
             "#46039f"
            ],
            [
             0.2222222222222222,
             "#7201a8"
            ],
            [
             0.3333333333333333,
             "#9c179e"
            ],
            [
             0.4444444444444444,
             "#bd3786"
            ],
            [
             0.5555555555555556,
             "#d8576b"
            ],
            [
             0.6666666666666666,
             "#ed7953"
            ],
            [
             0.7777777777777778,
             "#fb9f3a"
            ],
            [
             0.8888888888888888,
             "#fdca26"
            ],
            [
             1,
             "#f0f921"
            ]
           ]
          },
          "colorway": [
           "#636efa",
           "#EF553B",
           "#00cc96",
           "#ab63fa",
           "#FFA15A",
           "#19d3f3",
           "#FF6692",
           "#B6E880",
           "#FF97FF",
           "#FECB52"
          ],
          "font": {
           "color": "#2a3f5f"
          },
          "geo": {
           "bgcolor": "white",
           "lakecolor": "white",
           "landcolor": "#E5ECF6",
           "showlakes": true,
           "showland": true,
           "subunitcolor": "white"
          },
          "hoverlabel": {
           "align": "left"
          },
          "hovermode": "closest",
          "mapbox": {
           "style": "light"
          },
          "paper_bgcolor": "white",
          "plot_bgcolor": "#E5ECF6",
          "polar": {
           "angularaxis": {
            "gridcolor": "white",
            "linecolor": "white",
            "ticks": ""
           },
           "bgcolor": "#E5ECF6",
           "radialaxis": {
            "gridcolor": "white",
            "linecolor": "white",
            "ticks": ""
           }
          },
          "scene": {
           "xaxis": {
            "backgroundcolor": "#E5ECF6",
            "gridcolor": "white",
            "gridwidth": 2,
            "linecolor": "white",
            "showbackground": true,
            "ticks": "",
            "zerolinecolor": "white"
           },
           "yaxis": {
            "backgroundcolor": "#E5ECF6",
            "gridcolor": "white",
            "gridwidth": 2,
            "linecolor": "white",
            "showbackground": true,
            "ticks": "",
            "zerolinecolor": "white"
           },
           "zaxis": {
            "backgroundcolor": "#E5ECF6",
            "gridcolor": "white",
            "gridwidth": 2,
            "linecolor": "white",
            "showbackground": true,
            "ticks": "",
            "zerolinecolor": "white"
           }
          },
          "shapedefaults": {
           "line": {
            "color": "#2a3f5f"
           }
          },
          "ternary": {
           "aaxis": {
            "gridcolor": "white",
            "linecolor": "white",
            "ticks": ""
           },
           "baxis": {
            "gridcolor": "white",
            "linecolor": "white",
            "ticks": ""
           },
           "bgcolor": "#E5ECF6",
           "caxis": {
            "gridcolor": "white",
            "linecolor": "white",
            "ticks": ""
           }
          },
          "title": {
           "x": 0.05
          },
          "xaxis": {
           "automargin": true,
           "gridcolor": "white",
           "linecolor": "white",
           "ticks": "",
           "title": {
            "standoff": 15
           },
           "zerolinecolor": "white",
           "zerolinewidth": 2
          },
          "yaxis": {
           "automargin": true,
           "gridcolor": "white",
           "linecolor": "white",
           "ticks": "",
           "title": {
            "standoff": 15
           },
           "zerolinecolor": "white",
           "zerolinewidth": 2
          }
         }
        },
        "xaxis": {
         "anchor": "y",
         "domain": [
          0,
          1
         ],
         "title": {
          "text": "time"
         }
        },
        "yaxis": {
         "anchor": "x",
         "domain": [
          0,
          1
         ],
         "title": {
          "text": "peak_power_W"
         }
        }
       }
      }
     },
     "metadata": {},
     "output_type": "display_data"
    }
   ],
   "source": [
    "px.line(monthlydemand, y=\"peak_power_W\")"
   ]
  },
  {
   "cell_type": "code",
   "execution_count": 13,
   "id": "fd103bc4",
   "metadata": {},
   "outputs": [
    {
     "data": {
      "text/html": [
       "<div>\n",
       "<style scoped>\n",
       "    .dataframe tbody tr th:only-of-type {\n",
       "        vertical-align: middle;\n",
       "    }\n",
       "\n",
       "    .dataframe tbody tr th {\n",
       "        vertical-align: top;\n",
       "    }\n",
       "\n",
       "    .dataframe thead th {\n",
       "        text-align: right;\n",
       "    }\n",
       "</style>\n",
       "<table border=\"1\" class=\"dataframe\">\n",
       "  <thead>\n",
       "    <tr style=\"text-align: right;\">\n",
       "      <th></th>\n",
       "      <th>avg_power_demand_W</th>\n",
       "      <th>energy_demand_kWh</th>\n",
       "      <th>peak_power_W</th>\n",
       "      <th>day</th>\n",
       "      <th>month</th>\n",
       "    </tr>\n",
       "    <tr>\n",
       "      <th>time</th>\n",
       "      <th></th>\n",
       "      <th></th>\n",
       "      <th></th>\n",
       "      <th></th>\n",
       "      <th></th>\n",
       "    </tr>\n",
       "  </thead>\n",
       "  <tbody>\n",
       "    <tr>\n",
       "      <th>2020-11-05 10:00:00</th>\n",
       "      <td>879.000000</td>\n",
       "      <td>0.439500</td>\n",
       "      <td>879.0</td>\n",
       "      <td>Thursday</td>\n",
       "      <td>November</td>\n",
       "    </tr>\n",
       "    <tr>\n",
       "      <th>2020-11-05 11:00:00</th>\n",
       "      <td>879.000000</td>\n",
       "      <td>0.879000</td>\n",
       "      <td>879.0</td>\n",
       "      <td>Thursday</td>\n",
       "      <td>November</td>\n",
       "    </tr>\n",
       "    <tr>\n",
       "      <th>2020-11-05 12:00:00</th>\n",
       "      <td>879.000000</td>\n",
       "      <td>0.879000</td>\n",
       "      <td>879.0</td>\n",
       "      <td>Thursday</td>\n",
       "      <td>November</td>\n",
       "    </tr>\n",
       "    <tr>\n",
       "      <th>2020-11-05 13:00:00</th>\n",
       "      <td>879.000000</td>\n",
       "      <td>0.879000</td>\n",
       "      <td>879.0</td>\n",
       "      <td>Thursday</td>\n",
       "      <td>November</td>\n",
       "    </tr>\n",
       "    <tr>\n",
       "      <th>2020-11-05 14:00:00</th>\n",
       "      <td>293.000000</td>\n",
       "      <td>0.293000</td>\n",
       "      <td>879.0</td>\n",
       "      <td>Thursday</td>\n",
       "      <td>November</td>\n",
       "    </tr>\n",
       "    <tr>\n",
       "      <th>...</th>\n",
       "      <td>...</td>\n",
       "      <td>...</td>\n",
       "      <td>...</td>\n",
       "      <td>...</td>\n",
       "      <td>...</td>\n",
       "    </tr>\n",
       "    <tr>\n",
       "      <th>2023-04-27 08:00:00</th>\n",
       "      <td>0.000000</td>\n",
       "      <td>0.000000</td>\n",
       "      <td>0.0</td>\n",
       "      <td>Thursday</td>\n",
       "      <td>April</td>\n",
       "    </tr>\n",
       "    <tr>\n",
       "      <th>2023-04-27 09:00:00</th>\n",
       "      <td>0.000000</td>\n",
       "      <td>0.000000</td>\n",
       "      <td>0.0</td>\n",
       "      <td>Thursday</td>\n",
       "      <td>April</td>\n",
       "    </tr>\n",
       "    <tr>\n",
       "      <th>2023-04-27 10:00:00</th>\n",
       "      <td>2401.500000</td>\n",
       "      <td>2.401500</td>\n",
       "      <td>3202.0</td>\n",
       "      <td>Thursday</td>\n",
       "      <td>April</td>\n",
       "    </tr>\n",
       "    <tr>\n",
       "      <th>2023-04-27 11:00:00</th>\n",
       "      <td>5282.833333</td>\n",
       "      <td>5.282833</td>\n",
       "      <td>12602.0</td>\n",
       "      <td>Thursday</td>\n",
       "      <td>April</td>\n",
       "    </tr>\n",
       "    <tr>\n",
       "      <th>2023-04-27 12:00:00</th>\n",
       "      <td>20391.900000</td>\n",
       "      <td>16.993250</td>\n",
       "      <td>27203.0</td>\n",
       "      <td>Thursday</td>\n",
       "      <td>April</td>\n",
       "    </tr>\n",
       "  </tbody>\n",
       "</table>\n",
       "<p>21675 rows × 5 columns</p>\n",
       "</div>"
      ],
      "text/plain": [
       "                     avg_power_demand_W  energy_demand_kWh  peak_power_W  \\\n",
       "time                                                                       \n",
       "2020-11-05 10:00:00          879.000000           0.439500         879.0   \n",
       "2020-11-05 11:00:00          879.000000           0.879000         879.0   \n",
       "2020-11-05 12:00:00          879.000000           0.879000         879.0   \n",
       "2020-11-05 13:00:00          879.000000           0.879000         879.0   \n",
       "2020-11-05 14:00:00          293.000000           0.293000         879.0   \n",
       "...                                 ...                ...           ...   \n",
       "2023-04-27 08:00:00            0.000000           0.000000           0.0   \n",
       "2023-04-27 09:00:00            0.000000           0.000000           0.0   \n",
       "2023-04-27 10:00:00         2401.500000           2.401500        3202.0   \n",
       "2023-04-27 11:00:00         5282.833333           5.282833       12602.0   \n",
       "2023-04-27 12:00:00        20391.900000          16.993250       27203.0   \n",
       "\n",
       "                          day     month  \n",
       "time                                     \n",
       "2020-11-05 10:00:00  Thursday  November  \n",
       "2020-11-05 11:00:00  Thursday  November  \n",
       "2020-11-05 12:00:00  Thursday  November  \n",
       "2020-11-05 13:00:00  Thursday  November  \n",
       "2020-11-05 14:00:00  Thursday  November  \n",
       "...                       ...       ...  \n",
       "2023-04-27 08:00:00  Thursday     April  \n",
       "2023-04-27 09:00:00  Thursday     April  \n",
       "2023-04-27 10:00:00  Thursday     April  \n",
       "2023-04-27 11:00:00  Thursday     April  \n",
       "2023-04-27 12:00:00  Thursday     April  \n",
       "\n",
       "[21675 rows x 5 columns]"
      ]
     },
     "execution_count": 13,
     "metadata": {},
     "output_type": "execute_result"
    }
   ],
   "source": [
    "j = hourlydemand.to_json(date_format=\"iso\", orient=\"table\")\n",
    "j = pd.read_json(j, orient=\"table\")\n",
    "j"
   ]
  },
  {
   "cell_type": "code",
   "execution_count": 9,
   "id": "9ca4a98b",
   "metadata": {},
   "outputs": [
    {
     "data": {
      "text/plain": [
       "{'energy_demand_kWh': {'order': (2, 0, 1), 'seasonal_order': (0, 1, 2, 7)},\n",
       " 'peak_power_W': {'order': (1, 0, 0), 'seasonal_order': (0, 1, 2, 7)},\n",
       " 'avg_power_demand_W': {'order': (2, 0, 1), 'seasonal_order': (0, 1, 2, 7)}}"
      ]
     },
     "execution_count": 9,
     "metadata": {},
     "output_type": "execute_result"
    }
   ],
   "source": [
    "{'energy_demand_kWh': {\"order\":(2, 0, 1), \"seasonal_order\":(0, 1, 2, 7)},\n",
    " 'peak_power_W': {\"order\":(1, 0, 0), \"seasonal_order\":(0, 1, 2, 7)},\n",
    " 'avg_power_demand_W': {\"order\":(2, 0, 1), \"seasonal_order\":(0, 1, 2, 7)}\n",
    "}"
   ]
  },
  {
   "cell_type": "code",
   "execution_count": 10,
   "id": "e719b537",
   "metadata": {},
   "outputs": [
    {
     "data": {
      "text/plain": [
       "{'energy_demand_kWh': {'best_depth': 57, 'best_n_neighbors': 25},\n",
       " 'peak_power_W': {'best_depth': 57, 'best_n_neighbors': 23},\n",
       " 'avg_power_demand_W': {'best_depth': 57, 'best_n_neighbors': 25}}"
      ]
     },
     "execution_count": 10,
     "metadata": {},
     "output_type": "execute_result"
    }
   ],
   "source": [
    "{'energy_demand_kWh': {'best_depth': 57, 'best_n_neighbors': 25},\n",
    " 'peak_power_W': {'best_depth': 57, 'best_n_neighbors': 23},\n",
    " 'avg_power_demand_W': {'best_depth': 57, 'best_n_neighbors': 25}}"
   ]
  },
  {
   "cell_type": "code",
   "execution_count": 11,
   "id": "cd703b4f",
   "metadata": {},
   "outputs": [
    {
     "data": {
      "text/html": [
       "<div>\n",
       "<style scoped>\n",
       "    .dataframe tbody tr th:only-of-type {\n",
       "        vertical-align: middle;\n",
       "    }\n",
       "\n",
       "    .dataframe tbody tr th {\n",
       "        vertical-align: top;\n",
       "    }\n",
       "\n",
       "    .dataframe thead th {\n",
       "        text-align: right;\n",
       "    }\n",
       "</style>\n",
       "<table border=\"1\" class=\"dataframe\">\n",
       "  <thead>\n",
       "    <tr style=\"text-align: right;\">\n",
       "      <th></th>\n",
       "      <th>avg_power_demand_W</th>\n",
       "      <th>energy_demand_kWh</th>\n",
       "      <th>peak_power_W</th>\n",
       "      <th>day</th>\n",
       "      <th>month</th>\n",
       "    </tr>\n",
       "    <tr>\n",
       "      <th>time</th>\n",
       "      <th></th>\n",
       "      <th></th>\n",
       "      <th></th>\n",
       "      <th></th>\n",
       "      <th></th>\n",
       "    </tr>\n",
       "  </thead>\n",
       "  <tbody>\n",
       "    <tr>\n",
       "      <th>2020-11-06</th>\n",
       "      <td>0.000000</td>\n",
       "      <td>0.000000</td>\n",
       "      <td>0.0</td>\n",
       "      <td>Friday</td>\n",
       "      <td>November</td>\n",
       "    </tr>\n",
       "    <tr>\n",
       "      <th>2020-11-13</th>\n",
       "      <td>407.930556</td>\n",
       "      <td>9.790333</td>\n",
       "      <td>1277.0</td>\n",
       "      <td>Friday</td>\n",
       "      <td>November</td>\n",
       "    </tr>\n",
       "    <tr>\n",
       "      <th>2020-11-20</th>\n",
       "      <td>0.000000</td>\n",
       "      <td>0.000000</td>\n",
       "      <td>0.0</td>\n",
       "      <td>Friday</td>\n",
       "      <td>November</td>\n",
       "    </tr>\n",
       "    <tr>\n",
       "      <th>2020-11-27</th>\n",
       "      <td>0.000000</td>\n",
       "      <td>0.000000</td>\n",
       "      <td>0.0</td>\n",
       "      <td>Friday</td>\n",
       "      <td>November</td>\n",
       "    </tr>\n",
       "    <tr>\n",
       "      <th>2020-12-04</th>\n",
       "      <td>586.625000</td>\n",
       "      <td>14.079000</td>\n",
       "      <td>1482.0</td>\n",
       "      <td>Friday</td>\n",
       "      <td>December</td>\n",
       "    </tr>\n",
       "    <tr>\n",
       "      <th>...</th>\n",
       "      <td>...</td>\n",
       "      <td>...</td>\n",
       "      <td>...</td>\n",
       "      <td>...</td>\n",
       "      <td>...</td>\n",
       "    </tr>\n",
       "    <tr>\n",
       "      <th>2023-03-24</th>\n",
       "      <td>8251.256944</td>\n",
       "      <td>198.030167</td>\n",
       "      <td>36628.0</td>\n",
       "      <td>Friday</td>\n",
       "      <td>March</td>\n",
       "    </tr>\n",
       "    <tr>\n",
       "      <th>2023-03-31</th>\n",
       "      <td>751.975694</td>\n",
       "      <td>18.047417</td>\n",
       "      <td>12388.0</td>\n",
       "      <td>Friday</td>\n",
       "      <td>March</td>\n",
       "    </tr>\n",
       "    <tr>\n",
       "      <th>2023-04-07</th>\n",
       "      <td>6193.690972</td>\n",
       "      <td>148.648583</td>\n",
       "      <td>19607.0</td>\n",
       "      <td>Friday</td>\n",
       "      <td>April</td>\n",
       "    </tr>\n",
       "    <tr>\n",
       "      <th>2023-04-14</th>\n",
       "      <td>5319.187500</td>\n",
       "      <td>127.660500</td>\n",
       "      <td>12860.0</td>\n",
       "      <td>Friday</td>\n",
       "      <td>April</td>\n",
       "    </tr>\n",
       "    <tr>\n",
       "      <th>2023-04-21</th>\n",
       "      <td>2080.291667</td>\n",
       "      <td>49.927000</td>\n",
       "      <td>6302.0</td>\n",
       "      <td>Friday</td>\n",
       "      <td>April</td>\n",
       "    </tr>\n",
       "  </tbody>\n",
       "</table>\n",
       "<p>129 rows × 5 columns</p>\n",
       "</div>"
      ],
      "text/plain": [
       "            avg_power_demand_W  energy_demand_kWh  peak_power_W     day  \\\n",
       "time                                                                      \n",
       "2020-11-06            0.000000           0.000000           0.0  Friday   \n",
       "2020-11-13          407.930556           9.790333        1277.0  Friday   \n",
       "2020-11-20            0.000000           0.000000           0.0  Friday   \n",
       "2020-11-27            0.000000           0.000000           0.0  Friday   \n",
       "2020-12-04          586.625000          14.079000        1482.0  Friday   \n",
       "...                        ...                ...           ...     ...   \n",
       "2023-03-24         8251.256944         198.030167       36628.0  Friday   \n",
       "2023-03-31          751.975694          18.047417       12388.0  Friday   \n",
       "2023-04-07         6193.690972         148.648583       19607.0  Friday   \n",
       "2023-04-14         5319.187500         127.660500       12860.0  Friday   \n",
       "2023-04-21         2080.291667          49.927000        6302.0  Friday   \n",
       "\n",
       "               month  \n",
       "time                  \n",
       "2020-11-06  November  \n",
       "2020-11-13  November  \n",
       "2020-11-20  November  \n",
       "2020-11-27  November  \n",
       "2020-12-04  December  \n",
       "...              ...  \n",
       "2023-03-24     March  \n",
       "2023-03-31     March  \n",
       "2023-04-07     April  \n",
       "2023-04-14     April  \n",
       "2023-04-21     April  \n",
       "\n",
       "[129 rows x 5 columns]"
      ]
     },
     "execution_count": 11,
     "metadata": {},
     "output_type": "execute_result"
    }
   ],
   "source": [
    "df = dailydemand.loc[dailydemand[\"day\"] == \"Friday\"]\n",
    "df"
   ]
  },
  {
   "cell_type": "code",
   "execution_count": 12,
   "id": "f01fccdf",
   "metadata": {},
   "outputs": [
    {
     "data": {
      "application/vnd.plotly.v1+json": {
       "config": {
        "plotlyServerURL": "https://plot.ly"
       },
       "data": [
        {
         "alignmentgroup": "True",
         "bingroup": "x",
         "hovertemplate": "peak_power_W=%{x}<br>count=%{y}<extra></extra>",
         "legendgroup": "",
         "marker": {
          "color": "#636efa",
          "pattern": {
           "shape": ""
          }
         },
         "name": "",
         "offsetgroup": "",
         "orientation": "v",
         "showlegend": false,
         "type": "histogram",
         "x": [
          0,
          1277,
          0,
          0,
          1482,
          0,
          5561,
          0,
          0,
          6432,
          0,
          6406,
          3767,
          0,
          8403,
          6470,
          6458,
          14221,
          6007,
          6394,
          12551,
          6155,
          9501,
          8846,
          9829,
          6867,
          9194,
          5498,
          6468,
          5620,
          6446,
          9666,
          6422,
          27095,
          12596,
          13096,
          9763,
          12825,
          21006,
          7649,
          16391,
          14427,
          24607,
          23745,
          19697,
          16496,
          37207,
          13201,
          17213,
          30995,
          10785,
          29514,
          20810,
          19991,
          28216,
          6421,
          24965,
          30171,
          22652,
          0,
          6221,
          9922,
          7385,
          14664,
          12807,
          13342,
          14686,
          12173,
          12442,
          12681,
          5817,
          22061,
          10702,
          17747,
          18017,
          4217,
          0,
          3811,
          27265,
          12228,
          12253,
          12136,
          25662,
          13023,
          17301,
          10960,
          18470,
          5273,
          10482,
          8446,
          16748,
          12007,
          12157,
          8947,
          16523,
          11282,
          7108,
          6356,
          0,
          7082,
          12020,
          11472,
          16422,
          6382,
          6345,
          0,
          24546,
          0,
          0,
          14582,
          18505,
          3165,
          0,
          22717,
          19949,
          6107,
          24577,
          12083,
          25092,
          35685,
          18211,
          28177,
          17061,
          22434,
          36628,
          12388,
          19607,
          12860,
          6302
         ],
         "xaxis": "x",
         "yaxis": "y"
        }
       ],
       "layout": {
        "barmode": "relative",
        "legend": {
         "tracegroupgap": 0
        },
        "margin": {
         "t": 60
        },
        "template": {
         "data": {
          "bar": [
           {
            "error_x": {
             "color": "#2a3f5f"
            },
            "error_y": {
             "color": "#2a3f5f"
            },
            "marker": {
             "line": {
              "color": "#E5ECF6",
              "width": 0.5
             },
             "pattern": {
              "fillmode": "overlay",
              "size": 10,
              "solidity": 0.2
             }
            },
            "type": "bar"
           }
          ],
          "barpolar": [
           {
            "marker": {
             "line": {
              "color": "#E5ECF6",
              "width": 0.5
             },
             "pattern": {
              "fillmode": "overlay",
              "size": 10,
              "solidity": 0.2
             }
            },
            "type": "barpolar"
           }
          ],
          "carpet": [
           {
            "aaxis": {
             "endlinecolor": "#2a3f5f",
             "gridcolor": "white",
             "linecolor": "white",
             "minorgridcolor": "white",
             "startlinecolor": "#2a3f5f"
            },
            "baxis": {
             "endlinecolor": "#2a3f5f",
             "gridcolor": "white",
             "linecolor": "white",
             "minorgridcolor": "white",
             "startlinecolor": "#2a3f5f"
            },
            "type": "carpet"
           }
          ],
          "choropleth": [
           {
            "colorbar": {
             "outlinewidth": 0,
             "ticks": ""
            },
            "type": "choropleth"
           }
          ],
          "contour": [
           {
            "colorbar": {
             "outlinewidth": 0,
             "ticks": ""
            },
            "colorscale": [
             [
              0,
              "#0d0887"
             ],
             [
              0.1111111111111111,
              "#46039f"
             ],
             [
              0.2222222222222222,
              "#7201a8"
             ],
             [
              0.3333333333333333,
              "#9c179e"
             ],
             [
              0.4444444444444444,
              "#bd3786"
             ],
             [
              0.5555555555555556,
              "#d8576b"
             ],
             [
              0.6666666666666666,
              "#ed7953"
             ],
             [
              0.7777777777777778,
              "#fb9f3a"
             ],
             [
              0.8888888888888888,
              "#fdca26"
             ],
             [
              1,
              "#f0f921"
             ]
            ],
            "type": "contour"
           }
          ],
          "contourcarpet": [
           {
            "colorbar": {
             "outlinewidth": 0,
             "ticks": ""
            },
            "type": "contourcarpet"
           }
          ],
          "heatmap": [
           {
            "colorbar": {
             "outlinewidth": 0,
             "ticks": ""
            },
            "colorscale": [
             [
              0,
              "#0d0887"
             ],
             [
              0.1111111111111111,
              "#46039f"
             ],
             [
              0.2222222222222222,
              "#7201a8"
             ],
             [
              0.3333333333333333,
              "#9c179e"
             ],
             [
              0.4444444444444444,
              "#bd3786"
             ],
             [
              0.5555555555555556,
              "#d8576b"
             ],
             [
              0.6666666666666666,
              "#ed7953"
             ],
             [
              0.7777777777777778,
              "#fb9f3a"
             ],
             [
              0.8888888888888888,
              "#fdca26"
             ],
             [
              1,
              "#f0f921"
             ]
            ],
            "type": "heatmap"
           }
          ],
          "heatmapgl": [
           {
            "colorbar": {
             "outlinewidth": 0,
             "ticks": ""
            },
            "colorscale": [
             [
              0,
              "#0d0887"
             ],
             [
              0.1111111111111111,
              "#46039f"
             ],
             [
              0.2222222222222222,
              "#7201a8"
             ],
             [
              0.3333333333333333,
              "#9c179e"
             ],
             [
              0.4444444444444444,
              "#bd3786"
             ],
             [
              0.5555555555555556,
              "#d8576b"
             ],
             [
              0.6666666666666666,
              "#ed7953"
             ],
             [
              0.7777777777777778,
              "#fb9f3a"
             ],
             [
              0.8888888888888888,
              "#fdca26"
             ],
             [
              1,
              "#f0f921"
             ]
            ],
            "type": "heatmapgl"
           }
          ],
          "histogram": [
           {
            "marker": {
             "pattern": {
              "fillmode": "overlay",
              "size": 10,
              "solidity": 0.2
             }
            },
            "type": "histogram"
           }
          ],
          "histogram2d": [
           {
            "colorbar": {
             "outlinewidth": 0,
             "ticks": ""
            },
            "colorscale": [
             [
              0,
              "#0d0887"
             ],
             [
              0.1111111111111111,
              "#46039f"
             ],
             [
              0.2222222222222222,
              "#7201a8"
             ],
             [
              0.3333333333333333,
              "#9c179e"
             ],
             [
              0.4444444444444444,
              "#bd3786"
             ],
             [
              0.5555555555555556,
              "#d8576b"
             ],
             [
              0.6666666666666666,
              "#ed7953"
             ],
             [
              0.7777777777777778,
              "#fb9f3a"
             ],
             [
              0.8888888888888888,
              "#fdca26"
             ],
             [
              1,
              "#f0f921"
             ]
            ],
            "type": "histogram2d"
           }
          ],
          "histogram2dcontour": [
           {
            "colorbar": {
             "outlinewidth": 0,
             "ticks": ""
            },
            "colorscale": [
             [
              0,
              "#0d0887"
             ],
             [
              0.1111111111111111,
              "#46039f"
             ],
             [
              0.2222222222222222,
              "#7201a8"
             ],
             [
              0.3333333333333333,
              "#9c179e"
             ],
             [
              0.4444444444444444,
              "#bd3786"
             ],
             [
              0.5555555555555556,
              "#d8576b"
             ],
             [
              0.6666666666666666,
              "#ed7953"
             ],
             [
              0.7777777777777778,
              "#fb9f3a"
             ],
             [
              0.8888888888888888,
              "#fdca26"
             ],
             [
              1,
              "#f0f921"
             ]
            ],
            "type": "histogram2dcontour"
           }
          ],
          "mesh3d": [
           {
            "colorbar": {
             "outlinewidth": 0,
             "ticks": ""
            },
            "type": "mesh3d"
           }
          ],
          "parcoords": [
           {
            "line": {
             "colorbar": {
              "outlinewidth": 0,
              "ticks": ""
             }
            },
            "type": "parcoords"
           }
          ],
          "pie": [
           {
            "automargin": true,
            "type": "pie"
           }
          ],
          "scatter": [
           {
            "fillpattern": {
             "fillmode": "overlay",
             "size": 10,
             "solidity": 0.2
            },
            "type": "scatter"
           }
          ],
          "scatter3d": [
           {
            "line": {
             "colorbar": {
              "outlinewidth": 0,
              "ticks": ""
             }
            },
            "marker": {
             "colorbar": {
              "outlinewidth": 0,
              "ticks": ""
             }
            },
            "type": "scatter3d"
           }
          ],
          "scattercarpet": [
           {
            "marker": {
             "colorbar": {
              "outlinewidth": 0,
              "ticks": ""
             }
            },
            "type": "scattercarpet"
           }
          ],
          "scattergeo": [
           {
            "marker": {
             "colorbar": {
              "outlinewidth": 0,
              "ticks": ""
             }
            },
            "type": "scattergeo"
           }
          ],
          "scattergl": [
           {
            "marker": {
             "colorbar": {
              "outlinewidth": 0,
              "ticks": ""
             }
            },
            "type": "scattergl"
           }
          ],
          "scattermapbox": [
           {
            "marker": {
             "colorbar": {
              "outlinewidth": 0,
              "ticks": ""
             }
            },
            "type": "scattermapbox"
           }
          ],
          "scatterpolar": [
           {
            "marker": {
             "colorbar": {
              "outlinewidth": 0,
              "ticks": ""
             }
            },
            "type": "scatterpolar"
           }
          ],
          "scatterpolargl": [
           {
            "marker": {
             "colorbar": {
              "outlinewidth": 0,
              "ticks": ""
             }
            },
            "type": "scatterpolargl"
           }
          ],
          "scatterternary": [
           {
            "marker": {
             "colorbar": {
              "outlinewidth": 0,
              "ticks": ""
             }
            },
            "type": "scatterternary"
           }
          ],
          "surface": [
           {
            "colorbar": {
             "outlinewidth": 0,
             "ticks": ""
            },
            "colorscale": [
             [
              0,
              "#0d0887"
             ],
             [
              0.1111111111111111,
              "#46039f"
             ],
             [
              0.2222222222222222,
              "#7201a8"
             ],
             [
              0.3333333333333333,
              "#9c179e"
             ],
             [
              0.4444444444444444,
              "#bd3786"
             ],
             [
              0.5555555555555556,
              "#d8576b"
             ],
             [
              0.6666666666666666,
              "#ed7953"
             ],
             [
              0.7777777777777778,
              "#fb9f3a"
             ],
             [
              0.8888888888888888,
              "#fdca26"
             ],
             [
              1,
              "#f0f921"
             ]
            ],
            "type": "surface"
           }
          ],
          "table": [
           {
            "cells": {
             "fill": {
              "color": "#EBF0F8"
             },
             "line": {
              "color": "white"
             }
            },
            "header": {
             "fill": {
              "color": "#C8D4E3"
             },
             "line": {
              "color": "white"
             }
            },
            "type": "table"
           }
          ]
         },
         "layout": {
          "annotationdefaults": {
           "arrowcolor": "#2a3f5f",
           "arrowhead": 0,
           "arrowwidth": 1
          },
          "autotypenumbers": "strict",
          "coloraxis": {
           "colorbar": {
            "outlinewidth": 0,
            "ticks": ""
           }
          },
          "colorscale": {
           "diverging": [
            [
             0,
             "#8e0152"
            ],
            [
             0.1,
             "#c51b7d"
            ],
            [
             0.2,
             "#de77ae"
            ],
            [
             0.3,
             "#f1b6da"
            ],
            [
             0.4,
             "#fde0ef"
            ],
            [
             0.5,
             "#f7f7f7"
            ],
            [
             0.6,
             "#e6f5d0"
            ],
            [
             0.7,
             "#b8e186"
            ],
            [
             0.8,
             "#7fbc41"
            ],
            [
             0.9,
             "#4d9221"
            ],
            [
             1,
             "#276419"
            ]
           ],
           "sequential": [
            [
             0,
             "#0d0887"
            ],
            [
             0.1111111111111111,
             "#46039f"
            ],
            [
             0.2222222222222222,
             "#7201a8"
            ],
            [
             0.3333333333333333,
             "#9c179e"
            ],
            [
             0.4444444444444444,
             "#bd3786"
            ],
            [
             0.5555555555555556,
             "#d8576b"
            ],
            [
             0.6666666666666666,
             "#ed7953"
            ],
            [
             0.7777777777777778,
             "#fb9f3a"
            ],
            [
             0.8888888888888888,
             "#fdca26"
            ],
            [
             1,
             "#f0f921"
            ]
           ],
           "sequentialminus": [
            [
             0,
             "#0d0887"
            ],
            [
             0.1111111111111111,
             "#46039f"
            ],
            [
             0.2222222222222222,
             "#7201a8"
            ],
            [
             0.3333333333333333,
             "#9c179e"
            ],
            [
             0.4444444444444444,
             "#bd3786"
            ],
            [
             0.5555555555555556,
             "#d8576b"
            ],
            [
             0.6666666666666666,
             "#ed7953"
            ],
            [
             0.7777777777777778,
             "#fb9f3a"
            ],
            [
             0.8888888888888888,
             "#fdca26"
            ],
            [
             1,
             "#f0f921"
            ]
           ]
          },
          "colorway": [
           "#636efa",
           "#EF553B",
           "#00cc96",
           "#ab63fa",
           "#FFA15A",
           "#19d3f3",
           "#FF6692",
           "#B6E880",
           "#FF97FF",
           "#FECB52"
          ],
          "font": {
           "color": "#2a3f5f"
          },
          "geo": {
           "bgcolor": "white",
           "lakecolor": "white",
           "landcolor": "#E5ECF6",
           "showlakes": true,
           "showland": true,
           "subunitcolor": "white"
          },
          "hoverlabel": {
           "align": "left"
          },
          "hovermode": "closest",
          "mapbox": {
           "style": "light"
          },
          "paper_bgcolor": "white",
          "plot_bgcolor": "#E5ECF6",
          "polar": {
           "angularaxis": {
            "gridcolor": "white",
            "linecolor": "white",
            "ticks": ""
           },
           "bgcolor": "#E5ECF6",
           "radialaxis": {
            "gridcolor": "white",
            "linecolor": "white",
            "ticks": ""
           }
          },
          "scene": {
           "xaxis": {
            "backgroundcolor": "#E5ECF6",
            "gridcolor": "white",
            "gridwidth": 2,
            "linecolor": "white",
            "showbackground": true,
            "ticks": "",
            "zerolinecolor": "white"
           },
           "yaxis": {
            "backgroundcolor": "#E5ECF6",
            "gridcolor": "white",
            "gridwidth": 2,
            "linecolor": "white",
            "showbackground": true,
            "ticks": "",
            "zerolinecolor": "white"
           },
           "zaxis": {
            "backgroundcolor": "#E5ECF6",
            "gridcolor": "white",
            "gridwidth": 2,
            "linecolor": "white",
            "showbackground": true,
            "ticks": "",
            "zerolinecolor": "white"
           }
          },
          "shapedefaults": {
           "line": {
            "color": "#2a3f5f"
           }
          },
          "ternary": {
           "aaxis": {
            "gridcolor": "white",
            "linecolor": "white",
            "ticks": ""
           },
           "baxis": {
            "gridcolor": "white",
            "linecolor": "white",
            "ticks": ""
           },
           "bgcolor": "#E5ECF6",
           "caxis": {
            "gridcolor": "white",
            "linecolor": "white",
            "ticks": ""
           }
          },
          "title": {
           "x": 0.05
          },
          "xaxis": {
           "automargin": true,
           "gridcolor": "white",
           "linecolor": "white",
           "ticks": "",
           "title": {
            "standoff": 15
           },
           "zerolinecolor": "white",
           "zerolinewidth": 2
          },
          "yaxis": {
           "automargin": true,
           "gridcolor": "white",
           "linecolor": "white",
           "ticks": "",
           "title": {
            "standoff": 15
           },
           "zerolinecolor": "white",
           "zerolinewidth": 2
          }
         }
        },
        "xaxis": {
         "anchor": "y",
         "domain": [
          0,
          1
         ],
         "title": {
          "text": "peak_power_W"
         }
        },
        "yaxis": {
         "anchor": "x",
         "domain": [
          0,
          1
         ],
         "title": {
          "text": "count"
         }
        }
       }
      }
     },
     "metadata": {},
     "output_type": "display_data"
    }
   ],
   "source": [
    "px.histogram(df, x=\"peak_power_W\")"
   ]
  },
  {
   "cell_type": "code",
   "execution_count": null,
   "id": "bacd57bc",
   "metadata": {},
   "outputs": [],
   "source": []
  }
 ],
 "metadata": {
  "kernelspec": {
   "display_name": "base",
   "language": "python",
   "name": "python3"
  },
  "language_info": {
   "codemirror_mode": {
    "name": "ipython",
    "version": 3
   },
   "file_extension": ".py",
   "mimetype": "text/x-python",
   "name": "python",
   "nbconvert_exporter": "python",
   "pygments_lexer": "ipython3",
   "version": "3.9.13"
  },
  "vscode": {
   "interpreter": {
    "hash": "475dd3d8de922d6629668699edf7da91807dd0e731d2ca4abf0ed1b52cb8d54e"
   }
  }
 },
 "nbformat": 4,
 "nbformat_minor": 5
}
