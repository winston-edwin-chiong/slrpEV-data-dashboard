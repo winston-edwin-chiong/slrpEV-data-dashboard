{
 "cells": [
  {
   "cell_type": "code",
   "execution_count": 1,
   "id": "092882a5-2bf2-4b69-ac42-0b7e845850c5",
   "metadata": {},
   "outputs": [],
   "source": [
    "import pandas as pd \n",
    "from sklearn.pipeline import Pipeline\n",
    "import plotly.express as px\n",
    "from sklearn.base import BaseEstimator, TransformerMixin\n",
    "import numpy as np\n",
    "from datetime import datetime\n",
    "\n",
    "pd.set_option(\"display.max_columns\", 100)"
   ]
  },
  {
   "cell_type": "code",
   "execution_count": 2,
   "id": "dea0d6be",
   "metadata": {},
   "outputs": [],
   "source": [
    "import numpy as np\n",
    "import pandas as pd\n",
    "from sklearn.pipeline import Pipeline\n",
    "from sklearn.neighbors import KNeighborsRegressor\n",
    "from sklearn.model_selection import GridSearchCV, train_test_split\n",
    "from sklearn.base import BaseEstimator, TransformerMixin\n",
    "\n",
    "\n",
    "## Main Class\n",
    "class HourlyCrossValidator:\n",
    "\n",
    "    columns = [\"energy_demand_kWh\", \"peak_power_W\"]\n",
    "\n",
    "    def __init__(self, max_neighbors, max_depth):\n",
    "        self.max_neighbors = max_neighbors\n",
    "        self.max_depth = max_depth\n",
    "\n",
    "    def cross_validate(self, df):\n",
    "\n",
    "        best_params = {}\n",
    "\n",
    "        for column in self.columns:\n",
    "            # initalize cross validator, cross validate  \n",
    "            params = kNNCrossValidator(self.max_neighbors, self.max_depth, column).cross_validate_one(df)\n",
    "            best_params[column] = params\n",
    "\n",
    "        best_params[\"avg_power_demand_W\"] = best_params[\"energy_demand_kWh\"] # same data, different units, so same parameters\n",
    "\n",
    "        return best_params\n",
    "    \n",
    "\n",
    "## Helper Class\n",
    "class kNNCrossValidator:\n",
    "\n",
    "    test_size = 0.2\n",
    "\n",
    "    def __init__(self, max_neighbors, max_depth, col_name):\n",
    "        super().__init__()\n",
    "        self.max_neighbors = max_neighbors\n",
    "        self.max_depth = max_depth\n",
    "        self.col_name = col_name\n",
    "\n",
    "\n",
    "    def cross_validate_one(self, df) -> dict:\n",
    "        # create features\n",
    "        df = self.__create_all_lag_features(df)\n",
    "\n",
    "        # create validation pipeline\n",
    "        validation_pipeline = Pipeline([\n",
    "            (\"subset_features\", SubsetLags()),\n",
    "            (\"estimator\", KNeighborsRegressor())\n",
    "        ])\n",
    "\n",
    "        # create parameter grid\n",
    "        params = {\n",
    "            \"estimator__n_neighbors\": np.arange(10, self.max_neighbors+1), # start searching at 10 neighbors\n",
    "            \"subset_features__num_lags\": np.arange(40, self.max_depth+1) # start searching at 40 lags as features\n",
    "        }\n",
    "\n",
    "        # split data into train, validation, and test\n",
    "        X_train_validation, X_train, X_validation, X_test, y_train_validation, y_train, y_validation, y_test = self.__train_test_split(df)\n",
    "\n",
    "        # create grid and iteratively search\n",
    "        grid = GridSearchCV(\n",
    "            estimator=validation_pipeline,\n",
    "            param_grid=params,\n",
    "            scoring=\"neg_mean_squared_error\",\n",
    "            n_jobs=8,\n",
    "            verbose=4,\n",
    "            cv=[(np.arange(0, len(X_train)), np.arange(len(X_train), len(X_train_validation)))]\n",
    "        )\n",
    "        grid.fit(X_train_validation, y_train_validation)\n",
    "\n",
    "        best_params = {\n",
    "            \"best_depth\": grid.best_params_[\"subset_features__num_lags\"],\n",
    "            \"best_n_neighbors\": grid.best_params_[\"estimator__n_neighbors\"]\n",
    "        }\n",
    "\n",
    "        return best_params\n",
    "\n",
    "\n",
    "    def __create_all_lag_features(self, df) -> pd.DataFrame:\n",
    "        # create pipeline, pass data, create features\n",
    "        pipeline = Pipeline([\n",
    "            (\"create_features\", CreateLagFeatures(\n",
    "                self.max_depth, self.col_name))\n",
    "        ])\n",
    "        df_with_features = pipeline.fit_transform(df)\n",
    "\n",
    "        return df_with_features\n",
    "\n",
    "\n",
    "    def __train_test_split(self, df):\n",
    "\n",
    "        # split into train+validation and test\n",
    "        X_train_validation, X_test, y_train_validation, y_test = train_test_split(\n",
    "            df.filter(regex=\"lag\"),  # select only \"lag-\" features\n",
    "            df[[self.col_name]],\n",
    "            test_size=self.test_size,\n",
    "            shuffle=False  # time series split\n",
    "        )\n",
    "\n",
    "        # split into train and validation\n",
    "        X_train, X_validation, y_train, y_validation = train_test_split(\n",
    "            X_train_validation,\n",
    "            y_train_validation,\n",
    "            test_size=0.2,\n",
    "            shuffle=False\n",
    "        )\n",
    "\n",
    "        return X_train_validation, X_train, X_validation, X_test, y_train_validation, y_train, y_validation, y_test\n",
    "\n",
    "\n",
    "\n",
    "## Pipeline Classes\n",
    "class CreateLagFeatures(BaseEstimator, TransformerMixin):\n",
    "\n",
    "    def __init__(self, num_lag_depths, col_name):\n",
    "        super().__init__()\n",
    "        self.num_lags_depths = num_lag_depths\n",
    "        self.col_name = col_name\n",
    "\n",
    "    def fit(self, X, y=None):\n",
    "        return self \n",
    "    \n",
    "    def transform(self, X):\n",
    "        return self.__create_lag_features(X, self.num_lags_depths, self.col_name)\n",
    "    \n",
    "    @staticmethod\n",
    "    def __create_lag_features(df, num_lag_depths, col_name):\n",
    "        df_with_lags = df.copy(deep=True)\n",
    "        for lag_depth in np.arange(1,num_lag_depths+1):\n",
    "            column = df_with_lags[col_name].shift(24*lag_depth)\n",
    "            df_with_lags = pd.concat([df_with_lags, column.rename(\"lag\" + f\"{lag_depth}\")], axis=1)\n",
    "        return df_with_lags.dropna()\n",
    "\n",
    "\n",
    "class SubsetLags(BaseEstimator, TransformerMixin):\n",
    "    \n",
    "    def __init__(self, num_lags=1):\n",
    "        super().__init__()\n",
    "        self.num_lags = num_lags\n",
    "        \n",
    "    def fit(self, X, y=None):\n",
    "        return self\n",
    "    \n",
    "    def transform(self, X):\n",
    "        return self.__select_subset_lags(X, self.num_lags)\n",
    "    \n",
    "    @staticmethod\n",
    "    def __select_subset_lags(df, num_lags):\n",
    "        return df[[f\"lag{depth}\" for depth in np.arange(1, num_lags+1)]]\n",
    "\n",
    "\n",
    "import pandas as pd\n",
    "from sklearn.model_selection import train_test_split\n",
    "import pmdarima as pm\n",
    "\n",
    "\n",
    "# Main Class\n",
    "class DailyCrossValidator:\n",
    "\n",
    "    columns = [\"energy_demand_kWh\", \"peak_power_W\"]\n",
    "\n",
    "    @classmethod\n",
    "    def cross_validate(cls, df):\n",
    "\n",
    "        best_params = {}\n",
    "\n",
    "        for column in cls.columns:\n",
    "            # initalize cross validator, cross validate\n",
    "            params = SARIMACrossValidator(column).cross_validate_one(df)\n",
    "            best_params[column] = params\n",
    "\n",
    "        # same data, different units, so same parameters\n",
    "        best_params[\"avg_power_demand_W\"] = best_params[\"energy_demand_kWh\"]\n",
    "\n",
    "        return best_params\n",
    "\n",
    "\n",
    "# Helper Class\n",
    "class SARIMACrossValidator:\n",
    "\n",
    "    test_size = 0.2\n",
    "\n",
    "    def __init__(self, col_name):\n",
    "        super().__init__()\n",
    "        self.col_name = col_name\n",
    "\n",
    "    def cross_validate_one(self, df: pd.DataFrame):\n",
    "\n",
    "        X_train, X_test, y_train, y_test = self.__train_test_split(df)\n",
    "\n",
    "        stepwise_fit = pm.auto_arima(y_train,\n",
    "                                     start_p=0, start_q=0,\n",
    "                                     max_p=3, max_q=3, max_Q=3, max_P=3,\n",
    "                                     d=0, D=1, m=7,\n",
    "                                     X=None,\n",
    "                                     seasonal=True, trace=True, stepwise=True)\n",
    "\n",
    "        return stepwise_fit\n",
    "\n",
    "    def __train_test_split(self, df: pd.DataFrame):\n",
    "        # take only needed column \n",
    "        df = df[[self.col_name]]\n",
    "        \n",
    "        X_train, X_test, y_train, y_test = train_test_split(\n",
    "            df.drop(columns=[self.col_name]),\n",
    "            df[[self.col_name]],\n",
    "            test_size=self.test_size,\n",
    "            shuffle=False\n",
    "        )\n",
    "\n",
    "        return X_train, X_test, y_train, y_test\n",
    "\n",
    "\n",
    "import pandas as pd\n",
    "import statsmodels.api as sm \n",
    "\n",
    "class CreateDailyForecasts:\n",
    "\n",
    "    columns = [\"avg_power_demand_W\", \"energy_demand_kWh\", \"peak_power_W\"]\n",
    "\n",
    "    def __init__():\n",
    "        pass \n",
    "    \n",
    "    @classmethod\n",
    "    def run_daily_forecast(cls, df, best_params: dict):\n",
    "\n",
    "        existing_forecasts = pd.read_csv(\"forecastdata/dailyforecasts.csv\", index_col=\"time\", parse_dates=True)\n",
    "        new_forecasts = pd.DataFrame()\n",
    "\n",
    "        for column in cls.columns:\n",
    "            \n",
    "            # train on ALL available data\n",
    "            train = df[[column]].copy() \n",
    "            # create ARIMA model \n",
    "            best_model_arima = sm.tsa.arima.ARIMA(train, order=(1,0,0), seasonal_order=(1,1,1,7)).fit()\n",
    "            # forecast on day ahead, convert to a dataframe\n",
    "            one_column_forecast = best_model_arima.forecast()\n",
    "            one_column_forecast = pd.DataFrame(one_column_forecast, columns=[column+'_predictions']) \n",
    "            new_forecasts = pd.concat([new_forecasts, one_column_forecast], axis=1)\n",
    "\n",
    "        # append new forecasts existing set of forecasts\n",
    "        forecasts = pd.concat([existing_forecasts, new_forecasts], axis=0)\n",
    "\n",
    "        return forecasts\n",
    "\n",
    "    \n",
    "    @staticmethod\n",
    "    def save_empty_prediction_df():\n",
    "        empty_df = pd.DataFrame(columns=[\"avg_power_demand_W_predictions\", \"energy_demand_kWh_predictions\", \"peak_power_W_predictions\"], index=pd.Index([], name=\"time\"))\n",
    "        empty_df.to_csv(\"forecastdata/dailyforecasts.csv\")\n",
    "        return empty_df\n"
   ]
  },
  {
   "cell_type": "code",
   "execution_count": 2,
   "id": "3c08b048",
   "metadata": {},
   "outputs": [],
   "source": [
    "hourlydemand = pd.read_csv(\"data/hourlydemand.csv\", index_col=\"time\", parse_dates=True)\n",
    "dailydemand = pd.read_csv(\"data/dailydemand.csv\", index_col=\"time\", parse_dates=True)"
   ]
  },
  {
   "cell_type": "code",
   "execution_count": 9,
   "id": "9ca4a98b",
   "metadata": {},
   "outputs": [
    {
     "data": {
      "text/plain": [
       "{'energy_demand_kWh': {'order': (2, 0, 1), 'seasonal_order': (0, 1, 2, 7)},\n",
       " 'peak_power_W': {'order': (1, 0, 0), 'seasonal_order': (0, 1, 2, 7)},\n",
       " 'avg_power_demand_W': {'order': (2, 0, 1), 'seasonal_order': (0, 1, 2, 7)}}"
      ]
     },
     "execution_count": 9,
     "metadata": {},
     "output_type": "execute_result"
    }
   ],
   "source": [
    "{'energy_demand_kWh': {\"order\":(2, 0, 1), \"seasonal_order\":(0, 1, 2, 7)},\n",
    " 'peak_power_W': {\"order\":(1, 0, 0), \"seasonal_order\":(0, 1, 2, 7)},\n",
    " 'avg_power_demand_W': {\"order\":(2, 0, 1), \"seasonal_order\":(0, 1, 2, 7)}\n",
    "}"
   ]
  },
  {
   "cell_type": "code",
   "execution_count": 10,
   "id": "e719b537",
   "metadata": {},
   "outputs": [
    {
     "data": {
      "text/plain": [
       "{'energy_demand_kWh': {'best_depth': 57, 'best_n_neighbors': 25},\n",
       " 'peak_power_W': {'best_depth': 57, 'best_n_neighbors': 23},\n",
       " 'avg_power_demand_W': {'best_depth': 57, 'best_n_neighbors': 25}}"
      ]
     },
     "execution_count": 10,
     "metadata": {},
     "output_type": "execute_result"
    }
   ],
   "source": [
    "{'energy_demand_kWh': {'best_depth': 57, 'best_n_neighbors': 25},\n",
    " 'peak_power_W': {'best_depth': 57, 'best_n_neighbors': 23},\n",
    " 'avg_power_demand_W': {'best_depth': 57, 'best_n_neighbors': 25}}"
   ]
  },
  {
   "cell_type": "code",
   "execution_count": 11,
   "id": "cd703b4f",
   "metadata": {},
   "outputs": [
    {
     "data": {
      "text/html": [
       "<div>\n",
       "<style scoped>\n",
       "    .dataframe tbody tr th:only-of-type {\n",
       "        vertical-align: middle;\n",
       "    }\n",
       "\n",
       "    .dataframe tbody tr th {\n",
       "        vertical-align: top;\n",
       "    }\n",
       "\n",
       "    .dataframe thead th {\n",
       "        text-align: right;\n",
       "    }\n",
       "</style>\n",
       "<table border=\"1\" class=\"dataframe\">\n",
       "  <thead>\n",
       "    <tr style=\"text-align: right;\">\n",
       "      <th></th>\n",
       "      <th>avg_power_demand_W</th>\n",
       "      <th>energy_demand_kWh</th>\n",
       "      <th>peak_power_W</th>\n",
       "      <th>day</th>\n",
       "      <th>month</th>\n",
       "    </tr>\n",
       "    <tr>\n",
       "      <th>time</th>\n",
       "      <th></th>\n",
       "      <th></th>\n",
       "      <th></th>\n",
       "      <th></th>\n",
       "      <th></th>\n",
       "    </tr>\n",
       "  </thead>\n",
       "  <tbody>\n",
       "    <tr>\n",
       "      <th>2020-11-06</th>\n",
       "      <td>0.000000</td>\n",
       "      <td>0.000000</td>\n",
       "      <td>0.0</td>\n",
       "      <td>Friday</td>\n",
       "      <td>November</td>\n",
       "    </tr>\n",
       "    <tr>\n",
       "      <th>2020-11-13</th>\n",
       "      <td>407.930556</td>\n",
       "      <td>9.790333</td>\n",
       "      <td>1277.0</td>\n",
       "      <td>Friday</td>\n",
       "      <td>November</td>\n",
       "    </tr>\n",
       "    <tr>\n",
       "      <th>2020-11-20</th>\n",
       "      <td>0.000000</td>\n",
       "      <td>0.000000</td>\n",
       "      <td>0.0</td>\n",
       "      <td>Friday</td>\n",
       "      <td>November</td>\n",
       "    </tr>\n",
       "    <tr>\n",
       "      <th>2020-11-27</th>\n",
       "      <td>0.000000</td>\n",
       "      <td>0.000000</td>\n",
       "      <td>0.0</td>\n",
       "      <td>Friday</td>\n",
       "      <td>November</td>\n",
       "    </tr>\n",
       "    <tr>\n",
       "      <th>2020-12-04</th>\n",
       "      <td>586.625000</td>\n",
       "      <td>14.079000</td>\n",
       "      <td>1482.0</td>\n",
       "      <td>Friday</td>\n",
       "      <td>December</td>\n",
       "    </tr>\n",
       "    <tr>\n",
       "      <th>...</th>\n",
       "      <td>...</td>\n",
       "      <td>...</td>\n",
       "      <td>...</td>\n",
       "      <td>...</td>\n",
       "      <td>...</td>\n",
       "    </tr>\n",
       "    <tr>\n",
       "      <th>2023-03-24</th>\n",
       "      <td>8251.256944</td>\n",
       "      <td>198.030167</td>\n",
       "      <td>36628.0</td>\n",
       "      <td>Friday</td>\n",
       "      <td>March</td>\n",
       "    </tr>\n",
       "    <tr>\n",
       "      <th>2023-03-31</th>\n",
       "      <td>751.975694</td>\n",
       "      <td>18.047417</td>\n",
       "      <td>12388.0</td>\n",
       "      <td>Friday</td>\n",
       "      <td>March</td>\n",
       "    </tr>\n",
       "    <tr>\n",
       "      <th>2023-04-07</th>\n",
       "      <td>6193.690972</td>\n",
       "      <td>148.648583</td>\n",
       "      <td>19607.0</td>\n",
       "      <td>Friday</td>\n",
       "      <td>April</td>\n",
       "    </tr>\n",
       "    <tr>\n",
       "      <th>2023-04-14</th>\n",
       "      <td>5319.187500</td>\n",
       "      <td>127.660500</td>\n",
       "      <td>12860.0</td>\n",
       "      <td>Friday</td>\n",
       "      <td>April</td>\n",
       "    </tr>\n",
       "    <tr>\n",
       "      <th>2023-04-21</th>\n",
       "      <td>2080.291667</td>\n",
       "      <td>49.927000</td>\n",
       "      <td>6302.0</td>\n",
       "      <td>Friday</td>\n",
       "      <td>April</td>\n",
       "    </tr>\n",
       "  </tbody>\n",
       "</table>\n",
       "<p>129 rows × 5 columns</p>\n",
       "</div>"
      ],
      "text/plain": [
       "            avg_power_demand_W  energy_demand_kWh  peak_power_W     day  \\\n",
       "time                                                                      \n",
       "2020-11-06            0.000000           0.000000           0.0  Friday   \n",
       "2020-11-13          407.930556           9.790333        1277.0  Friday   \n",
       "2020-11-20            0.000000           0.000000           0.0  Friday   \n",
       "2020-11-27            0.000000           0.000000           0.0  Friday   \n",
       "2020-12-04          586.625000          14.079000        1482.0  Friday   \n",
       "...                        ...                ...           ...     ...   \n",
       "2023-03-24         8251.256944         198.030167       36628.0  Friday   \n",
       "2023-03-31          751.975694          18.047417       12388.0  Friday   \n",
       "2023-04-07         6193.690972         148.648583       19607.0  Friday   \n",
       "2023-04-14         5319.187500         127.660500       12860.0  Friday   \n",
       "2023-04-21         2080.291667          49.927000        6302.0  Friday   \n",
       "\n",
       "               month  \n",
       "time                  \n",
       "2020-11-06  November  \n",
       "2020-11-13  November  \n",
       "2020-11-20  November  \n",
       "2020-11-27  November  \n",
       "2020-12-04  December  \n",
       "...              ...  \n",
       "2023-03-24     March  \n",
       "2023-03-31     March  \n",
       "2023-04-07     April  \n",
       "2023-04-14     April  \n",
       "2023-04-21     April  \n",
       "\n",
       "[129 rows x 5 columns]"
      ]
     },
     "execution_count": 11,
     "metadata": {},
     "output_type": "execute_result"
    }
   ],
   "source": [
    "df = dailydemand.loc[dailydemand[\"day\"] == \"Friday\"]\n",
    "df"
   ]
  },
  {
   "cell_type": "code",
   "execution_count": 12,
   "id": "f01fccdf",
   "metadata": {},
   "outputs": [
    {
     "data": {
      "application/vnd.plotly.v1+json": {
       "config": {
        "plotlyServerURL": "https://plot.ly"
       },
       "data": [
        {
         "alignmentgroup": "True",
         "bingroup": "x",
         "hovertemplate": "peak_power_W=%{x}<br>count=%{y}<extra></extra>",
         "legendgroup": "",
         "marker": {
          "color": "#636efa",
          "pattern": {
           "shape": ""
          }
         },
         "name": "",
         "offsetgroup": "",
         "orientation": "v",
         "showlegend": false,
         "type": "histogram",
         "x": [
          0,
          1277,
          0,
          0,
          1482,
          0,
          5561,
          0,
          0,
          6432,
          0,
          6406,
          3767,
          0,
          8403,
          6470,
          6458,
          14221,
          6007,
          6394,
          12551,
          6155,
          9501,
          8846,
          9829,
          6867,
          9194,
          5498,
          6468,
          5620,
          6446,
          9666,
          6422,
          27095,
          12596,
          13096,
          9763,
          12825,
          21006,
          7649,
          16391,
          14427,
          24607,
          23745,
          19697,
          16496,
          37207,
          13201,
          17213,
          30995,
          10785,
          29514,
          20810,
          19991,
          28216,
          6421,
          24965,
          30171,
          22652,
          0,
          6221,
          9922,
          7385,
          14664,
          12807,
          13342,
          14686,
          12173,
          12442,
          12681,
          5817,
          22061,
          10702,
          17747,
          18017,
          4217,
          0,
          3811,
          27265,
          12228,
          12253,
          12136,
          25662,
          13023,
          17301,
          10960,
          18470,
          5273,
          10482,
          8446,
          16748,
          12007,
          12157,
          8947,
          16523,
          11282,
          7108,
          6356,
          0,
          7082,
          12020,
          11472,
          16422,
          6382,
          6345,
          0,
          24546,
          0,
          0,
          14582,
          18505,
          3165,
          0,
          22717,
          19949,
          6107,
          24577,
          12083,
          25092,
          35685,
          18211,
          28177,
          17061,
          22434,
          36628,
          12388,
          19607,
          12860,
          6302
         ],
         "xaxis": "x",
         "yaxis": "y"
        }
       ],
       "layout": {
        "barmode": "relative",
        "legend": {
         "tracegroupgap": 0
        },
        "margin": {
         "t": 60
        },
        "template": {
         "data": {
          "bar": [
           {
            "error_x": {
             "color": "#2a3f5f"
            },
            "error_y": {
             "color": "#2a3f5f"
            },
            "marker": {
             "line": {
              "color": "#E5ECF6",
              "width": 0.5
             },
             "pattern": {
              "fillmode": "overlay",
              "size": 10,
              "solidity": 0.2
             }
            },
            "type": "bar"
           }
          ],
          "barpolar": [
           {
            "marker": {
             "line": {
              "color": "#E5ECF6",
              "width": 0.5
             },
             "pattern": {
              "fillmode": "overlay",
              "size": 10,
              "solidity": 0.2
             }
            },
            "type": "barpolar"
           }
          ],
          "carpet": [
           {
            "aaxis": {
             "endlinecolor": "#2a3f5f",
             "gridcolor": "white",
             "linecolor": "white",
             "minorgridcolor": "white",
             "startlinecolor": "#2a3f5f"
            },
            "baxis": {
             "endlinecolor": "#2a3f5f",
             "gridcolor": "white",
             "linecolor": "white",
             "minorgridcolor": "white",
             "startlinecolor": "#2a3f5f"
            },
            "type": "carpet"
           }
          ],
          "choropleth": [
           {
            "colorbar": {
             "outlinewidth": 0,
             "ticks": ""
            },
            "type": "choropleth"
           }
          ],
          "contour": [
           {
            "colorbar": {
             "outlinewidth": 0,
             "ticks": ""
            },
            "colorscale": [
             [
              0,
              "#0d0887"
             ],
             [
              0.1111111111111111,
              "#46039f"
             ],
             [
              0.2222222222222222,
              "#7201a8"
             ],
             [
              0.3333333333333333,
              "#9c179e"
             ],
             [
              0.4444444444444444,
              "#bd3786"
             ],
             [
              0.5555555555555556,
              "#d8576b"
             ],
             [
              0.6666666666666666,
              "#ed7953"
             ],
             [
              0.7777777777777778,
              "#fb9f3a"
             ],
             [
              0.8888888888888888,
              "#fdca26"
             ],
             [
              1,
              "#f0f921"
             ]
            ],
            "type": "contour"
           }
          ],
          "contourcarpet": [
           {
            "colorbar": {
             "outlinewidth": 0,
             "ticks": ""
            },
            "type": "contourcarpet"
           }
          ],
          "heatmap": [
           {
            "colorbar": {
             "outlinewidth": 0,
             "ticks": ""
            },
            "colorscale": [
             [
              0,
              "#0d0887"
             ],
             [
              0.1111111111111111,
              "#46039f"
             ],
             [
              0.2222222222222222,
              "#7201a8"
             ],
             [
              0.3333333333333333,
              "#9c179e"
             ],
             [
              0.4444444444444444,
              "#bd3786"
             ],
             [
              0.5555555555555556,
              "#d8576b"
             ],
             [
              0.6666666666666666,
              "#ed7953"
             ],
             [
              0.7777777777777778,
              "#fb9f3a"
             ],
             [
              0.8888888888888888,
              "#fdca26"
             ],
             [
              1,
              "#f0f921"
             ]
            ],
            "type": "heatmap"
           }
          ],
          "heatmapgl": [
           {
            "colorbar": {
             "outlinewidth": 0,
             "ticks": ""
            },
            "colorscale": [
             [
              0,
              "#0d0887"
             ],
             [
              0.1111111111111111,
              "#46039f"
             ],
             [
              0.2222222222222222,
              "#7201a8"
             ],
             [
              0.3333333333333333,
              "#9c179e"
             ],
             [
              0.4444444444444444,
              "#bd3786"
             ],
             [
              0.5555555555555556,
              "#d8576b"
             ],
             [
              0.6666666666666666,
              "#ed7953"
             ],
             [
              0.7777777777777778,
              "#fb9f3a"
             ],
             [
              0.8888888888888888,
              "#fdca26"
             ],
             [
              1,
              "#f0f921"
             ]
            ],
            "type": "heatmapgl"
           }
          ],
          "histogram": [
           {
            "marker": {
             "pattern": {
              "fillmode": "overlay",
              "size": 10,
              "solidity": 0.2
             }
            },
            "type": "histogram"
           }
          ],
          "histogram2d": [
           {
            "colorbar": {
             "outlinewidth": 0,
             "ticks": ""
            },
            "colorscale": [
             [
              0,
              "#0d0887"
             ],
             [
              0.1111111111111111,
              "#46039f"
             ],
             [
              0.2222222222222222,
              "#7201a8"
             ],
             [
              0.3333333333333333,
              "#9c179e"
             ],
             [
              0.4444444444444444,
              "#bd3786"
             ],
             [
              0.5555555555555556,
              "#d8576b"
             ],
             [
              0.6666666666666666,
              "#ed7953"
             ],
             [
              0.7777777777777778,
              "#fb9f3a"
             ],
             [
              0.8888888888888888,
              "#fdca26"
             ],
             [
              1,
              "#f0f921"
             ]
            ],
            "type": "histogram2d"
           }
          ],
          "histogram2dcontour": [
           {
            "colorbar": {
             "outlinewidth": 0,
             "ticks": ""
            },
            "colorscale": [
             [
              0,
              "#0d0887"
             ],
             [
              0.1111111111111111,
              "#46039f"
             ],
             [
              0.2222222222222222,
              "#7201a8"
             ],
             [
              0.3333333333333333,
              "#9c179e"
             ],
             [
              0.4444444444444444,
              "#bd3786"
             ],
             [
              0.5555555555555556,
              "#d8576b"
             ],
             [
              0.6666666666666666,
              "#ed7953"
             ],
             [
              0.7777777777777778,
              "#fb9f3a"
             ],
             [
              0.8888888888888888,
              "#fdca26"
             ],
             [
              1,
              "#f0f921"
             ]
            ],
            "type": "histogram2dcontour"
           }
          ],
          "mesh3d": [
           {
            "colorbar": {
             "outlinewidth": 0,
             "ticks": ""
            },
            "type": "mesh3d"
           }
          ],
          "parcoords": [
           {
            "line": {
             "colorbar": {
              "outlinewidth": 0,
              "ticks": ""
             }
            },
            "type": "parcoords"
           }
          ],
          "pie": [
           {
            "automargin": true,
            "type": "pie"
           }
          ],
          "scatter": [
           {
            "fillpattern": {
             "fillmode": "overlay",
             "size": 10,
             "solidity": 0.2
            },
            "type": "scatter"
           }
          ],
          "scatter3d": [
           {
            "line": {
             "colorbar": {
              "outlinewidth": 0,
              "ticks": ""
             }
            },
            "marker": {
             "colorbar": {
              "outlinewidth": 0,
              "ticks": ""
             }
            },
            "type": "scatter3d"
           }
          ],
          "scattercarpet": [
           {
            "marker": {
             "colorbar": {
              "outlinewidth": 0,
              "ticks": ""
             }
            },
            "type": "scattercarpet"
           }
          ],
          "scattergeo": [
           {
            "marker": {
             "colorbar": {
              "outlinewidth": 0,
              "ticks": ""
             }
            },
            "type": "scattergeo"
           }
          ],
          "scattergl": [
           {
            "marker": {
             "colorbar": {
              "outlinewidth": 0,
              "ticks": ""
             }
            },
            "type": "scattergl"
           }
          ],
          "scattermapbox": [
           {
            "marker": {
             "colorbar": {
              "outlinewidth": 0,
              "ticks": ""
             }
            },
            "type": "scattermapbox"
           }
          ],
          "scatterpolar": [
           {
            "marker": {
             "colorbar": {
              "outlinewidth": 0,
              "ticks": ""
             }
            },
            "type": "scatterpolar"
           }
          ],
          "scatterpolargl": [
           {
            "marker": {
             "colorbar": {
              "outlinewidth": 0,
              "ticks": ""
             }
            },
            "type": "scatterpolargl"
           }
          ],
          "scatterternary": [
           {
            "marker": {
             "colorbar": {
              "outlinewidth": 0,
              "ticks": ""
             }
            },
            "type": "scatterternary"
           }
          ],
          "surface": [
           {
            "colorbar": {
             "outlinewidth": 0,
             "ticks": ""
            },
            "colorscale": [
             [
              0,
              "#0d0887"
             ],
             [
              0.1111111111111111,
              "#46039f"
             ],
             [
              0.2222222222222222,
              "#7201a8"
             ],
             [
              0.3333333333333333,
              "#9c179e"
             ],
             [
              0.4444444444444444,
              "#bd3786"
             ],
             [
              0.5555555555555556,
              "#d8576b"
             ],
             [
              0.6666666666666666,
              "#ed7953"
             ],
             [
              0.7777777777777778,
              "#fb9f3a"
             ],
             [
              0.8888888888888888,
              "#fdca26"
             ],
             [
              1,
              "#f0f921"
             ]
            ],
            "type": "surface"
           }
          ],
          "table": [
           {
            "cells": {
             "fill": {
              "color": "#EBF0F8"
             },
             "line": {
              "color": "white"
             }
            },
            "header": {
             "fill": {
              "color": "#C8D4E3"
             },
             "line": {
              "color": "white"
             }
            },
            "type": "table"
           }
          ]
         },
         "layout": {
          "annotationdefaults": {
           "arrowcolor": "#2a3f5f",
           "arrowhead": 0,
           "arrowwidth": 1
          },
          "autotypenumbers": "strict",
          "coloraxis": {
           "colorbar": {
            "outlinewidth": 0,
            "ticks": ""
           }
          },
          "colorscale": {
           "diverging": [
            [
             0,
             "#8e0152"
            ],
            [
             0.1,
             "#c51b7d"
            ],
            [
             0.2,
             "#de77ae"
            ],
            [
             0.3,
             "#f1b6da"
            ],
            [
             0.4,
             "#fde0ef"
            ],
            [
             0.5,
             "#f7f7f7"
            ],
            [
             0.6,
             "#e6f5d0"
            ],
            [
             0.7,
             "#b8e186"
            ],
            [
             0.8,
             "#7fbc41"
            ],
            [
             0.9,
             "#4d9221"
            ],
            [
             1,
             "#276419"
            ]
           ],
           "sequential": [
            [
             0,
             "#0d0887"
            ],
            [
             0.1111111111111111,
             "#46039f"
            ],
            [
             0.2222222222222222,
             "#7201a8"
            ],
            [
             0.3333333333333333,
             "#9c179e"
            ],
            [
             0.4444444444444444,
             "#bd3786"
            ],
            [
             0.5555555555555556,
             "#d8576b"
            ],
            [
             0.6666666666666666,
             "#ed7953"
            ],
            [
             0.7777777777777778,
             "#fb9f3a"
            ],
            [
             0.8888888888888888,
             "#fdca26"
            ],
            [
             1,
             "#f0f921"
            ]
           ],
           "sequentialminus": [
            [
             0,
             "#0d0887"
            ],
            [
             0.1111111111111111,
             "#46039f"
            ],
            [
             0.2222222222222222,
             "#7201a8"
            ],
            [
             0.3333333333333333,
             "#9c179e"
            ],
            [
             0.4444444444444444,
             "#bd3786"
            ],
            [
             0.5555555555555556,
             "#d8576b"
            ],
            [
             0.6666666666666666,
             "#ed7953"
            ],
            [
             0.7777777777777778,
             "#fb9f3a"
            ],
            [
             0.8888888888888888,
             "#fdca26"
            ],
            [
             1,
             "#f0f921"
            ]
           ]
          },
          "colorway": [
           "#636efa",
           "#EF553B",
           "#00cc96",
           "#ab63fa",
           "#FFA15A",
           "#19d3f3",
           "#FF6692",
           "#B6E880",
           "#FF97FF",
           "#FECB52"
          ],
          "font": {
           "color": "#2a3f5f"
          },
          "geo": {
           "bgcolor": "white",
           "lakecolor": "white",
           "landcolor": "#E5ECF6",
           "showlakes": true,
           "showland": true,
           "subunitcolor": "white"
          },
          "hoverlabel": {
           "align": "left"
          },
          "hovermode": "closest",
          "mapbox": {
           "style": "light"
          },
          "paper_bgcolor": "white",
          "plot_bgcolor": "#E5ECF6",
          "polar": {
           "angularaxis": {
            "gridcolor": "white",
            "linecolor": "white",
            "ticks": ""
           },
           "bgcolor": "#E5ECF6",
           "radialaxis": {
            "gridcolor": "white",
            "linecolor": "white",
            "ticks": ""
           }
          },
          "scene": {
           "xaxis": {
            "backgroundcolor": "#E5ECF6",
            "gridcolor": "white",
            "gridwidth": 2,
            "linecolor": "white",
            "showbackground": true,
            "ticks": "",
            "zerolinecolor": "white"
           },
           "yaxis": {
            "backgroundcolor": "#E5ECF6",
            "gridcolor": "white",
            "gridwidth": 2,
            "linecolor": "white",
            "showbackground": true,
            "ticks": "",
            "zerolinecolor": "white"
           },
           "zaxis": {
            "backgroundcolor": "#E5ECF6",
            "gridcolor": "white",
            "gridwidth": 2,
            "linecolor": "white",
            "showbackground": true,
            "ticks": "",
            "zerolinecolor": "white"
           }
          },
          "shapedefaults": {
           "line": {
            "color": "#2a3f5f"
           }
          },
          "ternary": {
           "aaxis": {
            "gridcolor": "white",
            "linecolor": "white",
            "ticks": ""
           },
           "baxis": {
            "gridcolor": "white",
            "linecolor": "white",
            "ticks": ""
           },
           "bgcolor": "#E5ECF6",
           "caxis": {
            "gridcolor": "white",
            "linecolor": "white",
            "ticks": ""
           }
          },
          "title": {
           "x": 0.05
          },
          "xaxis": {
           "automargin": true,
           "gridcolor": "white",
           "linecolor": "white",
           "ticks": "",
           "title": {
            "standoff": 15
           },
           "zerolinecolor": "white",
           "zerolinewidth": 2
          },
          "yaxis": {
           "automargin": true,
           "gridcolor": "white",
           "linecolor": "white",
           "ticks": "",
           "title": {
            "standoff": 15
           },
           "zerolinecolor": "white",
           "zerolinewidth": 2
          }
         }
        },
        "xaxis": {
         "anchor": "y",
         "domain": [
          0,
          1
         ],
         "title": {
          "text": "peak_power_W"
         }
        },
        "yaxis": {
         "anchor": "x",
         "domain": [
          0,
          1
         ],
         "title": {
          "text": "count"
         }
        }
       }
      }
     },
     "metadata": {},
     "output_type": "display_data"
    }
   ],
   "source": [
    "px.histogram(df, x=\"peak_power_W\")"
   ]
  },
  {
   "cell_type": "code",
   "execution_count": null,
   "id": "bacd57bc",
   "metadata": {},
   "outputs": [],
   "source": []
  }
 ],
 "metadata": {
  "kernelspec": {
   "display_name": "base",
   "language": "python",
   "name": "python3"
  },
  "language_info": {
   "codemirror_mode": {
    "name": "ipython",
    "version": 3
   },
   "file_extension": ".py",
   "mimetype": "text/x-python",
   "name": "python",
   "nbconvert_exporter": "python",
   "pygments_lexer": "ipython3",
   "version": "3.9.13"
  },
  "vscode": {
   "interpreter": {
    "hash": "475dd3d8de922d6629668699edf7da91807dd0e731d2ca4abf0ed1b52cb8d54e"
   }
  }
 },
 "nbformat": 4,
 "nbformat_minor": 5
}
