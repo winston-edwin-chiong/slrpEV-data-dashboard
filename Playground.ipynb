{
 "cells": [
  {
   "cell_type": "code",
   "execution_count": 4,
   "id": "092882a5-2bf2-4b69-ac42-0b7e845850c5",
   "metadata": {},
   "outputs": [],
   "source": [
    "import pandas as pd \n",
    "from sklearn.pipeline import Pipeline\n",
    "import plotly.express as px\n",
    "from sklearn.base import BaseEstimator, TransformerMixin\n",
    "import numpy as np\n",
    "from datetime import datetime, timedelta\n",
    "\n",
    "pd.set_option(\"display.max_columns\", 100)"
   ]
  },
  {
   "cell_type": "code",
   "execution_count": 35,
   "id": "dea0d6be",
   "metadata": {},
   "outputs": [],
   "source": [
    "import numpy as np\n",
    "import pandas as pd\n",
    "from sklearn.pipeline import Pipeline\n",
    "from sklearn.neighbors import KNeighborsRegressor\n",
    "from sklearn.model_selection import GridSearchCV, train_test_split\n",
    "from sklearn.base import BaseEstimator, TransformerMixin\n",
    "\n",
    "\n",
    "## Main Class\n",
    "class HourlyCrossValidator:\n",
    "\n",
    "    columns = [\"energy_demand_kWh\", \"peak_power_W\"]\n",
    "\n",
    "    def __init__(self, max_neighbors, max_depth):\n",
    "        self.max_neighbors = max_neighbors\n",
    "        self.max_depth = max_depth\n",
    "\n",
    "    def cross_validate(self, df):\n",
    "\n",
    "        best_params = {}\n",
    "\n",
    "        for column in self.columns:\n",
    "            # initalize cross validator, cross validate  \n",
    "            params = kNNCrossValidator(self.max_neighbors, self.max_depth, column).cross_validate_one(df)\n",
    "            best_params[column] = params\n",
    "\n",
    "        best_params[\"avg_power_demand_W\"] = best_params[\"energy_demand_kWh\"] # same data, different units, so same parameters\n",
    "\n",
    "        return best_params\n",
    "    \n",
    "\n",
    "## Helper Class\n",
    "class kNNCrossValidator:\n",
    "\n",
    "    test_size = 0.2\n",
    "\n",
    "    def __init__(self, max_neighbors, max_depth, col_name):\n",
    "        super().__init__()\n",
    "        self.max_neighbors = max_neighbors\n",
    "        self.max_depth = max_depth\n",
    "        self.col_name = col_name\n",
    "\n",
    "\n",
    "    def cross_validate_one(self, df) -> dict:\n",
    "        # create features\n",
    "        df = self.__create_all_lag_features(df)\n",
    "\n",
    "        # create validation pipeline\n",
    "        validation_pipeline = Pipeline([\n",
    "            (\"subset_features\", SubsetLags()),\n",
    "            (\"estimator\", KNeighborsRegressor())\n",
    "        ])\n",
    "\n",
    "        # create parameter grid\n",
    "        params = {\n",
    "            \"estimator__n_neighbors\": np.arange(10, self.max_neighbors+1), # start searching at 10 neighbors\n",
    "            \"subset_features__num_lags\": np.arange(40, self.max_depth+1) # start searching at 40 lags as features\n",
    "        }\n",
    "\n",
    "        # split data into train, validation, and test\n",
    "        X_train_validation, X_train, X_validation, X_test, y_train_validation, y_train, y_validation, y_test = self.__train_test_split(df)\n",
    "\n",
    "        # create grid and iteratively search\n",
    "        grid = GridSearchCV(\n",
    "            estimator=validation_pipeline,\n",
    "            param_grid=params,\n",
    "            scoring=\"neg_mean_squared_error\",\n",
    "            n_jobs=8,\n",
    "            verbose=4,\n",
    "            cv=[(np.arange(0, len(X_train)), np.arange(len(X_train), len(X_train_validation)))]\n",
    "        )\n",
    "        grid.fit(X_train_validation, y_train_validation)\n",
    "\n",
    "        best_params = {\n",
    "            \"best_depth\": grid.best_params_[\"subset_features__num_lags\"],\n",
    "            \"best_n_neighbors\": grid.best_params_[\"estimator__n_neighbors\"]\n",
    "        }\n",
    "\n",
    "        return best_params\n",
    "\n",
    "\n",
    "    def __create_all_lag_features(self, df) -> pd.DataFrame:\n",
    "        # create pipeline, pass data, create features\n",
    "        pipeline = Pipeline([\n",
    "            (\"create_features\", CreateLagFeatures(\n",
    "                self.max_depth, self.col_name))\n",
    "        ])\n",
    "        df_with_features = pipeline.fit_transform(df)\n",
    "\n",
    "        return df_with_features\n",
    "\n",
    "\n",
    "    def __train_test_split(self, df):\n",
    "\n",
    "        # split into train+validation and test\n",
    "        X_train_validation, X_test, y_train_validation, y_test = train_test_split(\n",
    "            df.filter(regex=\"lag\"),  # select only \"lag-\" features\n",
    "            df[[self.col_name]],\n",
    "            test_size=self.test_size,\n",
    "            shuffle=False  # time series split\n",
    "        )\n",
    "\n",
    "        # split into train and validation\n",
    "        X_train, X_validation, y_train, y_validation = train_test_split(\n",
    "            X_train_validation,\n",
    "            y_train_validation,\n",
    "            test_size=0.2,\n",
    "            shuffle=False\n",
    "        )\n",
    "\n",
    "        return X_train_validation, X_train, X_validation, X_test, y_train_validation, y_train, y_validation, y_test\n",
    "\n",
    "\n",
    "\n",
    "## Pipeline Classes\n",
    "class CreateLagFeatures(BaseEstimator, TransformerMixin):\n",
    "\n",
    "    def __init__(self, num_lag_depths, col_name):\n",
    "        super().__init__()\n",
    "        self.num_lags_depths = num_lag_depths\n",
    "        self.col_name = col_name\n",
    "\n",
    "    def fit(self, X, y=None):\n",
    "        return self \n",
    "    \n",
    "    def transform(self, X):\n",
    "        return self.__create_lag_features(X, self.num_lags_depths, self.col_name)\n",
    "    \n",
    "    @staticmethod\n",
    "    def __create_lag_features(df, num_lag_depths, col_name):\n",
    "        df_with_lags = df.copy(deep=True)\n",
    "        for lag_depth in np.arange(1,num_lag_depths+1):\n",
    "            column = df_with_lags[col_name].shift(24*lag_depth)\n",
    "            df_with_lags = pd.concat([df_with_lags, column.rename(\"lag\" + f\"{lag_depth}\")], axis=1)\n",
    "        return df_with_lags.dropna()\n",
    "\n",
    "\n",
    "class SubsetLags(BaseEstimator, TransformerMixin):\n",
    "    \n",
    "    def __init__(self, num_lags=1):\n",
    "        super().__init__()\n",
    "        self.num_lags = num_lags\n",
    "        \n",
    "    def fit(self, X, y=None):\n",
    "        return self\n",
    "    \n",
    "    def transform(self, X):\n",
    "        return self.__select_subset_lags(X, self.num_lags)\n",
    "    \n",
    "    @staticmethod\n",
    "    def __select_subset_lags(df, num_lags):\n",
    "        return df[[f\"lag{depth}\" for depth in np.arange(1, num_lags+1)]]\n",
    "\n",
    "\n",
    "import pandas as pd\n",
    "from sklearn.model_selection import train_test_split\n",
    "import pmdarima as pm\n",
    "\n",
    "\n",
    "# Main Class\n",
    "class DailyCrossValidator:\n",
    "\n",
    "    columns = [\"energy_demand_kWh\", \"peak_power_W\"]\n",
    "\n",
    "    @classmethod\n",
    "    def cross_validate(cls, df):\n",
    "\n",
    "        best_params = {}\n",
    "\n",
    "        for column in cls.columns:\n",
    "            # initalize cross validator, cross validate\n",
    "            params = SARIMACrossValidator(column).cross_validate_one(df)\n",
    "            best_params[column] = params\n",
    "\n",
    "        # same data, different units, so same parameters\n",
    "        best_params[\"avg_power_demand_W\"] = best_params[\"energy_demand_kWh\"]\n",
    "\n",
    "        return best_params\n",
    "\n",
    "\n",
    "# Helper Class\n",
    "class SARIMACrossValidator:\n",
    "\n",
    "    test_size = 0.2\n",
    "\n",
    "    def __init__(self, col_name):\n",
    "        super().__init__()\n",
    "        self.col_name = col_name\n",
    "\n",
    "    def cross_validate_one(self, df: pd.DataFrame):\n",
    "\n",
    "        X_train, X_test, y_train, y_test = self.__train_test_split(df)\n",
    "\n",
    "        stepwise_fit = pm.auto_arima(y_train,\n",
    "                                     start_p=0, start_q=0,\n",
    "                                     max_p=3, max_q=3, max_Q=3, max_P=3,\n",
    "                                     d=0, D=1, m=7,\n",
    "                                     X=None,\n",
    "                                     seasonal=True, trace=True, stepwise=True)\n",
    "\n",
    "        return stepwise_fit\n",
    "\n",
    "    def __train_test_split(self, df: pd.DataFrame):\n",
    "        # take only needed column \n",
    "        df = df[[self.col_name]]\n",
    "        \n",
    "        X_train, X_test, y_train, y_test = train_test_split(\n",
    "            df.drop(columns=[self.col_name]),\n",
    "            df[[self.col_name]],\n",
    "            test_size=self.test_size,\n",
    "            shuffle=False\n",
    "        )\n",
    "\n",
    "        return X_train, X_test, y_train, y_test\n",
    "\n",
    "\n",
    "import pandas as pd\n",
    "import statsmodels.api as sm \n",
    "\n",
    "class CreateDailyForecasts:\n",
    "\n",
    "    columns = [\"avg_power_demand_W\", \"energy_demand_kWh\", \"peak_power_W\"]\n",
    "\n",
    "    def __init__():\n",
    "        pass \n",
    "    \n",
    "    @classmethod\n",
    "    def run_daily_forecast(cls, df, best_params: dict):\n",
    "\n",
    "        existing_forecasts = pd.read_csv(\"forecastdata/dailyforecasts.csv\", index_col=\"time\", parse_dates=True)\n",
    "        new_forecasts = pd.DataFrame()\n",
    "\n",
    "        for column in cls.columns:\n",
    "            \n",
    "            # train on ALL available data\n",
    "            train = df[[column]].copy() \n",
    "            # create ARIMA model \n",
    "            best_model_arima = sm.tsa.arima.ARIMA(train, order=(1,0,0), seasonal_order=(1,1,1,7)).fit()\n",
    "            # forecast on day ahead, convert to a dataframe\n",
    "            one_column_forecast = best_model_arima.forecast()\n",
    "            one_column_forecast = pd.DataFrame(one_column_forecast, columns=[column+'_predictions']) \n",
    "            new_forecasts = pd.concat([new_forecasts, one_column_forecast], axis=1)\n",
    "\n",
    "        # append new forecasts existing set of forecasts\n",
    "        forecasts = pd.concat([existing_forecasts, new_forecasts], axis=0)\n",
    "\n",
    "        return forecasts\n",
    "\n",
    "    \n",
    "    @staticmethod\n",
    "    def save_empty_prediction_df():\n",
    "        empty_df = pd.DataFrame(columns=[\"avg_power_demand_W_predictions\", \"energy_demand_kWh_predictions\", \"peak_power_W_predictions\"], index=pd.Index([], name=\"time\"))\n",
    "        empty_df.to_csv(\"forecastdata/dailyforecasts.csv\")\n",
    "        return empty_df\n"
   ]
  },
  {
   "cell_type": "code",
   "execution_count": 11,
   "id": "c20f62e8",
   "metadata": {},
   "outputs": [],
   "source": [
    "import redis \n",
    "import pickle\n",
    "redis_client = redis.Redis(host='localhost', port=6360)"
   ]
  },
  {
   "cell_type": "code",
   "execution_count": 15,
   "id": "6601eac7",
   "metadata": {},
   "outputs": [
    {
     "data": {
      "text/html": [
       "<div>\n",
       "<style scoped>\n",
       "    .dataframe tbody tr th:only-of-type {\n",
       "        vertical-align: middle;\n",
       "    }\n",
       "\n",
       "    .dataframe tbody tr th {\n",
       "        vertical-align: top;\n",
       "    }\n",
       "\n",
       "    .dataframe thead th {\n",
       "        text-align: right;\n",
       "    }\n",
       "</style>\n",
       "<table border=\"1\" class=\"dataframe\">\n",
       "  <thead>\n",
       "    <tr style=\"text-align: right;\">\n",
       "      <th></th>\n",
       "      <th>Unnamed: 0</th>\n",
       "      <th>vehicle_maxChgRate_W</th>\n",
       "      <th>peakPower_W</th>\n",
       "      <th>sch_centsPerHr</th>\n",
       "      <th>connectTime</th>\n",
       "      <th>vehicle_model</th>\n",
       "      <th>Duration</th>\n",
       "      <th>userId</th>\n",
       "      <th>regular</th>\n",
       "      <th>startChargeTime</th>\n",
       "      <th>sch_centsPerOverstayHr</th>\n",
       "      <th>sch_centsPerKwh</th>\n",
       "      <th>choice</th>\n",
       "      <th>siteId</th>\n",
       "      <th>estCost</th>\n",
       "      <th>DurationHrs</th>\n",
       "      <th>dcosId</th>\n",
       "      <th>lastUpdate</th>\n",
       "      <th>power</th>\n",
       "      <th>stationId</th>\n",
       "      <th>defaultDeadline</th>\n",
       "      <th>scheduled</th>\n",
       "      <th>cumEnergy_Wh</th>\n",
       "      <th>reg_centsPerHr</th>\n",
       "      <th>Deadline</th>\n",
       "      <th>energyReq_Wh</th>\n",
       "      <th>finishChargeTime</th>\n",
       "      <th>trueDurationHrs</th>\n",
       "      <th>true_peakPower_W</th>\n",
       "      <th>Overstay</th>\n",
       "      <th>Overstay_h</th>\n",
       "    </tr>\n",
       "  </thead>\n",
       "  <tbody>\n",
       "    <tr>\n",
       "      <th>2997</th>\n",
       "      <td>3771</td>\n",
       "      <td>150000</td>\n",
       "      <td>803.0</td>\n",
       "      <td>200.0</td>\n",
       "      <td>2023-05-26 07:25:48</td>\n",
       "      <td>bZ4X Limited</td>\n",
       "      <td>0 days 05:54:00</td>\n",
       "      <td>1259</td>\n",
       "      <td>1</td>\n",
       "      <td>2023-05-26 07:26:05</td>\n",
       "      <td>300.0</td>\n",
       "      <td>0.0</td>\n",
       "      <td>REGULAR</td>\n",
       "      <td>25</td>\n",
       "      <td>9.34999</td>\n",
       "      <td>5.90000</td>\n",
       "      <td>5097</td>\n",
       "      <td>2023-05-26 13:20:05</td>\n",
       "      <td>[{'power_W': Decimal('803'), 'timestamp': Deci...</td>\n",
       "      <td>15</td>\n",
       "      <td>2023-05-26T18:30:00</td>\n",
       "      <td>0</td>\n",
       "      <td>34727.0</td>\n",
       "      <td>150.0</td>\n",
       "      <td>NaN</td>\n",
       "      <td>NaN</td>\n",
       "      <td>2023-05-26 13:20:05</td>\n",
       "      <td>5.900</td>\n",
       "      <td>5886.0</td>\n",
       "      <td>0 days 00:00:00</td>\n",
       "      <td>0.0</td>\n",
       "    </tr>\n",
       "    <tr>\n",
       "      <th>2998</th>\n",
       "      <td>3773</td>\n",
       "      <td>250000</td>\n",
       "      <td>6873.0</td>\n",
       "      <td>200.0</td>\n",
       "      <td>2023-05-26 09:16:58</td>\n",
       "      <td>Model Y</td>\n",
       "      <td>0 days 04:58:00</td>\n",
       "      <td>1234</td>\n",
       "      <td>1</td>\n",
       "      <td>2023-05-26 09:17:07</td>\n",
       "      <td>300.0</td>\n",
       "      <td>0.0</td>\n",
       "      <td>REGULAR</td>\n",
       "      <td>25</td>\n",
       "      <td>7.95000</td>\n",
       "      <td>4.96666</td>\n",
       "      <td>5099</td>\n",
       "      <td>2023-05-26 14:15:07</td>\n",
       "      <td>[{'power_W': Decimal('6873'), 'timestamp': Dec...</td>\n",
       "      <td>17</td>\n",
       "      <td>2023-05-26T18:00:00</td>\n",
       "      <td>0</td>\n",
       "      <td>32468.0</td>\n",
       "      <td>150.0</td>\n",
       "      <td>NaN</td>\n",
       "      <td>NaN</td>\n",
       "      <td>2023-05-26 14:15:07</td>\n",
       "      <td>4.967</td>\n",
       "      <td>6537.0</td>\n",
       "      <td>0 days 00:00:00</td>\n",
       "      <td>0.0</td>\n",
       "    </tr>\n",
       "    <tr>\n",
       "      <th>2999</th>\n",
       "      <td>3774</td>\n",
       "      <td>6500</td>\n",
       "      <td>1081.0</td>\n",
       "      <td>200.0</td>\n",
       "      <td>2023-05-26 11:46:54</td>\n",
       "      <td>Mach-E</td>\n",
       "      <td>0 days 09:42:47</td>\n",
       "      <td>1208</td>\n",
       "      <td>1</td>\n",
       "      <td>2023-05-26 11:47:19</td>\n",
       "      <td>300.0</td>\n",
       "      <td>0.0</td>\n",
       "      <td>REGULAR</td>\n",
       "      <td>25</td>\n",
       "      <td>15.06958</td>\n",
       "      <td>9.71305</td>\n",
       "      <td>5100</td>\n",
       "      <td>2023-05-26 21:30:06</td>\n",
       "      <td>[{'power_W': Decimal('1081'), 'timestamp': Dec...</td>\n",
       "      <td>12</td>\n",
       "      <td>2023-05-27T20:00:00</td>\n",
       "      <td>0</td>\n",
       "      <td>54703.0</td>\n",
       "      <td>150.0</td>\n",
       "      <td>NaN</td>\n",
       "      <td>NaN</td>\n",
       "      <td>2023-05-26 21:30:06</td>\n",
       "      <td>9.713</td>\n",
       "      <td>5632.0</td>\n",
       "      <td>0 days 00:00:00</td>\n",
       "      <td>0.0</td>\n",
       "    </tr>\n",
       "    <tr>\n",
       "      <th>3000</th>\n",
       "      <td>3775</td>\n",
       "      <td>40000</td>\n",
       "      <td>6557.0</td>\n",
       "      <td>200.0</td>\n",
       "      <td>2023-05-26 18:01:05</td>\n",
       "      <td>e-Golf</td>\n",
       "      <td>0 days 02:23:40</td>\n",
       "      <td>1060</td>\n",
       "      <td>1</td>\n",
       "      <td>2023-05-26 18:01:25</td>\n",
       "      <td>300.0</td>\n",
       "      <td>0.0</td>\n",
       "      <td>REGULAR</td>\n",
       "      <td>25</td>\n",
       "      <td>4.09166</td>\n",
       "      <td>2.39444</td>\n",
       "      <td>5101</td>\n",
       "      <td>2023-05-26 20:25:05</td>\n",
       "      <td>[{'power_W': Decimal('6557'), 'timestamp': Dec...</td>\n",
       "      <td>15</td>\n",
       "      <td>2023-05-26T22:00:00</td>\n",
       "      <td>0</td>\n",
       "      <td>14905.0</td>\n",
       "      <td>150.0</td>\n",
       "      <td>NaN</td>\n",
       "      <td>NaN</td>\n",
       "      <td>2023-05-26 20:25:05</td>\n",
       "      <td>2.394</td>\n",
       "      <td>6226.0</td>\n",
       "      <td>0 days 00:00:00</td>\n",
       "      <td>0.0</td>\n",
       "    </tr>\n",
       "    <tr>\n",
       "      <th>3001</th>\n",
       "      <td>3776</td>\n",
       "      <td>7000</td>\n",
       "      <td>6561.0</td>\n",
       "      <td>200.0</td>\n",
       "      <td>2023-05-28 12:32:49</td>\n",
       "      <td>Model 3</td>\n",
       "      <td>0 days 03:07:05</td>\n",
       "      <td>1296</td>\n",
       "      <td>1</td>\n",
       "      <td>2023-05-28 12:33:00</td>\n",
       "      <td>300.0</td>\n",
       "      <td>0.0</td>\n",
       "      <td>REGULAR</td>\n",
       "      <td>25</td>\n",
       "      <td>5.17708</td>\n",
       "      <td>3.11805</td>\n",
       "      <td>5102</td>\n",
       "      <td>2023-05-28 15:40:05</td>\n",
       "      <td>[{'power_W': Decimal('3773'), 'timestamp': Dec...</td>\n",
       "      <td>13</td>\n",
       "      <td>1969-12-31T16:00:00</td>\n",
       "      <td>0</td>\n",
       "      <td>18165.0</td>\n",
       "      <td>150.0</td>\n",
       "      <td>NaN</td>\n",
       "      <td>NaN</td>\n",
       "      <td>2023-05-28 15:40:05</td>\n",
       "      <td>3.118</td>\n",
       "      <td>5826.0</td>\n",
       "      <td>0 days 00:00:00</td>\n",
       "      <td>0.0</td>\n",
       "    </tr>\n",
       "  </tbody>\n",
       "</table>\n",
       "</div>"
      ],
      "text/plain": [
       "      Unnamed: 0  vehicle_maxChgRate_W  peakPower_W  sch_centsPerHr  \\\n",
       "2997        3771                150000        803.0           200.0   \n",
       "2998        3773                250000       6873.0           200.0   \n",
       "2999        3774                  6500       1081.0           200.0   \n",
       "3000        3775                 40000       6557.0           200.0   \n",
       "3001        3776                  7000       6561.0           200.0   \n",
       "\n",
       "              connectTime vehicle_model         Duration  userId  regular  \\\n",
       "2997  2023-05-26 07:25:48  bZ4X Limited  0 days 05:54:00    1259        1   \n",
       "2998  2023-05-26 09:16:58       Model Y  0 days 04:58:00    1234        1   \n",
       "2999  2023-05-26 11:46:54        Mach-E  0 days 09:42:47    1208        1   \n",
       "3000  2023-05-26 18:01:05        e-Golf  0 days 02:23:40    1060        1   \n",
       "3001  2023-05-28 12:32:49       Model 3  0 days 03:07:05    1296        1   \n",
       "\n",
       "          startChargeTime  sch_centsPerOverstayHr  sch_centsPerKwh   choice  \\\n",
       "2997  2023-05-26 07:26:05                   300.0              0.0  REGULAR   \n",
       "2998  2023-05-26 09:17:07                   300.0              0.0  REGULAR   \n",
       "2999  2023-05-26 11:47:19                   300.0              0.0  REGULAR   \n",
       "3000  2023-05-26 18:01:25                   300.0              0.0  REGULAR   \n",
       "3001  2023-05-28 12:33:00                   300.0              0.0  REGULAR   \n",
       "\n",
       "      siteId   estCost  DurationHrs  dcosId           lastUpdate  \\\n",
       "2997      25   9.34999      5.90000    5097  2023-05-26 13:20:05   \n",
       "2998      25   7.95000      4.96666    5099  2023-05-26 14:15:07   \n",
       "2999      25  15.06958      9.71305    5100  2023-05-26 21:30:06   \n",
       "3000      25   4.09166      2.39444    5101  2023-05-26 20:25:05   \n",
       "3001      25   5.17708      3.11805    5102  2023-05-28 15:40:05   \n",
       "\n",
       "                                                  power  stationId  \\\n",
       "2997  [{'power_W': Decimal('803'), 'timestamp': Deci...         15   \n",
       "2998  [{'power_W': Decimal('6873'), 'timestamp': Dec...         17   \n",
       "2999  [{'power_W': Decimal('1081'), 'timestamp': Dec...         12   \n",
       "3000  [{'power_W': Decimal('6557'), 'timestamp': Dec...         15   \n",
       "3001  [{'power_W': Decimal('3773'), 'timestamp': Dec...         13   \n",
       "\n",
       "          defaultDeadline  scheduled  cumEnergy_Wh  reg_centsPerHr Deadline  \\\n",
       "2997  2023-05-26T18:30:00          0       34727.0           150.0      NaN   \n",
       "2998  2023-05-26T18:00:00          0       32468.0           150.0      NaN   \n",
       "2999  2023-05-27T20:00:00          0       54703.0           150.0      NaN   \n",
       "3000  2023-05-26T22:00:00          0       14905.0           150.0      NaN   \n",
       "3001  1969-12-31T16:00:00          0       18165.0           150.0      NaN   \n",
       "\n",
       "      energyReq_Wh     finishChargeTime  trueDurationHrs  true_peakPower_W  \\\n",
       "2997           NaN  2023-05-26 13:20:05            5.900            5886.0   \n",
       "2998           NaN  2023-05-26 14:15:07            4.967            6537.0   \n",
       "2999           NaN  2023-05-26 21:30:06            9.713            5632.0   \n",
       "3000           NaN  2023-05-26 20:25:05            2.394            6226.0   \n",
       "3001           NaN  2023-05-28 15:40:05            3.118            5826.0   \n",
       "\n",
       "             Overstay  Overstay_h  \n",
       "2997  0 days 00:00:00         0.0  \n",
       "2998  0 days 00:00:00         0.0  \n",
       "2999  0 days 00:00:00         0.0  \n",
       "3000  0 days 00:00:00         0.0  \n",
       "3001  0 days 00:00:00         0.0  "
      ]
     },
     "execution_count": 15,
     "metadata": {},
     "output_type": "execute_result"
    }
   ],
   "source": [
    "df = pickle.loads(redis_client.get(\"raw_data\"))\n",
    "df.tail()"
   ]
  },
  {
   "cell_type": "code",
   "execution_count": 25,
   "id": "2d7d6e90",
   "metadata": {},
   "outputs": [
    {
     "data": {
      "text/html": [
       "<div>\n",
       "<style scoped>\n",
       "    .dataframe tbody tr th:only-of-type {\n",
       "        vertical-align: middle;\n",
       "    }\n",
       "\n",
       "    .dataframe tbody tr th {\n",
       "        vertical-align: top;\n",
       "    }\n",
       "\n",
       "    .dataframe thead th {\n",
       "        text-align: right;\n",
       "    }\n",
       "</style>\n",
       "<table border=\"1\" class=\"dataframe\">\n",
       "  <thead>\n",
       "    <tr style=\"text-align: right;\">\n",
       "      <th></th>\n",
       "      <th>avg_power_demand_W</th>\n",
       "      <th>energy_demand_kWh</th>\n",
       "      <th>peak_power_W</th>\n",
       "      <th>day</th>\n",
       "      <th>month</th>\n",
       "    </tr>\n",
       "    <tr>\n",
       "      <th>time</th>\n",
       "      <th></th>\n",
       "      <th></th>\n",
       "      <th></th>\n",
       "      <th></th>\n",
       "      <th></th>\n",
       "    </tr>\n",
       "  </thead>\n",
       "  <tbody>\n",
       "    <tr>\n",
       "      <th>2020-11-05</th>\n",
       "      <td>249.592593</td>\n",
       "      <td>3.369500</td>\n",
       "      <td>879.0</td>\n",
       "      <td>Thursday</td>\n",
       "      <td>November</td>\n",
       "    </tr>\n",
       "    <tr>\n",
       "      <th>2020-11-06</th>\n",
       "      <td>0.000000</td>\n",
       "      <td>0.000000</td>\n",
       "      <td>0.0</td>\n",
       "      <td>Friday</td>\n",
       "      <td>November</td>\n",
       "    </tr>\n",
       "    <tr>\n",
       "      <th>2020-11-07</th>\n",
       "      <td>0.000000</td>\n",
       "      <td>0.000000</td>\n",
       "      <td>0.0</td>\n",
       "      <td>Saturday</td>\n",
       "      <td>November</td>\n",
       "    </tr>\n",
       "    <tr>\n",
       "      <th>2020-11-08</th>\n",
       "      <td>0.000000</td>\n",
       "      <td>0.000000</td>\n",
       "      <td>0.0</td>\n",
       "      <td>Sunday</td>\n",
       "      <td>November</td>\n",
       "    </tr>\n",
       "    <tr>\n",
       "      <th>2020-11-09</th>\n",
       "      <td>0.000000</td>\n",
       "      <td>0.000000</td>\n",
       "      <td>0.0</td>\n",
       "      <td>Monday</td>\n",
       "      <td>November</td>\n",
       "    </tr>\n",
       "    <tr>\n",
       "      <th>...</th>\n",
       "      <td>...</td>\n",
       "      <td>...</td>\n",
       "      <td>...</td>\n",
       "      <td>...</td>\n",
       "      <td>...</td>\n",
       "    </tr>\n",
       "    <tr>\n",
       "      <th>2023-05-24</th>\n",
       "      <td>2731.319444</td>\n",
       "      <td>65.551667</td>\n",
       "      <td>6377.0</td>\n",
       "      <td>Wednesday</td>\n",
       "      <td>May</td>\n",
       "    </tr>\n",
       "    <tr>\n",
       "      <th>2023-05-25</th>\n",
       "      <td>5594.888889</td>\n",
       "      <td>134.277333</td>\n",
       "      <td>21637.0</td>\n",
       "      <td>Thursday</td>\n",
       "      <td>May</td>\n",
       "    </tr>\n",
       "    <tr>\n",
       "      <th>2023-05-26</th>\n",
       "      <td>5812.170139</td>\n",
       "      <td>139.492083</td>\n",
       "      <td>18055.0</td>\n",
       "      <td>Friday</td>\n",
       "      <td>May</td>\n",
       "    </tr>\n",
       "    <tr>\n",
       "      <th>2023-05-27</th>\n",
       "      <td>0.000000</td>\n",
       "      <td>0.000000</td>\n",
       "      <td>0.0</td>\n",
       "      <td>Saturday</td>\n",
       "      <td>May</td>\n",
       "    </tr>\n",
       "    <tr>\n",
       "      <th>2023-05-28</th>\n",
       "      <td>796.359712</td>\n",
       "      <td>18.449000</td>\n",
       "      <td>5826.0</td>\n",
       "      <td>Sunday</td>\n",
       "      <td>May</td>\n",
       "    </tr>\n",
       "  </tbody>\n",
       "</table>\n",
       "<p>935 rows × 5 columns</p>\n",
       "</div>"
      ],
      "text/plain": [
       "            avg_power_demand_W  energy_demand_kWh  peak_power_W        day  \\\n",
       "time                                                                         \n",
       "2020-11-05          249.592593           3.369500         879.0   Thursday   \n",
       "2020-11-06            0.000000           0.000000           0.0     Friday   \n",
       "2020-11-07            0.000000           0.000000           0.0   Saturday   \n",
       "2020-11-08            0.000000           0.000000           0.0     Sunday   \n",
       "2020-11-09            0.000000           0.000000           0.0     Monday   \n",
       "...                        ...                ...           ...        ...   \n",
       "2023-05-24         2731.319444          65.551667        6377.0  Wednesday   \n",
       "2023-05-25         5594.888889         134.277333       21637.0   Thursday   \n",
       "2023-05-26         5812.170139         139.492083       18055.0     Friday   \n",
       "2023-05-27            0.000000           0.000000           0.0   Saturday   \n",
       "2023-05-28          796.359712          18.449000        5826.0     Sunday   \n",
       "\n",
       "               month  \n",
       "time                  \n",
       "2020-11-05  November  \n",
       "2020-11-06  November  \n",
       "2020-11-07  November  \n",
       "2020-11-08  November  \n",
       "2020-11-09  November  \n",
       "...              ...  \n",
       "2023-05-24       May  \n",
       "2023-05-25       May  \n",
       "2023-05-26       May  \n",
       "2023-05-27       May  \n",
       "2023-05-28       May  \n",
       "\n",
       "[935 rows x 5 columns]"
      ]
     },
     "execution_count": 25,
     "metadata": {},
     "output_type": "execute_result"
    }
   ],
   "source": [
    "df = pickle.loads(redis_client.get(\"dailydemand\"))\n",
    "df"
   ]
  },
  {
   "cell_type": "code",
   "execution_count": 4,
   "id": "38ea4a41",
   "metadata": {},
   "outputs": [
    {
     "data": {
      "text/html": [
       "<div>\n",
       "<style scoped>\n",
       "    .dataframe tbody tr th:only-of-type {\n",
       "        vertical-align: middle;\n",
       "    }\n",
       "\n",
       "    .dataframe tbody tr th {\n",
       "        vertical-align: top;\n",
       "    }\n",
       "\n",
       "    .dataframe thead th {\n",
       "        text-align: right;\n",
       "    }\n",
       "</style>\n",
       "<table border=\"1\" class=\"dataframe\">\n",
       "  <thead>\n",
       "    <tr style=\"text-align: right;\">\n",
       "      <th></th>\n",
       "      <th>sch_centsPerHr</th>\n",
       "      <th>reg_centsPerHr</th>\n",
       "      <th>choice</th>\n",
       "      <th>counts</th>\n",
       "    </tr>\n",
       "  </thead>\n",
       "  <tbody>\n",
       "    <tr>\n",
       "      <th>0</th>\n",
       "      <td>250.0</td>\n",
       "      <td>137.0</td>\n",
       "      <td>REGULAR</td>\n",
       "      <td>390</td>\n",
       "    </tr>\n",
       "    <tr>\n",
       "      <th>1</th>\n",
       "      <td>200.0</td>\n",
       "      <td>150.0</td>\n",
       "      <td>REGULAR</td>\n",
       "      <td>337</td>\n",
       "    </tr>\n",
       "    <tr>\n",
       "      <th>2</th>\n",
       "      <td>127.0</td>\n",
       "      <td>184.0</td>\n",
       "      <td>SCHEDULED</td>\n",
       "      <td>210</td>\n",
       "    </tr>\n",
       "    <tr>\n",
       "      <th>3</th>\n",
       "      <td>227.0</td>\n",
       "      <td>137.0</td>\n",
       "      <td>REGULAR</td>\n",
       "      <td>117</td>\n",
       "    </tr>\n",
       "    <tr>\n",
       "      <th>4</th>\n",
       "      <td>127.0</td>\n",
       "      <td>184.0</td>\n",
       "      <td>REGULAR</td>\n",
       "      <td>81</td>\n",
       "    </tr>\n",
       "    <tr>\n",
       "      <th>...</th>\n",
       "      <td>...</td>\n",
       "      <td>...</td>\n",
       "      <td>...</td>\n",
       "      <td>...</td>\n",
       "    </tr>\n",
       "    <tr>\n",
       "      <th>316</th>\n",
       "      <td>120.0</td>\n",
       "      <td>300.0</td>\n",
       "      <td>REGULAR</td>\n",
       "      <td>1</td>\n",
       "    </tr>\n",
       "    <tr>\n",
       "      <th>317</th>\n",
       "      <td>120.0</td>\n",
       "      <td>100.0</td>\n",
       "      <td>SCHEDULED</td>\n",
       "      <td>1</td>\n",
       "    </tr>\n",
       "    <tr>\n",
       "      <th>318</th>\n",
       "      <td>115.0</td>\n",
       "      <td>125.0</td>\n",
       "      <td>REGULAR</td>\n",
       "      <td>1</td>\n",
       "    </tr>\n",
       "    <tr>\n",
       "      <th>319</th>\n",
       "      <td>112.0</td>\n",
       "      <td>75.0</td>\n",
       "      <td>SCHEDULED</td>\n",
       "      <td>1</td>\n",
       "    </tr>\n",
       "    <tr>\n",
       "      <th>320</th>\n",
       "      <td>375.0</td>\n",
       "      <td>150.0</td>\n",
       "      <td>REGULAR</td>\n",
       "      <td>1</td>\n",
       "    </tr>\n",
       "  </tbody>\n",
       "</table>\n",
       "<p>321 rows × 4 columns</p>\n",
       "</div>"
      ],
      "text/plain": [
       "     sch_centsPerHr  reg_centsPerHr     choice  counts\n",
       "0             250.0           137.0    REGULAR     390\n",
       "1             200.0           150.0    REGULAR     337\n",
       "2             127.0           184.0  SCHEDULED     210\n",
       "3             227.0           137.0    REGULAR     117\n",
       "4             127.0           184.0    REGULAR      81\n",
       "..              ...             ...        ...     ...\n",
       "316           120.0           300.0    REGULAR       1\n",
       "317           120.0           100.0  SCHEDULED       1\n",
       "318           115.0           125.0    REGULAR       1\n",
       "319           112.0            75.0  SCHEDULED       1\n",
       "320           375.0           150.0    REGULAR       1\n",
       "\n",
       "[321 rows x 4 columns]"
      ]
     },
     "execution_count": 4,
     "metadata": {},
     "output_type": "execute_result"
    }
   ],
   "source": [
    "df2 = df[[\"sch_centsPerHr\", \"reg_centsPerHr\", \"choice\"]].value_counts().to_frame(\"counts\").reset_index()\n",
    "df2"
   ]
  },
  {
   "cell_type": "code",
   "execution_count": 5,
   "id": "a3168212",
   "metadata": {},
   "outputs": [
    {
     "data": {
      "application/vnd.plotly.v1+json": {
       "config": {
        "plotlyServerURL": "https://plot.ly"
       },
       "data": [
        {
         "hovertemplate": "choice=REGULAR<br>reg_centsPerHr=%{x}<br>sch_centsPerHr=%{y}<br>counts=%{marker.size}<extra></extra>",
         "legendgroup": "REGULAR",
         "marker": {
          "color": "#636efa",
          "size": [
           390,
           337,
           117,
           81,
           40,
           22,
           20,
           19,
           18,
           18,
           16,
           16,
           15,
           14,
           14,
           13,
           13,
           12,
           12,
           12,
           12,
           11,
           10,
           10,
           10,
           10,
           9,
           9,
           9,
           9,
           9,
           8,
           8,
           8,
           8,
           8,
           8,
           8,
           7,
           7,
           7,
           7,
           7,
           7,
           7,
           7,
           7,
           7,
           7,
           6,
           6,
           6,
           6,
           6,
           6,
           5,
           5,
           5,
           5,
           5,
           5,
           5,
           5,
           5,
           5,
           5,
           5,
           4,
           4,
           4,
           4,
           4,
           4,
           4,
           4,
           4,
           4,
           4,
           4,
           3,
           3,
           3,
           3,
           3,
           3,
           3,
           3,
           3,
           3,
           3,
           3,
           3,
           3,
           3,
           3,
           3,
           3,
           3,
           3,
           3,
           3,
           2,
           2,
           2,
           2,
           2,
           2,
           2,
           2,
           2,
           2,
           2,
           2,
           2,
           2,
           2,
           2,
           2,
           2,
           2,
           2,
           2,
           2,
           2,
           1,
           1,
           1,
           1,
           1,
           1,
           1,
           1,
           1,
           1,
           1,
           1,
           1,
           1,
           1,
           1,
           1,
           1,
           1,
           1,
           1,
           1,
           1,
           1,
           1,
           1,
           1,
           1,
           1,
           1,
           1,
           1,
           1,
           1,
           1,
           1,
           1,
           1,
           1,
           1,
           1,
           1,
           1,
           1,
           1,
           1,
           1,
           1,
           1,
           1,
           1
          ],
          "sizemode": "area",
          "sizeref": 0.039,
          "symbol": "circle"
         },
         "mode": "markers",
         "name": "REGULAR",
         "orientation": "v",
         "showlegend": true,
         "type": "scatter",
         "x": [
          137,
          150,
          137,
          184,
          48,
          140,
          141,
          100,
          139,
          212,
          148,
          75,
          156,
          75,
          351,
          223,
          50,
          128,
          100,
          100,
          75,
          186,
          100,
          100,
          50,
          20,
          132,
          75,
          52,
          50,
          75,
          260,
          100,
          145,
          40,
          125,
          80,
          60,
          100,
          100,
          80,
          120,
          227,
          50,
          50,
          228,
          75,
          312,
          127,
          75,
          150,
          150,
          75,
          287,
          150,
          150,
          125,
          100,
          227,
          100,
          175,
          129,
          75,
          150,
          131,
          75,
          175,
          75,
          175,
          175,
          229,
          128,
          125,
          229,
          227,
          40,
          392,
          369,
          362,
          75,
          75,
          100,
          250,
          125,
          100,
          56,
          50,
          125,
          125,
          150,
          150,
          261,
          125,
          150,
          150,
          60,
          226,
          50,
          125,
          125,
          50,
          200,
          225,
          150,
          100,
          230,
          100,
          50,
          75,
          169,
          125,
          150,
          75,
          250,
          164,
          123,
          60,
          125,
          50,
          75,
          75,
          200,
          134,
          250,
          200,
          150,
          378,
          261,
          300,
          125,
          125,
          150,
          200,
          50,
          250,
          250,
          351,
          0,
          275,
          225,
          80,
          116,
          125,
          100,
          225,
          200,
          25,
          150,
          175,
          150,
          25,
          50,
          75,
          130,
          125,
          100,
          200,
          225,
          125,
          222,
          246,
          150,
          150,
          137,
          225,
          200,
          156,
          175,
          127,
          175,
          125,
          225,
          300,
          125,
          150
         ],
         "xaxis": "x",
         "y": [
          250,
          200,
          227,
          127,
          50,
          250,
          250,
          100,
          140,
          127,
          250,
          100,
          250,
          75,
          127,
          216,
          100,
          80,
          150,
          125,
          150,
          127,
          50,
          120,
          75,
          12,
          143,
          125,
          25,
          50,
          175,
          198,
          200,
          127,
          44,
          75,
          64,
          66,
          60,
          75,
          56,
          96,
          219,
          200,
          175,
          218,
          45,
          290,
          140,
          85,
          100,
          150,
          112,
          127,
          50,
          75,
          200,
          90,
          216,
          175,
          125,
          142,
          65,
          110,
          144,
          225,
          50,
          188,
          150,
          100,
          217,
          140,
          175,
          220,
          213,
          24,
          330,
          330,
          330,
          30,
          25,
          25,
          300,
          135,
          225,
          25,
          150,
          150,
          125,
          160,
          175,
          198,
          50,
          120,
          60,
          72,
          232,
          125,
          100,
          95,
          60,
          75,
          275,
          275,
          110,
          227,
          20,
          10,
          90,
          178,
          188,
          3,
          200,
          200,
          206,
          127,
          36,
          25,
          40,
          35,
          50,
          125,
          148,
          275,
          300,
          300,
          330,
          225,
          300,
          250,
          225,
          225,
          240,
          225,
          225,
          250,
          330,
          0,
          200,
          200,
          96,
          90,
          85,
          80,
          75,
          50,
          38,
          30,
          25,
          25,
          25,
          20,
          15,
          9,
          0,
          0,
          100,
          100,
          145,
          200,
          185,
          180,
          170,
          156,
          150,
          150,
          148,
          145,
          138,
          135,
          129,
          125,
          120,
          115,
          375
         ],
         "yaxis": "y"
        },
        {
         "hovertemplate": "choice=SCHEDULED<br>reg_centsPerHr=%{x}<br>sch_centsPerHr=%{y}<br>counts=%{marker.size}<extra></extra>",
         "legendgroup": "SCHEDULED",
         "marker": {
          "color": "#EF553B",
          "size": [
           210,
           27,
           24,
           22,
           22,
           21,
           20,
           16,
           16,
           15,
           14,
           14,
           14,
           14,
           13,
           13,
           12,
           11,
           11,
           10,
           10,
           10,
           10,
           9,
           8,
           8,
           8,
           8,
           8,
           8,
           8,
           8,
           7,
           7,
           7,
           7,
           7,
           7,
           6,
           6,
           6,
           6,
           6,
           5,
           5,
           5,
           5,
           5,
           5,
           5,
           5,
           5,
           5,
           4,
           4,
           4,
           4,
           4,
           4,
           4,
           4,
           4,
           4,
           3,
           3,
           3,
           3,
           3,
           3,
           3,
           3,
           3,
           3,
           3,
           3,
           3,
           3,
           3,
           3,
           3,
           2,
           2,
           2,
           2,
           2,
           2,
           2,
           2,
           2,
           2,
           2,
           2,
           2,
           2,
           2,
           2,
           2,
           2,
           2,
           2,
           2,
           2,
           2,
           2,
           2,
           2,
           2,
           2,
           1,
           1,
           1,
           1,
           1,
           1,
           1,
           1,
           1,
           1,
           1,
           1,
           1,
           1,
           1,
           1,
           1,
           1,
           1,
           1,
           1,
           1,
           1,
           1,
           1,
           1,
           1,
           1,
           1,
           1,
           1,
           1,
           1,
           1,
           1,
           1,
           1,
           1
          ],
          "sizemode": "area",
          "sizeref": 0.039,
          "symbol": "circle"
         },
         "mode": "markers",
         "name": "SCHEDULED",
         "orientation": "v",
         "showlegend": true,
         "type": "scatter",
         "x": [
          184,
          125,
          100,
          150,
          125,
          128,
          287,
          52,
          100,
          150,
          100,
          150,
          145,
          186,
          175,
          100,
          137,
          175,
          175,
          100,
          150,
          75,
          75,
          351,
          100,
          48,
          125,
          200,
          200,
          212,
          56,
          100,
          175,
          50,
          100,
          80,
          137,
          50,
          200,
          225,
          125,
          75,
          223,
          125,
          150,
          200,
          50,
          100,
          75,
          300,
          150,
          75,
          150,
          175,
          75,
          120,
          222,
          150,
          250,
          100,
          100,
          75,
          50,
          60,
          312,
          50,
          200,
          75,
          200,
          140,
          50,
          50,
          229,
          260,
          75,
          200,
          50,
          75,
          150,
          125,
          200,
          228,
          100,
          175,
          60,
          125,
          150,
          20,
          200,
          25,
          80,
          150,
          300,
          100,
          250,
          125,
          225,
          100,
          200,
          200,
          150,
          300,
          125,
          132,
          75,
          100,
          0,
          50,
          336,
          369,
          378,
          227,
          156,
          300,
          225,
          229,
          351,
          362,
          226,
          225,
          300,
          275,
          250,
          116,
          75,
          75,
          60,
          40,
          25,
          25,
          40,
          180,
          175,
          75,
          80,
          125,
          75,
          175,
          150,
          225,
          139,
          125,
          125,
          125,
          100,
          75
         ],
         "xaxis": "x",
         "y": [
          127,
          50,
          50,
          200,
          75,
          80,
          127,
          25,
          60,
          50,
          75,
          75,
          127,
          127,
          125,
          0,
          250,
          50,
          100,
          25,
          100,
          35,
          75,
          127,
          100,
          50,
          25,
          50,
          75,
          127,
          25,
          80,
          75,
          60,
          90,
          56,
          227,
          30,
          100,
          75,
          100,
          50,
          216,
          85,
          0,
          0,
          50,
          70,
          65,
          120,
          25,
          25,
          125,
          135,
          125,
          96,
          200,
          150,
          100,
          20,
          40,
          15,
          10,
          36,
          290,
          40,
          40,
          45,
          125,
          250,
          20,
          175,
          217,
          198,
          200,
          200,
          0,
          60,
          60,
          95,
          150,
          218,
          110,
          150,
          66,
          150,
          110,
          12,
          250,
          10,
          64,
          90,
          0,
          200,
          0,
          0,
          50,
          150,
          120,
          25,
          120,
          60,
          115,
          143,
          30,
          125,
          0,
          100,
          330,
          330,
          330,
          213,
          250,
          225,
          225,
          220,
          330,
          330,
          232,
          300,
          250,
          225,
          225,
          90,
          90,
          85,
          72,
          44,
          38,
          25,
          24,
          3,
          0,
          0,
          96,
          175,
          175,
          145,
          140,
          100,
          140,
          135,
          129,
          125,
          120,
          112
         ],
         "yaxis": "y"
        }
       ],
       "layout": {
        "legend": {
         "itemsizing": "constant",
         "title": {
          "text": "choice"
         },
         "tracegroupgap": 0
        },
        "margin": {
         "t": 60
        },
        "template": {
         "data": {
          "bar": [
           {
            "error_x": {
             "color": "#2a3f5f"
            },
            "error_y": {
             "color": "#2a3f5f"
            },
            "marker": {
             "line": {
              "color": "#E5ECF6",
              "width": 0.5
             },
             "pattern": {
              "fillmode": "overlay",
              "size": 10,
              "solidity": 0.2
             }
            },
            "type": "bar"
           }
          ],
          "barpolar": [
           {
            "marker": {
             "line": {
              "color": "#E5ECF6",
              "width": 0.5
             },
             "pattern": {
              "fillmode": "overlay",
              "size": 10,
              "solidity": 0.2
             }
            },
            "type": "barpolar"
           }
          ],
          "carpet": [
           {
            "aaxis": {
             "endlinecolor": "#2a3f5f",
             "gridcolor": "white",
             "linecolor": "white",
             "minorgridcolor": "white",
             "startlinecolor": "#2a3f5f"
            },
            "baxis": {
             "endlinecolor": "#2a3f5f",
             "gridcolor": "white",
             "linecolor": "white",
             "minorgridcolor": "white",
             "startlinecolor": "#2a3f5f"
            },
            "type": "carpet"
           }
          ],
          "choropleth": [
           {
            "colorbar": {
             "outlinewidth": 0,
             "ticks": ""
            },
            "type": "choropleth"
           }
          ],
          "contour": [
           {
            "colorbar": {
             "outlinewidth": 0,
             "ticks": ""
            },
            "colorscale": [
             [
              0,
              "#0d0887"
             ],
             [
              0.1111111111111111,
              "#46039f"
             ],
             [
              0.2222222222222222,
              "#7201a8"
             ],
             [
              0.3333333333333333,
              "#9c179e"
             ],
             [
              0.4444444444444444,
              "#bd3786"
             ],
             [
              0.5555555555555556,
              "#d8576b"
             ],
             [
              0.6666666666666666,
              "#ed7953"
             ],
             [
              0.7777777777777778,
              "#fb9f3a"
             ],
             [
              0.8888888888888888,
              "#fdca26"
             ],
             [
              1,
              "#f0f921"
             ]
            ],
            "type": "contour"
           }
          ],
          "contourcarpet": [
           {
            "colorbar": {
             "outlinewidth": 0,
             "ticks": ""
            },
            "type": "contourcarpet"
           }
          ],
          "heatmap": [
           {
            "colorbar": {
             "outlinewidth": 0,
             "ticks": ""
            },
            "colorscale": [
             [
              0,
              "#0d0887"
             ],
             [
              0.1111111111111111,
              "#46039f"
             ],
             [
              0.2222222222222222,
              "#7201a8"
             ],
             [
              0.3333333333333333,
              "#9c179e"
             ],
             [
              0.4444444444444444,
              "#bd3786"
             ],
             [
              0.5555555555555556,
              "#d8576b"
             ],
             [
              0.6666666666666666,
              "#ed7953"
             ],
             [
              0.7777777777777778,
              "#fb9f3a"
             ],
             [
              0.8888888888888888,
              "#fdca26"
             ],
             [
              1,
              "#f0f921"
             ]
            ],
            "type": "heatmap"
           }
          ],
          "heatmapgl": [
           {
            "colorbar": {
             "outlinewidth": 0,
             "ticks": ""
            },
            "colorscale": [
             [
              0,
              "#0d0887"
             ],
             [
              0.1111111111111111,
              "#46039f"
             ],
             [
              0.2222222222222222,
              "#7201a8"
             ],
             [
              0.3333333333333333,
              "#9c179e"
             ],
             [
              0.4444444444444444,
              "#bd3786"
             ],
             [
              0.5555555555555556,
              "#d8576b"
             ],
             [
              0.6666666666666666,
              "#ed7953"
             ],
             [
              0.7777777777777778,
              "#fb9f3a"
             ],
             [
              0.8888888888888888,
              "#fdca26"
             ],
             [
              1,
              "#f0f921"
             ]
            ],
            "type": "heatmapgl"
           }
          ],
          "histogram": [
           {
            "marker": {
             "pattern": {
              "fillmode": "overlay",
              "size": 10,
              "solidity": 0.2
             }
            },
            "type": "histogram"
           }
          ],
          "histogram2d": [
           {
            "colorbar": {
             "outlinewidth": 0,
             "ticks": ""
            },
            "colorscale": [
             [
              0,
              "#0d0887"
             ],
             [
              0.1111111111111111,
              "#46039f"
             ],
             [
              0.2222222222222222,
              "#7201a8"
             ],
             [
              0.3333333333333333,
              "#9c179e"
             ],
             [
              0.4444444444444444,
              "#bd3786"
             ],
             [
              0.5555555555555556,
              "#d8576b"
             ],
             [
              0.6666666666666666,
              "#ed7953"
             ],
             [
              0.7777777777777778,
              "#fb9f3a"
             ],
             [
              0.8888888888888888,
              "#fdca26"
             ],
             [
              1,
              "#f0f921"
             ]
            ],
            "type": "histogram2d"
           }
          ],
          "histogram2dcontour": [
           {
            "colorbar": {
             "outlinewidth": 0,
             "ticks": ""
            },
            "colorscale": [
             [
              0,
              "#0d0887"
             ],
             [
              0.1111111111111111,
              "#46039f"
             ],
             [
              0.2222222222222222,
              "#7201a8"
             ],
             [
              0.3333333333333333,
              "#9c179e"
             ],
             [
              0.4444444444444444,
              "#bd3786"
             ],
             [
              0.5555555555555556,
              "#d8576b"
             ],
             [
              0.6666666666666666,
              "#ed7953"
             ],
             [
              0.7777777777777778,
              "#fb9f3a"
             ],
             [
              0.8888888888888888,
              "#fdca26"
             ],
             [
              1,
              "#f0f921"
             ]
            ],
            "type": "histogram2dcontour"
           }
          ],
          "mesh3d": [
           {
            "colorbar": {
             "outlinewidth": 0,
             "ticks": ""
            },
            "type": "mesh3d"
           }
          ],
          "parcoords": [
           {
            "line": {
             "colorbar": {
              "outlinewidth": 0,
              "ticks": ""
             }
            },
            "type": "parcoords"
           }
          ],
          "pie": [
           {
            "automargin": true,
            "type": "pie"
           }
          ],
          "scatter": [
           {
            "fillpattern": {
             "fillmode": "overlay",
             "size": 10,
             "solidity": 0.2
            },
            "type": "scatter"
           }
          ],
          "scatter3d": [
           {
            "line": {
             "colorbar": {
              "outlinewidth": 0,
              "ticks": ""
             }
            },
            "marker": {
             "colorbar": {
              "outlinewidth": 0,
              "ticks": ""
             }
            },
            "type": "scatter3d"
           }
          ],
          "scattercarpet": [
           {
            "marker": {
             "colorbar": {
              "outlinewidth": 0,
              "ticks": ""
             }
            },
            "type": "scattercarpet"
           }
          ],
          "scattergeo": [
           {
            "marker": {
             "colorbar": {
              "outlinewidth": 0,
              "ticks": ""
             }
            },
            "type": "scattergeo"
           }
          ],
          "scattergl": [
           {
            "marker": {
             "colorbar": {
              "outlinewidth": 0,
              "ticks": ""
             }
            },
            "type": "scattergl"
           }
          ],
          "scattermapbox": [
           {
            "marker": {
             "colorbar": {
              "outlinewidth": 0,
              "ticks": ""
             }
            },
            "type": "scattermapbox"
           }
          ],
          "scatterpolar": [
           {
            "marker": {
             "colorbar": {
              "outlinewidth": 0,
              "ticks": ""
             }
            },
            "type": "scatterpolar"
           }
          ],
          "scatterpolargl": [
           {
            "marker": {
             "colorbar": {
              "outlinewidth": 0,
              "ticks": ""
             }
            },
            "type": "scatterpolargl"
           }
          ],
          "scatterternary": [
           {
            "marker": {
             "colorbar": {
              "outlinewidth": 0,
              "ticks": ""
             }
            },
            "type": "scatterternary"
           }
          ],
          "surface": [
           {
            "colorbar": {
             "outlinewidth": 0,
             "ticks": ""
            },
            "colorscale": [
             [
              0,
              "#0d0887"
             ],
             [
              0.1111111111111111,
              "#46039f"
             ],
             [
              0.2222222222222222,
              "#7201a8"
             ],
             [
              0.3333333333333333,
              "#9c179e"
             ],
             [
              0.4444444444444444,
              "#bd3786"
             ],
             [
              0.5555555555555556,
              "#d8576b"
             ],
             [
              0.6666666666666666,
              "#ed7953"
             ],
             [
              0.7777777777777778,
              "#fb9f3a"
             ],
             [
              0.8888888888888888,
              "#fdca26"
             ],
             [
              1,
              "#f0f921"
             ]
            ],
            "type": "surface"
           }
          ],
          "table": [
           {
            "cells": {
             "fill": {
              "color": "#EBF0F8"
             },
             "line": {
              "color": "white"
             }
            },
            "header": {
             "fill": {
              "color": "#C8D4E3"
             },
             "line": {
              "color": "white"
             }
            },
            "type": "table"
           }
          ]
         },
         "layout": {
          "annotationdefaults": {
           "arrowcolor": "#2a3f5f",
           "arrowhead": 0,
           "arrowwidth": 1
          },
          "autotypenumbers": "strict",
          "coloraxis": {
           "colorbar": {
            "outlinewidth": 0,
            "ticks": ""
           }
          },
          "colorscale": {
           "diverging": [
            [
             0,
             "#8e0152"
            ],
            [
             0.1,
             "#c51b7d"
            ],
            [
             0.2,
             "#de77ae"
            ],
            [
             0.3,
             "#f1b6da"
            ],
            [
             0.4,
             "#fde0ef"
            ],
            [
             0.5,
             "#f7f7f7"
            ],
            [
             0.6,
             "#e6f5d0"
            ],
            [
             0.7,
             "#b8e186"
            ],
            [
             0.8,
             "#7fbc41"
            ],
            [
             0.9,
             "#4d9221"
            ],
            [
             1,
             "#276419"
            ]
           ],
           "sequential": [
            [
             0,
             "#0d0887"
            ],
            [
             0.1111111111111111,
             "#46039f"
            ],
            [
             0.2222222222222222,
             "#7201a8"
            ],
            [
             0.3333333333333333,
             "#9c179e"
            ],
            [
             0.4444444444444444,
             "#bd3786"
            ],
            [
             0.5555555555555556,
             "#d8576b"
            ],
            [
             0.6666666666666666,
             "#ed7953"
            ],
            [
             0.7777777777777778,
             "#fb9f3a"
            ],
            [
             0.8888888888888888,
             "#fdca26"
            ],
            [
             1,
             "#f0f921"
            ]
           ],
           "sequentialminus": [
            [
             0,
             "#0d0887"
            ],
            [
             0.1111111111111111,
             "#46039f"
            ],
            [
             0.2222222222222222,
             "#7201a8"
            ],
            [
             0.3333333333333333,
             "#9c179e"
            ],
            [
             0.4444444444444444,
             "#bd3786"
            ],
            [
             0.5555555555555556,
             "#d8576b"
            ],
            [
             0.6666666666666666,
             "#ed7953"
            ],
            [
             0.7777777777777778,
             "#fb9f3a"
            ],
            [
             0.8888888888888888,
             "#fdca26"
            ],
            [
             1,
             "#f0f921"
            ]
           ]
          },
          "colorway": [
           "#636efa",
           "#EF553B",
           "#00cc96",
           "#ab63fa",
           "#FFA15A",
           "#19d3f3",
           "#FF6692",
           "#B6E880",
           "#FF97FF",
           "#FECB52"
          ],
          "font": {
           "color": "#2a3f5f"
          },
          "geo": {
           "bgcolor": "white",
           "lakecolor": "white",
           "landcolor": "#E5ECF6",
           "showlakes": true,
           "showland": true,
           "subunitcolor": "white"
          },
          "hoverlabel": {
           "align": "left"
          },
          "hovermode": "closest",
          "mapbox": {
           "style": "light"
          },
          "paper_bgcolor": "white",
          "plot_bgcolor": "#E5ECF6",
          "polar": {
           "angularaxis": {
            "gridcolor": "white",
            "linecolor": "white",
            "ticks": ""
           },
           "bgcolor": "#E5ECF6",
           "radialaxis": {
            "gridcolor": "white",
            "linecolor": "white",
            "ticks": ""
           }
          },
          "scene": {
           "xaxis": {
            "backgroundcolor": "#E5ECF6",
            "gridcolor": "white",
            "gridwidth": 2,
            "linecolor": "white",
            "showbackground": true,
            "ticks": "",
            "zerolinecolor": "white"
           },
           "yaxis": {
            "backgroundcolor": "#E5ECF6",
            "gridcolor": "white",
            "gridwidth": 2,
            "linecolor": "white",
            "showbackground": true,
            "ticks": "",
            "zerolinecolor": "white"
           },
           "zaxis": {
            "backgroundcolor": "#E5ECF6",
            "gridcolor": "white",
            "gridwidth": 2,
            "linecolor": "white",
            "showbackground": true,
            "ticks": "",
            "zerolinecolor": "white"
           }
          },
          "shapedefaults": {
           "line": {
            "color": "#2a3f5f"
           }
          },
          "ternary": {
           "aaxis": {
            "gridcolor": "white",
            "linecolor": "white",
            "ticks": ""
           },
           "baxis": {
            "gridcolor": "white",
            "linecolor": "white",
            "ticks": ""
           },
           "bgcolor": "#E5ECF6",
           "caxis": {
            "gridcolor": "white",
            "linecolor": "white",
            "ticks": ""
           }
          },
          "title": {
           "x": 0.05
          },
          "xaxis": {
           "automargin": true,
           "gridcolor": "white",
           "linecolor": "white",
           "ticks": "",
           "title": {
            "standoff": 15
           },
           "zerolinecolor": "white",
           "zerolinewidth": 2
          },
          "yaxis": {
           "automargin": true,
           "gridcolor": "white",
           "linecolor": "white",
           "ticks": "",
           "title": {
            "standoff": 15
           },
           "zerolinecolor": "white",
           "zerolinewidth": 2
          }
         }
        },
        "xaxis": {
         "anchor": "y",
         "domain": [
          0,
          1
         ],
         "title": {
          "text": "reg_centsPerHr"
         }
        },
        "yaxis": {
         "anchor": "x",
         "domain": [
          0,
          1
         ],
         "title": {
          "text": "sch_centsPerHr"
         }
        }
       }
      }
     },
     "metadata": {},
     "output_type": "display_data"
    }
   ],
   "source": [
    "fig = px.scatter(data_frame=df2, y=\"sch_centsPerHr\", x=\"reg_centsPerHr\", color=\"choice\", size=\"counts\", size_max=100)"
   ]
  }
 ],
 "metadata": {
  "kernelspec": {
   "display_name": "base",
   "language": "python",
   "name": "python3"
  },
  "language_info": {
   "codemirror_mode": {
    "name": "ipython",
    "version": 3
   },
   "file_extension": ".py",
   "mimetype": "text/x-python",
   "name": "python",
   "nbconvert_exporter": "python",
   "pygments_lexer": "ipython3",
   "version": "3.10.9"
  },
  "vscode": {
   "interpreter": {
    "hash": "475dd3d8de922d6629668699edf7da91807dd0e731d2ca4abf0ed1b52cb8d54e"
   }
  }
 },
 "nbformat": 4,
 "nbformat_minor": 5
}
