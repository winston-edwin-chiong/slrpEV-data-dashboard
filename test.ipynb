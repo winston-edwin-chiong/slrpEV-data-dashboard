{
 "cells": [
  {
   "cell_type": "code",
   "execution_count": 1,
   "metadata": {},
   "outputs": [],
   "source": [
    "from db.utils import db"
   ]
  },
  {
   "cell_type": "code",
   "execution_count": 2,
   "metadata": {},
   "outputs": [],
   "source": [
    "r = db.get_redis_connection()"
   ]
  },
  {
   "cell_type": "code",
   "execution_count": 4,
   "metadata": {},
   "outputs": [
    {
     "data": {
      "text/html": [
       "<div>\n",
       "<style scoped>\n",
       "    .dataframe tbody tr th:only-of-type {\n",
       "        vertical-align: middle;\n",
       "    }\n",
       "\n",
       "    .dataframe tbody tr th {\n",
       "        vertical-align: top;\n",
       "    }\n",
       "\n",
       "    .dataframe thead th {\n",
       "        text-align: right;\n",
       "    }\n",
       "</style>\n",
       "<table border=\"1\" class=\"dataframe\">\n",
       "  <thead>\n",
       "    <tr style=\"text-align: right;\">\n",
       "      <th></th>\n",
       "      <th>avg_power_demand_W</th>\n",
       "      <th>energy_demand_kWh</th>\n",
       "      <th>peak_power_W</th>\n",
       "      <th>day</th>\n",
       "      <th>month</th>\n",
       "    </tr>\n",
       "    <tr>\n",
       "      <th>time</th>\n",
       "      <th></th>\n",
       "      <th></th>\n",
       "      <th></th>\n",
       "      <th></th>\n",
       "      <th></th>\n",
       "    </tr>\n",
       "  </thead>\n",
       "  <tbody>\n",
       "    <tr>\n",
       "      <th>2020-11-05 10:30:00</th>\n",
       "      <td>879.0</td>\n",
       "      <td>0.07325</td>\n",
       "      <td>879.0</td>\n",
       "      <td>Thursday</td>\n",
       "      <td>November</td>\n",
       "    </tr>\n",
       "    <tr>\n",
       "      <th>2020-11-05 10:35:00</th>\n",
       "      <td>879.0</td>\n",
       "      <td>0.07325</td>\n",
       "      <td>879.0</td>\n",
       "      <td>Thursday</td>\n",
       "      <td>November</td>\n",
       "    </tr>\n",
       "    <tr>\n",
       "      <th>2020-11-05 10:40:00</th>\n",
       "      <td>879.0</td>\n",
       "      <td>0.07325</td>\n",
       "      <td>879.0</td>\n",
       "      <td>Thursday</td>\n",
       "      <td>November</td>\n",
       "    </tr>\n",
       "    <tr>\n",
       "      <th>2020-11-05 10:45:00</th>\n",
       "      <td>879.0</td>\n",
       "      <td>0.07325</td>\n",
       "      <td>879.0</td>\n",
       "      <td>Thursday</td>\n",
       "      <td>November</td>\n",
       "    </tr>\n",
       "    <tr>\n",
       "      <th>2020-11-05 10:50:00</th>\n",
       "      <td>879.0</td>\n",
       "      <td>0.07325</td>\n",
       "      <td>879.0</td>\n",
       "      <td>Thursday</td>\n",
       "      <td>November</td>\n",
       "    </tr>\n",
       "    <tr>\n",
       "      <th>...</th>\n",
       "      <td>...</td>\n",
       "      <td>...</td>\n",
       "      <td>...</td>\n",
       "      <td>...</td>\n",
       "      <td>...</td>\n",
       "    </tr>\n",
       "    <tr>\n",
       "      <th>2023-08-17 21:30:00</th>\n",
       "      <td>0.0</td>\n",
       "      <td>0.00000</td>\n",
       "      <td>0.0</td>\n",
       "      <td>Thursday</td>\n",
       "      <td>August</td>\n",
       "    </tr>\n",
       "    <tr>\n",
       "      <th>2023-08-17 21:35:00</th>\n",
       "      <td>0.0</td>\n",
       "      <td>0.00000</td>\n",
       "      <td>0.0</td>\n",
       "      <td>Thursday</td>\n",
       "      <td>August</td>\n",
       "    </tr>\n",
       "    <tr>\n",
       "      <th>2023-08-17 21:40:00</th>\n",
       "      <td>0.0</td>\n",
       "      <td>0.00000</td>\n",
       "      <td>0.0</td>\n",
       "      <td>Thursday</td>\n",
       "      <td>August</td>\n",
       "    </tr>\n",
       "    <tr>\n",
       "      <th>2023-08-17 21:45:00</th>\n",
       "      <td>0.0</td>\n",
       "      <td>0.00000</td>\n",
       "      <td>0.0</td>\n",
       "      <td>Thursday</td>\n",
       "      <td>August</td>\n",
       "    </tr>\n",
       "    <tr>\n",
       "      <th>2023-08-17 21:50:00</th>\n",
       "      <td>0.0</td>\n",
       "      <td>0.00000</td>\n",
       "      <td>0.0</td>\n",
       "      <td>Thursday</td>\n",
       "      <td>August</td>\n",
       "    </tr>\n",
       "  </tbody>\n",
       "</table>\n",
       "<p>292457 rows × 5 columns</p>\n",
       "</div>"
      ],
      "text/plain": [
       "                     avg_power_demand_W  energy_demand_kWh  peak_power_W  \\\n",
       "time                                                                       \n",
       "2020-11-05 10:30:00               879.0            0.07325         879.0   \n",
       "2020-11-05 10:35:00               879.0            0.07325         879.0   \n",
       "2020-11-05 10:40:00               879.0            0.07325         879.0   \n",
       "2020-11-05 10:45:00               879.0            0.07325         879.0   \n",
       "2020-11-05 10:50:00               879.0            0.07325         879.0   \n",
       "...                                 ...                ...           ...   \n",
       "2023-08-17 21:30:00                 0.0            0.00000           0.0   \n",
       "2023-08-17 21:35:00                 0.0            0.00000           0.0   \n",
       "2023-08-17 21:40:00                 0.0            0.00000           0.0   \n",
       "2023-08-17 21:45:00                 0.0            0.00000           0.0   \n",
       "2023-08-17 21:50:00                 0.0            0.00000           0.0   \n",
       "\n",
       "                          day     month  \n",
       "time                                     \n",
       "2020-11-05 10:30:00  Thursday  November  \n",
       "2020-11-05 10:35:00  Thursday  November  \n",
       "2020-11-05 10:40:00  Thursday  November  \n",
       "2020-11-05 10:45:00  Thursday  November  \n",
       "2020-11-05 10:50:00  Thursday  November  \n",
       "...                       ...       ...  \n",
       "2023-08-17 21:30:00  Thursday    August  \n",
       "2023-08-17 21:35:00  Thursday    August  \n",
       "2023-08-17 21:40:00  Thursday    August  \n",
       "2023-08-17 21:45:00  Thursday    August  \n",
       "2023-08-17 21:50:00  Thursday    August  \n",
       "\n",
       "[292457 rows x 5 columns]"
      ]
     },
     "execution_count": 4,
     "metadata": {},
     "output_type": "execute_result"
    }
   ],
   "source": [
    "db.get_chunks(r, \"fivemindemand\")"
   ]
  },
  {
   "cell_type": "code",
   "execution_count": 9,
   "metadata": {},
   "outputs": [
    {
     "data": {
      "text/plain": [
       "True"
      ]
     },
     "execution_count": 9,
     "metadata": {},
     "output_type": "execute_result"
    }
   ],
   "source": [
    "import pickle\n",
    "\n",
    "r.set(\"test\", pickle.dumps({\"a\":3}))"
   ]
  },
  {
   "cell_type": "code",
   "execution_count": 6,
   "metadata": {},
   "outputs": [],
   "source": [
    "a = np.arange(8)"
   ]
  },
  {
   "cell_type": "code",
   "execution_count": null,
   "metadata": {},
   "outputs": [],
   "source": []
  }
 ],
 "metadata": {
  "kernelspec": {
   "display_name": "venv",
   "language": "python",
   "name": "python3"
  },
  "language_info": {
   "codemirror_mode": {
    "name": "ipython",
    "version": 3
   },
   "file_extension": ".py",
   "mimetype": "text/x-python",
   "name": "python",
   "nbconvert_exporter": "python",
   "pygments_lexer": "ipython3",
   "version": "3.10.9"
  },
  "orig_nbformat": 4
 },
 "nbformat": 4,
 "nbformat_minor": 2
}
